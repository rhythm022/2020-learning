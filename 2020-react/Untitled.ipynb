{
 "cells": [
  {
   "cell_type": "markdown",
   "metadata": {},
   "source": [
    "### 第二章 React"
   ]
  },
  {
   "cell_type": "markdown",
   "metadata": {},
   "source": [
    "界面 === 页面状态树和动态模板组件"
   ]
  },
  {
   "cell_type": "markdown",
   "metadata": {},
   "source": [
    "组件类抽象成状态/输入/输出，输出render函数返回的虚拟dom。!!"
   ]
  },
  {
   "cell_type": "markdown",
   "metadata": {},
   "source": [
    "PureComponent的shouldComponentUpdate是检查props和state是否变化来决定是否更新。!!"
   ]
  },
  {
   "cell_type": "markdown",
   "metadata": {},
   "source": [
    "本地处理交互状态的，是有状态组件。把有状态组件分割成状态管理组件和模板组件，状态管理组件负责管理状态，无状态的动态模板组件负责模板。状态管理组件\\容器组件利用响应式编程和钩子函数的便利。"
   ]
  },
  {
   "cell_type": "markdown",
   "metadata": {},
   "source": [
    "公共代码分两类：公共业务代码和公共工具函数代码。公共组件也分公共工具组件和公共业务组件，不同的是，公共工具组件一定作为业务组件的高阶组件，取代mixins的方式增强组件功能，体现单一职责原则。"
   ]
  },
  {
   "cell_type": "markdown",
   "metadata": {},
   "source": [
    "组件重新渲染有三个可能：父组件更新/自身状态变化/显式调用重新渲染方法。"
   ]
  },
  {
   "cell_type": "markdown",
   "metadata": {},
   "source": [
    "+ ★与界面无关的量不应作为组件的state\n",
    "+ 刷新页面不会保持的，就是组件state，比如是否展开下拉菜单是组件state。\n",
    "+ 组件本地state在组件实例化时设置state初始值。\n",
    "+ 状态是有归属的，但输入输出是没有归属的。"
   ]
  },
  {
   "cell_type": "markdown",
   "metadata": {},
   "source": [
    "父子通信：\n",
    "+ 父改子：参数响应、调用子组件方法\n",
    "+ 子改父：调用父组件回调、调用EventEmitter类事件\n",
    "\n",
    "爷孙通信：\n",
    "+ 借助父子通信\n",
    "\n",
    "兄弟通讯：\n",
    "+ 借助父子通信\n",
    "\n",
    "任意通信：\n",
    "+ 建立一个独立的全局信息中心。把组件和组件的耦合，解耦成组件和信息中心+信息名称的耦合，适合小型项目。\n",
    "+ 建立一个状态管理器如Redux。适合大型项目。不同于信息中心把状态依然在组件，状态管理器把状态放在自己这。"
   ]
  },
  {
   "cell_type": "markdown",
   "metadata": {},
   "source": [
    "js语境下的extends函数/Object.assign/mixin的含义基本一致，针对对象操作。\n",
    "继承约等于组合+委托"
   ]
  },
  {
   "cell_type": "markdown",
   "metadata": {},
   "source": [
    "高阶组件有两种：\n",
    "+ 只为源组件增加外围逻辑的高阶组件\n",
    "+ 继承源组件而改写原逻辑的高阶组件★。"
   ]
  },
  {
   "cell_type": "markdown",
   "metadata": {},
   "source": [
    "### 第三章 Redux"
   ]
  },
  {
   "cell_type": "markdown",
   "metadata": {},
   "source": [
    "纯函数不能调用返回不确定值的函数如Date.now()或Math.random()。"
   ]
  },
  {
   "cell_type": "markdown",
   "metadata": {},
   "source": [
    "Redux的设计哲学：\n",
    "+ Single source of truth：一个app只有一课state页面状态树\n",
    "+ State is read-only：每次状态变化后的state页面状态树都会独立存在。\n",
    "+ Changes are made with pure function called reducer：reducer是state对象的方法，该方法以pState和action为参数，纯函数式输出state页面状态树，体现页面状态所谓的可预测易维护。state是唯一的，reducer也是唯一的。"
   ]
  },
  {
   "cell_type": "markdown",
   "metadata": {},
   "source": [
    "页面状态数据树因用户积极触发disptach动作或消极触发disptach动作而变化"
   ]
  },
  {
   "cell_type": "markdown",
   "metadata": {},
   "source": [
    "+ 组件响应用户后请求后台数据，调用状态器方法，让状态器更改页面状态树(状态器内部触发reducer)（调用store.dispatch改变store状态）\n",
    "+ 状态器完成后，调用组件回调，让组件更改dom状态。"
   ]
  },
  {
   "cell_type": "markdown",
   "metadata": {},
   "source": [
    "页面状态树的一部分称为页面状态分片。分片reducer函数，输入pState分片和action，输出为state分片，由combineReducers合并成reducer函数，后者再传入createStore初始化store"
   ]
  },
  {
   "cell_type": "markdown",
   "metadata": {},
   "source": [
    "+ createStore初始化状态器需要参数：reducer/[preloadState]/[enhancer]\n",
    "+ 状态器包含四个api：dispatch/getState/subscribe/replaceReducer\n",
    "+ action creator是输出action对象的函数，常和store.dispatch配合使用。"
   ]
  },
  {
   "cell_type": "markdown",
   "metadata": {},
   "source": [
    "增删改时，保证对象不变：\n",
    "+ 数组：增concat/删slice\n",
    "+ 对象：增.../删：\n",
    "```\n",
    "Object.keys(item).reduce((obj,key)=>{\n",
    "if(key !== 'sth'){\n",
    "    return {...obj,[key]:item[key]}\n",
    "}else{\n",
    "    return obj\n",
    "},{})\n",
    "```"
   ]
  },
  {
   "cell_type": "markdown",
   "metadata": {},
   "source": [
    "deepClone:p71"
   ]
  },
  {
   "cell_type": "markdown",
   "metadata": {},
   "source": [
    "+ store.dispatch以函数为参数，放置请求数据的逻辑，该函数可以调用store.dispatch且无返回。\n",
    "+ 函数中多次调用dispatch即多次修改页面状态。\n",
    "+ ★比如请求后台前更改页面状态/组件状态为loading状态，请求后台后更改页面状态，组件状态改为显示数据状态。"
   ]
  },
  {
   "cell_type": "markdown",
   "metadata": {},
   "source": [
    "+ 实例方法是给其他实例调用的，其他实例需要更改或得到该实例状态。\n",
    "+ store本是组件的状态，从组件抽出来。现在，组件没有这些状态及其方法，转而通过调用store.dispatch和store.getState与store合作。\n",
    "+ store调用组件回调，使得组件状态改变。"
   ]
  },
  {
   "cell_type": "markdown",
   "metadata": {},
   "source": [
    "方法调用不是为了改变对方的状态，就是改变自己的状态??"
   ]
  },
  {
   "cell_type": "markdown",
   "metadata": {},
   "source": [
    "### 第四章，第五章PASS"
   ]
  },
  {
   "cell_type": "markdown",
   "metadata": {},
   "source": [
    "### 第六章"
   ]
  },
  {
   "cell_type": "markdown",
   "metadata": {},
   "source": [
    "高阶组件方案：\n",
    "基于现有组件，定义新的逻辑，形成新的组件。js中这个过程可以放在函数中，被封装被复用。\n",
    "这个函数以现有组件为入参，返回新的组件。返回的组件称为高阶组件，其在现有组件的基础上定义逻辑。这个函数中有的逻辑属于组件的逻辑，有的逻辑属于构建组件类的逻辑。组件运行时不会变化的变量，属于构建组件的变量，需要传入这个函数。\n",
    "\n",
    "\n",
    "在这个新增功能的过程中，源组件往往也需要修改加代码，加props。\n",
    "\n",
    "\n",
    "render prop方案：\n",
    "高阶组件方案是在组件类构建时传入现有组件，render prop方案是新组件以现有组件为入参。\n",
    "\n",
    "\n",
    "两个方案相同点是把新逻辑封装成组件，并和现有组件进行通信."
   ]
  },
  {
   "cell_type": "markdown",
   "metadata": {},
   "source": [
    "节流p185"
   ]
  },
  {
   "cell_type": "markdown",
   "metadata": {},
   "source": [
    "获取mousemove坐标点的功能可以单独定义成组件，是因为坐标点/事件等与dom强相关。"
   ]
  },
  {
   "cell_type": "markdown",
   "metadata": {},
   "source": [
    "loading高阶组件p190、mousemove高阶组件p196、mousemove-renderprop-p198"
   ]
  },
  {
   "cell_type": "markdown",
   "metadata": {},
   "source": [
    "装饰器就是高阶函数，以函数为入参且柯里化。"
   ]
  },
  {
   "cell_type": "markdown",
   "metadata": {},
   "source": [
    "组件作为类，职责是管理dom状态。"
   ]
  },
  {
   "cell_type": "markdown",
   "metadata": {},
   "source": [
    "```\n",
    "setStateAsync(state){\n",
    "    return new Promise(r=>{\n",
    "        this.setState(state,r)\n",
    "    })\n",
    "}\n",
    "```"
   ]
  },
  {
   "cell_type": "markdown",
   "metadata": {},
   "source": [
    "isClass-p233"
   ]
  },
  {
   "cell_type": "markdown",
   "metadata": {},
   "source": [
    "数据就像电流，有产生，有消费"
   ]
  },
  {
   "cell_type": "markdown",
   "metadata": {},
   "source": [
    "只有需要严格保证数据顺序时，才应使用数组包裹对象"
   ]
  },
  {
   "cell_type": "markdown",
   "metadata": {},
   "source": [
    "应在getters中完成所有的数据预处理，做到组件开箱即用。"
   ]
  },
  {
   "cell_type": "markdown",
   "metadata": {},
   "source": [
    "Q:应该将数据储存在本地的组件state中还是储存在状态管理器store中？\n",
    "A:从数据持久度：\n",
    "+ 随时变化的状态放本地：用户输入过程中的文本框数值。下拉框是否下拉的状态。\n",
    "+ 页面刷新前不会变化的状态：用户输入确认后的文本框数值。后台数据。\n",
    "+ 页面刷新也不会变化的状态：localStorage（因为刷新页面store会重新生成）"
   ]
  },
  {
   "cell_type": "markdown",
   "metadata": {},
   "source": [
    "### 第七章"
   ]
  },
  {
   "cell_type": "markdown",
   "metadata": {},
   "source": [
    "把所有html/css/js文件打包成一个bundle.js文件，会导致初次加载耗时时长过长，所以需要代码分割后按需加载和tree shaking。"
   ]
  },
  {
   "cell_type": "markdown",
   "metadata": {},
   "source": [
    "把依赖库的代码和业务代码隔离打包为不变的vendor.js和易变的app.js：\n",
    "+ 静态文件vendor.js通过e-tag和max-age设置浏览器缓存或设置cdn缓存\n",
    "+ 业务文件的按需加载：按路由按需加载、状态管理组件内按需加载模板组件   "
   ]
  },
  {
   "cell_type": "markdown",
   "metadata": {},
   "source": [
    "按路由按需加载的缺点是一个组件同时被两个路由使用，就会被重复打包"
   ]
  },
  {
   "cell_type": "markdown",
   "metadata": {},
   "source": [
    "消极加载，是不依赖用户动作的加载：\n",
    "```\n",
    "componentDidMount(){\n",
    "    LoadableNewsPage.preload()\n",
    "}\n",
    "```\n",
    "积极加载：\n",
    "```\n",
    "onMouseEnter = { LoadableNewsPage.preload }\n",
    "\n",
    "```"
   ]
  },
  {
   "cell_type": "markdown",
   "metadata": {},
   "source": [
    "loadable render prop-p277"
   ]
  },
  {
   "cell_type": "markdown",
   "metadata": {},
   "source": [
    "设置默认值这种事，应该放在代理函数中，而不是主体函数，体现单一职责原则"
   ]
  }
 ],
 "metadata": {
  "kernelspec": {
   "display_name": "Python 3",
   "language": "python",
   "name": "python3"
  },
  "language_info": {
   "codemirror_mode": {
    "name": "ipython",
    "version": 3
   },
   "file_extension": ".py",
   "mimetype": "text/x-python",
   "name": "python",
   "nbconvert_exporter": "python",
   "pygments_lexer": "ipython3",
   "version": "3.7.3"
  },
  "toc": {
   "base_numbering": 1,
   "nav_menu": {},
   "number_sections": true,
   "sideBar": true,
   "skip_h1_title": false,
   "title_cell": "Table of Contents",
   "title_sidebar": "Contents",
   "toc_cell": false,
   "toc_position": {},
   "toc_section_display": true,
   "toc_window_display": false
  }
 },
 "nbformat": 4,
 "nbformat_minor": 4
}
