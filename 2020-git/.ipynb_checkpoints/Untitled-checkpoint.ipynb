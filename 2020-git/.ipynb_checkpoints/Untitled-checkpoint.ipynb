{
 "cells": [
  {
   "cell_type": "markdown",
   "metadata": {},
   "source": [
    "清理分支 git branch -D 9c6861f\n",
    "修改message git commit --amend\n",
    "修改老旧commit的message（已共享的commit不允许rebase操作） git rebase -i 9c6861f"
   ]
  },
  {
   "cell_type": "markdown",
   "metadata": {},
   "source": [
    "暂存区 == add后的文件 == 准备commit的文件\n",
    "工作区 == add前的文件"
   ]
  },
  {
   "cell_type": "markdown",
   "metadata": {},
   "source": [
    "git diff --cached 可以在add之后commit前再确认一把，要commit的内容是否是自己想要提交的内容，即绿字文件和HEAD的差异\n",
    "git diff 查看的是红字文件和暂存区的差异"
   ]
  },
  {
   "cell_type": "markdown",
   "metadata": {},
   "source": [
    "add index.js之后再编辑index.js，index.js会同时绿字和红字，意味着对准备commit的文件又做了修改。"
   ]
  },
  {
   "cell_type": "markdown",
   "metadata": {},
   "source": [
    "20课：git diff -- index.js 只查看某一个文件"
   ]
  },
  {
   "cell_type": "markdown",
   "metadata": {},
   "source": [
    "22课：撤回没add的代码(红字)（add后的代码(绿字)不受影响）：git checkout -- index.js"
   ]
  },
  {
   "cell_type": "markdown",
   "metadata": {},
   "source": [
    "21课：git reset HEAD后，撤回add操作，绿字对应的变更退回成红色（不准备commit了）：\n",
    "23课：执行git reset HEAD -- style/styles.css后，待commit的绿色被丢弃了，文件变红，不会对工作区和HEAD产生影响"
   ]
  },
  {
   "cell_type": "markdown",
   "metadata": {},
   "source": [
    "commit命令只针对绿代码"
   ]
  },
  {
   "cell_type": "markdown",
   "metadata": {},
   "source": [
    "24课：git reset --hard 9c6861f 一并撤回工作区和待commit内容。"
   ]
  },
  {
   "cell_type": "markdown",
   "metadata": {},
   "source": []
  },
  {
   "cell_type": "markdown",
   "metadata": {},
   "source": []
  },
  {
   "cell_type": "markdown",
   "metadata": {},
   "source": []
  },
  {
   "cell_type": "markdown",
   "metadata": {},
   "source": []
  }
 ],
 "metadata": {
  "kernelspec": {
   "display_name": "Python 3",
   "language": "python",
   "name": "python3"
  },
  "language_info": {
   "codemirror_mode": {
    "name": "ipython",
    "version": 3
   },
   "file_extension": ".py",
   "mimetype": "text/x-python",
   "name": "python",
   "nbconvert_exporter": "python",
   "pygments_lexer": "ipython3",
   "version": "3.7.3"
  },
  "toc": {
   "base_numbering": 1,
   "nav_menu": {},
   "number_sections": true,
   "sideBar": true,
   "skip_h1_title": false,
   "title_cell": "Table of Contents",
   "title_sidebar": "Contents",
   "toc_cell": false,
   "toc_position": {},
   "toc_section_display": true,
   "toc_window_display": false
  }
 },
 "nbformat": 4,
 "nbformat_minor": 2
}
