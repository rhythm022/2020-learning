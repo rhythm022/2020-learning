{
 "cells": [
  {
   "cell_type": "markdown",
   "metadata": {},
   "source": [
    "  'eval',\n",
    "  'cheap-eval-source-map',\n",
    "  'cheap-module-eval-source-map',\n",
    "  'eval-source-map',\n",
    "  'cheap-source-map',\n",
    "  'cheap-module-source-map',\n",
    "  'inline-cheap-source-map',\n",
    "  'inline-cheap-module-source-map',\n",
    "  'source-map',\n",
    "  'inline-source-map',\n",
    "  'hidden-source-map',\n",
    "  'nosources-source-map'"
   ]
  },
  {
   "cell_type": "markdown",
   "metadata": {},
   "source": [
    "source-map：app.js:10、、es6。。。。。。。。。。。。。效果最好、最慢\n",
    "\n",
    "cheap-source-map：app.js:12、、es5\n",
    "\n",
    "cheap-module-source-map：app.js:10、、es6"
   ]
  },
  {
   "cell_type": "markdown",
   "metadata": {},
   "source": [
    "eval：app.js:14不准 、webpack、es5。。。。。。。。。。。。。。。。效果最差\n",
    "\n",
    "eval-source-map：app.js?1112:10、、es6。。。。。。。。。原理接近eval、效果还行\n",
    "\n",
    "cheap-eval-source-map：app.js?9e42:12、、es5\n",
    "\n",
    "cheap-module-eval-source-map：app.js?1112:10、、es6"
   ]
  },
  {
   "cell_type": "markdown",
   "metadata": {},
   "source": [
    "nosources-source-map：app.js:10 "
   ]
  },
  {
   "cell_type": "markdown",
   "metadata": {},
   "source": []
  },
  {
   "cell_type": "markdown",
   "metadata": {},
   "source": []
  },
  {
   "cell_type": "markdown",
   "metadata": {},
   "source": []
  },
  {
   "cell_type": "markdown",
   "metadata": {},
   "source": []
  },
  {
   "cell_type": "markdown",
   "metadata": {},
   "source": []
  },
  {
   "cell_type": "markdown",
   "metadata": {},
   "source": []
  },
  {
   "cell_type": "markdown",
   "metadata": {},
   "source": []
  },
  {
   "cell_type": "markdown",
   "metadata": {},
   "source": []
  },
  {
   "cell_type": "markdown",
   "metadata": {},
   "source": []
  },
  {
   "cell_type": "markdown",
   "metadata": {},
   "source": []
  }
 ],
 "metadata": {
  "kernelspec": {
   "display_name": "Python 3",
   "language": "python",
   "name": "python3"
  },
  "language_info": {
   "codemirror_mode": {
    "name": "ipython",
    "version": 3
   },
   "file_extension": ".py",
   "mimetype": "text/x-python",
   "name": "python",
   "nbconvert_exporter": "python",
   "pygments_lexer": "ipython3",
   "version": "3.7.3"
  },
  "toc": {
   "base_numbering": 1,
   "nav_menu": {},
   "number_sections": true,
   "sideBar": true,
   "skip_h1_title": false,
   "title_cell": "Table of Contents",
   "title_sidebar": "Contents",
   "toc_cell": false,
   "toc_position": {},
   "toc_section_display": true,
   "toc_window_display": false
  }
 },
 "nbformat": 4,
 "nbformat_minor": 2
}
