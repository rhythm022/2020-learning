{
 "cells": [
  {
   "cell_type": "markdown",
   "metadata": {},
   "source": [
    "★★★操作简单，提示清晰（不局限于语言/颜色/触觉、事前/事后）"
   ]
  },
  {
   "cell_type": "markdown",
   "metadata": {},
   "source": [
    "网页上的按钮和物理按钮都是按钮"
   ]
  },
  {
   "cell_type": "markdown",
   "metadata": {},
   "source": [
    "对于企业内部应用，用户体验就是提升员工效率，是他们工作更快、减少犯错的概率。"
   ]
  },
  {
   "cell_type": "markdown",
   "metadata": {},
   "source": [
    "有黏性的用户体验是棒的用户体验"
   ]
  },
  {
   "cell_type": "markdown",
   "metadata": {},
   "source": [
    "指标层、需求层、结构层：\n",
    "+ 结构层：用户如何到达某个页面，完成需求，完成需求后他们要去哪里\n",
    "+ 目的层：产生某个需求的原因，如年销售额达到100万"
   ]
  },
  {
   "cell_type": "markdown",
   "metadata": {},
   "source": [
    "★★★信息：\n",
    "+ 信息的传达\n",
    "+ 信息的收集和控制\n",
    "能完成信息控制的，称之为功能应用。\n",
    "能完成信息传达的，称之为媒介应用"
   ]
  },
  {
   "cell_type": "markdown",
   "metadata": {},
   "source": [
    "### 第三章 指标层"
   ]
  },
  {
   "cell_type": "markdown",
   "metadata": {},
   "source": [
    "品牌不是商标、色调和字体设计，品牌是情绪反应、概念系统。"
   ]
  },
  {
   "cell_type": "markdown",
   "metadata": {},
   "source": [
    "指标：\n",
    "+ 访问网站的平均停留时间\n",
    "+ 注册用户的每月访问频率\n",
    "+ 第二次回访的概率\n",
    "+ 广告每天被展示的数量\n",
    "+ 如果网站为用户提供客服服务，那么客服电话的数量应相应减少。\n",
    "+ 如果网站为销售人员提供工具和资源，那么销售人员的工作时间会减少。"
   ]
  },
  {
   "cell_type": "markdown",
   "metadata": {},
   "source": [
    "产品经理真正需要的是发现和用户需求种类一样多的细分用户群。拥有相同需求的用户属于相同的用户群"
   ]
  },
  {
   "cell_type": "markdown",
   "metadata": {},
   "source": [
    "### 第四层 需求层"
   ]
  },
  {
   "cell_type": "markdown",
   "metadata": {},
   "source": [
    "需求文档的作用是：明确需求是如何达成的、确定工作分配、囤积未来需求"
   ]
  },
  {
   "cell_type": "markdown",
   "metadata": {},
   "source": [
    "★★★需求说明书只包含对需要验证的功能进行描述。★★★描述必须是可验证的。"
   ]
  },
  {
   "cell_type": "markdown",
   "metadata": {},
   "source": [
    "★★★★有的领导关注的是指标，有的领导关注的是功能/需求。"
   ]
  },
  {
   "cell_type": "markdown",
   "metadata": {},
   "source": []
  },
  {
   "cell_type": "markdown",
   "metadata": {},
   "source": []
  },
  {
   "cell_type": "markdown",
   "metadata": {},
   "source": []
  },
  {
   "cell_type": "markdown",
   "metadata": {},
   "source": []
  },
  {
   "cell_type": "markdown",
   "metadata": {},
   "source": []
  },
  {
   "cell_type": "markdown",
   "metadata": {},
   "source": []
  },
  {
   "cell_type": "markdown",
   "metadata": {},
   "source": []
  },
  {
   "cell_type": "markdown",
   "metadata": {},
   "source": []
  },
  {
   "cell_type": "markdown",
   "metadata": {},
   "source": []
  },
  {
   "cell_type": "markdown",
   "metadata": {},
   "source": []
  },
  {
   "cell_type": "markdown",
   "metadata": {},
   "source": []
  }
 ],
 "metadata": {
  "kernelspec": {
   "display_name": "Python 3",
   "language": "python",
   "name": "python3"
  },
  "language_info": {
   "codemirror_mode": {
    "name": "ipython",
    "version": 3
   },
   "file_extension": ".py",
   "mimetype": "text/x-python",
   "name": "python",
   "nbconvert_exporter": "python",
   "pygments_lexer": "ipython3",
   "version": "3.7.3"
  },
  "toc": {
   "base_numbering": 1,
   "nav_menu": {},
   "number_sections": true,
   "sideBar": true,
   "skip_h1_title": false,
   "title_cell": "Table of Contents",
   "title_sidebar": "Contents",
   "toc_cell": false,
   "toc_position": {},
   "toc_section_display": true,
   "toc_window_display": false
  }
 },
 "nbformat": 4,
 "nbformat_minor": 2
}
