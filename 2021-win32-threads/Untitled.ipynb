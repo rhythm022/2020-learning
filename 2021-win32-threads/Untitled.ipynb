{
 "cells": [
  {
   "cell_type": "markdown",
   "metadata": {},
   "source": [
    "### 第一章\n",
    "关键：\n",
    "+ 得到CPU，释放CPU，程序应该在等待时释放CPU\n",
    "+ 线程 === 某一时刻下寄存器和内存内的数据"
   ]
  },
  {
   "cell_type": "markdown",
   "metadata": {},
   "source": [
    "多线程关乎效率/单用户体验/多用户支持"
   ]
  },
  {
   "cell_type": "markdown",
   "metadata": {},
   "source": [
    "线程之间互不影响"
   ]
  },
  {
   "cell_type": "markdown",
   "metadata": {},
   "source": [
    "没有进线程的概念，意味着程序一旦执行起来，便长时间不间断拥有CPU，直至自己执行完毕。"
   ]
  },
  {
   "cell_type": "markdown",
   "metadata": {},
   "source": [
    "MS_DOS_2.0不把常驻程序视为一个应用程序或进程，而是视为操作系统的一部分。常驻程序也不是真正的常驻，比如格式化一张磁盘时，常驻程序会暂停，无法得到CPU。"
   ]
  },
  {
   "cell_type": "markdown",
   "metadata": {},
   "source": [
    "★window_3允许多个程序Concurrent并发执行，但释放CPU控制权是由程序实现而非操作系统实现，称之为合作型多任务。\n",
    "并且格式化一张磁盘的过程中，依然没有程序能得到CPU。而同时期的其他操作系统已经实现由操作系统强迫程序把CPU释放给别人，程序员不需要额外的努力,比如为了释放控制权而写PeekMessage()循环。主动释放CPU：合作型多任务，被操作系统强迫释放：抢先式多任务。"
   ]
  },
  {
   "cell_type": "markdown",
   "metadata": {},
   "source": [
    "window_NT的API/Win32，是window_3.1的超集。"
   ]
  },
  {
   "cell_type": "markdown",
   "metadata": {},
   "source": [
    "在window_NT中没有一个程序能长时间不间断拥有CPU，连DOS程序或操作系统程序也不行。"
   ]
  },
  {
   "cell_type": "markdown",
   "metadata": {},
   "source": [
    "···由于为使用线程，所以Word必须在所有他的工作之间大演CPU戏法。这和合作型多任务差不多，只不过每件工作都在同一个程序中罢了，Word必须自己处理任务切换/task_switching比如储存当前工作状态恢复上个工作状态···如今操作系统为程序员处理掉了任务切换/task_switching所需的状态存储及其恢复逻辑。"
   ]
  },
  {
   "cell_type": "markdown",
   "metadata": {},
   "source": [
    "如果CPU被操作系统拥有且操作系统不愿释放CPU，没有一个更高的存在强迫程序员释放CPU"
   ]
  },
  {
   "cell_type": "markdown",
   "metadata": {},
   "source": [
    "一个拥有多线程的程序，当其中一个线程等待服务器响应，其他线程各自动作并发执行，比如UI永远有反应。\n",
    "比如windows用户从文件夹拷贝文件到另一个文件夹，拷贝过程中用户打开/关闭文件夹、文件，各自动作并发执行。"
   ]
  },
  {
   "cell_type": "markdown",
   "metadata": {},
   "source": [
    "可以说，CPU，1ms可以执行万条指令，1ms切换一次线程。200ms，CPU不被任何线程拥有，意味着许多能量被浪费。★程序应该在等待时释放CPU。"
   ]
  },
  {
   "cell_type": "markdown",
   "metadata": {},
   "source": [
    "win32进程是以下的集合，本身不可执行：\n",
    "+ 可以高达2GB的内存\n",
    "+ 一些核心对象Kernel Objects（如文件和线程）\n",
    "+ 用户资源（如对话框）\n",
    "+ GDI对象，与核心对象有许多相似性（如画笔、画刷、Device Context）\n",
    "严肃的说，unix系统中只有进程（即主线程），和轻进程（即线程）。线程即进程。"
   ]
  },
  {
   "cell_type": "markdown",
   "metadata": {},
   "source": [
    "···定义一个线程，需要的数据并不多。线程在“任何时刻下的状态”被内存数据以及寄存器数据定义···★操作系统通过读取CPU寄存器，读取线程在任何时刻下的状态"
   ]
  },
  {
   "cell_type": "markdown",
   "metadata": {},
   "source": [
    "任务切换/context_switch/储存线程状态，大概而言，把所有寄存器数据拷贝到堆栈，再把堆栈数据拷贝到专门存放context的内存区域。之后操作系统切换回该线程：先切回该线程所属进程的内容，然后再从context中恢复寄存器内容。"
   ]
  },
  {
   "cell_type": "markdown",
   "metadata": {},
   "source": [
    "★内存：\n",
    "+ Code：唯一允许执行的内存。只读。\n",
    "+ Data：全局变量和静态变量\n",
    "+ Stack：局部变量"
   ]
  },
  {
   "cell_type": "markdown",
   "metadata": {},
   "source": [
    "有什么是线程比进程的优势？线程比进程启动更快，退出更快。同一进程的线程易于分享文件分享窗口。"
   ]
  },
  {
   "cell_type": "markdown",
   "metadata": {},
   "source": [
    "默认线程拥有1MB的stack。属于某一线程的stack可被同一进程中的其他线程所共享。"
   ]
  },
  {
   "cell_type": "markdown",
   "metadata": {},
   "source": [
    "一个返回KB响应的服务器进程本身可能有MB大小，MB包含了代码/数据"
   ]
  },
  {
   "cell_type": "markdown",
   "metadata": {},
   "source": [
    "操作系统可以在任何时候知道谁(线程)正在等待什么，再决定怎样调整最好。"
   ]
  },
  {
   "cell_type": "markdown",
   "metadata": {},
   "source": [
    "win32进程 > unix进程/线程 > win32线程。window_NT上拥有500个win32线程并不是太过分，而unix上有500个unix进程有严重的问题"
   ]
  },
  {
   "cell_type": "markdown",
   "metadata": {},
   "source": [
    "两个进程的0x1f000指针事实上指向不同的实际内存，因为context的不同。"
   ]
  },
  {
   "cell_type": "markdown",
   "metadata": {},
   "source": [
    "···window_NT的SMP实现是：任何线程可能在任意时刻由任意CPU执行。双核CPU可以同时执行同一或不同进程的两个线程···"
   ]
  },
  {
   "cell_type": "markdown",
   "metadata": {},
   "source": [
    "context switch需要占用CPU能量。CPU越多，可以让获得CPU的线程拥有CPU的时长变长，减少context switch的频率。"
   ]
  },
  {
   "cell_type": "markdown",
   "metadata": {},
   "source": [
    "操作系统context switch，导致race condition出现。"
   ]
  },
  {
   "cell_type": "markdown",
   "metadata": {},
   "source": [
    "AB都对同一个状态s进行写：\n",
    "+ A读到s。\n",
    "+ （context switch to B）\n",
    "+ B读到s。\n",
    "+ （context switch to A）\n",
    "+ A写s为ss。<导致B有风险>\n",
    "+ （context switch to B）\n",
    "+ B写s为sss，win。\n",
    "\n",
    "AB都对同一个状态s进行写：\n",
    "+ A读到s。\n",
    "+ （context switch to B）\n",
    "+ B读到s。B写s为sss。<导致A有风险>\n",
    "+ （context switch to A）\n",
    "+ A写s为ss，win。\n",
    "\n",
    "AB都对同一个状态s进行写：\n",
    "+ A读到s。A写s为ss。\n",
    "+ （context switch to B）\n",
    "+ B读到s。B写s为sss，win。\n",
    "\n",
    "\n",
    "后保存的那个，反而赢。"
   ]
  },
  {
   "cell_type": "markdown",
   "metadata": {},
   "source": [
    "非原子操作，意味着该操作中间可以被加入其它线程的其它代码。最好一个线程对公共数据的读与写操作之间，不被另外的线程插入，或者至少不应该允许插入的线程对两者公共的数据进行写操作。"
   ]
  },
  {
   "cell_type": "markdown",
   "metadata": {},
   "source": [
    "如果一个写操作是基于某种前提的，那么必须在保证该前提不变的情况下，才进行写操作。"
   ]
  },
  {
   "cell_type": "markdown",
   "metadata": {},
   "source": [
    "如果两个线程都需要刀子、碗，有时候一个线程必须等待，如果我要东西doing被使用。"
   ]
  },
  {
   "cell_type": "markdown",
   "metadata": {},
   "source": [
    "### 第二章 线程的第一次接触"
   ]
  },
  {
   "cell_type": "markdown",
   "metadata": {},
   "source": [
    "后台/常驻"
   ]
  },
  {
   "cell_type": "markdown",
   "metadata": {},
   "source": [
    "C语言中，函数名===函数指针 === ROUTINE "
   ]
  },
  {
   "cell_type": "markdown",
   "metadata": {},
   "source": [
    "调用CreateThread()就是将函数放入一个新的线程对象中执行。调用该CreateThread()的线程，可以获得新线程的handle和id。线程id跨进程，在操作系统中全局唯一。进程/线程/文件/事件/信号量/互斥器/管道handle，都是指向操作系统某内存的指针。被执行的函数被异步地执行了，这里的异步指的是，不在callstack中被执行。"
   ]
  },
  {
   "cell_type": "markdown",
   "metadata": {},
   "source": [
    "屏幕显示是个慢动作。两个线程在同样的一份timeslice中，屏幕线程能处理的行数就比文件线程少。把数据输出至文件，远比输出至屏幕显示快得多"
   ]
  },
  {
   "cell_type": "markdown",
   "metadata": {},
   "source": [
    "GDI对象的HDC或HBRUSH都是handle。"
   ]
  },
  {
   "cell_type": "markdown",
   "metadata": {},
   "source": [
    "GDI对象的拥有者唯一，某个进程或线程，不要在线程间共享。进程/线程/文件/事件/信号量/互斥器/管道对象的拥有者不唯一，保持一个引用计数以记录有多少handle对应到此对象★，并且甚至可以跨进程。对象中记录了拥有该对象的进程或线程。"
   ]
  },
  {
   "cell_type": "markdown",
   "metadata": {},
   "source": [
    "虽然进程/线程死亡，操作系统会将该进程/线程所拥有的每一个对象引用计数减1。但显式调用CloseHandle才是万无一失的"
   ]
  },
  {
   "cell_type": "markdown",
   "metadata": {},
   "source": [
    "文件对象是被进程拥有，而非线程拥有。线程对象是被进程拥有，而非线程拥有，所以很有可能调用CloseHandle的线程，并非CreateThread的线程"
   ]
  },
  {
   "cell_type": "markdown",
   "metadata": {},
   "source": [
    "每个核心对象，都是由某个进程/线程创建的"
   ]
  },
  {
   "cell_type": "markdown",
   "metadata": {},
   "source": [
    "线程handle基本等同于线程对象/线程核心对象"
   ]
  },
  {
   "cell_type": "markdown",
   "metadata": {},
   "source": [
    "★线程对象引用到的那个线程也会令线程对象有意义。所以，线程对象的默认引用计数是2。当父线程调用CloseHandle，引用计数下降1.当线程结束时，引用计数再降1.只有当两件事都发生了(不管顺序)，这个对象才会被清理。"
   ]
  },
  {
   "cell_type": "markdown",
   "metadata": {},
   "source": [
    "父线程可以得到新线程的返回值。"
   ]
  },
  {
   "cell_type": "markdown",
   "metadata": {},
   "source": [
    "GetExitCodeThread()传入线程对象，接受exitCode/返回值，如果线程还在执行，则exitCode = STILL_ACTIVE"
   ]
  },
  {
   "cell_type": "markdown",
   "metadata": {},
   "source": [
    "在新线程中调用ExitThread()可以指定函数返回值并返回该函数"
   ]
  },
  {
   "cell_type": "markdown",
   "metadata": {},
   "source": [
    "程序启动后就执行的线程，为主线程/primary thread：\n",
    "+ 如果是UI程序，主线程负责主消息循环\n",
    "+ 主线程结束（不论是正常结束返回还是调用ExitThread返回），子线程被迫结束。整个程序就结束。"
   ]
  },
  {
   "cell_type": "markdown",
   "metadata": {},
   "source": [
    "线程可以分为GUI线程和worker线程：\n",
    "+ GUI线程负责建造窗口以及处理主消息循环，绝不会做不能马上完成的工作\n",
    "\n",
    "GUI线程的定义：拥有消息队列的线程。由产生窗口的线程处理该窗口产生的消息"
   ]
  },
  {
   "cell_type": "markdown",
   "metadata": {},
   "source": [
    "如果一个线程产生了一个窗口，那么就会有一个消息队列随之产生并附着到该线程上"
   ]
  },
  {
   "cell_type": "markdown",
   "metadata": {},
   "source": []
  },
  {
   "cell_type": "markdown",
   "metadata": {},
   "source": []
  },
  {
   "cell_type": "markdown",
   "metadata": {},
   "source": []
  },
  {
   "cell_type": "markdown",
   "metadata": {},
   "source": []
  },
  {
   "cell_type": "markdown",
   "metadata": {},
   "source": []
  },
  {
   "cell_type": "markdown",
   "metadata": {},
   "source": []
  },
  {
   "cell_type": "markdown",
   "metadata": {},
   "source": []
  },
  {
   "cell_type": "markdown",
   "metadata": {},
   "source": []
  },
  {
   "cell_type": "code",
   "execution_count": null,
   "metadata": {},
   "outputs": [],
   "source": []
  }
 ],
 "metadata": {
  "kernelspec": {
   "display_name": "Python 3",
   "language": "python",
   "name": "python3"
  },
  "language_info": {
   "codemirror_mode": {
    "name": "ipython",
    "version": 3
   },
   "file_extension": ".py",
   "mimetype": "text/x-python",
   "name": "python",
   "nbconvert_exporter": "python",
   "pygments_lexer": "ipython3",
   "version": "3.7.3"
  },
  "toc": {
   "base_numbering": 1,
   "nav_menu": {},
   "number_sections": true,
   "sideBar": true,
   "skip_h1_title": false,
   "title_cell": "Table of Contents",
   "title_sidebar": "Contents",
   "toc_cell": false,
   "toc_position": {},
   "toc_section_display": true,
   "toc_window_display": false
  }
 },
 "nbformat": 4,
 "nbformat_minor": 4
}
