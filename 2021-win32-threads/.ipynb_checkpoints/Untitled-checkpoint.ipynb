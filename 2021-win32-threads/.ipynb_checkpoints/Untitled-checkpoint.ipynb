{
 "cells": [
  {
   "cell_type": "markdown",
   "metadata": {},
   "source": [
    "多线程关乎效率/单用户体验/多用户支持"
   ]
  },
  {
   "cell_type": "markdown",
   "metadata": {},
   "source": [
    "线程之间互不影响"
   ]
  },
  {
   "cell_type": "markdown",
   "metadata": {},
   "source": [
    "MS_DOS_1.0没有进程的概念。程序一旦执行，便占据整个CPU的控制权。既然没有进程的概念，他不可能是多任务甚至多线程的操作系统。"
   ]
  },
  {
   "cell_type": "markdown",
   "metadata": {},
   "source": [
    "MS_DOS_2.0不把常驻程序视为一个应用程序或进程，而是视为操作系统的一部分。常驻程序也不是真正的常驻，比如格式化一张磁盘时，连常驻程序也只能暂停。"
   ]
  },
  {
   "cell_type": "markdown",
   "metadata": {},
   "source": [
    "★window_3允许多个程序同时执行，但分享CPU控制权是由程序实现而非操作系统实现，称之为合作型多任务。并且格式化一张磁盘时，依然没有程序能与之分享CPU。而同时期的其他操作系统已经实现由操作系统强迫程序把CPU分享给别人，程序员不需要什么额外的努力,比如为了释放控制权而写PeekMessage()循环。"
   ]
  },
  {
   "cell_type": "markdown",
   "metadata": {},
   "source": [
    "window_NT的API/Win32，是window_3.1的超集。"
   ]
  },
  {
   "cell_type": "markdown",
   "metadata": {},
   "source": [
    "在window_NT中没有一个程序能绝对控制CPU，连DOS程序或操作系统程序也不行。"
   ]
  },
  {
   "cell_type": "markdown",
   "metadata": {},
   "source": [
    "···由于为使用线程，所以Word必须在所有他的工作之间大演CPU戏法。这和合作型多任务差不多，只不过每件工作都在同一个程序中罢了，Word必须自己处理工作切换/task_switching比如储存当前工作状态恢复上个工作状态···现在操作系统为程序员处理了工作切换所需的状态存储和恢复的逻辑。"
   ]
  },
  {
   "cell_type": "markdown",
   "metadata": {},
   "source": [
    "如果CPU被操作系统程序控制且操作系统程序不愿交出CPU控制权，程序员一点办法没有"
   ]
  },
  {
   "cell_type": "markdown",
   "metadata": {},
   "source": [
    "一个多线程的程序，那么当一个线程等待服务器响应，这中间其他线程可以继续动作，UI因此永远有反应。\n",
    "比如window桌面，如果你从文件夹拷贝文件到另一个文件夹，这中间用户可以打开并关闭桌面上的文件夹和文件。"
   ]
  },
  {
   "cell_type": "markdown",
   "metadata": {},
   "source": [
    "可以说，CPU，1ms可以执行1万条指令，1ms切换一次线程。200ms的等待意味着许多能量被浪费掉了。程序应该在等待时释放对CPU的控制"
   ]
  },
  {
   "cell_type": "markdown",
   "metadata": {},
   "source": [
    "★win32进程是以下的集合，本身不可执行：\n",
    "+ 可以高达2GB的内存\n",
    "+ 一些核心对象（如file_handle和线程）\n",
    "+ 用户资源（如对话框）\n",
    "+ GDI资源（如Device Context）\n",
    "严肃的说，unix系统中只有进程（即主线程），和轻进程（即线程）。线程即进程。"
   ]
  },
  {
   "cell_type": "markdown",
   "metadata": {},
   "source": [
    "★内存：\n",
    "+ Code：唯一允许执行的内存。只读。\n",
    "+ Data：全局变量和静态变量\n",
    "+ Stack：局部变量"
   ]
  },
  {
   "cell_type": "markdown",
   "metadata": {},
   "source": [
    "程序执行/线程执行/进程执行。"
   ]
  },
  {
   "cell_type": "markdown",
   "metadata": {},
   "source": [
    "···定义一个线程，需要的数据并不多。线程在“任何时刻下的状态”被内存中的数据以及CPU寄存器的数据定义···"
   ]
  },
  {
   "cell_type": "markdown",
   "metadata": {},
   "source": [
    "属于某一线程的调用栈可被同一进程中的其他线程所共享。"
   ]
  },
  {
   "cell_type": "markdown",
   "metadata": {},
   "source": [
    "操作系统通过读取CPU寄存器，读取线程在任何时刻下的状态"
   ]
  },
  {
   "cell_type": "markdown",
   "metadata": {},
   "source": [
    "有什么是线程比进程的优势？线程比进程启动更快，退出更快。线程分享文件分享窗口，因为这些handle和线程生活在同一进程中。"
   ]
  },
  {
   "cell_type": "markdown",
   "metadata": {},
   "source": [
    "一个返回KB响应的服务器进程本身可能有MB大小，MB包含了代码/数据"
   ]
  },
  {
   "cell_type": "markdown",
   "metadata": {},
   "source": [
    "操作系统可以在任何时候知道谁(线程)正在等待什么，再决定怎样调整最好。"
   ]
  },
  {
   "cell_type": "markdown",
   "metadata": {},
   "source": [
    "win32进程 > unix进程/线程 > win32线程。window_NT上拥有500个win32线程并不是太过分，而unix上有500个unix进程有严重的问题"
   ]
  },
  {
   "cell_type": "markdown",
   "metadata": {},
   "source": [
    "任务切换/context_switch/储存线程状态，大概而言，把所有寄存器内容拷贝到堆栈，再把堆栈内容拷贝到一个专门存放context的地方等待恢复。之后，要切换回该线程，操作系统先切回该线程所属的进程的内存，然后从context中恢复寄存器内容。"
   ]
  },
  {
   "cell_type": "markdown",
   "metadata": {},
   "source": [
    "两个进程的0x1f000指针事实上指向不同的实际内存，因为context的不同。"
   ]
  },
  {
   "cell_type": "markdown",
   "metadata": {},
   "source": [
    "···window_NT的SMP实现是：任何线程可能在任意时刻由任意CPU执行。双核CPU可以同时执行同一或不同进程的两个线程···"
   ]
  },
  {
   "cell_type": "markdown",
   "metadata": {},
   "source": []
  },
  {
   "cell_type": "markdown",
   "metadata": {},
   "source": []
  },
  {
   "cell_type": "markdown",
   "metadata": {},
   "source": []
  },
  {
   "cell_type": "markdown",
   "metadata": {},
   "source": []
  },
  {
   "cell_type": "markdown",
   "metadata": {},
   "source": []
  },
  {
   "cell_type": "markdown",
   "metadata": {},
   "source": []
  },
  {
   "cell_type": "markdown",
   "metadata": {},
   "source": []
  },
  {
   "cell_type": "markdown",
   "metadata": {},
   "source": []
  },
  {
   "cell_type": "markdown",
   "metadata": {},
   "source": []
  },
  {
   "cell_type": "markdown",
   "metadata": {},
   "source": []
  },
  {
   "cell_type": "markdown",
   "metadata": {},
   "source": []
  }
 ],
 "metadata": {
  "kernelspec": {
   "display_name": "Python 3",
   "language": "python",
   "name": "python3"
  },
  "language_info": {
   "codemirror_mode": {
    "name": "ipython",
    "version": 3
   },
   "file_extension": ".py",
   "mimetype": "text/x-python",
   "name": "python",
   "nbconvert_exporter": "python",
   "pygments_lexer": "ipython3",
   "version": "3.8.5"
  }
 },
 "nbformat": 4,
 "nbformat_minor": 4
}
