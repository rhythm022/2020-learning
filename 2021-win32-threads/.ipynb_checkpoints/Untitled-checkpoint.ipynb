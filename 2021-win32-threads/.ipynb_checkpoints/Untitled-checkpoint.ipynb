{
 "cells": [
  {
   "cell_type": "markdown",
   "metadata": {},
   "source": [
    "### 第一章\n",
    "关键：\n",
    "+ 得到CPU，释放CPU，程序应该在等待时释放CPU\n",
    "+ 线程 === 某一时刻下寄存器和内存内的数据"
   ]
  },
  {
   "cell_type": "markdown",
   "metadata": {},
   "source": [
    "多线程关乎效率/单用户体验/多用户支持"
   ]
  },
  {
   "cell_type": "markdown",
   "metadata": {},
   "source": [
    "线程之间互不影响"
   ]
  },
  {
   "cell_type": "markdown",
   "metadata": {},
   "source": [
    "没有进线程的概念，意味着程序一旦执行起来，便长时间不间断拥有CPU，直至自己执行完毕。"
   ]
  },
  {
   "cell_type": "markdown",
   "metadata": {},
   "source": [
    "MS_DOS_2.0不把常驻程序视为一个应用程序或进程，而是视为操作系统的一部分。常驻程序也不是真正的常驻，比如格式化一张磁盘时，常驻程序会暂停，无法得到CPU。"
   ]
  },
  {
   "cell_type": "markdown",
   "metadata": {},
   "source": [
    "★window_3允许多个程序Concurrent并发执行，但释放CPU控制权是由程序实现而非操作系统实现，称之为合作型多任务。\n",
    "并且格式化一张磁盘的过程中，依然没有程序能得到CPU。而同时期的其他操作系统已经实现由操作系统强迫程序把CPU释放给别人，程序员不需要额外的努力,比如为了释放控制权而写PeekMessage()循环。主动释放CPU：合作型多任务，被操作系统强迫释放：抢先式多任务。"
   ]
  },
  {
   "cell_type": "markdown",
   "metadata": {},
   "source": [
    "window_NT的API/Win32，是window_3.1的超集。"
   ]
  },
  {
   "cell_type": "markdown",
   "metadata": {},
   "source": [
    "在window_NT中没有一个程序能长时间不间断拥有CPU，连DOS程序或操作系统程序也不行。"
   ]
  },
  {
   "cell_type": "markdown",
   "metadata": {},
   "source": [
    "···由于为使用线程，所以Word必须在所有他的工作之间大演CPU戏法。这和合作型多任务差不多，只不过每件工作都在同一个程序中罢了，Word必须自己处理任务切换/task_switching比如储存当前工作状态恢复上个工作状态···如今操作系统为程序员处理掉了任务切换/task_switching所需的状态存储及其恢复逻辑。"
   ]
  },
  {
   "cell_type": "markdown",
   "metadata": {},
   "source": [
    "如果CPU被操作系统拥有且操作系统不愿释放CPU，没有一个更高的存在强迫程序员释放CPU"
   ]
  },
  {
   "cell_type": "markdown",
   "metadata": {},
   "source": [
    "一个拥有多线程的程序，当其中一个线程等待服务器响应，其他线程各自动作并发执行，比如UI永远有反应。\n",
    "比如windows用户从文件夹拷贝文件到另一个文件夹，拷贝过程中用户打开/关闭文件夹、文件，各自动作并发执行。"
   ]
  },
  {
   "cell_type": "markdown",
   "metadata": {},
   "source": [
    "可以说，CPU，1ms可以执行万条指令，1ms切换一次线程。200ms，CPU不被任何线程拥有，意味着许多能量被浪费。★程序应该在等待时释放CPU。"
   ]
  },
  {
   "cell_type": "markdown",
   "metadata": {},
   "source": [
    "win32进程是以下的集合，本身不可执行：\n",
    "+ 可以高达2GB的内存\n",
    "+ 一些核心对象Kernel Objects（如文件和线程）\n",
    "+ 用户资源（如对话框）\n",
    "+ GDI对象，与核心对象有许多相似性（如画笔、画刷、Device Context）\n",
    "严肃的说，unix系统中只有进程（即主线程），和轻进程（即线程）。线程即进程。"
   ]
  },
  {
   "cell_type": "markdown",
   "metadata": {},
   "source": [
    "···定义一个线程，需要的数据并不多。线程在“任何时刻下的状态”被内存数据以及寄存器数据定义···★操作系统通过读取CPU寄存器，读取线程在任何时刻下的状态"
   ]
  },
  {
   "cell_type": "markdown",
   "metadata": {},
   "source": [
    "任务切换/context_switch/储存线程状态，大概而言，把所有寄存器数据拷贝到堆栈，再把堆栈数据拷贝到专门存放context的内存区域。之后操作系统切换回该线程：先切回该线程所属进程的内容，然后再从context中恢复寄存器内容。"
   ]
  },
  {
   "cell_type": "markdown",
   "metadata": {},
   "source": [
    "★内存：\n",
    "+ Code：唯一允许执行的内存。只读。\n",
    "+ Data：全局变量和静态变量\n",
    "+ Stack：局部变量"
   ]
  },
  {
   "cell_type": "markdown",
   "metadata": {},
   "source": [
    "有什么是线程比进程的优势？线程比进程启动更快，退出更快。同一进程的线程易于分享文件分享窗口。"
   ]
  },
  {
   "cell_type": "markdown",
   "metadata": {},
   "source": [
    "默认线程拥有1MB的stack。属于某一线程的stack可被同一进程中的其他线程所共享。"
   ]
  },
  {
   "cell_type": "markdown",
   "metadata": {},
   "source": [
    "一个返回KB响应的服务器进程本身可能有MB大小，MB包含了代码/数据"
   ]
  },
  {
   "cell_type": "markdown",
   "metadata": {},
   "source": [
    "操作系统可以在任何时候知道谁(线程)正在等待什么，再决定怎样调整最好。"
   ]
  },
  {
   "cell_type": "markdown",
   "metadata": {},
   "source": [
    "win32进程 > unix进程/线程 > win32线程。window_NT上拥有500个win32线程并不是太过分，而unix上有500个unix进程有严重的问题"
   ]
  },
  {
   "cell_type": "markdown",
   "metadata": {},
   "source": [
    "两个进程的0x1f000指针事实上指向不同的实际内存，因为context的不同。"
   ]
  },
  {
   "cell_type": "markdown",
   "metadata": {},
   "source": [
    "···window_NT的SMP实现是：任何线程可能在任意时刻由任意CPU执行。双核CPU可以同时执行同一或不同进程的两个线程···"
   ]
  },
  {
   "cell_type": "markdown",
   "metadata": {},
   "source": [
    "context switch需要占用CPU能量。CPU越多，可以让获得CPU的线程拥有CPU的时长变长，减少context switch的频率。"
   ]
  },
  {
   "cell_type": "markdown",
   "metadata": {},
   "source": [
    "操作系统context switch，导致race condition出现。"
   ]
  },
  {
   "cell_type": "markdown",
   "metadata": {},
   "source": [
    "AB都对同一个状态s进行写：\n",
    "+ A读到s。\n",
    "+ （context switch to B）\n",
    "+ B读到s。\n",
    "+ （context switch to A）\n",
    "+ A写s为ss。<导致B有风险>\n",
    "+ （context switch to B）\n",
    "+ B写s为sss，win。\n",
    "\n",
    "AB都对同一个状态s进行写：\n",
    "+ A读到s。\n",
    "+ （context switch to B）\n",
    "+ B读到s。B写s为sss。<导致A有风险>\n",
    "+ （context switch to A）\n",
    "+ A写s为ss，win。\n",
    "\n",
    "AB都对同一个状态s进行写：\n",
    "+ A读到s。A写s为ss。\n",
    "+ （context switch to B）\n",
    "+ B读到s。B写s为sss，win。\n",
    "\n",
    "\n",
    "后保存的那个，反而赢。"
   ]
  },
  {
   "cell_type": "markdown",
   "metadata": {},
   "source": [
    "非原子操作，意味着该操作中间可以被加入其它线程的其它代码。最好一个线程对公共数据的读与写操作之间，不被另外的线程插入，或者至少不应该允许插入的线程对两者公共的数据进行写操作。"
   ]
  },
  {
   "cell_type": "markdown",
   "metadata": {},
   "source": [
    "如果一个写操作是基于某种前提的，那么必须在保证该前提不变的情况下，才进行写操作。"
   ]
  },
  {
   "cell_type": "markdown",
   "metadata": {},
   "source": [
    "如果两个线程都需要刀子、碗，有时候一个线程必须等待，如果我要东西doing被使用。"
   ]
  },
  {
   "cell_type": "markdown",
   "metadata": {},
   "source": [
    "### 第二章 线程的第一次接触"
   ]
  },
  {
   "cell_type": "markdown",
   "metadata": {},
   "source": [
    "后台/常驻"
   ]
  },
  {
   "cell_type": "markdown",
   "metadata": {},
   "source": [
    "C语言中，函数名===函数指针 === ROUTINE "
   ]
  },
  {
   "cell_type": "markdown",
   "metadata": {},
   "source": [
    "调用CreateThread()就是将函数放入一个新的线程对象中执行。调用该CreateThread()的线程，可以获得新线程的handle和id。线程id跨进程，在操作系统中全局唯一。进程/线程/文件/事件/信号量/互斥器/管道handle，都是指向操作系统某内存的指针。被执行的函数被异步地执行了，这里的异步指的是，不在callstack中被执行。"
   ]
  },
  {
   "cell_type": "markdown",
   "metadata": {},
   "source": [
    "屏幕显示是个慢动作。两个线程在同样的一份timeslice中，屏幕线程能处理的行数就比文件线程少。把数据输出至文件，远比输出至屏幕显示快得多"
   ]
  },
  {
   "cell_type": "markdown",
   "metadata": {},
   "source": [
    "GDI对象的HDC或HBRUSH都是handle。"
   ]
  },
  {
   "cell_type": "markdown",
   "metadata": {},
   "source": [
    "GDI对象的拥有者唯一，某个进程或线程，不要在线程间共享。进程/线程/文件/事件/信号量/互斥器/管道对象的拥有者不唯一，保持一个引用计数以记录有多少handle对应到此对象★，并且甚至可以跨进程。对象中记录了拥有该对象的进程或线程。"
   ]
  },
  {
   "cell_type": "markdown",
   "metadata": {},
   "source": [
    "虽然进程/线程死亡，操作系统会将该进程/线程所拥有的每一个对象引用计数减1。但显式调用CloseHandle才是万无一失的"
   ]
  },
  {
   "cell_type": "markdown",
   "metadata": {},
   "source": [
    "文件对象是被进程拥有，而非线程拥有。线程对象是被进程拥有，而非线程拥有，所以很有可能调用CloseHandle的线程，并非CreateThread的线程"
   ]
  },
  {
   "cell_type": "markdown",
   "metadata": {},
   "source": [
    "每个核心对象，都是由某个进程/线程创建的"
   ]
  },
  {
   "cell_type": "markdown",
   "metadata": {},
   "source": [
    "线程handle基本等同于线程对象/线程核心对象"
   ]
  },
  {
   "cell_type": "markdown",
   "metadata": {},
   "source": [
    "★线程对象引用到的那个线程也会令线程对象有意义。所以，线程对象的默认引用计数是2。当父线程调用CloseHandle，引用计数下降1.当线程结束时，引用计数再降1.只有当两件事都发生了(不管顺序)，这个对象才会被清理。"
   ]
  },
  {
   "cell_type": "markdown",
   "metadata": {},
   "source": [
    "父线程可以得到新线程的返回值。"
   ]
  },
  {
   "cell_type": "markdown",
   "metadata": {},
   "source": [
    "GetExitCodeThread()传入线程对象，接受exitCode/返回值，如果线程还在执行，则exitCode = STILL_ACTIVE"
   ]
  },
  {
   "cell_type": "markdown",
   "metadata": {},
   "source": [
    "在新线程中调用ExitThread()可以指定函数返回值并返回该函数"
   ]
  },
  {
   "cell_type": "markdown",
   "metadata": {},
   "source": [
    "程序启动后就执行的线程，为主线程/primary thread：\n",
    "+ 如果是UI程序，主线程负责主消息循环\n",
    "+ 主线程结束（不论是正常结束返回还是调用ExitThread返回），子线程被迫结束。整个程序就结束。"
   ]
  },
  {
   "cell_type": "markdown",
   "metadata": {},
   "source": [
    "线程可以分为GUI线程和worker线程：\n",
    "+ GUI线程负责建造窗口以及处理主消息循环，绝不会做不能马上完成的工作\n",
    "\n",
    "GUI线程的定义：拥有消息队列的线程。由产生窗口的线程处理该窗口产生的消息"
   ]
  },
  {
   "cell_type": "markdown",
   "metadata": {},
   "source": [
    "如果一个线程产生了一个窗口，那么就会有一个消息队列随之产生并附着到该线程上"
   ]
  },
  {
   "cell_type": "markdown",
   "metadata": {},
   "source": [
    "### 第三章\n",
    "关键字："
   ]
  },
  {
   "cell_type": "markdown",
   "metadata": {},
   "source": [
    "线程等待的时间 === 线程无法使用CPU的时间：\n",
    "+ 用户\n",
    "+ 硬盘文件\n",
    "+ 网络"
   ]
  },
  {
   "cell_type": "markdown",
   "metadata": {},
   "source": [
    "线程常常在等待某个说明东西，而无法使用CPU"
   ]
  },
  {
   "cell_type": "markdown",
   "metadata": {},
   "source": [
    "我们希望线程在等待时能完全释放CPU，而不是busy waits"
   ]
  },
  {
   "cell_type": "markdown",
   "metadata": {},
   "source": [
    "busy waits/busy loop/(whiletrue + GetExitCodeThread + STILL_ACTIVE)"
   ]
  },
  {
   "cell_type": "markdown",
   "metadata": {},
   "source": [
    "每个线程会一律平等的获得CPU使用时间，而线程可能使用全部被分配到的时间去(whiletrue + GetExitCodeThread + STILL_ACTIVE)，busy waits从其他真正需要使用CPU时间的程序中夺走宝贵时间，导致纯计算任务用时正好翻倍"
   ]
  },
  {
   "cell_type": "markdown",
   "metadata": {},
   "source": [
    "busy waits并不一定与线程有关，在一个线程内计时循环等待，也是busy waits，也应避免。"
   ]
  },
  {
   "cell_type": "markdown",
   "metadata": {},
   "source": [
    "WaitForSingleObject传入线程对象：\n",
    "+ 线程对象结束/激发，返回值WAIT_OBJECT_0\n",
    "+ 线程对象结束/激发但没有释放mutex，返回值为WAIT_ABANDONED"
   ]
  },
  {
   "cell_type": "markdown",
   "metadata": {},
   "source": [
    "可以每超时500ms更新一下界面再调用一次WaitForSingleObject。"
   ]
  },
  {
   "cell_type": "markdown",
   "metadata": {},
   "source": [
    "文件/线程/互斥器都是线程感兴趣的对象。"
   ]
  },
  {
   "cell_type": "markdown",
   "metadata": {},
   "source": [
    "unix中的信号(signals)可以和window的被激发对象(signaled objects)做比较，signal可以直接对指定线程发起冲击，而被激发对象需要指定线程有在wait它。"
   ]
  },
  {
   "cell_type": "markdown",
   "metadata": {},
   "source": [
    "线程handle会唤醒所有wait它的线程"
   ]
  },
  {
   "cell_type": "markdown",
   "metadata": {},
   "source": [
    "WaitForMultipleObjects传入各种核心对象，参数bWaitAll确定any还是all逻辑。"
   ]
  },
  {
   "cell_type": "markdown",
   "metadata": {},
   "source": [
    "主消息循环：\n",
    "+ GetMessage与WaitForSingleObject类似，从消息队列中取出消息\n",
    "+ p85 在一个GUI程序中等待 pass\n",
    "```\n",
    "while(GetMessage(&msg,null,0,0)){\n",
    "TranslateMessage(&msg)\n",
    "DispatchMessage(&msg)\n",
    "}\n",
    "```"
   ]
  },
  {
   "cell_type": "markdown",
   "metadata": {},
   "source": [
    "### 第四章：同步控制"
   ]
  },
  {
   "cell_type": "markdown",
   "metadata": {},
   "source": [
    "线程，合作。可能需要一个指挥者。线程可能需要排队等待被执行。\n"
   ]
  },
  {
   "cell_type": "markdown",
   "metadata": {},
   "source": [
    "同步：程序1调用程序2，程序1停下来不动，直到程序2完成，程序1才继续下去。"
   ]
  },
  {
   "cell_type": "markdown",
   "metadata": {},
   "source": [
    "SendMessage是同步行为，PostMessage是异步行为：\n",
    "+ PostMessage是把消息放到其他线程的消息队列，所以是异步行为\n",
    "+ worker向主线程SendMessage，主线程处理完毕该消息之前，SendMessage不会返回\n",
    "+ ···请注意我一直依赖一个事实：所有数据可以被所有线程取用···我使用sprintf()在worker线程的stack中产生字符串，然后将此字符串以SendMessage送出。主线程处理该消息时，worker线程不动，主线程处理完后，worker线程继续进行，回到与主线程异步关系上。★★★两个线程，如果一个线程为了保护另一个线程能够原子操作，而选择等待，称之为“同步”\n",
    "+ 如果以PostMessage代替SendMessage会发生什么？由于PostMessage立即返回，所以当主线程抓取字符串要显示时，或许该字符串内容早已又被worker秀安惩改写了。···这就是多线程设计中的取舍：最佳速度和最佳安全性。···"
   ]
  },
  {
   "cell_type": "markdown",
   "metadata": {},
   "source": [
    "同步机制是线程间的红绿灯。程序员可以设计一组线程使用“同一个”红绿灯系统，这个红绿灯系统给某个线程绿灯而其他线程红灯。"
   ]
  },
  {
   "cell_type": "markdown",
   "metadata": {},
   "source": [
    "所谓排他性指当某一线程可见该内存/文件的时候，不允许其他线程可见，或者说，一次只能有一个线程获准进入CRITICAL_SECTION。CRITICAL_SECTION指“用来处理某一公共资源”的一小块程序代码。"
   ]
  },
  {
   "cell_type": "markdown",
   "metadata": {},
   "source": [
    "CRITICAL_SECTION不是核心对象，它属于进程对象：\n",
    "+ 调用InitializeCriticalSection在进程的内存空间里初始化CRITICAL_SECTION\n",
    "+ 一个CRITICAL_SECTION负责保护“一个”公共资源。\n",
    "+ 当一组线程，需要使用进程内全局的同一个变量的时候，需使用该资源的CRITICAL_SECTION的Left/Leave函数包夹这一块程序代码。"
   ]
  },
  {
   "cell_type": "markdown",
   "metadata": {},
   "source": [
    "一个CRITICAL_SECTION负责保护所有的链表还是说一个CRITICAL_SECTION负责保护一个链表，区别很大，前者效率低下。"
   ]
  },
  {
   "cell_type": "markdown",
   "metadata": {},
   "source": [
    "如果一个操作被别人打扰就有可能出错，就需要有机制保护着个操作。原子操作是不会被别人打扰的操作，所以原子操作不会出错，把操作转换成原子操作就能保证不出错。"
   ]
  },
  {
   "cell_type": "markdown",
   "metadata": {},
   "source": [
    "···p100-没有什么东西能够保护这个node免受另一个线程的删除操作，这个问题可以考更高阶的readers/writers锁定，我们将在第七章解释···"
   ]
  },
  {
   "cell_type": "markdown",
   "metadata": {},
   "source": [
    "如果一个线程连续调用EnterCriticalSection()5次，它也必须调用LeaveCriticalSection()5次才能释放/归还该保护，也就是说，一个线程可以一再反复的进入同一个CriticalSection"
   ]
  },
  {
   "cell_type": "markdown",
   "metadata": {},
   "source": [
    "不要在CriticalSection中调用Wait...()函数，Wait...()函数也不应该是原子操作的一部分"
   ]
  },
  {
   "cell_type": "markdown",
   "metadata": {},
   "source": [
    "要留心长时间或高频率保护某一资源的情况，可能是程序效率低下。当主线程/GUI线程需要使用这被锁定/保护的资源时，程序会挂在那儿，动也不动。"
   ]
  },
  {
   "cell_type": "markdown",
   "metadata": {},
   "source": [
    "CriticalSection的缺点是，CriticalSection不是核心对象，如果线程在CriticalSection里死掉，操作系统没法释放CriticalSection，其他线程会有不正常行为发生。mutex可以避免这个问题。"
   ]
  },
  {
   "cell_type": "markdown",
   "metadata": {},
   "source": [
    "#### 互斥体"
   ]
  },
  {
   "cell_type": "markdown",
   "metadata": {},
   "source": [
    "mutex、CriticalSection都是“同步”机制。"
   ]
  },
  {
   "cell_type": "markdown",
   "metadata": {},
   "source": [
    "mutex/互斥体是牺牲速度的核心对象版的CriticalSection，慢100倍：\n",
    "+ 不同进程的两个线程使用了同一个资源，可以用互斥体做保护。"
   ]
  },
  {
   "cell_type": "markdown",
   "metadata": {},
   "source": [
    "CreateMutex/OpenMutex相当于InitializeCriticalSection。Wait...()相当于Enter，ReleaseMutex相当于Leave。CloseHandle是释放核心对象。"
   ]
  },
  {
   "cell_type": "markdown",
   "metadata": {},
   "source": [
    "和创建线程一样，CreateMutex创建互斥体得到的互斥体id在操作系统全局唯一，其他线程通过互斥体id操作该互斥体"
   ]
  },
  {
   "cell_type": "markdown",
   "metadata": {},
   "source": [
    "核心对象都有引用计数，所以mutex也有引用计数。CloseHandle时引用计数减1。CreateMutex/OpenMutex引用计数加1。CreateMutex可以指定，该mutex的初始使用者为自己线程，使用该mutex保护自己的操作。如果调用CreateMutex时你指定的mutex名已存在，操作系统会返回已有的mutex，即和OpenMutex的效果一致。"
   ]
  },
  {
   "cell_type": "markdown",
   "metadata": {},
   "source": [
    "没有任何线程在使用该mutex名的mutex，则Wait...()成功使得该该线程可以使用该mutex。"
   ]
  },
  {
   "cell_type": "markdown",
   "metadata": {},
   "source": [
    "blocking/交出CPU/阻塞"
   ]
  },
  {
   "cell_type": "markdown",
   "metadata": {},
   "source": [
    "出于各种原因，使用mutex的线程在结束前没有ReleaseMutex，操作系统会代其交出该mutex，并且下一个使用mutex的线程Wait...()被以返回得到WAIT_ABANDONED_0"
   ]
  },
  {
   "cell_type": "markdown",
   "metadata": {},
   "source": [
    "#### 信号量"
   ]
  },
  {
   "cell_type": "markdown",
   "metadata": {},
   "source": [
    "信号量是解决producer/consumer问题的关键要素。producer/consumer问题会存在一个缓冲区，同一时间被push和pop数据。"
   ]
  },
  {
   "cell_type": "markdown",
   "metadata": {},
   "source": [
    "信号量的n表示：某时刻某一资源的当前可用数n，所以允许有n个线程使用。其中的某一线程允许自己操作的前提状态被有限改变，允许n降至1。"
   ]
  },
  {
   "cell_type": "markdown",
   "metadata": {},
   "source": [
    "如果你产生一个信号量并令其最大可用数为1，那就是一个互斥体。但信号量并没有所谓的WAIT_ABANDONED可以被其他线程得到。使用metux的线程再次Wait...()该mutex，该线程不会被阻塞。但一个使用semaphore的线程反复Wait...()该semaphore会被阻塞。"
   ]
  },
  {
   "cell_type": "markdown",
   "metadata": {},
   "source": [
    "CreateSemaphore()传入初始可用数、最大可用数、信号名。一般初始可用数为0，进行初始化操作，完成初始化后调用ReleaseSemaphore通知其他线程消费。★ReleaseSemaphore传入可用资源增加数，具体增加多少取决于该线程结束时为资源增加了多少数量。任何线程只要拥有该semaphore handle就可以调用ReleaseSemaphore，但该线程在业务上一定是负责push资源的线程。ReleaseSemaphore的操作相当于自己push完资源，通知其他线程pop资源。"
   ]
  },
  {
   "cell_type": "markdown",
   "metadata": {},
   "source": [
    "#### 事件"
   ]
  },
  {
   "cell_type": "markdown",
   "metadata": {},
   "source": [
    "CreateEvent传入是否激发后自动重置、事件名，任何知道该事件名的线程都可以使用该事件：\n",
    "+ 调用自动重置的事件的setEvent/PulseEvent，一次只执行一个线程。\n",
    "+ 调用不自动重置的事件的setEvent/PulseEvent，一次执行多个线程。并且调用setEvent，会循环执行这些线程。\n",
    "+ Event代替mutex/semaphere可行吗??"
   ]
  },
  {
   "cell_type": "markdown",
   "metadata": {},
   "source": [
    "使用 - 交出"
   ]
  },
  {
   "cell_type": "markdown",
   "metadata": {},
   "source": [
    "存在的线程却始终无法使用CPU，称为该线程饥饿starvation"
   ]
  },
  {
   "cell_type": "markdown",
   "metadata": {},
   "source": [
    "同步的最简单机制是Interlocked...()函数。"
   ]
  },
  {
   "cell_type": "markdown",
   "metadata": {},
   "source": [
    "### 第五章"
   ]
  },
  {
   "cell_type": "markdown",
   "metadata": {},
   "source": [
    "TerminateThread()：\n",
    "+ 缺点：不会在目标线程中丢异常，使得目标线程无法通过捕获异常的方式，清理自己。\n",
    "+ 缺点：不会释放目标线程的stack\n",
    "+ 但可以得到目标线程的dwExitCode/结束码\n",
    "\n",
    "而我们的确需要能够跨线程丢异常"
   ]
  },
  {
   "cell_type": "markdown",
   "metadata": {},
   "source": [
    "win32关于把CPU交给哪个线程使用有专门算法：\n",
    "+ 区分重要的进程和次要的进程，大部分程序属于normal的进程，任务管理器是high，屏保程序是idle仅允许CPU空闲的时候使用CPU。real-time留给有实时性要求的程序。通过SetPriority()设置。\n",
    "+ 同一进程里的线程再可以有不同的优先级。通过SetThreadPriority()改变。\n",
    "+ 除上述两点，获得键盘、获得显示器的程序的优先级会有所提升。一旦得到mutex的程序的优先级会有所提升"
   ]
  },
  {
   "cell_type": "markdown",
   "metadata": {},
   "source": [
    "可能拥有mutex的线程，因为优先级低，一直无法使用CPU，导致死锁/后续的其他线程无法工作。所以，应保证拥有mutex的线程拥有一定的优先级"
   ]
  },
  {
   "cell_type": "markdown",
   "metadata": {},
   "source": [
    "SuspendThread()挂起线程，debugger基于此。ResumeThread()重启线程。"
   ]
  },
  {
   "cell_type": "markdown",
   "metadata": {},
   "source": [
    "### 第六章"
   ]
  },
  {
   "cell_type": "markdown",
   "metadata": {},
   "source": [
    "overlapped IO === async IO === nonblocking IO"
   ]
  },
  {
   "cell_type": "markdown",
   "metadata": {},
   "source": [
    "本章将解决如何在主线程中操控许多个workerIO线程，如何设置同步机制、如何错误处理、如何显示对话框"
   ]
  },
  {
   "cell_type": "markdown",
   "metadata": {},
   "source": [
    "nonblocking IO是win32提供的基础设施，操作系统为你传送数据，并在传送完毕时通知你。★操作系统内部其实就是用线程来实现nonblocking IO"
   ]
  },
  {
   "cell_type": "markdown",
   "metadata": {},
   "source": [
    "IO completion ports利用线程来平衡??由IO请求引起的负载，并实现scalable的服务器。"
   ]
  },
  {
   "cell_type": "markdown",
   "metadata": {},
   "source": [
    "针对文件操作：\n",
    "+ CreateFile获取文件Handler，传入“读还是写”，“阻塞还是非阻塞”\n",
    "+ ReadFile传入文件Handler、接收数据的区域/缓存区、欲读取的字节数、实际读取的字节数、overlapped结构\n",
    "+ WriteFile\n",
    "+ CloseHandle"
   ]
  },
  {
   "cell_type": "markdown",
   "metadata": {},
   "source": [
    "overlapped结构：\n",
    "+ 包含手动重置的event对象，当overlappedIO完成时被激发\n",
    "+ 文件被读被写的偏移位置\n",
    "+ 每个IO请求都对应一个独一无二的overlapped结构及其独一无二的event，因此，你的程序可以对同一个文件发出多个读取操作和多个写入操作。\n",
    "+ ReadFile时带上overlapped结构，win32就会在后台处理请求，你的程序可以处理其他事情。★文件和其他核心对象一样，你的程序通过Wait...()等待win32处理完毕，并通过调用GetOverlappedResult()查看操作情况"
   ]
  },
  {
   "cell_type": "markdown",
   "metadata": {},
   "source": [
    "ReadFile:\n",
    "+ 如果要读的内容可以直接返回，则ReadFile直接返回操作情况\n",
    "+ ★如果你的程序要求overlapped的读取文件，则操作系统把这个读取请求放到“队列”中排队执行，即ERROR_IO_PENDING"
   ]
  },
  {
   "cell_type": "markdown",
   "metadata": {},
   "source": []
  },
  {
   "cell_type": "markdown",
   "metadata": {},
   "source": []
  },
  {
   "cell_type": "markdown",
   "metadata": {},
   "source": []
  },
  {
   "cell_type": "markdown",
   "metadata": {},
   "source": []
  },
  {
   "cell_type": "markdown",
   "metadata": {},
   "source": []
  },
  {
   "cell_type": "markdown",
   "metadata": {},
   "source": []
  },
  {
   "cell_type": "markdown",
   "metadata": {},
   "source": []
  },
  {
   "cell_type": "markdown",
   "metadata": {},
   "source": []
  },
  {
   "cell_type": "markdown",
   "metadata": {},
   "source": []
  }
 ],
 "metadata": {
  "kernelspec": {
   "display_name": "Python 3",
   "language": "python",
   "name": "python3"
  },
  "language_info": {
   "codemirror_mode": {
    "name": "ipython",
    "version": 3
   },
   "file_extension": ".py",
   "mimetype": "text/x-python",
   "name": "python",
   "nbconvert_exporter": "python",
   "pygments_lexer": "ipython3",
   "version": "3.7.3"
  },
  "toc": {
   "base_numbering": 1,
   "nav_menu": {},
   "number_sections": true,
   "sideBar": true,
   "skip_h1_title": false,
   "title_cell": "Table of Contents",
   "title_sidebar": "Contents",
   "toc_cell": false,
   "toc_position": {},
   "toc_section_display": true,
   "toc_window_display": false
  }
 },
 "nbformat": 4,
 "nbformat_minor": 4
}
