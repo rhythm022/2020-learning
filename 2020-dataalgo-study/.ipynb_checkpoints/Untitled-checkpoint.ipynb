{
 "cells": [
  {
   "cell_type": "markdown",
   "metadata": {},
   "source": [
    "### 05 | 数组：为什么很多编程语言中数组都从0开始编号？"
   ]
  },
  {
   "cell_type": "markdown",
   "metadata": {},
   "source": [
    "Array查找是O(n)，插入是O(n)，删除是O(n)，根据下标访问O(1)。如果不要求item的顺序，插入也可以为O(1)。通过标记删除的方式，删除为可以为O(1)，当Array没有存储空间的时候再执行类似垃圾回收的操作。"
   ]
  },
  {
   "cell_type": "markdown",
   "metadata": {},
   "source": [
    "Java中Array和ArrayList的区别是ArrayList包含了自动扩容的逻辑，推荐事先指定容量，省去申请内存和数据迁移工作\n",
    "```\n",
    "ArrayList<User> users = new ArrayList(10000);\n",
    "\n",
    "```"
   ]
  },
  {
   "cell_type": "markdown",
   "metadata": {},
   "source": [
    "开发底层的时候使用底层库。"
   ]
  },
  {
   "cell_type": "markdown",
   "metadata": {},
   "source": [
    "### 06 | 链表（上）：如何实现LRU缓存淘汰算法?"
   ]
  },
  {
   "cell_type": "markdown",
   "metadata": {},
   "source": [
    "单链表实现LRU缓存淘汰算法：当数据没有被缓存在链表中，直接缓存数据到链表头节点。\n",
    "当数据被缓存过，先删除对应链表节点，再缓存到链表头节点。\n",
    "当数据没有被缓存过且缓存已满，先删除链表尾结点，再将数据缓存到链表头节点。"
   ]
  },
  {
   "cell_type": "markdown",
   "metadata": {},
   "source": [
    "链表常用来做缓存，CPU 缓存、数据库缓存、浏览器缓存。链表不利用使用CPU缓存机制。"
   ]
  },
  {
   "cell_type": "markdown",
   "metadata": {},
   "source": [
    "当缓存没有可用存储空间，有三种淘汰数据的算法思路：先进先出，最少使用，最近最少使用"
   ]
  },
  {
   "cell_type": "markdown",
   "metadata": {},
   "source": [
    "链表只存储头结点的指针。 "
   ]
  },
  {
   "cell_type": "markdown",
   "metadata": {},
   "source": [
    "链表查找是O(n)，插入是O(1)，删除是O(1)。"
   ]
  },
  {
   "cell_type": "markdown",
   "metadata": {},
   "source": [
    "循环链表和单链表的唯一区别是尾结点。"
   ]
  },
  {
   "cell_type": "markdown",
   "metadata": {},
   "source": [
    "CPU在从内存读取数据的时候，会先把读取到的数据加载到CPU的缓存中。而CPU每次从内存读取数据并不是只读取那个特定要访问的地址，而是读取一个数据块(这个大小我不太确定。。)并保存到CPU缓存中，然后下次访问内存数据的时候就会先从CPU缓存开始查找，如果找到就不需要再从内存中取。这样就实现了比内存访问速度更快的机制，也就是CPU缓存存在的意义:为了弥补内存访问速度过慢与CPU执行速度快之间的差异而引入。\n",
    "\n",
    "对于数组来说，存储空间是连续的，所以在加载某个下标的时候可以把以后的几个下标元素也加载到CPU缓存这样执行速度会快于存储空间不连续的链表存储。\n"
   ]
  },
  {
   "cell_type": "markdown",
   "metadata": {},
   "source": [
    "看了大家的评论学习到了快慢指针法，看语言描述没太懂，自己用代码写了下才明白。\n",
    "大致思路如下\n",
    "由于回文串最重要的就是对称，那么最重要的问题就是找到那个中心，用快指针每步两格走，当他到达链表末端的时候，慢指针刚好到达中心，慢指针在过来的这趟路上还做了一件事，他把走过的节点反向了，在中心点再开辟一个新的指针用于往回走，而慢指针继续向前，当慢指针扫完整个链表，就可以判断这是回文串，否则就提前退出，总的来说时间复杂度按慢指针遍历一遍来算是O(n),空间复杂度因为只开辟了3个额外的辅助，所以是o(1)"
   ]
  },
  {
   "cell_type": "markdown",
   "metadata": {},
   "source": [
    "### 07 | 链表（下）：如何轻松写出正确的链表代码？"
   ]
  },
  {
   "cell_type": "markdown",
   "metadata": {},
   "source": [
    "带有哨兵机制的链表实现是更佳实践，哨兵机制下的链表即使没有数据，也始终有一头一尾两个占位节点，通过将链表特殊的头结点尾结点拍平优化为和中间节点一样的物理形式，免除了插入删除节点时针对链表头结点尾结点的特殊逻辑，使得插入删除逻辑始终可以由下式实现：\n",
    "```\n",
    "new_node->next = p->next;\n",
    "p->next = new_node;\n",
    "```\n",
    "```\n",
    "p->next = p->next->next;\n",
    "```"
   ]
  },
  {
   "cell_type": "markdown",
   "metadata": {},
   "source": [
    "### 08 | 栈：如何实现浏览器的前进和后退功能？"
   ]
  },
  {
   "cell_type": "markdown",
   "metadata": {},
   "source": [
    "我们说空间复杂度的时候，是指除了原本的数据存储空间外，算法运行还需要额外的存储空间。"
   ]
  },
  {
   "cell_type": "markdown",
   "metadata": {},
   "source": [
    "出栈入栈的时间复杂度是O(1)"
   ]
  },
  {
   "cell_type": "markdown",
   "metadata": {},
   "source": [
    "栈、队列的作用是临时存储"
   ]
  },
  {
   "cell_type": "markdown",
   "metadata": {},
   "source": [
    "两个栈可以解决浏览器前进后退的问题、简单数学表达式的问题。"
   ]
  },
  {
   "cell_type": "markdown",
   "metadata": {},
   "source": [
    "### 09 | 队列：队列在线程池等有限资源池中的应用"
   ]
  },
  {
   "cell_type": "markdown",
   "metadata": {},
   "source": [
    "★★★队列是让快慢两个系统能够协调起来的最朴实方法。"
   ]
  },
  {
   "cell_type": "markdown",
   "metadata": {},
   "source": [
    "对于栈，我们需要栈顶指针count；对于队列，我们需要头指针head和为指针tail"
   ]
  },
  {
   "cell_type": "markdown",
   "metadata": {},
   "source": [
    "出队入队的时间复杂度是O(1)，顺序队很好理解，链式队，入队tail.next = newNode、tail = newNode，出队head = head.next，所以时间复杂度是O(1)"
   ]
  },
  {
   "cell_type": "markdown",
   "metadata": {},
   "source": [
    "数组实现的队列叫顺序队列，链表实现的队列叫链式队列。循环队列是顺序队列升级版，不需要数据搬移。循环队列通过(tail+1)%n=head判满。"
   ]
  },
  {
   "cell_type": "markdown",
   "metadata": {},
   "source": [
    "循环队列比链式队列用的更多，因为循环队列具有更高并发性。"
   ]
  },
  {
   "cell_type": "markdown",
   "metadata": {},
   "source": [
    "链式队列是一种无界队列，可能造成一种局面：过多的请求进入队列，请求排队等待的时长太长，造成响应时间太长。循环队列作为有界队列，晚来的请求会被直接拒绝，可能大多数场景下更合理。"
   ]
  },
  {
   "cell_type": "markdown",
   "metadata": {},
   "source": [
    "### 10 | 递归：如何用三行代码找到“最终推荐人”？"
   ]
  },
  {
   "cell_type": "markdown",
   "metadata": {},
   "source": [
    "只要遇到递归，我们就把它抽象成一个递归公式。递的过程是公式分解的过程，归的过程是数据代入公式计算的过程。比如递归公式f(n) = f(n-1) + f(n-2)，以n = 5 展开，f(5) = f(4) + f(3) = f(3) + f(2) + f(2) + f(1) = f(2) + f(1) + f(2) + f(2) + f(1)是递过程。f(2) + f(1) + f(2) + f(2) + f(1) = 2 + 1 + 2 + 2 + 1 = 8是归过程。"
   ]
  },
  {
   "cell_type": "markdown",
   "metadata": {},
   "source": [
    "不要试图用人脑去分解递归的每个步骤的调用关系。"
   ]
  },
  {
   "cell_type": "markdown",
   "metadata": {},
   "source": [
    "要计算 f(5)，需要先计算 f(4) 和 f(3)，而计算 f(4) 还需要计算 f(3)，因此，f(3) 就被计算了很多次，这是重复计算问题，可通过缓存机制优化。"
   ]
  },
  {
   "cell_type": "markdown",
   "metadata": {},
   "source": [
    "递归公式f(n) = f(n-1) + 1，以 n = 5 展开，f(5) = f(4) + 1 = f(3) + 1 + 1 = f(2) + 1 + 1 + 1 = f(1) + 1 + 1 + 1 + 1 是递过程。1 + 1 + 1 + 1 + 1 = 5是归过程。"
   ]
  },
  {
   "cell_type": "markdown",
   "metadata": {},
   "source": [
    "Q:怎么将递归代码改写为非递归代码？\n",
    "A:for迭代循环代码。实现归过程。"
   ]
  },
  {
   "cell_type": "markdown",
   "metadata": {},
   "source": [
    "### 11 | 排序（上）：为什么插入排序比冒泡排序更受欢迎？"
   ]
  },
  {
   "cell_type": "markdown",
   "metadata": {},
   "source": [
    "插入比冒泡好。"
   ]
  },
  {
   "cell_type": "markdown",
   "metadata": {},
   "source": [
    "大O时间复杂度是忽略常数、系数、低阶。当我们比较同一阶时间复杂度的算法的时候需要进一步考虑常数系数低阶的因素，而不是只用大O时间复杂度比较两者速度。"
   ]
  },
  {
   "cell_type": "markdown",
   "metadata": {},
   "source": [
    "基于比较基于移动"
   ]
  },
  {
   "cell_type": "markdown",
   "metadata": {},
   "source": [
    "除了算法要比较时间空间复杂度，针对排序，我们还需要考察一组序列的相等元素在排序前后其相对顺序是否改变。"
   ]
  },
  {
   "cell_type": "markdown",
   "metadata": {},
   "source": [
    "序列中任意两个元素符合顺序。\n",
    "\n",
    "n个元素的序列，两两元素为一组，有n*(n-1)/2组元素关系，元素关系要么顺序要么逆序。逆序组数 = 总组数 - 有序组数"
   ]
  },
  {
   "cell_type": "markdown",
   "metadata": {},
   "source": [
    "冒泡的模式是：比较交换比较，比较一发现不对马上交换，交换好再接着比较。每次交换，有序组数量加一。"
   ]
  },
  {
   "cell_type": "markdown",
   "metadata": {},
   "source": [
    "冒泡最好情况时间复杂度是 O(n)。而最坏的情况是，要排序的数据刚好是倒序排列的，最坏情况时间复杂度为 O(n2)。"
   ]
  },
  {
   "cell_type": "markdown",
   "metadata": {},
   "source": [
    "冒泡排序不管怎么改进，交换次数总是确定的，即为逆序组数，也就是n*(n-1)/2–初始有序组数，例如3/5/4/1/2/6就是 15–3 = 12，要进行 12 次交换操作。假设平均初始逆序组数为n*(n-1)/4，则冒泡排序的平均时间复杂度为O(n2)"
   ]
  },
  {
   "cell_type": "markdown",
   "metadata": {},
   "source": [
    "插入排序来源于一个更简单的场景：对于一个已排序序列，如何对其扩列？。插入排序就等价于从零开始扩列。具体的讲就是，把序列分成已排序区域和未排序区域两部分。一开始，已排序区只有一个元素，即序列第一个元素，插入排序的核心思想就是从未排序区取元素，插入到已排序区的正确位置，重复这一过程直到未排序区域长度为零。"
   ]
  },
  {
   "cell_type": "markdown",
   "metadata": {},
   "source": [
    "为了让未排序区取的元素插入到已排序区的正确位置，取的元素需要依次与排序区的已有元素作比较，并且插入后后续元素需要移动。总移动次数是固定的，等于逆序组数"
   ]
  },
  {
   "cell_type": "markdown",
   "metadata": {},
   "source": [
    "在数组中插入一个元素的时间复杂度是O(n)。插入算法排序要插入n次，所以，时间复杂度是O(n2)"
   ]
  },
  {
   "cell_type": "markdown",
   "metadata": {},
   "source": []
  },
  {
   "cell_type": "markdown",
   "metadata": {},
   "source": []
  },
  {
   "cell_type": "markdown",
   "metadata": {},
   "source": []
  },
  {
   "cell_type": "markdown",
   "metadata": {},
   "source": []
  },
  {
   "cell_type": "markdown",
   "metadata": {},
   "source": []
  },
  {
   "cell_type": "markdown",
   "metadata": {},
   "source": []
  },
  {
   "cell_type": "markdown",
   "metadata": {},
   "source": []
  },
  {
   "cell_type": "markdown",
   "metadata": {},
   "source": []
  },
  {
   "cell_type": "markdown",
   "metadata": {},
   "source": []
  },
  {
   "cell_type": "markdown",
   "metadata": {},
   "source": []
  }
 ],
 "metadata": {
  "kernelspec": {
   "display_name": "Python 3",
   "language": "python",
   "name": "python3"
  },
  "language_info": {
   "codemirror_mode": {
    "name": "ipython",
    "version": 3
   },
   "file_extension": ".py",
   "mimetype": "text/x-python",
   "name": "python",
   "nbconvert_exporter": "python",
   "pygments_lexer": "ipython3",
   "version": "3.7.3"
  },
  "toc": {
   "base_numbering": 1,
   "nav_menu": {},
   "number_sections": true,
   "sideBar": true,
   "skip_h1_title": false,
   "title_cell": "Table of Contents",
   "title_sidebar": "Contents",
   "toc_cell": false,
   "toc_position": {},
   "toc_section_display": true,
   "toc_window_display": false
  }
 },
 "nbformat": 4,
 "nbformat_minor": 2
}
