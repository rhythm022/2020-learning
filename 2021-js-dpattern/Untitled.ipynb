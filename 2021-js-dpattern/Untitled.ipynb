{
 "cells": [
  {
   "cell_type": "markdown",
   "metadata": {},
   "source": [
    "在静态类型语言中，要实现“面向接口编程”并不是一件容易的事情，要通过抽象类或接口将对象进行向上转型。当对象的本身类型被隐藏在“这个对象的超类型”身后，这个对象才能在类型检查系统的“监视”之下替换其他类型的对象来使用。只有当不同类型的对象能够被相互替换使用，才能体现对象多态性的价值。"
   ]
  },
  {
   "cell_type": "markdown",
   "metadata": {},
   "source": [
    "静态类型语言的向上转型：当给一个类变量赋值时，这个变量的类型既可以使用这个类本身，也可以使用这个类的超类"
   ]
  },
  {
   "cell_type": "markdown",
   "metadata": {},
   "source": [
    "多态的实际含义：同一调用作用于不同对象，产生不同的执行过程和结果。换句话说，给不同的对象发送同一个消息，有不同的反馈结果。"
   ]
  },
  {
   "cell_type": "markdown",
   "metadata": {},
   "source": [
    "多态的本质是将“做什么”和“谁去做以及怎么去做”分离/将调用和实现分离/将不变和变化分离。"
   ]
  },
  {
   "cell_type": "markdown",
   "metadata": {},
   "source": [
    "让对象表现出多态性是众多dpattern的目的。"
   ]
  },
  {
   "cell_type": "markdown",
   "metadata": {},
   "source": [
    "通过继承，一个类可以拥有一个超类。"
   ]
  },
  {
   "cell_type": "markdown",
   "metadata": {},
   "source": [
    "js中，创建实例的时候会存储该实例的类型，但解释器从不自动检查/利用该值，所以，js中不存在任何程度上的“类型耦合”，只存在“方法耦合”，也就是js中的类型只是所谓的“鸭子类型”。"
   ]
  },
  {
   "cell_type": "markdown",
   "metadata": {},
   "source": [
    "因为js中“同一调用作用于不同对象”可以零代码实现，而在静态语言中“同一调用作用于不同对象”需要先为该对象建立超类才能实现，所以，可以说js中对象的多态性是自带的。"
   ]
  },
  {
   "cell_type": "markdown",
   "metadata": {},
   "source": [
    "多态最根本的利用点是消除分支语句。"
   ]
  },
  {
   "cell_type": "markdown",
   "metadata": {},
   "source": [
    "···命令模式：命令对象是实现者。不同的命令对象相互替代，做不同的事。···\n",
    "···组合模式：叶节点对象是实现者。组合对象只负责转发??，不做事。组合对象和叶节点对象相互替代。···\n",
    "···策略模式：Context没有算法的实现。策略对象是实现者。不同的策略对象相互替代，做不同的事。···"
   ]
  },
  {
   "cell_type": "markdown",
   "metadata": {},
   "source": [
    "封装实现/封装变化。"
   ]
  },
  {
   "cell_type": "markdown",
   "metadata": {},
   "source": [
    "★封装 === 隐藏。封装类型：用抽象类、接口把自身的类型封装隐藏。封装的目的，是替换。"
   ]
  },
  {
   "cell_type": "markdown",
   "metadata": {},
   "source": [
    "···创建性模式是封装创建对象的变化。结构性模式是封装对象之间的组合关系。行为型模式是封装对象的行为变化。···"
   ]
  },
  {
   "cell_type": "markdown",
   "metadata": {},
   "source": [
    "克隆关系/原型关系。new运算符创建对象时，会先克隆Func.prototype"
   ]
  },
  {
   "cell_type": "markdown",
   "metadata": {},
   "source": [
    "js的根对象是Object.prototype对象。Object.prototype的原型是null"
   ]
  },
  {
   "cell_type": "markdown",
   "metadata": {},
   "source": [
    "···用闭包+apply固定this，其实就是bind的原理···：\n",
    "```\n",
    "document.getElementById = (function(fn){\n",
    "    return function(){\n",
    "        return fn.apply(document,arguments)\n",
    "    }\n",
    "})(document.getElementById)\n",
    "```"
   ]
  },
  {
   "cell_type": "markdown",
   "metadata": {},
   "source": [
    "bind不仅能改变方法调用的this指向，还能改变函数调用的指向:\n",
    "```\n",
    "Function.prototype.bind = function(context){\n",
    "    const self_func = this\n",
    "\n",
    "    return function(){\n",
    "        return self_func.apply(context,arguments)\n",
    "    }\n",
    "}\n",
    "\n",
    "const obj = {\n",
    "    name:'jw'\n",
    "}\n",
    "\n",
    "const alertName = function(){\n",
    "console.log(this.name)\n",
    "}.bind(obj)\n",
    "\n",
    "\n",
    "\n",
    "// 以函数方式调用却实际是调用方法\n",
    "alertName()\n",
    "```"
   ]
  },
  {
   "cell_type": "markdown",
   "metadata": {},
   "source": [
    "Array.prototype.push实际上是一个属性复制的过程，把属性值按照属性键依次添加到被push的对象下，所以，任意“属性可存取”的对象都可使用该函数，但不是所有对象都“属性可存取”比如number对象"
   ]
  },
  {
   "cell_type": "markdown",
   "metadata": {},
   "source": [
    "变量声明不有var、const/let，这个变量就会成为全局变量"
   ]
  },
  {
   "cell_type": "markdown",
   "metadata": {},
   "source": [
    "n个函数共用一个闭包:\n",
    "```\n",
    "const nodes = document.getElementsByTagName('div')\n",
    "\n",
    "// n个函数共用一个闭包\n",
    "for (let index = 0; index < nodes.length; index++) {\n",
    "    nodes[index].onclick = function(){\n",
    "        console.log(index)\n",
    "    }\n",
    "    \n",
    "}\n",
    "```"
   ]
  },
  {
   "cell_type": "markdown",
   "metadata": {},
   "source": [
    "闭包拥有和函数一样的生命周期：\n",
    "```\n",
    "// 可以防止还没发出请求，img就被销毁\n",
    "const report = (function(){\n",
    "    let __img\n",
    "\n",
    "    return function(src){\n",
    "        const img = new Image()\n",
    "        img.src = src\n",
    "        __img = img\n",
    "    }\n",
    "})()\n",
    "```"
   ]
  },
  {
   "cell_type": "markdown",
   "metadata": {},
   "source": [
    "在一个函数中返回函数定义。要使用该函数，必须先执行一下定义该函数的函数"
   ]
  },
  {
   "cell_type": "markdown",
   "metadata": {},
   "source": [
    "命令模式不同于其他模式，是让不同的调用者可替换，而不是让实现者可替换。"
   ]
  },
  {
   "cell_type": "markdown",
   "metadata": {},
   "source": []
  },
  {
   "cell_type": "markdown",
   "metadata": {},
   "source": []
  },
  {
   "cell_type": "markdown",
   "metadata": {},
   "source": []
  },
  {
   "cell_type": "markdown",
   "metadata": {},
   "source": []
  },
  {
   "cell_type": "markdown",
   "metadata": {},
   "source": []
  },
  {
   "cell_type": "markdown",
   "metadata": {},
   "source": []
  },
  {
   "cell_type": "markdown",
   "metadata": {},
   "source": []
  },
  {
   "cell_type": "markdown",
   "metadata": {},
   "source": []
  },
  {
   "cell_type": "markdown",
   "metadata": {},
   "source": []
  },
  {
   "cell_type": "markdown",
   "metadata": {},
   "source": []
  },
  {
   "cell_type": "markdown",
   "metadata": {},
   "source": []
  }
 ],
 "metadata": {
  "kernelspec": {
   "display_name": "Python 3",
   "language": "python",
   "name": "python3"
  },
  "language_info": {
   "codemirror_mode": {
    "name": "ipython",
    "version": 3
   },
   "file_extension": ".py",
   "mimetype": "text/x-python",
   "name": "python",
   "nbconvert_exporter": "python",
   "pygments_lexer": "ipython3",
   "version": "3.7.3"
  },
  "toc": {
   "base_numbering": 1,
   "nav_menu": {},
   "number_sections": true,
   "sideBar": true,
   "skip_h1_title": false,
   "title_cell": "Table of Contents",
   "title_sidebar": "Contents",
   "toc_cell": false,
   "toc_position": {},
   "toc_section_display": true,
   "toc_window_display": false
  }
 },
 "nbformat": 4,
 "nbformat_minor": 2
}
