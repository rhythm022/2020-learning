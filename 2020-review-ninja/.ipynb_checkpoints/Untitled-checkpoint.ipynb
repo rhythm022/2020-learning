{
 "cells": [
  {
   "cell_type": "markdown",
   "metadata": {},
   "source": [
    "### 第三章"
   ]
  },
  {
   "cell_type": "markdown",
   "metadata": {},
   "source": [
    "函数拥有对象的所有能力，唯一的特殊之处是函数是可调用的:\n",
    "```\n",
    "const t = function(){}\n",
    "t.config = 'wakawaka' \n",
    "```"
   ]
  },
  {
   "cell_type": "markdown",
   "metadata": {},
   "source": [
    "把函数定义在另一个函数之中/把函数定义在函数使用处附近，都是javascript的特色"
   ]
  },
  {
   "cell_type": "markdown",
   "metadata": {},
   "source": [
    "传入sort/forEach/map/addEventListener的函数都是回调函数。"
   ]
  },
  {
   "cell_type": "markdown",
   "metadata": {},
   "source": [
    "任何类型的缓存都必然会为性能牺牲内存。"
   ]
  },
  {
   "cell_type": "markdown",
   "metadata": {},
   "source": [
    "通过函数构造器以字符串动态构造函数，是唯一的动态定义函数的方式，其他定义函数的方式都是hardcode。new Function('a','b','return a + b')"
   ]
  },
  {
   "cell_type": "markdown",
   "metadata": {},
   "source": [
    "function xxx(){}是字面量、是函数声明。const yyy = function xxx(){}、(function xxx(){})是字面量、是函数表达式。"
   ]
  },
  {
   "cell_type": "markdown",
   "metadata": {},
   "source": [
    "只有函数的最后一个参数才能是剩余参数。"
   ]
  },
  {
   "cell_type": "markdown",
   "metadata": {},
   "source": [
    "考察：\n",
    "为什么说在js中函数是对象？函数这个对象上至少拥有哪些方法？\n",
    "什么是字面量？"
   ]
  },
  {
   "cell_type": "markdown",
   "metadata": {},
   "source": [
    "### 第四章"
   ]
  },
  {
   "cell_type": "markdown",
   "metadata": {},
   "source": [
    "非严格模式下：arguments和实参双向绑定，构成别名关系。严格模式下，除了初始化时arguments和实参一致，之后无任何关系。arguments是类数组的结构。"
   ]
  },
  {
   "cell_type": "markdown",
   "metadata": {},
   "source": [
    "```\n",
    "var puppet = {rules:false}\n",
    "```\n",
    "创建对象并用puppet引用它。"
   ]
  },
  {
   "cell_type": "markdown",
   "metadata": {},
   "source": [
    "this是函数所属对象：\n",
    "+ 最容易判断：call/apply/new调用的函数所属。\n",
    "+ ()调用，哪个对象调用，所属就是哪个对象，非对象调用，所属就是undefined\n",
    "+ 箭头函数的所属只看其定义作用域的所属（即只看其定义所在函数的所属），函数经过bind后所属不再改变"
   ]
  },
  {
   "cell_type": "markdown",
   "metadata": {},
   "source": [
    "call/bind/apply是函数对象上的方法。"
   ]
  },
  {
   "cell_type": "markdown",
   "metadata": {},
   "source": [
    "可以认为，通过`juggle.apply(ninja,[1,2,3,4])`，ninja对象上临时拥有了juggle方法。"
   ]
  },
  {
   "cell_type": "markdown",
   "metadata": {},
   "source": [
    "可以认为，在浏览器环境下，全局是window对象的某一方法的方法体。"
   ]
  },
  {
   "cell_type": "markdown",
   "metadata": {},
   "source": [
    "考察：\n",
    "在js中什么是类数组？\n",
    "严格模式是在哪个版本中加入的特性，举出两个严格模式和非严格模式下的差异？（arguments，this）\n",
    "什么是函数的上下文？函数上下文的语义、作用？函数的上下文是固定的吗？如何改变函数上下文？如何阻止函数上下文被改变？\n",
    "是不是任何函数都可以以new的方式调用？\n",
    "构造函数的作用是什么，构造的是什么？构造一个实例是什么意思？"
   ]
  },
  {
   "cell_type": "markdown",
   "metadata": {},
   "source": [
    "### 第五章"
   ]
  },
  {
   "cell_type": "markdown",
   "metadata": {},
   "source": [
    "声明时，将标识符及其值存入词法环境。\n",
    "每个函数都有本地和外部的词法环境。\n",
    "函数从其本地和外部的词法环境中确定其本地使用的变量的值，即确定执行上下文。\n",
    "从外部词法环境确定本地使用变量的值/执行上下文，这一特性，称为闭包特性。\n",
    "\n",
    "函数的外部词法环境，是函数的状态/闭包。\n",
    "★★★闭包和“函数作为一等公民”有本质上的联系，正是因为函数可以作为对象被任意传递，导致“外部执行环境”存在不确定性，才使用外部词法环境确定本地使用变量的值。"
   ]
  },
  {
   "cell_type": "markdown",
   "metadata": {},
   "source": [
    "语句执行依赖于执行上下文。执行上下文由本地和外部的词法环境决定。\n",
    "全局执行上下文只有一个，在程序开始处建立全局上下文，而在每次函数被调用时生成一个新的函数上下文。\n",
    "执行上下文构成了执行上下文栈，俗称调用栈。"
   ]
  },
  {
   "cell_type": "markdown",
   "metadata": {},
   "source": [
    "有的执行上下文在出栈时会立刻销毁，而有的不会，那些不会的，就是闭包/幸存的词法环境"
   ]
  },
  {
   "cell_type": "markdown",
   "metadata": {},
   "source": [
    "之所以不会，是因为函数通过其内置的[[environment]]属性获得其外部词法环境。"
   ]
  },
  {
   "cell_type": "markdown",
   "metadata": {},
   "source": [
    "函数返回的本质是，将信息向父节点传递，所以返回的信息流一定是向上的，向栈底的"
   ]
  },
  {
   "cell_type": "markdown",
   "metadata": {},
   "source": [
    "var声明是在函数词法环境中注册\\定义变量，即使var声明是在块作用域内。重名的var声明/函数声明，不会报错。"
   ]
  },
  {
   "cell_type": "markdown",
   "metadata": {},
   "source": [
    "标识符\\变量。标识符的值\\变量的值"
   ]
  },
  {
   "cell_type": "markdown",
   "metadata": {},
   "source": [
    "执行一个函数：先确定确定本地词法环境(先把声明进行注册进本地词法环境，以确定本地词法环境)：\n",
    "+ 1、把arguments、形参及其实参注册进词法环境\n",
    "+ 2、把函数声明注册进词法环境，key为标识符，value为函数体\n",
    "+ 3、把子函数外的var声明、子块外的let/const声明注册进函数词法环境。把子块内的let/const声明注册进词法环境，key为标识符，value为undefined"
   ]
  },
  {
   "cell_type": "markdown",
   "metadata": {},
   "source": [
    "执行一个函数，先处理声明。处理声明，先处理函数声明，后处理变量声明。"
   ]
  },
  {
   "cell_type": "markdown",
   "metadata": {},
   "source": [
    "函数声明可以覆盖函数声明。变量声明不可以覆盖函数声明。所以，同名声明中，最后的函数声明优先级最高。"
   ]
  },
  {
   "cell_type": "markdown",
   "metadata": {},
   "source": [
    "在处理声明之后的真正执行阶段，函数声明会被跳过。变量声明做单纯赋值操作。"
   ]
  },
  {
   "cell_type": "markdown",
   "metadata": {},
   "source": [
    "声明是声明，定义是定义。声明只是定义的许多方式的一种方式"
   ]
  },
  {
   "cell_type": "markdown",
   "metadata": {},
   "source": [
    "★★★调用函数，创建新的词法环境，媲美new一个类，创建新的实例。"
   ]
  },
  {
   "cell_type": "markdown",
   "metadata": {},
   "source": [
    "### 第六章"
   ]
  },
  {
   "cell_type": "markdown",
   "metadata": {},
   "source": [
    "生成器构造迭代器，迭代器：具有多次调用，分部输出的特性。通过迭代器，实现和生成器的通讯。比如通过调用迭代器的throw方法让生成器报错。通过next方法让生成器执行至下个yield处"
   ]
  },
  {
   "cell_type": "markdown",
   "metadata": {},
   "source": [
    "可以说，async函数的函数体里充满了回调函数。\n",
    "业务代码和渲染逻辑在同一线程中竞争执行资源，所以过长的同步代码会阻塞浏览器渲染"
   ]
  },
  {
   "cell_type": "markdown",
   "metadata": {},
   "source": [
    "for-of 接受迭代器，代理了对迭代器的next方法的调用和done属性的判断"
   ]
  },
  {
   "cell_type": "markdown",
   "metadata": {},
   "source": [
    "迭代器的next方法返回拥有value/done的对象"
   ]
  },
  {
   "cell_type": "markdown",
   "metadata": {},
   "source": [
    "```\n",
    " function traverseDOM(element, callback) {    callback(element);                            element = element.firstElementChild;    while (element) {                             traverseDOM(element, callback);             element = element.nextElementSibling;     }                                         }  const subTree = document.getElementById(\"subTree\");  traverseDOM(subTree, function(element) {            assert(element !== null, element.nodeName);     });  \n",
    "```\n",
    "\n",
    "```\n",
    "function* DomTraversal(element){  yield element;  element = element.firstElementChild;  while (element) {    yield* DomTraversal(element);                  element = element.nextElementSibling;\n",
    "  } }\n",
    "const subTree = document.getElementById(\"subTree\"); for(let element of DomTraversal(subTree)) {            assert(element !== null, element.nodeName);        }   \n",
    "```\n"
   ]
  },
  {
   "cell_type": "markdown",
   "metadata": {},
   "source": [
    "生成器函数的函数名也以大写字母开头"
   ]
  },
  {
   "cell_type": "markdown",
   "metadata": {},
   "source": [
    "+ 传入生成器函数的参数作为生成器的初始值使用\n",
    "+ 传入迭代器的next方法的参数，作为生成器的分部输入值使用"
   ]
  },
  {
   "cell_type": "markdown",
   "metadata": {},
   "source": [
    "生成器和普通函数最大的区别是：调用普通函数，会创建新的执行上下文。而生成器，只会在调用生成器函数构造迭代器时，创建新的执行上下文，并让迭代器获得它。之后调用迭代器的next方法会把该上下文入栈，所执行的语句都依赖于该执行上下文，不再创建新的执行上下文。"
   ]
  },
  {
   "cell_type": "markdown",
   "metadata": {},
   "source": [
    "异步代码是懂得在执行中与他人合作的代码，而非只管自己执行的代码"
   ]
  },
  {
   "cell_type": "markdown",
   "metadata": {},
   "source": [
    "promise的executor回调函数有语法错误不会使程序崩溃，是因为executor是回调函数"
   ]
  },
  {
   "cell_type": "markdown",
   "metadata": {},
   "source": [
    "Promise.all接受Promise对象列表"
   ]
  },
  {
   "cell_type": "markdown",
   "metadata": {},
   "source": []
  },
  {
   "cell_type": "markdown",
   "metadata": {},
   "source": []
  },
  {
   "cell_type": "markdown",
   "metadata": {},
   "source": []
  }
 ],
 "metadata": {
  "kernelspec": {
   "display_name": "Python 3",
   "language": "python",
   "name": "python3"
  },
  "language_info": {
   "codemirror_mode": {
    "name": "ipython",
    "version": 3
   },
   "file_extension": ".py",
   "mimetype": "text/x-python",
   "name": "python",
   "nbconvert_exporter": "python",
   "pygments_lexer": "ipython3",
   "version": "3.7.3"
  },
  "toc": {
   "base_numbering": 1,
   "nav_menu": {},
   "number_sections": true,
   "sideBar": true,
   "skip_h1_title": false,
   "title_cell": "Table of Contents",
   "title_sidebar": "Contents",
   "toc_cell": false,
   "toc_position": {},
   "toc_section_display": true,
   "toc_window_display": false
  }
 },
 "nbformat": 4,
 "nbformat_minor": 2
}
