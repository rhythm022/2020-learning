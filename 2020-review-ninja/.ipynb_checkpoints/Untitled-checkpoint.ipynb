{
 "cells": [
  {
   "cell_type": "markdown",
   "metadata": {},
   "source": [
    "### 第三章"
   ]
  },
  {
   "cell_type": "markdown",
   "metadata": {},
   "source": [
    "函数拥有对象的所有能力，唯一的特殊之处是函数是可调用的:\n",
    "```\n",
    "const t = function(){}\n",
    "t.config = 'wakawaka' \n",
    "```"
   ]
  },
  {
   "cell_type": "markdown",
   "metadata": {},
   "source": [
    "把函数定义在另一个函数之中/把函数定义在函数使用处附近，都是javascript的特色"
   ]
  },
  {
   "cell_type": "markdown",
   "metadata": {},
   "source": [
    "传入sort/forEach/map/addEventListener的函数都是回调函数。"
   ]
  },
  {
   "cell_type": "markdown",
   "metadata": {},
   "source": [
    "任何类型的缓存都必然会为性能牺牲内存。"
   ]
  },
  {
   "cell_type": "markdown",
   "metadata": {},
   "source": [
    "通过函数构造器以字符串动态构造函数，是唯一的动态定义函数的方式，其他定义函数的方式都是hardcode。new Function('a','b','return a + b')"
   ]
  },
  {
   "cell_type": "markdown",
   "metadata": {},
   "source": [
    "function xxx(){}是字面量、是函数声明。const yyy = function xxx(){}、(function xxx(){})是字面量、是函数表达式。"
   ]
  },
  {
   "cell_type": "markdown",
   "metadata": {},
   "source": [
    "只有函数的最后一个参数才能是剩余参数。"
   ]
  },
  {
   "cell_type": "markdown",
   "metadata": {},
   "source": [
    "考察：\n",
    "为什么说在js中函数是对象？函数这个对象上至少拥有哪些方法？\n",
    "什么是字面量？"
   ]
  },
  {
   "cell_type": "markdown",
   "metadata": {},
   "source": [
    "### 第四章"
   ]
  },
  {
   "cell_type": "markdown",
   "metadata": {},
   "source": [
    "非严格模式下：arguments和实参双向绑定，构成别名关系。严格模式下，除了初始化时arguments和实参一致，之后无任何关系。arguments是类数组的结构。"
   ]
  },
  {
   "cell_type": "markdown",
   "metadata": {},
   "source": [
    "```\n",
    "var puppet = {rules:false}\n",
    "```\n",
    "创建对象并用puppet引用它。"
   ]
  },
  {
   "cell_type": "markdown",
   "metadata": {},
   "source": [
    "this是函数所属对象：\n",
    "+ 最容易判断：call/apply/new调用的函数所属。\n",
    "+ ()调用，哪个对象调用，所属就是哪个对象，非对象调用，所属就是undefined\n",
    "+ 箭头函数的所属只看定义所在函数的所属\n",
    "+ 函数经过bind后所属不再改变"
   ]
  },
  {
   "cell_type": "markdown",
   "metadata": {},
   "source": [
    "call/bind/apply是函数对象上的方法。"
   ]
  },
  {
   "cell_type": "markdown",
   "metadata": {},
   "source": [
    "可以认为，通过`juggle.apply(ninja,[1,2,3,4])`，ninja对象上临时拥有了juggle方法。"
   ]
  },
  {
   "cell_type": "markdown",
   "metadata": {},
   "source": [
    "可以认为，在浏览器环境下，全局是window对象的某一方法的方法体。"
   ]
  },
  {
   "cell_type": "markdown",
   "metadata": {},
   "source": [
    "考察：\n",
    "在js中什么是类数组？\n",
    "严格模式是在哪个版本中加入的特性，举出两个严格模式和非严格模式下的差异？（arguments，this）\n",
    "什么是函数的上下文？函数上下文的语义、作用？函数的上下文是固定的吗？如何改变函数上下文？如何阻止函数上下文被改变？\n",
    "是不是任何函数都可以以new的方式调用？\n",
    "构造函数的作用是什么，构造的是什么？构造一个实例是什么意思？"
   ]
  }
 ],
 "metadata": {
  "kernelspec": {
   "display_name": "Python 3",
   "language": "python",
   "name": "python3"
  },
  "language_info": {
   "codemirror_mode": {
    "name": "ipython",
    "version": 3
   },
   "file_extension": ".py",
   "mimetype": "text/x-python",
   "name": "python",
   "nbconvert_exporter": "python",
   "pygments_lexer": "ipython3",
   "version": "3.7.3"
  },
  "toc": {
   "base_numbering": 1,
   "nav_menu": {},
   "number_sections": true,
   "sideBar": true,
   "skip_h1_title": false,
   "title_cell": "Table of Contents",
   "title_sidebar": "Contents",
   "toc_cell": false,
   "toc_position": {},
   "toc_section_display": true,
   "toc_window_display": false
  }
 },
 "nbformat": 4,
 "nbformat_minor": 2
}
