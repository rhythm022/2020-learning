{
 "cells": [
  {
   "cell_type": "markdown",
   "metadata": {},
   "source": [
    "## 第二章"
   ]
  },
  {
   "cell_type": "markdown",
   "metadata": {},
   "source": [
    "Web的生命周期从用户输入URL或点击一个链接开始，随着用户关闭界面而结束。这个过程中window对象始终存在。"
   ]
  },
  {
   "cell_type": "markdown",
   "metadata": {},
   "source": [
    "生命周期内浏览器只需要：构建界面和处理事件。全局js代码也是HTML元素，所以构建界面包括执行js代码。"
   ]
  },
  {
   "cell_type": "markdown",
   "metadata": {},
   "source": [
    "触发事件后，事件处理函数push进执行队列等待执行，是因为只有一个线程只能排队。"
   ]
  },
  {
   "cell_type": "markdown",
   "metadata": {},
   "source": [
    "事件处理分为：前端事件（load）、后端事件（ajax）、用户事件（click）。构建界面完成后，才能触发click事件。"
   ]
  },
  {
   "cell_type": "markdown",
   "metadata": {},
   "source": [
    "## 第十三章"
   ]
  },
  {
   "cell_type": "markdown",
   "metadata": {},
   "source": [
    "解析HTML（构建DOM执行全局js代码）和执行事件处理函数，是浏览器的任务。执行“一个”任务/事件处理函数、清空微任务队列、重绘界面，是一个事件循环/event-loop。所以，触发事件不在事件循环中，界面渲染在事件循环中，一次迭代要在16ms中完成，所以，留给事件处理函数的时间不多。"
   ]
  },
  {
   "cell_type": "markdown",
   "metadata": {},
   "source": [
    "微任务主要是执行promise回调函数、处理dom变化"
   ]
  },
  {
   "cell_type": "markdown",
   "metadata": {},
   "source": [
    "event-loop规范在html规范中，不再ES规范中"
   ]
  },
  {
   "cell_type": "markdown",
   "metadata": {},
   "source": [
    "可以说，执行事件处理函数，意味着开启一个事件循环，每次事件处理函数都在调用栈的最底部"
   ]
  },
  {
   "cell_type": "markdown",
   "metadata": {},
   "source": [
    "事件处理函数的resolve是把then回调入微任务队列，所以，then回调一定会在本次事件循环中被执行"
   ]
  },
  {
   "cell_type": "markdown",
   "metadata": {},
   "source": [
    "setTimeout/延迟执行"
   ]
  },
  {
   "cell_type": "markdown",
   "metadata": {},
   "source": [
    "若队列中有setInterval回调在排队，浏览器会丢弃相同的setInterval回调"
   ]
  },
  {
   "cell_type": "markdown",
   "metadata": {},
   "source": [
    "事件触发时，所有绑定在dom的事件处理函数都会执行。捕获执行的函数先于冒泡执行的函数。捕获的父节点的函数先于捕获的子节点的函数。冒泡的子节点的函数先于冒泡的父节点的函数。"
   ]
  },
  {
   "cell_type": "markdown",
   "metadata": {},
   "source": [
    "哪个DOM类向事件类注册事件回调，并不重要。一个类向事件类注册回调，是让事件类改变自己的状态。但事件代理就是让document改变其子节点的状态，而不是让节点改变它自己的状态。"
   ]
  },
  {
   "cell_type": "markdown",
   "metadata": {},
   "source": []
  },
  {
   "cell_type": "markdown",
   "metadata": {},
   "source": [
    "### 第三章"
   ]
  },
  {
   "cell_type": "markdown",
   "metadata": {},
   "source": [
    "函数拥有对象的所有能力，唯一的特殊之处是函数是可调用的:\n",
    "```\n",
    "const t = function(){}\n",
    "t.config = 'wakawaka' \n",
    "```"
   ]
  },
  {
   "cell_type": "markdown",
   "metadata": {},
   "source": [
    "把函数定义在另一个函数之中/把函数定义在函数使用处附近，都是javascript的特色"
   ]
  },
  {
   "cell_type": "markdown",
   "metadata": {},
   "source": [
    "传入sort/forEach/map/addEventListener的函数都是回调函数。"
   ]
  },
  {
   "cell_type": "markdown",
   "metadata": {},
   "source": [
    "任何类型的缓存都必然会为性能牺牲内存。"
   ]
  },
  {
   "cell_type": "markdown",
   "metadata": {},
   "source": [
    "通过函数构造器以字符串动态构造函数，是唯一的动态定义函数的方式，其他定义函数的方式都是hardcode。new Function('a','b','return a + b')"
   ]
  },
  {
   "cell_type": "markdown",
   "metadata": {},
   "source": [
    "function xxx(){}是字面量、是函数声明。const yyy = function xxx(){}、(function xxx(){})是字面量、是函数表达式。"
   ]
  },
  {
   "cell_type": "markdown",
   "metadata": {},
   "source": [
    "只有函数的最后一个参数才能是剩余参数。"
   ]
  },
  {
   "cell_type": "markdown",
   "metadata": {},
   "source": [
    "考察：\n",
    "为什么说在js中函数是对象？函数这个对象上至少拥有哪些方法？\n",
    "什么是字面量？"
   ]
  },
  {
   "cell_type": "markdown",
   "metadata": {},
   "source": [
    "### 第四章"
   ]
  },
  {
   "cell_type": "markdown",
   "metadata": {},
   "source": [
    "非严格模式下：arguments和实参双向绑定，构成别名关系。严格模式下，除了初始化时arguments和实参一致，之后无任何关系。arguments是类数组的结构。"
   ]
  },
  {
   "cell_type": "markdown",
   "metadata": {},
   "source": [
    "```\n",
    "var puppet = {rules:false}\n",
    "```\n",
    "创建对象使用puppet将它注册进词法环境。"
   ]
  },
  {
   "cell_type": "markdown",
   "metadata": {},
   "source": [
    "this是函数所属对象：\n",
    "+ 最容易判断：call/apply/new调用的函数所属。\n",
    "+ ()调用，哪个对象调用，所属就是哪个对象，非对象调用，所属就是undefined\n",
    "+ 箭头函数的所属只看其定义作用域的所属（即只看其定义所在函数的所属），函数经过bind后所属不再改变"
   ]
  },
  {
   "cell_type": "markdown",
   "metadata": {},
   "source": [
    "call/bind/apply是函数对象上的方法。"
   ]
  },
  {
   "cell_type": "markdown",
   "metadata": {},
   "source": [
    "可以认为，通过`juggle.apply(ninja,[1,2,3,4])`，ninja对象上临时拥有了juggle方法。"
   ]
  },
  {
   "cell_type": "markdown",
   "metadata": {},
   "source": [
    "可以认为，在浏览器环境下，全局是window对象的某一方法的方法体。"
   ]
  },
  {
   "cell_type": "markdown",
   "metadata": {},
   "source": [
    "考察：\n",
    "在js中什么是类数组？\n",
    "严格模式是在哪个版本中加入的特性，举出两个严格模式和非严格模式下的差异？（arguments，this）\n",
    "什么是函数的上下文？函数上下文的语义、作用？函数的上下文是固定的吗？如何改变函数上下文？如何阻止函数上下文被改变？\n",
    "是不是任何函数都可以以new的方式调用？\n",
    "构造函数的作用是什么，构造的是什么？构造一个实例是什么意思？"
   ]
  },
  {
   "cell_type": "markdown",
   "metadata": {},
   "source": [
    "### 第五章"
   ]
  },
  {
   "cell_type": "markdown",
   "metadata": {},
   "source": [
    "标识符\\变量名。"
   ]
  },
  {
   "cell_type": "markdown",
   "metadata": {},
   "source": [
    "★★★ 词法环境\\声明。getset前要create，create即声明。"
   ]
  },
  {
   "cell_type": "markdown",
   "metadata": {},
   "source": [
    "★★★ new实例时有初始化的过程，执行函数也有初始化的过程，即收集声明、创建词法环境的过程。"
   ]
  },
  {
   "cell_type": "markdown",
   "metadata": {},
   "source": [
    "收集声明、创建词法环境的过程：\n",
    "+ 1、收集入参（arguments、参数）\n",
    "+ 2、先收集函数声明，key为标识符，value为函数体\n",
    "+ 3、后收集var声明、子block外的let/const声明进函数本地词法环境，key为标识符，value为undefined。\n",
    "\n",
    "收集完声明后的执行阶段，函数声明会被跳过。变量声明做单纯赋值操作。var声明属于函数词法环境，即使var声明是在block内。重名的var声明或函数声明，会被覆盖。"
   ]
  },
  {
   "cell_type": "markdown",
   "metadata": {},
   "source": [
    "声明的标识符及其值会存入词法环境。\n",
    "执行依赖于上下文。上下文 === 本地和外部词法环境。外部的词法环境 === 闭包\n",
    "\n",
    "★★★ 闭包和“函数作为一等公民”有本质上的联系，正是因为函数可以作为对象被任意传递，导致“外部执行环境”存在不确定性，才使用确定的外部词法环境确定本地使用变量的值。"
   ]
  },
  {
   "cell_type": "markdown",
   "metadata": {},
   "source": [
    "全局声明\\词法环境\\上下文只有一个。而在每次函数被调用都会追加一个新的声明\\词法环境\\上下文。"
   ]
  },
  {
   "cell_type": "markdown",
   "metadata": {},
   "source": [
    "函数通过它的[[environment]]属性获得其外部词法环境。"
   ]
  },
  {
   "cell_type": "markdown",
   "metadata": {},
   "source": [
    "函数返回的本质是，将信息向父节点传递，所以返回的信息流一定是向上的，向栈底的"
   ]
  },
  {
   "cell_type": "markdown",
   "metadata": {},
   "source": [
    "### 第六章"
   ]
  },
  {
   "cell_type": "markdown",
   "metadata": {},
   "source": [
    "生成器函数的函数名要以大写字母开头"
   ]
  },
  {
   "cell_type": "markdown",
   "metadata": {},
   "source": [
    "生成器和迭代器最大的特点是分部输出"
   ]
  },
  {
   "cell_type": "markdown",
   "metadata": {},
   "source": [
    "生成器函数构造出用以控制生成器的迭代器。比如通过调用迭代器的next()执行生成器、通过迭代器的throw()让生成器报错。"
   ]
  },
  {
   "cell_type": "markdown",
   "metadata": {},
   "source": [
    "可以说，异步函数的函数体执行的都是回调函数，通过回调函数在执行中与其他代码合作。\n",
    "业务和渲染逻辑在同一线程中竞争执行资源，所以过长的同步业务会阻塞渲染"
   ]
  },
  {
   "cell_type": "markdown",
   "metadata": {},
   "source": [
    "for-of 接收迭代器，负责对接迭代器的next方法、done属性"
   ]
  },
  {
   "cell_type": "markdown",
   "metadata": {},
   "source": [
    "迭代器的next方法返回value、done属性的对象"
   ]
  },
  {
   "cell_type": "markdown",
   "metadata": {},
   "source": [
    "+ 传入生成器函数的参数作为生成器的初始值\n",
    "+ 传入迭代器的next方法的参数，作为生成器的后续值"
   ]
  },
  {
   "cell_type": "markdown",
   "metadata": {},
   "source": [
    "普通函数，每次执行，都有独立的执行上下文。\n",
    "生成器，每次执行，都共用一个执行上下文，该上下文的引用由迭代器保存。"
   ]
  },
  {
   "cell_type": "markdown",
   "metadata": {},
   "source": [
    "promise的executor回调函数有语法错误不会使程序崩溃，是因为executor是回调函数"
   ]
  },
  {
   "cell_type": "markdown",
   "metadata": {},
   "source": [
    "```\n",
    " function traverseDOM(element, callback) {    callback(element);                            element = element.firstElementChild;    while (element) {                             traverseDOM(element, callback);             element = element.nextElementSibling;     }                                         }  const subTree = document.getElementById(\"subTree\");  traverseDOM(subTree, function(element) {            assert(element !== null, element.nodeName);     });  \n",
    "```\n",
    "\n",
    "```\n",
    "function* DomTraversal(element){  yield element;  element = element.firstElementChild;  while (element) {    yield* DomTraversal(element);                  element = element.nextElementSibling;\n",
    "  } }\n",
    "const subTree = document.getElementById(\"subTree\"); for(let element of DomTraversal(subTree)) {            assert(element !== null, element.nodeName);        }   \n",
    "```\n"
   ]
  },
  {
   "cell_type": "markdown",
   "metadata": {},
   "source": [
    "```\n",
    "function* Example(){\n",
    "  let response1 = yield new Promise(r=>r(1))\n",
    "  response1++\n",
    "  let response2 = yield new Promise(r=>r(response1))\n",
    "  response2++\n",
    "  const response3 = yield new Promise(r=>r(response2))\n",
    "}\n",
    "\n",
    "\n",
    "// 可以认为，'yield'是一个函数，右值为输入（一个Promise对象），左值为输出（promise的结果）。函数负责为输入的promise对象注册\"开启新同步代码块\"的逻辑，即调用promise对象的then。\n",
    "// 'yield'函数执行和该行之前的Example函数执行、executor函数执行、promise生成归为同一个同步代码块\n",
    "// ★★★ Promise对象和promise的结果不再同一个同步代码块\n",
    "// ★★★ ES6生成器的出现使得原来多个executor函数代码块可以写成一个所谓的async函数代码块。\n",
    "function async(gen){\n",
    "  const g = gen()\n",
    "\n",
    "  handle(g.next())//第一个同步代码块执行开始\n",
    "\n",
    "  function handle(yieldPromise){\n",
    "    if(yieldPromise.value && yieldPromise.value instanceof Promise){\n",
    "\n",
    "\n",
    "      yieldPromise.value.then(/*第一个同步代码块执行结束（每个同步代码块都在这里结束）*/response=> {\n",
    "        //第二个同步代码块执行开始\n",
    "        const nextYieldPromise = g.next(response)\n",
    "        handle(nextYieldPromise)\n",
    "      })\n",
    "    }\n",
    "  }\n",
    "\n",
    "}\n",
    "async(Example)\n",
    "```"
   ]
  },
  {
   "cell_type": "markdown",
   "metadata": {},
   "source": [
    "### 第七章"
   ]
  },
  {
   "cell_type": "markdown",
   "metadata": {},
   "source": [
    "每个函数都有的属性是prototype，prototype初始值为:\n",
    "```\n",
    "{\n",
    "    constructor:函数引用\n",
    "}\n",
    "```"
   ]
  },
  {
   "cell_type": "markdown",
   "metadata": {},
   "source": [
    "原型是对象与对象的关系描述。"
   ]
  },
  {
   "cell_type": "markdown",
   "metadata": {},
   "source": [
    "如果是由构造函数构造的实例，该实例a天生地与函数A的prototype对象构成原型关系，相当于Object.setPrototypeOf(this,F.prototype)。如果是字面量实例，原型关系需要由setPrototypeOf显式设置。"
   ]
  },
  {
   "cell_type": "markdown",
   "metadata": {},
   "source": [
    "两次执行setPrototypeOf就可以构成原型链，原型链式是至少三个对象的关系描述。"
   ]
  },
  {
   "cell_type": "markdown",
   "metadata": {},
   "source": [
    "运行时的代码复用本质是让同一逻辑指向同一内存地址。"
   ]
  },
  {
   "cell_type": "markdown",
   "metadata": {},
   "source": [
    "js中，类的本质是函数。其他语言中的类的方法，就是js中的函数的方法。实例方法，就是函数的prototype的方法。"
   ]
  },
  {
   "cell_type": "markdown",
   "metadata": {},
   "source": [
    "对象的原型关系，不是用来直接访问的。"
   ]
  },
  {
   "cell_type": "markdown",
   "metadata": {},
   "source": [
    "A继承B，B继承C：\n",
    "+ 实例a对象和函数A的prototype对象构成原型关系\n",
    "+ 函数A的prototype对象和函数B的prototype对象构成原型关系（通过Object.setPrototypeOf）\n",
    "+ 函数B的prototype对象和函数C的prototype对象构成原型关系（通过Object.setPrototypeOf）"
   ]
  },
  {
   "cell_type": "markdown",
   "metadata": {},
   "source": [
    "继承包括：静态属性方法、实例属性、prototype方法的继承。"
   ]
  },
  {
   "cell_type": "markdown",
   "metadata": {},
   "source": [
    "a instanceof B === 实例a对象和函数B的prototype对象构成原型关系"
   ]
  },
  {
   "cell_type": "markdown",
   "metadata": {},
   "source": [
    "原型方法/对象方法"
   ]
  },
  {
   "cell_type": "markdown",
   "metadata": {},
   "source": []
  },
  {
   "cell_type": "markdown",
   "metadata": {},
   "source": []
  },
  {
   "cell_type": "markdown",
   "metadata": {},
   "source": []
  },
  {
   "cell_type": "markdown",
   "metadata": {},
   "source": []
  },
  {
   "cell_type": "markdown",
   "metadata": {},
   "source": []
  }
 ],
 "metadata": {
  "kernelspec": {
   "display_name": "Python 3",
   "language": "python",
   "name": "python3"
  },
  "language_info": {
   "codemirror_mode": {
    "name": "ipython",
    "version": 3
   },
   "file_extension": ".py",
   "mimetype": "text/x-python",
   "name": "python",
   "nbconvert_exporter": "python",
   "pygments_lexer": "ipython3",
   "version": "3.7.3"
  },
  "toc": {
   "base_numbering": 1,
   "nav_menu": {},
   "number_sections": true,
   "sideBar": true,
   "skip_h1_title": false,
   "title_cell": "Table of Contents",
   "title_sidebar": "Contents",
   "toc_cell": false,
   "toc_position": {},
   "toc_section_display": true,
   "toc_window_display": false
  }
 },
 "nbformat": 4,
 "nbformat_minor": 2
}
