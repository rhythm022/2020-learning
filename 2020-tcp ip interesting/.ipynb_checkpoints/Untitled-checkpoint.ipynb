{
 "cells": [
  {
   "cell_type": "raw",
   "metadata": {},
   "source": []
  },
  {
   "cell_type": "markdown",
   "metadata": {},
   "source": [
    "# 第2讲 | 网络分层的真实含义是什么？"
   ]
  },
  {
   "cell_type": "markdown",
   "metadata": {},
   "source": [
    "传输是软件执行的结果。由电脑上、交换机上、路由器上、服务器上专门处理网络包的软件执行。从某个网口进来的网络包在程序处理后从另一个网口出去。"
   ]
  },
  {
   "cell_type": "markdown",
   "metadata": {},
   "source": [
    "用户上网，服务器发过来的网络包从网口进来，\n",
    "调用process_layer2(buffer)取出二层头判断mac地址是不是自己的，是自己的就返回给三层process_layer3(buffer)处理，\n",
    "三层也是一样，取出三层头判断ip地址是不是自己的，是自己的就返回给process_tcp(buffer)或process_udp(buffer)处理。\n",
    "二三层判断下来不是自己的网络包就丢弃。\n",
    "process_tcp(buffer)取出四层头判断这是一个发起还是一个应答，还是一个正常的数据包，如果是正常的数据包就根据四层头里的端口，把buffer放到相应端口，任务就结束了，相关程序会自己去取buffer"
   ]
  },
  {
   "cell_type": "markdown",
   "metadata": {},
   "source": [
    "用户上网要把请求发给服务器，首先调用send_tcp(buffer)产生一个四层头包含有浏览器所在的端口、发往服务器的端口，后者一般为80。\n",
    "再调用send_layer3(buffer)产生三层头包含有本机的ip、发往服务器的ip。\n",
    "再调用send_layer2(buffer)产生二层头包含有本机的mac、发往服务器的mac。如果不知道服务器的mac就插入一段处理先获取服务器的mac。\n",
    "然后从网口发出去，任务就结束了。"
   ]
  },
  {
   "cell_type": "markdown",
   "metadata": {},
   "source": [
    "二层设备三层设备是专职转发/丢弃的设备，不需要四层。二层设备根据mac信息做转发/丢弃，三层设备根据mac和ip信息做转发/丢弃。"
   ]
  },
  {
   "cell_type": "markdown",
   "metadata": {},
   "source": [
    "# 第3讲 | ifconfig：最熟悉又陌生的命令行"
   ]
  },
  {
   "cell_type": "markdown",
   "metadata": {},
   "source": [
    "```\n",
    "\n",
    "\n",
    "root@test:~# ip addr\n",
    "1: lo: <LOOPBACK,UP,LOWER_UP> mtu 65536 qdisc noqueue state UNKNOWN group default \n",
    "    link/loopback 00:00:00:00:00:00 brd 00:00:00:00:00:00\n",
    "    inet 127.0.0.1/8 scope host lo\n",
    "       valid_lft forever preferred_lft forever\n",
    "    inet6 ::1/128 scope host \n",
    "       valid_lft forever preferred_lft forever\n",
    "2: eth0: <BROADCAST,MULTICAST,UP,LOWER_UP> mtu 1500 qdisc pfifo_fast state UP group default qlen 1000\n",
    "    link/ether fa:16:3e:c7:79:75 brd ff:ff:ff:ff:ff:ff\n",
    "    inet 10.100.122.2/24 brd 10.100.122.255 scope global eth0\n",
    "       valid_lft forever preferred_lft forever\n",
    "    inet6 fe80::f816:3eff:fec7:7975/64 scope link \n",
    "       valid_lft forever preferred_lft forever\n",
    "       \n",
    "       \n",
    "```\n",
    "对于eth0这张网卡scope global，说明这张网卡是对外可以接收来自各个地方的包的。对于lo网卡scope host，说明这张网卡仅供本机相互通信。\n",
    "在ip地址的上一行是mac地址\n",
    "<BROADCAST,MULTICAST,UP,LOWER_UP>是net_device flags即网络设备的状态标识：\n",
    "UP表示网卡处于启动状态；BROADCAST表示网卡有广播地址，可以发送广播包；MULTICAST表示网卡可以发送多播包；LOWER_UP表示L1网线插着。MTU1500指一个网络包最大传输单元为1500，1500是以太网默认值。MTU是二层的概念，二层头加正文不允许超过1500bytes，正文里有ip头、tcp头、http消息。如果超过1500则分片来传输\n",
    "\n",
    "对于qdisc pfifo_fast，qdisc 全称是 queueing discipline，中文叫排队规则。如果需要通过网口发送数据包，则需要为该网口配置的qdisc（排队规则）把数据包加入队列。最简单的qdisc 是 pfifo，它不对进入的数据包做任何的处理，数据包采用先入先出的方式通过队列。pfifo_fast 稍微复杂一些，它的队列包括三个波段（band）。在每个波段里面，使用先进先出规则。三个波段（band）的优先级也不相同。band 0 的优先级最高，band 2 的最低。如果 band 0 里面有数据包，系统就不会处理 band 1 里面的数据包，band 1 和 band 2 之间也是一样。数据包是按照服务类型（Type of Service，TOS）被分配到三个波段（band）里面的。TOS 是 IP 头里面的一个字段\n",
    "\n",
    "ip addr的命令会打印出所有网卡信息，大部分网卡都会有一个ip，当然这不是必须\n",
    "ipv4到ipv6光长度就从半个字跃升到2个字长"
   ]
  },
  {
   "cell_type": "markdown",
   "metadata": {},
   "source": [
    "形如10.100.122.2/24的ip地址称为无类型域间选路（CIDR），表示1到24位为网络号，25到32位主机号。\n",
    "最大的主机号就是广播地址，比如/24类型的ip地址192.168.0.x，在192.168.0这个网络号中，192.168.0.255就是广播地址，192.168.0.1是192.168.0这个网络号的出口地址，家用WiFi路由器的地址说的就是出口地址\n",
    "/24和/16的CIDR是最常见的\n",
    "一个网络号也就是一个子网"
   ]
  },
  {
   "cell_type": "markdown",
   "metadata": {},
   "source": [
    "为什么送一个网络包知道mac地址还不够还需要ip地址？这是职能分工的问题。\n",
    "ip地址被赋予了定位功能，\n",
    "mac则侧重于唯一标识一台主机，被赋予了身份证功能，以及小范围的定位功能：在一个子网内主机相互串门通信只需要mac地址。"
   ]
  },
  {
   "cell_type": "markdown",
   "metadata": {},
   "source": []
  },
  {
   "cell_type": "markdown",
   "metadata": {},
   "source": []
  },
  {
   "cell_type": "markdown",
   "metadata": {},
   "source": []
  },
  {
   "cell_type": "markdown",
   "metadata": {},
   "source": []
  },
  {
   "cell_type": "markdown",
   "metadata": {},
   "source": []
  },
  {
   "cell_type": "markdown",
   "metadata": {},
   "source": []
  },
  {
   "cell_type": "markdown",
   "metadata": {},
   "source": []
  },
  {
   "cell_type": "markdown",
   "metadata": {},
   "source": []
  },
  {
   "cell_type": "markdown",
   "metadata": {},
   "source": []
  },
  {
   "cell_type": "markdown",
   "metadata": {},
   "source": []
  },
  {
   "cell_type": "markdown",
   "metadata": {},
   "source": [
    "# 第4讲 | DHCP与PXE：IP是怎么来的，又是怎么没的？"
   ]
  },
  {
   "cell_type": "markdown",
   "metadata": {},
   "source": [
    "更改ip对网卡：\n",
    "\n",
    "```\n",
    "$ sudo ifconfig eth1 10.0.0.1/24 // 使用 net-tools：\n",
    "\n",
    "$ sudo ifconfig eth1 up\n",
    "\n",
    "\n",
    "$ sudo ip addr add 10.0.0.1/24 dev eth1 // 使用 iproute2\n",
    "$ sudo ip link set up eth1\n",
    "\n",
    "```"
   ]
  },
  {
   "cell_type": "markdown",
   "metadata": {},
   "source": [
    "Q：假设隔壁就有一台电脑ip配了192.168.1.6，而且你们连在了同一台交换机上，这时候你电脑的ip设置成16.158.16.16，发包会发生什么？\n",
    "A：首先一个源ip：16.158.16.16目标ip：192.168.1.6的包需要确定目标mac。而只有大家都在一个子网/网段，计算机才会尝试通过ARP确定目标mac。"
   ]
  },
  {
   "cell_type": "markdown",
   "metadata": {},
   "source": [
    "+ 发给不是同一网段/子网电脑的包，计算机的逻辑是，发给网关。\n",
    "+ 网关也是需要手工配置的。\n",
    "+ 怎么算发给网关呢？就是把网关mac填进包的目标mac，发出去就好了，这个包总会流转到网关的。"
   ]
  },
  {
   "cell_type": "markdown",
   "metadata": {},
   "source": [
    "当一台新电脑要加入某个子网网段，DHCP的工作方式：\n",
    "+ 源ip:0.0.0.0源mac:我实际mac，目标ip:255.255.255.255目标mac:ff:ff:ff:ff:ff:ff发包。\n",
    "+ 网络中有一个DHCP Server 角色，会响应处理，处理后返回包，包源ip:0.0.0.0源mac:Server实际mac，目标ip:255.255.255.255目标mac:ff:ff:ff:ff:ff:ff，这个包里包含了子网掩码，网关，ip地址租用期等消息。\n",
    "+ 新电脑收到DHCP返回的包后要回应，源ip:0.0.0.0源mac:我实际mac，目标ip:255.255.255.255目标mac:ff:ff:ff:ff:ff:ff发包，其中包含准备接受哪个ip地址作为自己的ip地址。\n",
    "+ DHCP Server收到回应要再次回应，源ip:Server实际ip源mac:Server实际mac，目标ip:255.255.255.255目标mac:ff:ff:ff:ff:ff:ff发包。\n",
    "整个过程：我要ip地址，给你这个ip地址，好的这个ip地址可以，好的。因为都是广播包，整个过程网络中的所有电脑都看得到"
   ]
  },
  {
   "cell_type": "markdown",
   "metadata": {},
   "source": []
  },
  {
   "cell_type": "markdown",
   "metadata": {},
   "source": [
    "# 第5讲 | 从物理层到MAC层：如何在宿舍里自己组网玩联机游戏？"
   ]
  },
  {
   "cell_type": "markdown",
   "metadata": {},
   "source": [
    "Q:两台电脑在没有Hub交换机路由器的情况下怎么相连？\n",
    "A:\n",
    "+ 物理层面：买一根线，1－3、2－6 交叉接法，将两台电脑的网卡接起来\n",
    "+ 软件层面：两台电脑网卡ip地址要配在一个子网网段/局域网/LAN/以太网里，如一个是 192.168.0.1/24，另一个是 192.168.0.2/24"
   ]
  },
  {
   "cell_type": "markdown",
   "metadata": {},
   "source": [
    "Hub是网线的升级版，没有大脑，无脑广播"
   ]
  },
  {
   "cell_type": "markdown",
   "metadata": {},
   "source": [
    "七层协议，协议所在层数越高，协议内容在包的位置越里面。"
   ]
  },
  {
   "cell_type": "markdown",
   "metadata": {},
   "source": [
    "+ 在以太网/二层中，为了解决多个包同时出行的问题，并不时兴信道划分、单双号限行的方式，而是实现先出门的错峰出行方式，称之为随机接入协议。\n",
    "+ 二层也有自己的纠错机制，即CRC循环冗余检测机制，通过异或算法检查包的正确性。"
   ]
  },
  {
   "cell_type": "markdown",
   "metadata": {},
   "source": [
    "通过ARP协议和ip，可以得到mac。相关的缓存叫ARP缓存。因为电脑上线下线后ip和mac的对应关系会变，所以ARP缓存有过期机制。"
   ]
  },
  {
   "cell_type": "markdown",
   "metadata": {},
   "source": [
    "交换机又称绞头单播机，不广播包，利用端口和mac地址关系相对固定的情况，交换机偷看一眼mac头悄悄对正确mac口进行单播。因为端口和mac地址关系相对固定，交换机端口可以代表mac地址，又称mac端口。"
   ]
  },
  {
   "cell_type": "markdown",
   "metadata": {},
   "source": [
    "Q:交换机怎么知道交换机端口的mac、ip？\n",
    "A:让电脑发个包出来就行了，交换机就知道这个口是这台ipmac。相关的缓存叫转发表。因为端口和ipmac的对应关系会变，所以转发表也有过期机制。"
   ]
  },
  {
   "cell_type": "markdown",
   "metadata": {},
   "source": [
    "# 第6讲 | 交换机与VLAN：办公室太复杂，我要回学校"
   ]
  },
  {
   "cell_type": "markdown",
   "metadata": {},
   "source": [
    "当交换机有了转发表，当某端口电脑向另一端口电脑第一次发包，原本要广播的ARP包，现在被交换机直接向某端口单播了。"
   ]
  },
  {
   "cell_type": "markdown",
   "metadata": {},
   "source": [
    "vlan交换机的绞头单播功能更强大，多了新的标志作为单播的依据，使某端口的包只能向指定端口组播。交换机上只有trunk口不被vlan标志限制，任何包都会转播到trunk口，所以trunk口连接的是另一台交换机。"
   ]
  },
  {
   "cell_type": "markdown",
   "metadata": {},
   "source": [
    "# 第7讲 | ICMP与ping：投石问路的侦察兵"
   ]
  },
  {
   "cell_type": "markdown",
   "metadata": {},
   "source": [
    "+ ping是基于ICMP协议的，ICMP报文封装在IP包里，而非TCP包里。\n",
    "+ ping所发出的报文属于ICMP查询报文，电脑发出ping包，如果正常，目标电脑就会返回响应包。在抓包软件中请求包响应包分别用ICMP ECHO REQUEST、ICMP ECHO REPLY标记。\n",
    "+ ping请求包响应包中存储请求的起始时间，用以计算RTT往返时间。\n",
    "+ ping不通不代表网络不通，可能目标电脑禁ping，这时请使用telnet命令。"
   ]
  },
  {
   "cell_type": "markdown",
   "metadata": {},
   "source": [
    "Q:如何封装ip包？\n",
    "A:将所要发送的报文和目标ip传给ip层，ip层会根据本机ip地址，构建出ip包。"
   ]
  },
  {
   "cell_type": "markdown",
   "metadata": {},
   "source": [
    "可以说ip层和mac层之间有一个ARP层，因为构建出ip包后，如果在ARP缓存中找不到ip对应的mac地址，会先进行ARP广播，而非把ip包传给mac层。"
   ]
  },
  {
   "cell_type": "markdown",
   "metadata": {},
   "source": [
    "每经过一个局域网/路由器，ICMP报文头不会变，但mac包头中的mac地址会一直更换。"
   ]
  },
  {
   "cell_type": "markdown",
   "metadata": {},
   "source": [
    "与ping命令主动发ICMP查询包不同，traceroute命令发TTL=x的UDP包，迫使中间经过的第x台路由器返回ICMP差错报文包，ICMP差错报文包中有路由器的ip地址。当然有的路由器也会禁traceroute"
   ]
  },
  {
   "cell_type": "markdown",
   "metadata": {},
   "source": [
    "# 第8讲 | 世界这么大，我想出网关：欧洲十国游与玄奘西行"
   ]
  },
  {
   "cell_type": "markdown",
   "metadata": {},
   "source": [
    "Q:现在在宿舍里已经为两个电脑网卡配上了192.168.0.x网段/子网的内网ip地址，并且用上了交换机/构成了局域网。现在宿管阿姨给了你一个网口和一个ip地址，现在如何连上互联网？\n",
    "A:对两个电脑的网卡配置网关gateway。网关就是上互联网用的。"
   ]
  },
  {
   "cell_type": "markdown",
   "metadata": {},
   "source": [
    "发局域网的包，填上目标ip，通过arp查到目标mac发包就完事儿。\n",
    "发非本局域网的包，填上目标ip，通过arp查网关mac，填上目标mac是网关mac，发包，接下来就看网关了。\n",
    "转发网关：\n",
    "★★★网关根据原包的目标ip和静态路由查询确定发包的目标ip/mac，从对应子网口发包，比如原包目标ip是192.168.4.101，决定发包目标ip是192.168.56.2，就从对应子网口发包。\n",
    "192.168.56.2也是个路由器/网关，网关根据原包的目标ip和静态路由查询确定发包的目标ip/mac，比如原包目标ip是192.168.4.101，决定发包目标ip是192.168.4.101，就从对应子网口发包。\n",
    "转发网关的精髓就是，每个网关发包，都根据同一个目标ip，查询下一跳目标mac替换包的目标mac。\n",
    "转发网关要求，源ip目标ip地址在所连接的所有局域网中唯一、所连接的各局域网ip网段不重复。"
   ]
  },
  {
   "cell_type": "markdown",
   "metadata": {},
   "source": [
    "★★★网关可以是一台路由器也可以是一台电脑，这台电脑至少有两张网卡。它有n个网口/网卡/ip地址/mac地址/网关/局域网，如果n为5，相当于有五个口，分别连着五个局域网，每个口的ip地址都是和局域网的ip地址相同的网段，每个口都是它握住的那个局域网的网关。一个包在路由器里从这个口到那个口的过程中，ip头mac头会变化。不改变 IP 地址的网关，我们称为转发网关；改变 IP 地址的网关，我们称为NAT 网关。\n",
    "★★★mac地址是一个局域网内才有意义的地址，去到另一个局域网mac地址一定改变。"
   ]
  },
  {
   "cell_type": "markdown",
   "metadata": {},
   "source": [
    "可以想象，路由器内部不属于任何子网。每次路由转包，包都从一个子网转到另一个子网。"
   ]
  },
  {
   "cell_type": "markdown",
   "metadata": {},
   "source": []
  },
  {
   "cell_type": "markdown",
   "metadata": {},
   "source": [
    "+ 因为接收方主机上层有NAT路由器，所有发给该主机的包目标ip都变成了NAT路由器的某口ip，发送方只需要把包发送给NAT路由器的某口就完成任务。当然发送方发包的时候并不关心接收方是主机还是NAT路由器。\n",
    "+ 如果发送方主机上层也有NAT路由器，那么该主机发的所有的包源ip都变成了NAT路由器的某口ip，所以，接受方主机只知道源ip是某口ip。"
   ]
  },
  {
   "cell_type": "markdown",
   "metadata": {},
   "source": [
    "# 第11讲 | TCP协议（上）：因性恶而复杂，先恶后善反轻松"
   ]
  },
  {
   "cell_type": "markdown",
   "metadata": {},
   "source": [
    "拥塞丢包重传是tcp层的基本逻辑。重传是tcp保证其承诺的可靠性的方式。"
   ]
  },
  {
   "cell_type": "markdown",
   "metadata": {},
   "source": [
    "SYN是发起一个连接，ACK是回复，RST是重新连接，FIN是结束连接。tcp层通过包的状态位改变对端状态，但状态位并不表明自身状态。"
   ]
  },
  {
   "cell_type": "markdown",
   "metadata": {},
   "source": [
    "tcp层通过不断告知对端其接收窗口大小，来控制流量/节奏、控制拥塞。？？控制拥塞是对方有窗口也不发送？？"
   ]
  },
  {
   "cell_type": "markdown",
   "metadata": {},
   "source": [
    "Q: A发包没响应返回，有几种可能？\n",
    "A: 包在去B的路上没了、B不回包、包在回A的路上没了。这三个过程中，A都会重发/重传/重试，重试某时长后放弃。\n",
    "Q: 为什么要发-收发-收三包握手/三次握手？\n",
    "A: 因为要初始化状态，因为双方都要至少保证一次自己发包对方回包的通路是没问题的。发-收两包握手/两次握手肯定不行，对于收的一方B，如果A上次连接的SYN包绕了一圈B收到了,不应该让这种情况成立连接。其实A发-B收发-收三包握手的过程中，A发的SYN包、B收发的ACKSYN包都可能会发送多次，但只要自己的包对方有一个应答，自己就认为连接握手成功了。★★★三次握手其实是双方独立完成了建立连接，A发出的SYN包有响应，A就认为完成连接建立。"
   ]
  },
  {
   "cell_type": "markdown",
   "metadata": {},
   "source": [
    "人是活的，程序也是活的。A建立了连接，B还没有收到ACK完成连接的建立，这时A发数据包，B收到了，B也会让这种情况完成连接的建立。"
   ]
  },
  {
   "cell_type": "markdown",
   "metadata": {},
   "source": [
    "开启 keepalive 机制的连接，即使没有真实的数据包，也有探活包。\n",
    "连接成立后，是可以不发包的。对于没有包来往的连接，参与双方是否要关闭这一连接，是可以自行决定的。"
   ]
  },
  {
   "cell_type": "markdown",
   "metadata": {},
   "source": [
    "客户端发送SYN包后到收到ACK前的状态是SYN_SENT状态。\n",
    "服务器发送SYN包后到收到ACK前的状态是SYN_RCVD状态。\n",
    "客户端、服务器收到ACK后都是ESTABLISHED状态。"
   ]
  },
  {
   "cell_type": "markdown",
   "metadata": {},
   "source": [
    "初始化最重要初始化的是包的序号，包的序号四小时循环一次，包的序号seq在建立连接时SYN包中第一次告知对方，SYN包对应的ACK包中ack字段为seq值加一。"
   ]
  },
  {
   "cell_type": "markdown",
   "metadata": {},
   "source": [
    "断开连接时/挥手时，各挥各的，比如A发包B回包后，连接就半关闭了。半关闭状态的意思是，A关闭发送通路但不关闭接收通路，B可以不再接收但可以发送，A：FIN_WAIT_2状态，B：CLOSE_WAIT状态。\n",
    "+ 当B挥手发包A回包后，整个连接关闭。"
   ]
  },
  {
   "cell_type": "markdown",
   "metadata": {},
   "source": [
    "Q: 如果连接半关闭后A跑路，B发送的数据包，挥手包都不会有回包，B怎么处理？\n"
   ]
  },
  {
   "cell_type": "markdown",
   "metadata": {},
   "source": [
    "Q: 如果连接半关闭后B跑路，等待B挥手的A怎么处理？\n",
    "A：linux的实现是等待tcp_fin_timeout个超时时间后关闭连接。"
   ]
  },
  {
   "cell_type": "markdown",
   "metadata": {},
   "source": [
    "\n",
    "当A挥手要求半关闭连接，没有收到B的回包，A会再多次挥手，这是FIN_WAIT_1的状态"
   ]
  },
  {
   "cell_type": "markdown",
   "metadata": {},
   "source": [
    "连接已经半关闭，B挥手要求关闭连接，没有收到A的回包，但A回了，在丢包的情况下给B多一次挥手的机会，A增加了TIME_WAIT状态，等待2MSL，实际中一般2MSL为30秒到2min。若2MSL后B没收到回包，整个连接会以B挥手A回RST包的方式关闭。"
   ]
  },
  {
   "cell_type": "markdown",
   "metadata": {},
   "source": [
    "# 第12讲 | TCP协议（下）：西行必定多妖孽，恒心智慧消磨难"
   ]
  },
  {
   "cell_type": "markdown",
   "metadata": {},
   "source": [
    "+ TCP的可靠性靠的是重传，重传靠的是应答机制，即每个发包都有回复，长时间发包没有回复，就重传/重新发包。\n",
    "+ 每个包都有回复，但不是每个包都有回包，我们可以隔一段时间统一回复收到第几个包了，这成为累计应答。\n"
   ]
  },
  {
   "cell_type": "markdown",
   "metadata": {},
   "source": [
    "+ A端的发送队列，数据按下列顺序排布：发包有回包的数据、发包没回包的数据、待发送的数据、暂不发送的数据。\n",
    "+ B窗口Advertised window等于n的语义是有n个发包没回包就停止发包，这样，B待接收待处理的包不会超过n。"
   ]
  },
  {
   "cell_type": "markdown",
   "metadata": {},
   "source": [
    "发包且回包的最后一个字节为LastByteAcked。发包没回包的最后一个字节为LastByteSent。"
   ]
  },
  {
   "cell_type": "markdown",
   "metadata": {},
   "source": [
    "+ B端的接收队列存放已经回过包的待上层应用读取的数据以及待回包处理的数据。队列从第一位开始被上层应用读取数据，队列第一位数据为LastByteRead，可读取的最后一位数据为NextByteExpected。队列总容量为MaxRcvBuffer。\n",
    "+ 队列中留给待接收待处理的数据的容量就是B窗口大小，这些和接收队列总容量、应用程序读取接收队列的勤劳度有关。"
   ]
  },
  {
   "cell_type": "markdown",
   "metadata": {},
   "source": [
    "重发机制包括：\n",
    "每一个发包都有独立计时，规定时间没收到回包，就重发。短时间内多次丢包，规定重传时间翻倍"
   ]
  },
  {
   "cell_type": "markdown",
   "metadata": {},
   "source": [
    "在回包中携带B窗口大小。流量控制 == 窗口rwnd，是防止发送方把接收方缓存塞满。\n",
    "cwnd是防止把网络塞满。"
   ]
  },
  {
   "cell_type": "markdown",
   "metadata": {},
   "source": [
    "来回时延八秒，说明A第一个发出的包，在第八秒时收到回包。在八秒内所有的发包都中转在网络中，量数值上等于带宽(/发包速度)乘以时延。带宽大时延高，网络中中转的包就多。为了允许网络中中转有更多的包，网络设备中有缓存机制。当A的发包速度大于网络设备的中转处理能力，网络设备直接丢包"
   ]
  },
  {
   "cell_type": "markdown",
   "metadata": {},
   "source": [
    "拥塞控制机制：\n",
    "+ 慢启动、指数级增大带宽、线性增大带宽，直到出现有发包一定时间没有回包，即丢包。\n",
    "+ 当发包一定时间没有回包/丢包，降低发包速度。快速重传算法是：带宽减半再线性增长"
   ]
  },
  {
   "cell_type": "markdown",
   "metadata": {},
   "source": [
    "现在实际运行的是更高级的TCP BBR 拥塞算法"
   ]
  },
  {
   "cell_type": "markdown",
   "metadata": {},
   "source": [
    "# 第10讲 | UDP协议：因性善而简单，难免碰到“城会玩”"
   ]
  },
  {
   "cell_type": "markdown",
   "metadata": {},
   "source": [
    "应用发包不能跳过TCPUDP层。UDP优势是速度。UDP包头只有端口号字段，等同于在发ip包。\n",
    "Q:如何选择UDP还是TCP？\n",
    "A：需要广播，UDP。\n",
    "允许丢包，UDP。\n",
    "允许乱序，UDP。\n",
    "不允许丢包又速度要快，自定义UDP。"
   ]
  },
  {
   "cell_type": "markdown",
   "metadata": {},
   "source": []
  },
  {
   "cell_type": "markdown",
   "metadata": {},
   "source": []
  },
  {
   "cell_type": "markdown",
   "metadata": {},
   "source": []
  }
 ],
 "metadata": {
  "kernelspec": {
   "display_name": "Python 3",
   "language": "python",
   "name": "python3"
  },
  "language_info": {
   "codemirror_mode": {
    "name": "ipython",
    "version": 3
   },
   "file_extension": ".py",
   "mimetype": "text/x-python",
   "name": "python",
   "nbconvert_exporter": "python",
   "pygments_lexer": "ipython3",
   "version": "3.7.3"
  },
  "toc": {
   "base_numbering": 1,
   "nav_menu": {},
   "number_sections": true,
   "sideBar": true,
   "skip_h1_title": false,
   "title_cell": "Table of Contents",
   "title_sidebar": "Contents",
   "toc_cell": false,
   "toc_position": {},
   "toc_section_display": true,
   "toc_window_display": false
  }
 },
 "nbformat": 4,
 "nbformat_minor": 2
}
