{
 "cells": [
  {
   "cell_type": "markdown",
   "metadata": {},
   "source": [
    "## 界面类型"
   ]
  },
  {
   "cell_type": "markdown",
   "metadata": {},
   "source": [
    "### 闪屏页\n",
    "+ 品牌宣传\n",
    "+ 节假：端午/中秋（人文关怀、情感交流）\n",
    "+ 活动：促销活动\n",
    "### 引导页/浮层引导页\n",
    "+ 介绍功能（可以通过情感代入、搞笑的手段）\n",
    "### 空白页\n",
    "+ 初始（提示+操作）\n",
    "+ 错误（提示+操作）\n",
    "### 首页\n",
    "+ 图标：图标+标题\n",
    "+ 卡片：图标+标题+描述\n",
    "+ 列表：图标+标题+描述+加长\n",
    "+ 综合\n",
    "### 个人中心页\n",
    "+ 自己\n",
    "+ 他人：操作有：关注/私信，信息有：关注他的人/他关注的人/他的文章\n",
    "### 列表页\n",
    "+ 图标\n",
    "+ 列表\n",
    "+ 卡片\n",
    "###  详情页\n",
    "+ 综合"
   ]
  },
  {
   "cell_type": "markdown",
   "metadata": {},
   "source": [
    "## 界面构图"
   ]
  },
  {
   "cell_type": "markdown",
   "metadata": {},
   "source": [
    "+ 格子：操作便捷、功能突显、一目了然\n",
    "+ 圆心：聚焦、运动、灵动、活跃、多变、鲜活。在banner设计中圆形放射性构图可以很好的聚焦。\n",
    "+ 三角：图在上，下面的东西大就是三角构图，比如用户个人信息页，头像在上，关注他的人/他关注的人/他的文章在下。\n",
    "+ S型：页面两侧，用户视线停留的时间最长，应该把重要功能放在两侧。在引导页设计中S型构图可以很好形成动感。\n",
    "+ F型（专用于图文布局）：图为F中的一竖，两部分文字内容为两横。"
   ]
  },
  {
   "cell_type": "markdown",
   "metadata": {},
   "source": [
    "## 界面版率"
   ]
  },
  {
   "cell_type": "markdown",
   "metadata": {},
   "source": [
    "+ 留白典雅，不留白有活力\n",
    "+ 单色背景+线条和规则图形\n",
    "+ 多邻近色背景\n",
    "+ 菱形元素：冲击感/活跃/节奏/生动\n",
    "+ 巨大文字"
   ]
  },
  {
   "cell_type": "markdown",
   "metadata": {},
   "source": [
    "+ 建立边界再突破边界：突破边界的那个东西会成为视线前景/主体。拉开功能层级，突出某一项功能\n",
    "+ 建立边界再突破边界失败：激发用户进一步了解全貌的欲望，微距效果还能拉近与该主体的距离"
   ]
  },
  {
   "cell_type": "markdown",
   "metadata": {},
   "source": [
    "暖色靠前，冷色靠后，所以，可操作的对象可以多安排暖色"
   ]
  },
  {
   "cell_type": "markdown",
   "metadata": {},
   "source": [
    "## 元素之道"
   ]
  },
  {
   "cell_type": "markdown",
   "metadata": {},
   "source": [
    "点：点缀，丰富画面/增加氛围\n",
    "线：透视，串联/引导阅读，一行文字也是线\n",
    "面：主体，圆形/方形/三角\n",
    "点线面也可以拥有统一的结构，如倾斜角度"
   ]
  },
  {
   "cell_type": "markdown",
   "metadata": {},
   "source": [
    "## 色诱用户"
   ]
  },
  {
   "cell_type": "markdown",
   "metadata": {},
   "source": [
    "红：喜庆/危险\n",
    "橙：温馨/喧嚣，提高食欲/动力（美食类消费类App）\n",
    "黄：暧昧\n",
    "绿：清新\n",
    "蓝：沉着/寒冷（工具类阅读类App）\n",
    "黑：孤独（奢侈品App）\n"
   ]
  },
  {
   "cell_type": "markdown",
   "metadata": {},
   "source": [
    "颜色是情感元素/文化方向\n",
    "色不过三：\n",
    "+ 主色：出现在导航栏、banner海报中的背景。应使用饱和度高的颜色作为主色。\n",
    "+ 辅色：平衡主色，常用主色的互补色（红绿/蓝橙/黄紫）、冷暖色。\n",
    "+ 点睛色：比主色明度、饱和度更高，活跃气氛，红色是常用的点睛色"
   ]
  },
  {
   "cell_type": "markdown",
   "metadata": {},
   "source": []
  },
  {
   "cell_type": "markdown",
   "metadata": {},
   "source": []
  },
  {
   "cell_type": "markdown",
   "metadata": {},
   "source": []
  },
  {
   "cell_type": "markdown",
   "metadata": {},
   "source": []
  },
  {
   "cell_type": "markdown",
   "metadata": {},
   "source": []
  },
  {
   "cell_type": "markdown",
   "metadata": {},
   "source": []
  },
  {
   "cell_type": "markdown",
   "metadata": {},
   "source": []
  },
  {
   "cell_type": "markdown",
   "metadata": {},
   "source": []
  },
  {
   "cell_type": "markdown",
   "metadata": {},
   "source": []
  },
  {
   "cell_type": "markdown",
   "metadata": {},
   "source": []
  },
  {
   "cell_type": "markdown",
   "metadata": {},
   "source": []
  },
  {
   "cell_type": "markdown",
   "metadata": {},
   "source": []
  },
  {
   "cell_type": "markdown",
   "metadata": {},
   "source": []
  },
  {
   "cell_type": "markdown",
   "metadata": {},
   "source": []
  },
  {
   "cell_type": "markdown",
   "metadata": {},
   "source": []
  },
  {
   "cell_type": "markdown",
   "metadata": {},
   "source": []
  }
 ],
 "metadata": {
  "kernelspec": {
   "display_name": "Python 3",
   "language": "python",
   "name": "python3"
  },
  "language_info": {
   "codemirror_mode": {
    "name": "ipython",
    "version": 3
   },
   "file_extension": ".py",
   "mimetype": "text/x-python",
   "name": "python",
   "nbconvert_exporter": "python",
   "pygments_lexer": "ipython3",
   "version": "3.7.3"
  },
  "toc": {
   "base_numbering": 1,
   "nav_menu": {},
   "number_sections": true,
   "sideBar": true,
   "skip_h1_title": false,
   "title_cell": "Table of Contents",
   "title_sidebar": "Contents",
   "toc_cell": false,
   "toc_position": {},
   "toc_section_display": true,
   "toc_window_display": false
  }
 },
 "nbformat": 4,
 "nbformat_minor": 2
}
