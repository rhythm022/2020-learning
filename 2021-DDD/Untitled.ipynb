{
 "cells": [
  {
   "cell_type": "markdown",
   "metadata": {},
   "source": [
    "管理复杂度"
   ]
  },
  {
   "cell_type": "markdown",
   "metadata": {},
   "source": [
    "组织代码和想法"
   ]
  },
  {
   "cell_type": "markdown",
   "metadata": {},
   "source": [
    "开发者向领域专家请教程序应该有的behavior"
   ]
  },
  {
   "cell_type": "markdown",
   "metadata": {},
   "source": [
    "DDD使自己可以和其他开发者，领域专家和用户交流"
   ]
  },
  {
   "cell_type": "markdown",
   "metadata": {},
   "source": [
    "吸收领域专家的知识"
   ]
  },
  {
   "cell_type": "markdown",
   "metadata": {},
   "source": [
    "回答这些是我们的目标：业务工作流程如何工作？用户对工作流程了解什么"
   ]
  },
  {
   "cell_type": "markdown",
   "metadata": {},
   "source": [
    "软件要描绘真实人类的想法"
   ]
  },
  {
   "cell_type": "markdown",
   "metadata": {},
   "source": [
    "地牢是兽人王国的一部分，国王要求他的地牢给他赚钱\n",
    "\n",
    "囚犯们开采金子\n",
    "\n",
    "新囚犯的不断到来：从战争中获得的新俘虏，那些付不起税款的人，等等\n",
    "\n",
    "地牢管理员密切关注囚犯和可用牢房的数量，保持采矿劳动力在一个最佳水平\n",
    "\n",
    "如果地牢已经满了，就把一些囚犯转移到空闲的地牢里\n",
    "\n",
    "囚犯可能在路上逃跑\n",
    "\n",
    "囚犯们会死在地牢\n",
    "\n",
    "有一次，国王的警长到达某地牢，兽人无法交付任何黄金，因为他不知道他只有三分之一的囚犯在真正做开采"
   ]
  },
  {
   "cell_type": "markdown",
   "metadata": {},
   "source": [
    "现状是缺乏组织性，用脑袋和笔管理地牢，于是，决定一切电子化"
   ]
  },
  {
   "cell_type": "markdown",
   "metadata": {},
   "source": [
    "领域专家不知道程序能做什么、在做什么"
   ]
  },
  {
   "cell_type": "markdown",
   "metadata": {},
   "source": [
    "开发者需要管理期望、功能集和开发流程"
   ]
  },
  {
   "cell_type": "markdown",
   "metadata": {},
   "source": [
    "开发包含更复杂业务逻辑的软件容易迅速变化"
   ]
  },
  {
   "cell_type": "markdown",
   "metadata": {},
   "source": [
    "开发者和领域专家应使用共同的语言"
   ]
  },
  {
   "cell_type": "markdown",
   "metadata": {},
   "source": [
    "尽可能合并业务术语"
   ]
  },
  {
   "cell_type": "markdown",
   "metadata": {},
   "source": [
    "要了解一个软件需要做什么，就要了解用户在软件存在之前在做什么"
   ]
  },
  {
   "cell_type": "markdown",
   "metadata": {},
   "source": [
    "状态：\n",
    "1. Currently available or empty cells\n",
    "2. Outgoing transfer states\n",
    "3. Incoming transfer states\n",
    "\n",
    "状态会导致事件，每个传输都可以处于多个状态，主人必须知道每个状态下一步要做什么：\n",
    "\n",
    "1. Update the tracking\n",
    "2. Start outgoing transfers when too many cells are occupied\n",
    "3. Respond to incoming transfers by starting to track them\n",
    "4. Ask for incoming transfers if the occupied cells are to low"
   ]
  },
  {
   "cell_type": "markdown",
   "metadata": {},
   "source": [
    "兽人主人早上巡逻地牢，为了不重复计数，只由他统计。他没有统计逃离地牢的囚犯数量，以计算预计空闲cell，并基于此做推荐和预警"
   ]
  },
  {
   "cell_type": "markdown",
   "metadata": {},
   "source": [
    "空闲牢房的数量下降到10个以下，就把囚犯搬出去。"
   ]
  },
  {
   "cell_type": "markdown",
   "metadata": {},
   "source": [
    "计算：根据逃离地牢的囚犯、因被捕而抵达的新囚犯以及预计的从其他地牢转移来的囚犯"
   ]
  },
  {
   "cell_type": "markdown",
   "metadata": {},
   "source": [
    "囚犯到达的前五天，地牢会收到一只乌鸦，以给地牢一个准备的机会。囚犯逃跑，乌鸦也会通知地牢。这些通知，只应被一个人通知一次。地牢还可以派乌鸦请求补充新的囚犯，这也需要五天。五天无法生产黄金。这五天路上有些囚犯会逃走。"
   ]
  },
  {
   "cell_type": "markdown",
   "metadata": {},
   "source": [
    "开采黄金是地牢的第二个目标，这需要有一定数量的囚犯来管理机器，否则生产将基本停止。"
   ]
  },
  {
   "cell_type": "markdown",
   "metadata": {},
   "source": [
    "如果囚犯的数量降到一半，黄金无法生产，牢房主可能因此被罢官。"
   ]
  },
  {
   "cell_type": "markdown",
   "metadata": {},
   "source": [
    "开发者尽可能收集地牢中发生的所有事件，来对未来状况作出预测。开发者提供当前状况的视图，可以从最简略的counter开始渐进式开发"
   ]
  },
  {
   "cell_type": "markdown",
   "metadata": {},
   "source": [
    "提供接口interface === 提供支持"
   ]
  },
  {
   "cell_type": "markdown",
   "metadata": {},
   "source": [
    "地牢模型 === models/Dungeon.js。Dungeon对象有一个find方法，find可以从数据库、网络请求、其他程序获取“地牢”，当根据的id不存在时，会先创建地牢再return地牢。"
   ]
  },
  {
   "cell_type": "markdown",
   "metadata": {},
   "source": [
    "地牢模型track了地牢不断变化的信息，有一个express的中间件专门加载该模型（通过find方法），作为请求响应的context，每次收到请求都加载地牢模型"
   ]
  },
  {
   "cell_type": "markdown",
   "metadata": {},
   "source": [
    "☆界面渲染的是state及其修改它的状态"
   ]
  },
  {
   "cell_type": "markdown",
   "metadata": {},
   "source": [
    "有了最简陋的实现后开始第一次迭代：不直接修改地牢状态，而是先记录事件（如逃跑事件），根据事件来修改状态。根据具有分布性的事件，而不是根据单个兽人的Counter。这样的缺点是难以与兽人解释什么是事件，有偏离/是业务逻辑复杂化的风险"
   ]
  },
  {
   "cell_type": "markdown",
   "metadata": {},
   "source": [
    "本软件需要做到对囚犯移动的预测。"
   ]
  },
  {
   "cell_type": "markdown",
   "metadata": {},
   "source": [
    "每个状态修改都需要转换为一系列事件☆☆☆"
   ]
  },
  {
   "cell_type": "markdown",
   "metadata": {},
   "source": [
    "抽象化 === 简单化"
   ]
  },
  {
   "cell_type": "markdown",
   "metadata": {},
   "source": [
    "界面 === 访问和输入数据的方式"
   ]
  },
  {
   "cell_type": "markdown",
   "metadata": {},
   "source": [
    "模型 === 状态"
   ]
  },
  {
   "cell_type": "markdown",
   "metadata": {},
   "source": [
    "我们应该尽可能频繁地重用已使用的业务语言。"
   ]
  },
  {
   "cell_type": "markdown",
   "metadata": {},
   "source": [
    "☆当我们编码时，我们是对某领域进行编码。是领域里的人，在操作他们的领域对象。使得领域专家也能读懂代码。"
   ]
  },
  {
   "cell_type": "markdown",
   "metadata": {},
   "source": [
    "语义 === 领域"
   ]
  },
  {
   "cell_type": "markdown",
   "metadata": {},
   "source": [
    "DDD专注于在如何解决问题的过程中获得结构"
   ]
  },
  {
   "cell_type": "markdown",
   "metadata": {},
   "source": [
    "工程术语更具体，但商业语言却很暧昧模糊需要被解释"
   ]
  },
  {
   "cell_type": "markdown",
   "metadata": {},
   "source": [
    "DDD驱动设计基于函数式编程或面向对象编程之上添加了一个抽象层来表达业务逻辑，使得外部世界可以通过业务语言调用它/与它交互。☆☆☆"
   ]
  },
  {
   "cell_type": "markdown",
   "metadata": {},
   "source": [
    "DDD主要负责根据领域语义封装模块"
   ]
  },
  {
   "cell_type": "markdown",
   "metadata": {},
   "source": [
    "### 第二章"
   ]
  },
  {
   "cell_type": "markdown",
   "metadata": {},
   "source": [
    "编写代码 === 编写限制☆"
   ]
  },
  {
   "cell_type": "markdown",
   "metadata": {},
   "source": [
    "开发者没有得到正确的需求 === 开发者不知道如何减轻用户的工作。所以要多交流"
   ]
  },
  {
   "cell_type": "markdown",
   "metadata": {},
   "source": [
    "请问问自己，用户会如何使用这段代码"
   ]
  },
  {
   "cell_type": "markdown",
   "metadata": {},
   "source": [
    "尽快的让用户接触到软件的原型界面，让用户参与软件开发，可以在纸上画图、在word中进行全面、能快速试错、易于总结的大纲，在每次与用户的会谈时总结"
   ]
  },
  {
   "cell_type": "markdown",
   "metadata": {},
   "source": [
    "编写代码 === 编写特性如一些逻辑判断就是特性"
   ]
  },
  {
   "cell_type": "markdown",
   "metadata": {},
   "source": [
    "囚犯是实体"
   ]
  },
  {
   "cell_type": "markdown",
   "metadata": {},
   "source": [
    "Dungeon进出事件大纲：\n",
    "receives prisoners\n",
    "transfers from other dungeons\n",
    "new captures\n",
    "loses prisoners\n",
    "transfers to other dungeons\n",
    "fleeing\n",
    "prisoners might flee during transfer\n",
    "prisoners might flee from the dungeon itself\n",
    "\n",
    "Prisoner事件大纲\n",
    "can flee a dungeon or transport\n",
    "needs a cell\n",
    "is transferred between dungeon"
   ]
  },
  {
   "cell_type": "markdown",
   "metadata": {},
   "source": [
    "实体会在纸面编程时浮现"
   ]
  },
  {
   "cell_type": "markdown",
   "metadata": {},
   "source": []
  },
  {
   "cell_type": "markdown",
   "metadata": {},
   "source": []
  },
  {
   "cell_type": "markdown",
   "metadata": {},
   "source": []
  },
  {
   "cell_type": "markdown",
   "metadata": {},
   "source": []
  },
  {
   "cell_type": "markdown",
   "metadata": {},
   "source": []
  },
  {
   "cell_type": "markdown",
   "metadata": {},
   "source": []
  },
  {
   "cell_type": "markdown",
   "metadata": {},
   "source": []
  },
  {
   "cell_type": "markdown",
   "metadata": {},
   "source": []
  },
  {
   "cell_type": "markdown",
   "metadata": {},
   "source": []
  },
  {
   "cell_type": "markdown",
   "metadata": {},
   "source": []
  }
 ],
 "metadata": {
  "kernelspec": {
   "display_name": "Python 3",
   "language": "python",
   "name": "python3"
  },
  "language_info": {
   "codemirror_mode": {
    "name": "ipython",
    "version": 3
   },
   "file_extension": ".py",
   "mimetype": "text/x-python",
   "name": "python",
   "nbconvert_exporter": "python",
   "pygments_lexer": "ipython3",
   "version": "3.7.3"
  },
  "toc": {
   "base_numbering": 1,
   "nav_menu": {},
   "number_sections": true,
   "sideBar": true,
   "skip_h1_title": false,
   "title_cell": "Table of Contents",
   "title_sidebar": "Contents",
   "toc_cell": false,
   "toc_position": {},
   "toc_section_display": true,
   "toc_window_display": false
  }
 },
 "nbformat": 4,
 "nbformat_minor": 2
}
