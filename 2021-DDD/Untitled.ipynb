{
 "cells": [
  {
   "cell_type": "markdown",
   "metadata": {},
   "source": [
    "# 第一章"
   ]
  },
  {
   "cell_type": "markdown",
   "metadata": {},
   "source": [
    "软件要描绘真实人类的想法。DDD涉及把代码和领域语言关联起来，简化代码和领域的复杂度。DDD使开发者可以和其他开发者、可以和领域专家及用户交流。"
   ]
  },
  {
   "cell_type": "markdown",
   "metadata": {},
   "source": [
    "要了解一个软件需要做什么，就要了解用户在软件存在之前在做什么。一开始，开发者应向领域专家请教软件应有的behavior，吸收领域专家的领域知识。"
   ]
  },
  {
   "cell_type": "markdown",
   "metadata": {},
   "source": [
    "地牢是兽人王国的一部分，国王要求他的地牢给他赚钱\n",
    "\n",
    "犯人们开采金子\n",
    "\n",
    "新犯人的不断到来：从战争中获得的新俘虏，那些付不起税款的人，等等\n",
    "\n",
    "地牢长密切关注犯人和空闲房间的数量，保持采矿劳动力在一个最佳水平\n",
    "\n",
    "如果地牢已经满了，就把一些犯人转移出去\n",
    "\n",
    "犯人可能在路上逃跑\n",
    "\n",
    "犯人可能死在地牢\n",
    "\n",
    "有一次，国王的警长到达某地牢，兽人无法交付任何黄金，因为他不知道他只有三分之一的囚犯在真正做开采"
   ]
  },
  {
   "cell_type": "markdown",
   "metadata": {},
   "source": [
    "现状是缺乏组织性，用脑袋和笔管理地牢，于是，决定一切电子化"
   ]
  },
  {
   "cell_type": "markdown",
   "metadata": {},
   "source": [
    "领域专家不知道程序能做什么、在做什么"
   ]
  },
  {
   "cell_type": "markdown",
   "metadata": {},
   "source": [
    "开发者和领域专家应使用共同的领域语言"
   ]
  },
  {
   "cell_type": "markdown",
   "metadata": {},
   "source": [
    "状态：\n",
    "1. Currently available or empty cells\n",
    "2. Outgoing transfer states\n",
    "3. Incoming transfer states\n",
    "\n",
    "状态会导致事件☆☆☆。转移过程中存在多个状态，地牢长必须知道每个状态下一步要做什么：\n",
    "\n",
    "1. Update the tracking\n",
    "2. Start outgoing transfers when too many cells are occupied\n",
    "3. Respond to incoming transfers by starting to track them\n",
    "4. Ask for incoming transfers if the occupied cells are to low"
   ]
  },
  {
   "cell_type": "markdown",
   "metadata": {},
   "source": [
    "兽人头子早上巡逻地牢，为了不重复计数，只由他统计。他没有统计逃离地牢的犯人数量的因素来计算预计空闲房间，并基于此做推荐和预警"
   ]
  },
  {
   "cell_type": "markdown",
   "metadata": {},
   "source": [
    "空闲房间的数量下降到10个以下，就把犯人转移出去。"
   ]
  },
  {
   "cell_type": "markdown",
   "metadata": {},
   "source": [
    "犯人到达的前五天，地牢会收到一只乌鸦，以给地牢一个准备的时间。犯人逃跑，乌鸦也会通知地牢。这些通知，只应被一个人收到一次。地牢还可以派乌鸦请求补充新的犯人，这也需要五天。这五天路上有些犯人会逃走。"
   ]
  },
  {
   "cell_type": "markdown",
   "metadata": {},
   "source": [
    "开采黄金是地牢的第二个目标，这需要有一定数量的犯人来管理机器，否则生产将基本停止。"
   ]
  },
  {
   "cell_type": "markdown",
   "metadata": {},
   "source": [
    "如果犯人的数量降到一半，黄金无法生产，牢房主可能因此被罢官。"
   ]
  },
  {
   "cell_type": "markdown",
   "metadata": {},
   "source": [
    "开发者应尽可能收集地牢中发生的所有事件，来对未来状态作出计算。"
   ]
  },
  {
   "cell_type": "markdown",
   "metadata": {},
   "source": [
    "接口interface === 埋点 === 预埋支持"
   ]
  },
  {
   "cell_type": "markdown",
   "metadata": {},
   "source": [
    "地牢模型 === models/Dungeon.js。Dungeon对象有一个find方法，find可以从数据库、网络请求、其他程序获取“地牢”，当根据的id不存在时，会先创建地牢再return地牢。"
   ]
  },
  {
   "cell_type": "markdown",
   "metadata": {},
   "source": [
    "地牢模型track了地牢不断变化的状态，有一个express的中间件专门加载该模型（通过find方法），作为请求响应的context，每次收到http请求都加载地牢模型"
   ]
  },
  {
   "cell_type": "markdown",
   "metadata": {},
   "source": [
    "☆界面渲染的是state及其修改其状态的form"
   ]
  },
  {
   "cell_type": "markdown",
   "metadata": {},
   "source": [
    "有了最简陋的实现后开始第一次重构：每个状态修改都需要转换为一系列事件，不直接修改地牢状态，而是先记录事件（如逃跑事件），根据事件来修改状态。根据分布性的事件，而不是根据单个兽人的Counter。这样重构的缺点是难以与兽人解释什么是事件，有偏离/使业务逻辑复杂化的风险"
   ]
  },
  {
   "cell_type": "markdown",
   "metadata": {},
   "source": [
    "本软件需要做到对犯人移动的预测。计算：根据逃离地牢的犯人数、被捕的新犯人数以及预计从其他地牢转移来的犯人数。"
   ]
  },
  {
   "cell_type": "markdown",
   "metadata": {},
   "source": [
    "抽象化 === 简单化"
   ]
  },
  {
   "cell_type": "markdown",
   "metadata": {},
   "source": [
    "界面 === 访问和输入数据的方式"
   ]
  },
  {
   "cell_type": "markdown",
   "metadata": {},
   "source": [
    "模型 === 状态"
   ]
  },
  {
   "cell_type": "markdown",
   "metadata": {},
   "source": [
    "尽可能合并业务术语。我们应该尽力频繁重用已使用的业务语言。"
   ]
  },
  {
   "cell_type": "markdown",
   "metadata": {},
   "source": [
    "当我们编码时，我们是对某领域进行编码，经过DDD后，领域专家也应能看得懂写出来的代码。"
   ]
  },
  {
   "cell_type": "markdown",
   "metadata": {},
   "source": [
    "DDD专注于在解决问题的过程中获得actor之间的过程交互结构。"
   ]
  },
  {
   "cell_type": "markdown",
   "metadata": {},
   "source": [
    "工程语言更具体，业务语言却暧昧模糊需要被解释"
   ]
  },
  {
   "cell_type": "markdown",
   "metadata": {},
   "source": [
    "DDD驱动设计基于函数式编程或面向对象编程之上添加了一个抽象层来表达业务逻辑，使得外部世界可以通过业务语言调用它/与它交互。☆☆☆"
   ]
  },
  {
   "cell_type": "markdown",
   "metadata": {},
   "source": [
    "DDD负责根据领域语言封装模块"
   ]
  },
  {
   "cell_type": "markdown",
   "metadata": {},
   "source": [
    "# 第二章"
   ]
  },
  {
   "cell_type": "markdown",
   "metadata": {},
   "source": [
    "编写代码 === 编写限制☆"
   ]
  },
  {
   "cell_type": "markdown",
   "metadata": {},
   "source": [
    "开发者没有得到正确的需求 === 开发者不知道如何减轻用户的工作。所以要多交流"
   ]
  },
  {
   "cell_type": "markdown",
   "metadata": {},
   "source": [
    "请问问自己，用户会如何使用这段代码"
   ]
  },
  {
   "cell_type": "markdown",
   "metadata": {},
   "source": [
    "尽快的让用户接触到软件的原型界面，让用户参与软件开发，在每次与用户的会谈时可以纸上画图总结出全面、能快速试错、易于结构化的需求大纲"
   ]
  },
  {
   "cell_type": "markdown",
   "metadata": {},
   "source": [
    "编写代码 === 编写特性，如一些逻辑判断就是特性"
   ]
  },
  {
   "cell_type": "markdown",
   "metadata": {},
   "source": [
    "囚犯是实体"
   ]
  },
  {
   "cell_type": "markdown",
   "metadata": {},
   "source": [
    "Dungeon进出事件大纲：\n",
    "receives prisoners\n",
    "transfers from other dungeons\n",
    "new captures\n",
    "loses prisoners\n",
    "transfers to other dungeons\n",
    "fleeing\n",
    "prisoners might flee during transfer\n",
    "prisoners might flee from the dungeon itself\n",
    "\n",
    "Prisoner事件大纲\n",
    "can flee a dungeon or transport\n",
    "needs a cell\n",
    "is transferred between dungeon"
   ]
  },
  {
   "cell_type": "markdown",
   "metadata": {},
   "source": [
    "实体会在纸面编程时浮现"
   ]
  },
  {
   "cell_type": "markdown",
   "metadata": {},
   "source": [
    "界面原型要画图展示给用户，纸面编程图也要展现给用户，先列出实体，地牢，犯人，房间，快递马车，然后想想他们之间是如何交互/过程的。有业务需求 === 参与者的职责 === 领域事件☆☆☆☆☆才有交互，想想把犯人从一个地牢转移到另一个地牢的这样一个事件，会发生交互：\n",
    "\n",
    "地牢通知另一个地牢（更新为：监狱长使用通讯系统通知另一个地牢，新增监狱长实体和通讯系统）\n",
    "\n",
    "犯人从房间转移到马车上\n",
    "\n",
    "兽人被分配护送马车\n",
    "\n",
    "马车开到另一个地牢"
   ]
  },
  {
   "cell_type": "markdown",
   "metadata": {},
   "source": [
    "实体是系统中的参与者/actor"
   ]
  },
  {
   "cell_type": "markdown",
   "metadata": {},
   "source": [
    "UML：结构图列出系统中所有的参与者并且参与者之间是一对多还是一对一。用例图列出每个参与者牵头的每一个业务需求 === 职责 === 事件。时序图列出某个事件的交互过程。"
   ]
  },
  {
   "cell_type": "markdown",
   "metadata": {},
   "source": [
    "需求不是参与者的需求，而是业务的需求，需要参与者负责牵头☆☆☆☆"
   ]
  },
  {
   "cell_type": "markdown",
   "metadata": {},
   "source": [
    "所有方法要以业务语言命名"
   ]
  },
  {
   "cell_type": "markdown",
   "metadata": {},
   "source": [
    "与专家讨论务必暴露出业务语言中尚不明确的东西，自己先说，再让专家反驳，形式一种沟通模式"
   ]
  },
  {
   "cell_type": "markdown",
   "metadata": {},
   "source": [
    "实体，值对象是系统中不同的角色/role，每一个role都有自己follow的模式"
   ]
  },
  {
   "cell_type": "markdown",
   "metadata": {},
   "source": [
    "实体与值对象的区别是：值对象是鸭子类型，两个对象只要属性一致就一致。比如囚犯和房间，囚犯可以是实体可以是值对象，关键在于，我们是否需要区分两个一模一样的囚犯，需要就是实体，不需要就是值对象。被定义为实体的每个对象，可以单独直接被trace"
   ]
  },
  {
   "cell_type": "markdown",
   "metadata": {},
   "source": [
    "领域事件会引发领域内状态改变"
   ]
  },
  {
   "cell_type": "markdown",
   "metadata": {},
   "source": [
    "···聚合聚合了所有的实体、值对象和所有东西。聚合还负责状态的改变···"
   ]
  },
  {
   "cell_type": "markdown",
   "metadata": {},
   "source": [
    "通知系统在系统内部，而不是外部，所以通知系统是service角色。"
   ]
  },
  {
   "cell_type": "markdown",
   "metadata": {},
   "source": [
    "从最重要的对象和他们之间的交互开始编码，首先列出所有对象：通知服务、房间、犯人、监狱长、兽人、马车，列出他们之间的依赖关系，比如，监狱长依赖于兽人和马车。兽人依赖监狱长，马车，犯人，房间。聚合依赖于所有对象，最后总结出重要程度：监狱长>房间>犯人>马车>通信服务>兽人"
   ]
  },
  {
   "cell_type": "markdown",
   "metadata": {},
   "source": [
    "应做成原型展示给业务部门，让业务部门认可这些对象的交互过程"
   ]
  },
  {
   "cell_type": "markdown",
   "metadata": {},
   "source": [
    "spiking/峰值检测，对编程难点、第一次用的库、用户界面进行spiking。"
   ]
  },
  {
   "cell_type": "markdown",
   "metadata": {},
   "source": [
    "减少代码量，简化领域，是DDD的巨大价值。更少的代码量，更简单的领域，使项目更易完成。"
   ]
  },
  {
   "cell_type": "markdown",
   "metadata": {},
   "source": []
  },
  {
   "cell_type": "markdown",
   "metadata": {},
   "source": []
  },
  {
   "cell_type": "markdown",
   "metadata": {},
   "source": []
  },
  {
   "cell_type": "markdown",
   "metadata": {},
   "source": []
  }
 ],
 "metadata": {
  "kernelspec": {
   "display_name": "Python 3",
   "language": "python",
   "name": "python3"
  },
  "language_info": {
   "codemirror_mode": {
    "name": "ipython",
    "version": 3
   },
   "file_extension": ".py",
   "mimetype": "text/x-python",
   "name": "python",
   "nbconvert_exporter": "python",
   "pygments_lexer": "ipython3",
   "version": "3.7.3"
  },
  "toc": {
   "base_numbering": 1,
   "nav_menu": {},
   "number_sections": true,
   "sideBar": true,
   "skip_h1_title": false,
   "title_cell": "Table of Contents",
   "title_sidebar": "Contents",
   "toc_cell": false,
   "toc_position": {},
   "toc_section_display": true,
   "toc_window_display": false
  }
 },
 "nbformat": 4,
 "nbformat_minor": 2
}
