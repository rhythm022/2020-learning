{
 "cells": [
  {
   "cell_type": "markdown",
   "metadata": {},
   "source": [
    "精心装修的房子，当人住进去，头两天可能会觉得耳目一新，但渐渐地习惯了也就那样。\n",
    "界面，就是那种习惯了都一样的东西，那界面设计的价值在哪里？\n",
    "付了设计费装修和免费设计费装修的房子，感觉还是不一样。差别在哪里呢？\n",
    "+ 合不合理：厨房台面高度。厅的一面墙是挂电视还是放书柜。\n",
    "+ 好不好看。\n",
    "\n",
    "\n",
    "界面设计一模一样，负责界面合不合理的，叫：交互。负责界面好不好看的，叫：视觉。\n",
    "\n",
    "界面的合理性体现在？\n",
    "这就要从App是什么说起，普通人认为页面程序是一堆文字/一堆链接/一堆按钮，开发认为程序是一堆状态和函数逻辑，而交互认为程序是信息和任务的集合，界面只是获取信息和任务入口的途径之一。语音交互也是途径。那么这样，一个界面如果不是用于展示信息，就是用于完成某项用户任务。一个App根据业务逻辑如果不是信息主导就是任务主导：\n",
    "+ 信息主导的App的用户使用模式是：\n",
    "如果浏览的是商品，任务就是下单、收藏商品\n",
    "如果浏览的文章，任务就是评论、转发\n",
    "如果浏览的是报送数据，任务就是编制、驳回数据\n",
    "+ 任务主导的App的用户使用模式是：\n",
    "如果任务是定闹钟，信息就是响铃时间\n",
    "如果任务是单车骑行，信息就是资费、公里数\n",
    "如果任务是报送、编制、审核，信息就是报送信息、编制信息、审核信息\n",
    "\n",
    "\n",
    "既然界面上有的只有信息和任务，那么合理的界面是：\n",
    "+ 更快的让用户找到想要的信息\n",
    "+ 更好的让用户完成任务\n",
    "\n",
    "\n",
    "总而言之，如果用户获取信息/完成任务，是发生在网页界面里，而不是别的什么途径。用户所有的行为都要在这个有限的空间里，通过主动的点击完成。这个空间的好坏会影响到用户在这个空间获取信息、完成任务的体验，即用户体验。\n",
    "\n",
    "我们关注界面的质量，是因为我们要在这个空间里获取信息、完成任务。\n",
    "虽然，类似于即使不用框架不解耦不测试，照样能构造一个可用的后台系统。不梳理信息架构和任务流程，也能构造出可用的界面。但一旦系统很复杂或者需求变更，代码会失控，界面同样会失控。界面空间失控会妨碍到用户在这个空间取得信息、完成任务的体验。\n",
    "\n",
    "所以，我们需要在界面上建设能够实现更快获取信息更好完成任务的基础设施"
   ]
  },
  {
   "cell_type": "markdown",
   "metadata": {},
   "source": []
  },
  {
   "cell_type": "markdown",
   "metadata": {},
   "source": []
  },
  {
   "cell_type": "markdown",
   "metadata": {},
   "source": []
  },
  {
   "cell_type": "markdown",
   "metadata": {},
   "source": []
  },
  {
   "cell_type": "markdown",
   "metadata": {},
   "source": [
    "合理的引导用户找到想要的信息：\n",
    "自古以来，加快找寻信息速度的方式就是让信息具有某种分类结构然后基于这种结构做检索，给字典加字母表，给数据库加索引，给网站加导航，都是这样。（信息的检索是基于信息的组织形式的，所以导航栏既是网站提供用户的查找信息用的基础设施，其自身也是网站的信息组织形式的体现，懂得设计一个好的导航就像懂得为数据库表建合理的索引，他们都是为了检索数据而去组织数据的行为）那么合理的引导用户找到想要的信息，就转换成了，设计一个合理的导航。设计好导航相当于完成了一半界面设计。\n",
    "\n",
    "对于诸如联合索引/导航这种分类组织形式，第一，都是将重要的字段作为索引或导航维度，第二，区分度一直都是衡量其好坏的指标之一，建索引不用说一直都是关心区分度，而导航则是考虑人脑的特性推荐每次分类不能超过7类。\n"
   ]
  },
  {
   "cell_type": "markdown",
   "metadata": {},
   "source": [
    "交互的工作方式：\n",
    "从需求文档的功能点罗列出，这个项目中所有需要提供给用户的信息和用户需要完成的任务\n",
    "梳理信息架构和任务流程，产出用线框图表示的界面流。\n",
    "\n",
    "交互，交付的是黑白的交互稿。交互稿会包括整个项目的信息架构、任务流程、线框图及其交互说明。"
   ]
  },
  {
   "cell_type": "markdown",
   "metadata": {},
   "source": [
    "：\n",
    "+ 为了让用户快速找到他想要的信息，就要做信息架构。\n",
    "+ 为了让用户快速地完成他想要完成的任务，就要做任务流程设计。"
   ]
  },
  {
   "cell_type": "markdown",
   "metadata": {},
   "source": []
  },
  {
   "cell_type": "markdown",
   "metadata": {},
   "source": []
  },
  {
   "cell_type": "markdown",
   "metadata": {},
   "source": []
  },
  {
   "cell_type": "markdown",
   "metadata": {},
   "source": []
  },
  {
   "cell_type": "markdown",
   "metadata": {},
   "source": []
  },
  {
   "cell_type": "markdown",
   "metadata": {},
   "source": []
  },
  {
   "cell_type": "markdown",
   "metadata": {},
   "source": []
  },
  {
   "cell_type": "markdown",
   "metadata": {},
   "source": []
  },
  {
   "cell_type": "markdown",
   "metadata": {},
   "source": []
  },
  {
   "cell_type": "markdown",
   "metadata": {},
   "source": []
  },
  {
   "cell_type": "markdown",
   "metadata": {},
   "source": []
  },
  {
   "cell_type": "markdown",
   "metadata": {},
   "source": []
  },
  {
   "cell_type": "markdown",
   "metadata": {},
   "source": []
  },
  {
   "cell_type": "markdown",
   "metadata": {},
   "source": []
  }
 ],
 "metadata": {
  "kernelspec": {
   "display_name": "Python 3",
   "language": "python",
   "name": "python3"
  },
  "language_info": {
   "codemirror_mode": {
    "name": "ipython",
    "version": 3
   },
   "file_extension": ".py",
   "mimetype": "text/x-python",
   "name": "python",
   "nbconvert_exporter": "python",
   "pygments_lexer": "ipython3",
   "version": "3.7.3"
  },
  "toc": {
   "base_numbering": 1,
   "nav_menu": {},
   "number_sections": true,
   "sideBar": true,
   "skip_h1_title": false,
   "title_cell": "Table of Contents",
   "title_sidebar": "Contents",
   "toc_cell": false,
   "toc_position": {},
   "toc_section_display": true,
   "toc_window_display": false
  }
 },
 "nbformat": 4,
 "nbformat_minor": 2
}
