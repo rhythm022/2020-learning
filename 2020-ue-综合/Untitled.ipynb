{
 "cells": [
  {
   "cell_type": "markdown",
   "metadata": {},
   "source": [
    "我们精心设计过的页面，在用户看来，更像是以每小时100公里的速度驶过的广告牌。\n",
    "别妨碍我工作、淘宝，就行了。\n",
    "很难界定心理学是文科还是理科。因为他的研究对象人的心理就是分为理性和感性的。\n",
    "设计界面就是要把一连串需求书里的功能点放入一个有限面积的界面空间里，所谓的用户体验就是，在这个过程中，分别照顾到人的理性和感性。\n",
    "感性会发生在看到好看的界面那一瞬间，人会发出感叹，会有情绪波动，留下记忆。\n",
    "理性会发生在界面不合理的时候，对于合理的界面设施人类是感知不到的，只有遇到不合理时才会有情绪波动，烦躁地想要突然跳起来。\n",
    "\n",
    "一般，对应两个职位：\n",
    "+ 处理界面不合理的问题:交互，和处理界面不好看的问题:视觉\n",
    "代码开发有前后端，界面开发也可以类比有前后端。交互是后端，视觉就是前端，因为交互的工作内容是负责界面逻辑，构造合理的界面逻辑。视觉最主要的工作是在交互线框图的基础上上色\n",
    "对于企业内部应用，强调用户体验，照顾到员工的理性和感性，就是提升员工效率，是他们工作更快、减少犯错的概率。"
   ]
  },
  {
   "cell_type": "markdown",
   "metadata": {},
   "source": [
    "Q:交互的方法论，如何构造合理的界面逻辑？\n",
    "A:通过确定信息架构、任务流程。"
   ]
  },
  {
   "cell_type": "markdown",
   "metadata": {},
   "source": [
    "以控制为主的，称之为功能应用。\n",
    "以信息传达为主的，称之为媒介应用"
   ]
  },
  {
   "cell_type": "markdown",
   "metadata": {},
   "source": [
    "用户的对立面是领导意志、后台业务逻辑、项目进度、商业利益。产品经理很难再有精力考虑用户的感受。"
   ]
  },
  {
   "cell_type": "markdown",
   "metadata": {},
   "source": [
    "当我们关注界面质量的时候，才会去强调用户体验。\n",
    "这类似于即使不用框架不解耦不测试，照样能构造一个可用的后台系统。不考虑用户体验，也能构造出可用的界面。\n",
    "但一旦系统很复杂或者需求变更，代码会失控，界面同样会失控。\n",
    "就像对于开发人员，编写可维护可测试的代码，是要有岁月积累和一套方法论的。\n",
    "对于交互来说，界面质量能具有较好的用户体验，也是要有岁月积累和一套方法论的。\n"
   ]
  },
  {
   "cell_type": "markdown",
   "metadata": {},
   "source": [
    "交互，产出：原型。原型包括信息架构、任务流、线框图及其交互说明、界面流。"
   ]
  },
  {
   "cell_type": "markdown",
   "metadata": {},
   "source": [
    "类是属性和方法的集合\n",
    "界面是信息和任务的集合。\n",
    "一个界面/界面模块不是在展示信息，就是在完成某个任务的过程中。\n",
    "一个合理的界面：\n",
    "+ 合理的引导用户找到想要的信息，自古以来，加快找寻信息速度的唯一方式就是让信息具有某种分类结构然后基于这种结构做检索，给字典加字母表，给数据库加索引，给网站加导航，都是这样。（信息的检索是基于信息的组织形式的，所以导航栏既是网站提供用户的查找信息用的基础设施，其自身也是网站的信息组织形式的体现，懂得设计一个好的导航就像懂得为数据库的表建合理的索引，他们都是为了检索数据而去组织数据的行为）那么合理的引导用户找到想要的信息，就转换成了，设计一个合理的导航。对于诸如索引/导航这种分类组织形式，第一，都是讲重要的字段作为索引或导航维度，第二，区分度一直都是衡量其好坏的指标，建索引基于计算机计算的特性推荐区分度0.1，而导航则是考虑人脑的特性推荐每次分类不能7类。\n",
    "+ 合理的引导用户完成任务\n",
    "\n",
    "界面也是一个专用名词。\n",
    "\n",
    "就像方法服务于属性\n",
    "信息是服务于控制的\n",
    "\n",
    "所以，交互可以通过从需求文档的功能点出发梳理信息的架构，设计任务的流程，最终产出界面流。"
   ]
  },
  {
   "cell_type": "markdown",
   "metadata": {},
   "source": []
  },
  {
   "cell_type": "markdown",
   "metadata": {},
   "source": []
  },
  {
   "cell_type": "markdown",
   "metadata": {},
   "source": []
  },
  {
   "cell_type": "markdown",
   "metadata": {},
   "source": []
  },
  {
   "cell_type": "markdown",
   "metadata": {},
   "source": []
  },
  {
   "cell_type": "markdown",
   "metadata": {},
   "source": []
  },
  {
   "cell_type": "markdown",
   "metadata": {},
   "source": []
  },
  {
   "cell_type": "markdown",
   "metadata": {},
   "source": []
  },
  {
   "cell_type": "markdown",
   "metadata": {},
   "source": []
  },
  {
   "cell_type": "markdown",
   "metadata": {},
   "source": []
  },
  {
   "cell_type": "markdown",
   "metadata": {},
   "source": []
  },
  {
   "cell_type": "markdown",
   "metadata": {},
   "source": []
  },
  {
   "cell_type": "markdown",
   "metadata": {},
   "source": []
  },
  {
   "cell_type": "markdown",
   "metadata": {},
   "source": []
  },
  {
   "cell_type": "markdown",
   "metadata": {},
   "source": []
  },
  {
   "cell_type": "markdown",
   "metadata": {},
   "source": []
  }
 ],
 "metadata": {
  "kernelspec": {
   "display_name": "Python 3",
   "language": "python",
   "name": "python3"
  },
  "language_info": {
   "codemirror_mode": {
    "name": "ipython",
    "version": 3
   },
   "file_extension": ".py",
   "mimetype": "text/x-python",
   "name": "python",
   "nbconvert_exporter": "python",
   "pygments_lexer": "ipython3",
   "version": "3.6.7"
  },
  "toc": {
   "base_numbering": 1,
   "nav_menu": {},
   "number_sections": true,
   "sideBar": true,
   "skip_h1_title": false,
   "title_cell": "Table of Contents",
   "title_sidebar": "Contents",
   "toc_cell": false,
   "toc_position": {},
   "toc_section_display": true,
   "toc_window_display": false
  }
 },
 "nbformat": 4,
 "nbformat_minor": 2
}
