{
 "cells": [
  {
   "cell_type": "markdown",
   "metadata": {},
   "source": [
    "# 封装\n",
    "也叫作信息隐藏、数据访问保护。为什么要隐藏为什么要保护？封装可以减少耦合，会让程序更好，所以要践行。更好，是量变，而通过这次的学习，我认为封装能让程序质变：封装不只有利而是面向对象的根本。因为只有封装才会带来独立的对象，而独立的对象才谈得上对象设计、对象的交互。并不是说程序员把方法拆分到两个独立的类，这两个类就独立了。\n",
    "\n",
    "\n",
    "\n",
    "想象父母和孩子，孩子从一出生就是物理上独立的个体，但他真正独立吗，他不，它凡事都依赖父母，它的生活和父母是耦合在一起的。但直到有一天，他开始和父母的话少了有自己的秘密了、开始有所隐瞒、有自己的想法，这是他独立的开始。当他再大一点，他心里有一个规约，知道哪些话该说哪些话会让父母生气，他会沟通了，他成熟地独立了。\n",
    "\n",
    "\n",
    "任何独立的东西都有封装，人也不外乎如此。\n",
    "\n",
    "\n",
    "封装如此普遍，才会被列面向对象四大特性。不是因为封装了之后能减少类与类之间的耦合，而是履行了封装要求之后才有真正的类、独立的类。有了独立的类，才是面向对象设计的开始，才有真正意义上类的交互。在独立的基础上交互。\n",
    "\n",
    "\n",
    "封装难以做到的点在于，程序员设计了一个类，接着又去设计调用这个类的客户类上层类，就有一种监守自盗的感觉，都是自己写的类，为什么不能互通有无，为什么要一方要对另一方有所限制、有所隐瞒。我们要树立的第一个观念就是独立。当你决定这是两个类的时候，请让他们独立，如何做到独立：就是封装。iphone之前的手机电池和手机是独立，因为，拆开来看，电池是被塑封起来的，除了塑封就剩正负极端子了。这种有限的简单的交互方式，就能做到事实上的独立。\n",
    "\n",
    "回到类的设计，对于iphone之前的手机，电池是一个独立类，手机是一个独立类。在独立的基础上，通过接口交互后共同实现功能，就像正负极端子把电池和手机接上后开机。而iphone之后的手机电池和手机是一体，手机和电池一体封装和各自独立封装哪种方式更好？这个我不清楚，但是，凡是准备好让一个类独立了，就要把它封装做好。凡是要把电池独立出来就要塑封起来。"
   ]
  },
  {
   "cell_type": "markdown",
   "metadata": {},
   "source": [
    "以前我对类的定义是一个实现类是成员变量和函数方法的集合体。现在，我多了一层理解，一个独立的实现类是接口和代码的集合体，实现类的public方法就是默认接口，你让一个实现类去implement一个interface，只是在public方法的基础上再进一步根据客户侧做屏蔽。"
   ]
  },
  {
   "cell_type": "markdown",
   "metadata": {},
   "source": [
    "# 继承"
   ]
  },
  {
   "cell_type": "markdown",
   "metadata": {},
   "source": [
    "Q:子类继承父类。子类复用父类的代码，还继承到什么？\n",
    "A:子类还继承到接口。子类对继承到的函数方法进行override，实质是在继承父类接口。所以，我们可以把继承分为两类：继承实现的代码复用和继承接口的多态。前者在一些教科书中被认为是一种反模式，他们认为应极力避免用继承进行代码复用，原因是，包括Java在内的许多语言，继承只能一次，你让继承实现了代码复用就放弃了用继承实现多态，这是二选一的问题。因为代码复用完全可以用组合实现，还比继承实现起来方便。而多态又如此重要，赋予程序可拓展性的能力。所以推荐模式是多态用继承，代码复用用组合。"
   ]
  },
  {
   "cell_type": "markdown",
   "metadata": {},
   "source": [
    "# 多态\n",
    "定义：一个接口，多种(实现)形态。接口的定义时，public的方法。\n",
    "\n",
    "\n",
    "\n",
    "在Java中，因为Java是强类型语言，有严格类型限制，如果输入类型是限定类型及其子类型，才能被传入，使得多态只能发生在具有父子关系(继承/实现)的类型之间。"
   ]
  },
  {
   "cell_type": "markdown",
   "metadata": {},
   "source": []
  },
  {
   "cell_type": "markdown",
   "metadata": {},
   "source": []
  },
  {
   "cell_type": "markdown",
   "metadata": {},
   "source": []
  },
  {
   "cell_type": "markdown",
   "metadata": {},
   "source": []
  },
  {
   "cell_type": "markdown",
   "metadata": {},
   "source": []
  },
  {
   "cell_type": "markdown",
   "metadata": {},
   "source": []
  },
  {
   "cell_type": "markdown",
   "metadata": {},
   "source": []
  },
  {
   "cell_type": "markdown",
   "metadata": {},
   "source": []
  },
  {
   "cell_type": "markdown",
   "metadata": {},
   "source": []
  },
  {
   "cell_type": "markdown",
   "metadata": {},
   "source": []
  },
  {
   "cell_type": "markdown",
   "metadata": {},
   "source": []
  },
  {
   "cell_type": "markdown",
   "metadata": {},
   "source": []
  },
  {
   "cell_type": "markdown",
   "metadata": {},
   "source": []
  },
  {
   "cell_type": "markdown",
   "metadata": {},
   "source": []
  },
  {
   "cell_type": "markdown",
   "metadata": {},
   "source": []
  },
  {
   "cell_type": "markdown",
   "metadata": {},
   "source": []
  },
  {
   "cell_type": "markdown",
   "metadata": {},
   "source": []
  },
  {
   "cell_type": "markdown",
   "metadata": {},
   "source": []
  },
  {
   "cell_type": "markdown",
   "metadata": {},
   "source": [
    "面向过程编程和面向对象编程没有大的不同，善用多态、封装就是好的面向对象编程。\n",
    "\n",
    "如果一个业务流程在脑中很清晰，完全不需要面向对象编程，面向过程编程就行。\n",
    "面向对象是一种自底向上的思考方式，能让程序员暂时避开顶层流程。\n",
    "\n",
    "多态让程序易拓展、封装让程序易维护。程序易拓展就会易复用\n",
    "\n",
    "\n",
    "Q:在Java中，全局变量有哪些？\n",
    "A:单例对象、静态变量/方法。\n",
    "\n",
    "\n",
    "配置、Utils函数，尽量放在本地静态变量/方法。不能放在本地的配置、Utils函数可以分门别类地新建FileUtils、IOUtils、StringUtils、UrlUtils 等，不要设计一个过于大而全的 Utils 类。"
   ]
  }
 ],
 "metadata": {
  "kernelspec": {
   "display_name": "Python 3",
   "language": "python",
   "name": "python3"
  },
  "language_info": {
   "codemirror_mode": {
    "name": "ipython",
    "version": 3
   },
   "file_extension": ".py",
   "mimetype": "text/x-python",
   "name": "python",
   "nbconvert_exporter": "python",
   "pygments_lexer": "ipython3",
   "version": "3.7.3"
  },
  "toc": {
   "base_numbering": 1,
   "nav_menu": {},
   "number_sections": true,
   "sideBar": true,
   "skip_h1_title": false,
   "title_cell": "Table of Contents",
   "title_sidebar": "Contents",
   "toc_cell": false,
   "toc_position": {},
   "toc_section_display": true,
   "toc_window_display": false
  }
 },
 "nbformat": 4,
 "nbformat_minor": 2
}
