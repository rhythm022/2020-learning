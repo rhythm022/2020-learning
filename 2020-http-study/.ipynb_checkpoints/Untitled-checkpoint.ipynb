{
 "cells": [
  {
   "cell_type": "markdown",
   "metadata": {},
   "source": [
    "### 05 | 常说的“四层”和“七层”到底是什么？“五层”“六层”哪去了？（1）"
   ]
  },
  {
   "cell_type": "markdown",
   "metadata": {},
   "source": [
    "tcpip协议分四层，一层mac层，四层http层。\n",
    "mac帧。tcp段。http报文。"
   ]
  },
  {
   "cell_type": "markdown",
   "metadata": {},
   "source": [
    "mac地址也称局域网地址，标识网卡/网卡所属设备"
   ]
  },
  {
   "cell_type": "markdown",
   "metadata": {},
   "source": [
    "### 06 | 域名里有哪些门道？（1）"
   ]
  },
  {
   "cell_type": "markdown",
   "metadata": {},
   "source": [
    "域名解析是从右往左地解析，比如解析`www.apple.com`：以`com`为参数对根域名服务器发请求，返回得到com顶级域名服务器ip。再以`apple`为参数对com顶级域名服务器发请求，返回得到apple.com权威域名服务器的ip。最后以`www`为参数对`apple.com权威域名服务器`发包,得到`www.apple.com`的ip地址，即目标ip。"
   ]
  },
  {
   "cell_type": "markdown",
   "metadata": {},
   "source": [
    "DNS核心系统只有三层包括根域名服务器、顶级域名服务器、权威域名服务器。比较知名的 DNS：Google 的“8.8.8.8”、Microsoft 的“4.2.2.1”、CloudFlare 的“1.1.1.1”，都不属于DNS核心系统，而是对其的缓存。"
   ]
  },
  {
   "cell_type": "markdown",
   "metadata": {},
   "source": [
    "解析查询DNS的过程是是先查询两级缓存后查询hosts文件，即先查询浏览器缓存、操作系统缓存，再查询hosts文件，再进行网络查询。"
   ]
  },
  {
   "cell_type": "markdown",
   "metadata": {},
   "source": [
    "定向指的是key到value的对应关系，重定向是指同一个key，value改变了。比如域名为key，ip地址为value，则域名`www.apple.com`的ip从ipA变为ipB，就是重定向，本质就是在域名服务器内部改变域名到ip地址的映射关系配置。"
   ]
  },
  {
   "cell_type": "markdown",
   "metadata": {},
   "source": [
    "域名的功能是让ip地址具有可读性，how？在服务器上搭建dns服务，比如使用bind9开源软件搭建域名服务器供内部使用，使得内部服务器可以用域名请求，比如数据库服务器用域名“mysql.inner.app”，商品服务器用“goods.inner.app”"
   ]
  },
  {
   "cell_type": "markdown",
   "metadata": {},
   "source": [
    "域名查询可以返回IP地址列表，使得一个域名名字可以查询到多台服务器/主机。"
   ]
  },
  {
   "cell_type": "markdown",
   "metadata": {},
   "source": [
    "域名实现负载均衡：查询域名对应的ip时，返回最空闲主机的ip地址。"
   ]
  },
  {
   "cell_type": "markdown",
   "metadata": {},
   "source": [
    "域名大小写无关"
   ]
  },
  {
   "cell_type": "markdown",
   "metadata": {},
   "source": [
    "遵守http协议的服务器叫Web服务器，中间的CDN服务器、网关服务器、代理服务器等都也遵守 HTTP 协议"
   ]
  },
  {
   "cell_type": "markdown",
   "metadata": {},
   "source": [
    "Telnet可以通过发裸tcp包发原始http报文，相当于应用层的UDP，模拟浏览器发请求同时免除浏览器自动行为的干扰"
   ]
  },
  {
   "cell_type": "markdown",
   "metadata": {},
   "source": [
    "### 08 | 键入网址再按下回车，后面究竟发生了什么？（1）"
   ]
  },
  {
   "cell_type": "markdown",
   "metadata": {},
   "source": [
    "http层面发一个请求，tcp层面可能已经涉及四五个包了，比如三个握手包一个回包。"
   ]
  },
  {
   "cell_type": "markdown",
   "metadata": {},
   "source": [
    "HTTP/1.1长连接特性：为了发请求建立的连接，请求完毕后不会立即挥手。"
   ]
  },
  {
   "cell_type": "markdown",
   "metadata": {},
   "source": [
    "DNS服务器可能返回域名对应最闲的ip，可能返回域名对应CDN服务器的ip。CDN缓存静态资源包括图片、CSS。Java后台服务生成的动态资源CDN是不缓存的。"
   ]
  },
  {
   "cell_type": "markdown",
   "metadata": {},
   "source": [
    "+ DNS返回的ip一般是负载均衡服务器。四层LVS。七层Nginx。\n",
    "+ Nginx先请求缓存服务器而不是直接请求应用服务器。memory缓存Redis。disk缓存Varnish。缓存时间一般几秒几分钟不等。Java应用Tomcat/Netty/Jetty、Python应用Django。\n",
    "+ 应用服务器返回结果给Nginx，Nginx再返回给用户端并post给缓存服务器缓存。\n",
    "+ ？返回包经过CDN时CDN会自动缓存。"
   ]
  },
  {
   "cell_type": "markdown",
   "metadata": {},
   "source": [
    "访问/请求/调用"
   ]
  },
  {
   "cell_type": "markdown",
   "metadata": {},
   "source": [
    "四层均衡，是基于tcpip协议，即根据端口、ip地址做均衡分组。\n",
    "七层均衡，是基于http协议，根据URI、资源类型等做均衡分组。"
   ]
  },
  {
   "cell_type": "markdown",
   "metadata": {},
   "source": [
    "### 09 | HTTP报文是什么样子的？（1）"
   ]
  },
  {
   "cell_type": "markdown",
   "metadata": {},
   "source": [
    "http的核心内容除了报文格式及其解析外，还包括连接控制、缓存管理、内容协商机制。"
   ]
  },
  {
   "cell_type": "markdown",
   "metadata": {},
   "source": [
    "空行/CRLF/十六进制0D0A"
   ]
  },
  {
   "cell_type": "markdown",
   "metadata": {},
   "source": [
    "浏览器发送的GET请求http报文是大头儿子，头大、体小，穿梭在网络中。空行是他的脖子。Nginx默认头不超过8K。"
   ]
  },
  {
   "cell_type": "markdown",
   "metadata": {},
   "source": [
    "请求参数的key大小写无关、紧跟:冒号。如果语义需要，请求参数可重复，比如Set-Cookie。"
   ]
  },
  {
   "cell_type": "markdown",
   "metadata": {},
   "source": [
    "一台服务器可以承载多个业务，有多个域名，这样，DNS服务器把不同的域名解析到同一台服务器，请求达到后，服务器再通过Host字段/域名确定对应Web应用。所以，域名和Web应用/虚拟主机是一对一关系，域名和ip是一对多和多对一的关系。"
   ]
  },
  {
   "cell_type": "markdown",
   "metadata": {},
   "source": [
    "字段Date表明请求或响应的创建时间，请求端根据返回包的创建时间来设置缓存这个包的机制。"
   ]
  },
  {
   "cell_type": "markdown",
   "metadata": {},
   "source": [
    "返回字段Server表明返回是由哪个Web应用生成的(如Nginx)，Server值是乱写的，出于安全考虑。与Server字段类似语义的X-Powered-by表明返回包是由哪个语言生成(如PHP/7.0.1)"
   ]
  },
  {
   "cell_type": "markdown",
   "metadata": {},
   "source": [
    "实体字段Content-Length表明包文档实体的长度，对端根据Content-Length读取文档实体（特别在长连接中），如果不设置Content-Length表示文档不定长，要使用chuncked方式处理。"
   ]
  },
  {
   "cell_type": "markdown",
   "metadata": {},
   "source": [
    "### 10 | 应该如何理解请求方法？（1）"
   ]
  },
  {
   "cell_type": "markdown",
   "metadata": {},
   "source": [
    "浏览器对文档发起GET请求，服务端可以：\n",
    "+ 响应404没有该文档\n",
    "+ 响应403有该文档但你不能看\n",
    "+ 响应带有`Allow:HEAD`的405Method Not Allowed有该文档你不能看,但可以再发HEAD请求请求该文档的头信息。"
   ]
  },
  {
   "cell_type": "markdown",
   "metadata": {},
   "source": [
    "HEAD请求的典型用法：判断文档是否存在、判断文档是否有更新（通过文档头信息中的的修改时间）"
   ]
  },
  {
   "cell_type": "markdown",
   "metadata": {},
   "source": [
    "POST请求是新建/create/insert请求，PUT请求是修改/update请求"
   ]
  },
  {
   "cell_type": "markdown",
   "metadata": {},
   "source": [
    "浏览器发出OPTIONS请求，服务端会响应文档的`Allow`信息描述该文档接受的操作"
   ]
  },
  {
   "cell_type": "markdown",
   "metadata": {},
   "source": [
    "PATCH、LOCK是webDAV协议里的内容，不属于http协议，LOCK请求禁止修改该文档，PATCH请求更新文档的部分内容。"
   ]
  },
  {
   "cell_type": "markdown",
   "metadata": {},
   "source": [
    "+ 只读是安全的，只有GET、HEAD是安全的。\n",
    "+ 幂等性指的是重复操作和一次操作对系统的影响是相同的。GET 和 HEAD不对系统产生影响所以是幂等的。★★★POST是insert操作，不是幂等的。PUT是幂等的。"
   ]
  },
  {
   "cell_type": "markdown",
   "metadata": {},
   "source": [
    "### 11 | 你能写出正确的网址吗？（1）"
   ]
  },
  {
   "cell_type": "markdown",
   "metadata": {},
   "source": [
    "统一资源标识符URI，俗称网址。uri == schema://host:port/path?query，由schema、hostport、path、query四个部分组成。host:port整体被称为authority，表明文档所在主机。schema翻译成方案名或协议名。"
   ]
  },
  {
   "cell_type": "markdown",
   "metadata": {},
   "source": [
    "http报文第一行只包含是path和query，host:port在文档的`host`信息里。"
   ]
  },
  {
   "cell_type": "markdown",
   "metadata": {},
   "source": [
    "浏览器不会把#开头的锚点信息记录在http报文中。"
   ]
  },
  {
   "cell_type": "markdown",
   "metadata": {},
   "source": [
    "uri里的中文是经utf8处理转为ascii码。"
   ]
  },
  {
   "cell_type": "markdown",
   "metadata": {},
   "source": [
    "如果http报文中query太长，就记录在http报文的文档实体区域。"
   ]
  },
  {
   "cell_type": "markdown",
   "metadata": {},
   "source": [
    "### 12 | 响应状态码该怎么用？"
   ]
  },
  {
   "cell_type": "markdown",
   "metadata": {},
   "source": [
    "状态码1xx表明中间态，2xx正确态，4xx前端错误态，5xx后端错误态，3xx重定向。★★★重定向，表明前端要重发请求。"
   ]
  },
  {
   "cell_type": "markdown",
   "metadata": {},
   "source": [
    "Upgrade头字段是协商变更协议的头字段，Upgrade: HTTP/2.0, HTTPS/1.3, IRC/6.9, RTA/x11, websocket等，服务器端返回101状态码表示同意变更。"
   ]
  },
  {
   "cell_type": "markdown",
   "metadata": {},
   "source": [
    "204 No Content表示没有body"
   ]
  },
  {
   "cell_type": "markdown",
   "metadata": {},
   "source": [
    "206 Partial Content表示body体里的内容不是完整的文档实体，只是文档实体的一部分内容。206会在前端进行“范围请求”、请求获取某文档实体的部分内容时由后端返回。206是基于http进行分块下载和断点续传的基础。206响应的Content-Range字段表明一段内容在文档实体中的位置情况，如Content-Range:bytes 0-99/2000表明总计2000字节的前100字节。"
   ]
  },
  {
   "cell_type": "markdown",
   "metadata": {},
   "source": [
    "301 和302分别是永久和临时重定向，前端对301响应302响应的缓存策略不太一样，301会缓存，302不会做缓存优化。301响应302响应通过Location字段，告知前端要重发请求的uri。308和307分别是永久和临时重定向。"
   ]
  },
  {
   "cell_type": "markdown",
   "metadata": {},
   "source": [
    "304 Not Modified是缓存重定向。304响应作为 If-Modified-Since 等条件请求的响应告知前端"
   ]
  },
  {
   "cell_type": "markdown",
   "metadata": {},
   "source": [
    "405请求方法不对406请求头字段不对。413、414、431请求的某部分过大"
   ]
  },
  {
   "cell_type": "markdown",
   "metadata": {},
   "source": [
    "502 Bad Gateway是指自己服务正常，但自己访问后端服务器发生错误，代理服务器或网关服务器可能返回这种响应。"
   ]
  },
  {
   "cell_type": "markdown",
   "metadata": {},
   "source": [
    "503 Service Unavailable和响应头字段Retry-After联用，告知前端当前服务忙，多长时间后重试。"
   ]
  },
  {
   "cell_type": "markdown",
   "metadata": {},
   "source": [
    "### 13 | HTTP有哪些特点？"
   ]
  },
  {
   "cell_type": "markdown",
   "metadata": {},
   "source": [
    "http是应用层协议，ftp、ssh也是应用层协议。他们的区别在于http是传输通用数据的协议，ftp、ssh等过于专用。http的连接控制、缓存代理机制都是为更好的传输数据而发展出的功能。http的胜利，是广适用性的胜利。"
   ]
  },
  {
   "cell_type": "markdown",
   "metadata": {},
   "source": [
    "请求应答模式符合RPC（Remote Procedure Call）的工作模式，可以把HTTP请求作为远程函数调用，导致了WebService、RESTful和gPRC的出现。"
   ]
  },
  {
   "cell_type": "markdown",
   "metadata": {},
   "source": [
    "如果要保证数据100%收发成功，http和tcp是做不到的，要使用各种MQ如rabbitMQ，ZeroMQ、Kafka"
   ]
  },
  {
   "cell_type": "markdown",
   "metadata": {},
   "source": [
    "★★★以前http还有一个“无连接”的特性，但因为这很影响性能，http/1.1开始就改成keep-alive长连接机制了"
   ]
  },
  {
   "cell_type": "markdown",
   "metadata": {},
   "source": [
    "### 14 | HTTP有哪些优点？又有哪些缺点？"
   ]
  },
  {
   "cell_type": "markdown",
   "metadata": {},
   "source": [
    "http无状态的特点使得web服务器易于集群。"
   ]
  },
  {
   "cell_type": "markdown",
   "metadata": {},
   "source": [
    "http缺少“身份认证”和“完整性校验”的机制。另外，tcp的请求应答模式会导致著名的“队头阻塞”问题（Head-of-line blocking）"
   ]
  },
  {
   "cell_type": "markdown",
   "metadata": {},
   "source": [
    "### 15 | 海纳百川：HTTP的实体数据"
   ]
  },
  {
   "cell_type": "markdown",
   "metadata": {},
   "source": [
    "MIME格式标准把文档/实体/文件分为八大类，文本文件、图片文件、音频文件、视频文件、json文件、js文件、pdf文件：\n",
    "+ text/plain、text/html、text/css\n",
    "+ image/gif、image/jpeg、image/png\n",
    "+ video/mp4\n",
    "+ application/json、application/javascript、application/pdf\n",
    "特别地，不明定义二进制的文档，MIME格式标准把其标示为application/octet-stream"
   ]
  },
  {
   "cell_type": "markdown",
   "metadata": {},
   "source": [
    "Encoding type字段表明文档由哪种机密算法加密，gzip、deflate或br。deflate即zlib。gzip压缩率60%，br为html而生，可以再提高20%。`Transfer-coding:gzip`和`Content-coding:gzip`的区别是，Transfer-coding由传输层解码，Content-coding由应用自己解码"
   ]
  },
  {
   "cell_type": "markdown",
   "metadata": {},
   "source": [
    "获得了文档的Encoding type、MIME type就有了自动处理文档的能力"
   ]
  },
  {
   "cell_type": "markdown",
   "metadata": {},
   "source": [
    "前后端可以协商文档的type、encoding、language、charset。前端请求的参数多以Accept开头和后端返回的字段以Content开头。Accept可以视作Accept-type-charset。Accept的值由一个或多个MIME格式的文档类型组成，以逗号分割，例如前端：\n",
    "```\n",
    "Accept: text/html,application/xml,image/webp,image/png\n",
    "Accept-Encoding: gzip, deflate, br\n",
    "Accept-Language: zh-CN, zh, en\n",
    "Accept-Charset: gbk, utf-8 //几乎不用\n",
    "```\n",
    "后端：\n",
    "```\n",
    "Content-Type: text/html; charset=utf-8\n",
    "Content-Encoding: gzip\n",
    "Content-Language: zh-CN //几乎不用\n",
    "```\n",
    "当请求没有Accept-Encoding参数，说明前端不支持解压缩。当返回没有Content-Encoding表明文档没有被压缩。"
   ]
  },
  {
   "cell_type": "markdown",
   "metadata": {},
   "source": [
    "前端/上层/请求端"
   ]
  },
  {
   "cell_type": "markdown",
   "metadata": {},
   "source": [
    "这个Accept-Language请求参数表明：最好给我 zh-CN 的汉语文字，如果没有就用其他的汉语方言，如果还没有就给英文\n",
    "。协商字符集是通过请求参数Accept-Charset，但响应不返回Content-Charset字段，而是在Content-Type字段的数据类型后面用“charset=xxx”来表示。不过现在的浏览器都支持多种字符集，通常不会发送 Accept-Charset，而服务器也不会发送 Content-Language，因为使用的语言完全可以由字符集推断出来，所以在请求头里一般只会有 Accept-Language 字段，响应头里只会有 Content-Type 字段。"
   ]
  },
  {
   "cell_type": "markdown",
   "metadata": {},
   "source": [
    "```\n",
    "Accept: text/html,application/xml;q=0.9,*/*;q=0.8\n",
    "```\n",
    "q表示优先级。1最大表示完全接受，0.01最小，0表示拒绝。不指定则默认q=1"
   ]
  },
  {
   "cell_type": "markdown",
   "metadata": {},
   "source": [
    "响应的的Vary字段表明响应对应的请求参数：\n",
    "```\n",
    "Vary: Accept-Encoding,User-Agent,Accept\n",
    "```\n",
    "代理服务器会根据Vary字段实现缓存服务，对比请求头里相应的“ Accept-Encoding”“User-Agent”等字段，如果和上一个请求的完全匹配，比如都是“gzip”“Chrome”，就表示版本一致，可以返回缓存的数据。Nginx其实是对Vary做MD5摘要，匹配请求和缓存时，不仅比较URI也比较摘要。"
   ]
  },
  {
   "cell_type": "markdown",
   "metadata": {},
   "source": [
    "### 16 | 把大象装进冰箱：HTTP传输大文件的方法"
   ]
  },
  {
   "cell_type": "markdown",
   "metadata": {},
   "source": [
    "gzip压缩算法对音视频、图片不起作用。"
   ]
  },
  {
   "cell_type": "markdown",
   "metadata": {},
   "source": [
    "chunked分块方式传输用返回字段`Transfer-Encoding: chunked`表明，使请求端、响应端不会被文档实体占满内存，中间网络也不会阻塞。"
   ]
  },
  {
   "cell_type": "markdown",
   "metadata": {},
   "source": [
    "流式文档实体的Content-length不定长，必须用chunked分块方式传输。返回字段`Transfer-Encoding: chunked`和`Content-length`互斥不能同时出现，不能`Content-length：100`同时`Transfer-Encoding: chunked`"
   ]
  },
  {
   "cell_type": "markdown",
   "metadata": {},
   "source": [
    "range范围请求是请求端发起的请求方式，请求部分文档，chunked分块是响应端发起的流式传输整个文档的方式，所以可以同时请求端请求部分文档后响应端分块传输。支持部分请求的文档在正常请求(HEAD)的返回里会返回字段`Accept-Ranges: bytes`，如果没有这个字段，就默认这个文档不支持部分请求。通过在正常请求中增加请求参数`Range: bytes=0-31`（0/31都是闭区间表示，下一个请求范围可能是32-100），将正常请求整个文档变为部分请求文档，此时，响应端返回：\n",
    "```\n",
    "206 Partial Content\n",
    "Accept-Ranges: bytes\n",
    "Content-Range: bytes 0-31/100\n",
    "Content-Length: 32\n",
    "```"
   ]
  },
  {
   "cell_type": "markdown",
   "metadata": {},
   "source": [
    "Range 的格式也很灵活，起点 x 和终点 y 可以省略。假设文件是 100 个字节，那么：\n",
    "“0-”表示从文档起点到文档终点，相当于“0-99”，即整个文件；\n",
    "“10-”是从第 10 个字节开始到文档末尾，相当于“10-99”；\n",
    "“-1”是文档的最后一个字节，相当于“99-99”；\n",
    "“-10”是从文档末尾倒数 10 个字节，相当于“90-99”。"
   ]
  },
  {
   "cell_type": "markdown",
   "metadata": {},
   "source": [
    "在线视频观看和断点续传就是通过范围请求的方式实现的，比如断点续传机制，是记录了已下载片段，当下载中断后重启下载，只需要部分请求未下载片段。"
   ]
  },
  {
   "cell_type": "markdown",
   "metadata": {},
   "source": [
    "range范围请求也可以用于整个文档的传输，通过多线程范围传输提高整个文档的下载速度。"
   ]
  },
  {
   "cell_type": "markdown",
   "metadata": {},
   "source": [
    "range参数还支持`Range: bytes=0-9, 20-29`这样的形式，表示请求文档的多个部分，简称多部分请求，返回字段`Content-Type: multipart/byteranges; boundary=00000000001`，每个文档部分/文档段用boundary值分割并且用`Content-Type Content-Range`表示该部分文档的类型和所在位置：\n",
    "```\n",
    "--00000000001\n",
    "Content-Type: text/plain\n",
    "Content-Range: bytes 0-9/96\n",
    "\n",
    "// this is\n",
    "--00000000001\n",
    "```"
   ]
  },
  {
   "cell_type": "markdown",
   "metadata": {},
   "source": [
    "### 17 | 排队也要讲效率：HTTP的连接管理"
   ]
  },
  {
   "cell_type": "markdown",
   "metadata": {},
   "source": [
    "http短连接 == http无连接"
   ]
  },
  {
   "cell_type": "markdown",
   "metadata": {},
   "source": [
    "★★★ TCP三次握手建立连接，二个数据包，是RTT * 1，四次挥手关闭连接，四个数据包，是RTT * 2。HTTP一次简单的“请求响应”需要四个包，是RTT * 2。这么算下来，浪费的时间就是“3÷5=60%”，有三分之二的时间被浪费掉了，传输效率低得惊人。"
   ]
  },
  {
   "cell_type": "markdown",
   "metadata": {},
   "source": [
    "长连接 == “持久连接”（persistent connections）==“连接保活”（keep alive）==“连接复用”（connection reuse）。"
   ]
  },
  {
   "cell_type": "markdown",
   "metadata": {},
   "source": [
    "http/1.1不需要协商长连接、是默认长连接，当然也可以在请求参数中通过`Connection: keep-alive`显式协商。而响应端也返回字段`Connection: keep-alive`表明响应长连接请求。"
   ]
  },
  {
   "cell_type": "markdown",
   "metadata": {},
   "source": [
    "Q:长连接的缺点是什么？\n",
    "A:占用内存，DDoS就是通过长连接占用内存达到攻击目的。所以请求端可以在请求参数中指定`Connection: close`表明这次通信后就关闭连接，响应端也返回字段`Connection: close`表明响应关闭连接的请求，并同时调用 Socket API 关闭 TCP 连接。"
   ]
  },
  {
   "cell_type": "markdown",
   "metadata": {},
   "source": [
    "作为响应端的Nginx服务器主动关闭连接是有两种策略的：设置超时关闭连接（比如60秒 keepalive_timeout 60）、设置次数关闭连接（比如1000次 keepalive_requests 1000），这样，到了60秒或1000次，Nginx服务器就会返回字段`Connection: close`协商关闭连接"
   ]
  },
  {
   "cell_type": "markdown",
   "metadata": {},
   "source": [
    "两台主机tcp通讯，可以维护多个连接，基于这个，一个http对应多个tcp，这就是http中并发连接（concurrent connections）的概念，多个连接就有多个队伍，这样可以达到减少队首阻塞（Head-of-line blocking）的目的。浏览器限制并发连接数为六到八个。"
   ]
  },
  {
   "cell_type": "markdown",
   "metadata": {},
   "source": [
    "Q:什么是域名分片（domain sharding）？为什么要域名分片？\n",
    "A:浏览器根据域名限制tcp并发连接数，发往一个域名的请求可以走六个tcp队列，现在在同一个服务下，增加域名数量，这样，发往同一个服务的请求浏览器会和nginx服务器建立走6n个tcp队列，达到提高并发数的目的。"
   ]
  },
  {
   "cell_type": "markdown",
   "metadata": {},
   "source": [
    "Connection字段还有一个取值`Connection:Upgrade`，配合状态码101，表明例如从http升级到WebSocket"
   ]
  },
  {
   "cell_type": "markdown",
   "metadata": {},
   "source": [
    "### 18 | 四通八达：HTTP的重定向和跳转"
   ]
  },
  {
   "cell_type": "markdown",
   "metadata": {},
   "source": [
    "重定向：点击网页上的链接，浏览器发送请求渲染出另一个页面，是主动跳转，这中间可能发生了由响应端发起，浏览器被动跳转到另一个页面的情况，原来的浏览器请求的页面不再显示，而是显示响应端指定的页面。"
   ]
  },
  {
   "cell_type": "markdown",
   "metadata": {},
   "source": [
    "301/302 重定向状态码与响应字段`Location: /index.html`配合，指定跳转目标URI。浏览器收到301/302响应会检查Location字段，如果有，就从字段值取出URI发送新的HTTP请求。"
   ]
  },
  {
   "cell_type": "markdown",
   "metadata": {},
   "source": [
    "`Location: /index.html`可以像是这样，相对路径，只包含path和query，也可以是完整路径/绝对路径，带上scheme和host:port"
   ]
  },
  {
   "cell_type": "markdown",
   "metadata": {},
   "source": [
    "浏览器、爬虫看到301因为是永久重定向，所以会更新书签、历史记录、索引库"
   ]
  },
  {
   "cell_type": "markdown",
   "metadata": {},
   "source": [
    "域名重定向和重定向都在服务器端指导浏览器发请求"
   ]
  },
  {
   "cell_type": "markdown",
   "metadata": {},
   "source": [
    "重定向意味着要求浏览器多发一次http请求，站内定向还好，可以长连接复用，但站外定向，就需要开新的连接。"
   ]
  },
  {
   "cell_type": "markdown",
   "metadata": {},
   "source": [
    "3XX响应的响应字段`refresh : 10;url='http://www.baidu.com'`表明服务端要求请求端延迟10秒后重定向至百度"
   ]
  },
  {
   "cell_type": "markdown",
   "metadata": {},
   "source": [
    "`Referer`和`Referrer-Policy`同义，表明服务器重定向前浏览器请求的原URI"
   ]
  },
  {
   "cell_type": "markdown",
   "metadata": {},
   "source": [
    "### 19 | 让我知道你是谁：HTTP的Cookie机制"
   ]
  },
  {
   "cell_type": "markdown",
   "metadata": {},
   "source": [
    "http无状态的天性天生容易集群"
   ]
  },
  {
   "cell_type": "markdown",
   "metadata": {},
   "source": [
    "形象的理解Cookie：Cookie是没记忆能力的httper的小便签，一个客户端一个小便签，客户端把小便签拿出来，服务器就知道客户端是谁了。"
   ]
  },
  {
   "cell_type": "markdown",
   "metadata": {},
   "source": [
    "服务端通过多个响应字段` Set-Cookie：sid=5469`、` Set-Cookie：system=win_x64`把小便签贴到客户端身上，下次请求时客户端就会带上请求参数`Cookie：sid=5469;system=win_x64`。"
   ]
  },
  {
   "cell_type": "markdown",
   "metadata": {},
   "source": [
    "怎么贴上Cookie后怎么取下？通过`Set-Cookie：sid=5469;Expires: Fri,07-Jun-19 08:19:00 GMT;Max-Age:10`Expires就是deadline。Max-Age是有效时间，单位是秒，相对于浏览器收到请求的时刻。Max-Age和Expires同时出现，以有效时间Max-Age为准"
   ]
  },
  {
   "cell_type": "markdown",
   "metadata": {},
   "source": [
    "服务器可以指定Cookie的作用域`Set-Cookie：sid=5469;Domain: www.baidu.com;path:/`，下次请求时客户端会先判断请求的host和path是否为Domain和path，如果是，则带上请求参数`Cookie：sid=5469;`。`path:/`时表示该Domain域名下该Cookie通用"
   ]
  },
  {
   "cell_type": "markdown",
   "metadata": {},
   "source": [
    "`Set-Cookie：sid=5469;HttpOnly`的cookie无法通过document.cookie访问，达到了杜绝XSS窃取数据的目的"
   ]
  },
  {
   "cell_type": "markdown",
   "metadata": {},
   "source": [
    "CSRF攻击举例：用户之前通过网上银行转了账，网上银行把Cookie给了浏览器，现在，用户无意登陆到恶意网站，恶意网站仿造转账请求格式带上之前的Cookie就可以同样实现用户转账。\n"
   ]
  },
  {
   "cell_type": "markdown",
   "metadata": {},
   "source": [
    "例子：当你的博客中有一张引用百度的照片时，请求这张照片，就是一个第三方请求，博客网站是第三方，百度是第一方，而CSRF攻击的例子中，银行是第三方，恶意网站是第一方。第三方请求有在用户不知情的情况下发送带Cookie的请求的可能性，所以，浏览器支持`Set-Cookie: sid=5469; SameSite=Strict;`完全禁止第三方请求带Cookie。`Set-Cookie: sid=5469; SameSite=Lax;`只允许a、link、GET form的第三方请求带Cookie。"
   ]
  },
  {
   "cell_type": "markdown",
   "metadata": {},
   "source": [
    "`Set-Cookie：sid=5469;Secure`的cookie只随htps请求发送。"
   ]
  },
  {
   "cell_type": "markdown",
   "metadata": {},
   "source": [
    "Cookie的最主要使用场景是身份识别和广告跟踪，前者一般就是登陆成功后`Set-Cookie: name=yourid`"
   ]
  },
  {
   "cell_type": "markdown",
   "metadata": {},
   "source": [
    "广告跟踪的原理是：广告给用户贴cookie。这种不是主站贴出的cookie，称之为第三方cookie。用作广告跟踪的cookie说明了cookie用户身份识别不需要在登陆/身份验证之后"
   ]
  },
  {
   "cell_type": "markdown",
   "metadata": {},
   "source": [
    "虽然现在已经出现了多种 Local Web Storage 技术，能够比 Cookie 存储更多的数据，但 Cookie 仍然是最通用、兼容性最强的客户端数据存储手段。"
   ]
  },
  {
   "cell_type": "markdown",
   "metadata": {},
   "source": [
    "如果不设置Max-Age和Expires，那么该cookie一旦关闭浏览器就失效"
   ]
  },
  {
   "cell_type": "markdown",
   "metadata": {},
   "source": [
    "### 20 | 生鲜速递：HTTP的缓存控制"
   ]
  },
  {
   "cell_type": "markdown",
   "metadata": {},
   "source": [
    "可以对cookie进行缓存控制，也可以对整个请求本身进行缓存控制。例如`Cache-Control:max-age=30`，缓存30秒相对于Date字段，即该时间包括链路传输上的时间。max-age是http缓存控制最常用最简单的属性"
   ]
  },
  {
   "cell_type": "markdown",
   "metadata": {},
   "source": [
    "`Cache-Control: max-age=10, must-revalidate`表示10秒内可以使用，过了10秒需要先向服务器端确认通过。\n",
    "`Cache-Control: no-cache`表示使用该缓存时始终需要先向服务器端确认通过。\n",
    "no-store表示不缓存"
   ]
  },
  {
   "cell_type": "markdown",
   "metadata": {},
   "source": [
    "TTL，Time-To-Live"
   ]
  },
  {
   "cell_type": "markdown",
   "metadata": {},
   "source": [
    "点击浏览器的刷新按钮时，浏览器会在请求参数中设置`Cache-Control: max-age=0`,主动要求服务端返回实际应响应的文档实体，不使用缓存，而点击前进后退按钮后许多的请求实际并没有发出，而是使用的缓存。Ctrl+F5的强制刷新，则浏览器会在请求参数中设置`Cache-Control: no-cache`,no-cache与max-age=0效果相同。"
   ]
  },
  {
   "cell_type": "markdown",
   "metadata": {},
   "source": [
    "`Cache-Control: no-cache`时，浏览器通过请求参数`If-None-Match:\"asdf32zxc\"`或`If-Modified-Since: Fri, 12 May 2006 18:53:33 GMT `进行缓存校验，`If-None-Match`/`If-None-Match`的值来源于之前服务端的响应字段`ETag`/`Last-modified`的值"
   ]
  },
  {
   "cell_type": "markdown",
   "metadata": {},
   "source": [
    "在需要兼容HTTP/1.0时才加上请求参数`Pragma:no-cache`，`Pragma:no-cache`语义与`Cache-Control:no-cache`一致。`Expires: Fri,07-Jun-19 08:19:00 GMT`也会过时的请求参数，优先级不如`Cache-Control: max-age=0`"
   ]
  },
  {
   "cell_type": "markdown",
   "metadata": {},
   "source": [
    "Ngix中Etag的计算公式是`Last-modified`的值拼接文档长度，所以，`Etag`值与`Last-modified`值差不多。"
   ]
  },
  {
   "cell_type": "markdown",
   "metadata": {},
   "source": [
    "### 21 | 良心中间商：HTTP的代理服务"
   ]
  },
  {
   "cell_type": "markdown",
   "metadata": {},
   "source": [
    "http协议中的代理服务，介于浏览器和服务端之间，同时代表浏览器身份和代表服务端身份"
   ]
  },
  {
   "cell_type": "markdown",
   "metadata": {},
   "source": [
    "代表服务端身份的代理的最常目的是负载均衡：浏览器面对一台代理服务器，一台代理服务器后面有n台源服务器"
   ]
  },
  {
   "cell_type": "markdown",
   "metadata": {},
   "source": [
    "在负载均衡的同时，代理服务还可以执行更多的功能，比如：\n",
    "健康检查：使用“心跳”等机制监控后端服务器，发现有故障就及时“踢出”集群，保证服务高可用；\n",
    "安全防护：保护被代理的后端服务器，限制 IP 地址或流量，抵御网络攻击和过载；\n",
    "加密卸载：对外网使用 SSL/TLS 加密通信认证，而在安全的内网不加密，消除加解密成本；\n",
    "数据过滤：拦截上下行的数据，任意指定策略修改请求或者响应；\n",
    "内容缓存：暂存、复用服务器响应，这个与第 20 讲密切相关，我们稍后再说。"
   ]
  },
  {
   "cell_type": "markdown",
   "metadata": {},
   "source": [
    "代理服务器代表浏览器身份和代表服务端身份的同时，隐藏了浏览器和源服务端的一些头信息，"
   ]
  },
  {
   "cell_type": "markdown",
   "metadata": {},
   "source": [
    "如果浏览器和服务端中间有两个代理：proxy1 和 proxy2，则服务端收到的请求中有请求参数`Via:www.chrono1.com:80, www.chrono2.com:80`，浏览器收到的响应有响应字段`Via:www.chrono2.com:80,www.chrono1.com:80`和`Origin:http://www.baidu.com:80`。X-Via/Via同义"
   ]
  },
  {
   "cell_type": "markdown",
   "metadata": {},
   "source": [
    "服务器的ip往往是保密的，而服务器常常需要知道浏览器的ip做访问控制、用户画像，所以专门有请求参数获取用户ip`X-Forwarded-For`/`X-Real-IP`。前者`X-Forwarded-For:127.0.0.1,12.12.12.12`，`X-Forwarded-For`值最左侧是用户ip，`X-Forwarded-For`的语义是“为谁而转发”形式上与`Via`类似，经过一个代理追加一个代理ip。`X-Real-IP:127.0.0.1`更简单，只有用户ip。"
   ]
  },
  {
   "cell_type": "markdown",
   "metadata": {},
   "source": [
    "例如访问`http://www.chrono.com/21-1`，返回响应的字段有`Origin: http://origin.io:80`及`Via: www.chrono.com:80`，这表明用户访问的服务器`www.chrono.com`不是最终服务器，是代理服务器,实际最终服务器是`http://origin.io:80`，这就是反向代理。80端口只是代理服务，实际的服务在其他端口或者在其他机器上，浏览器和代理三次握手发送GET请求，代理还要和源服务器三次握手发送GET请求，这是代理在代表浏览器"
   ]
  },
  {
   "cell_type": "markdown",
   "metadata": {},
   "source": [
    "上述代理过程中，代理服务器需要开包读取请求参数`X-Forwarded-For`并做修改，会降低转发性能，甚至在https中无法做到，所以就出现了不需要开包的HAProxy代理协议v1/v2。v1在http外加`PROXY TCP4 1.1.1.1 2.2.2.2 55555 80\\r\\n`,说明用户ip端口为1.1.1.1:55555，这样，就不需要开包获取用户ip"
   ]
  },
  {
   "cell_type": "markdown",
   "metadata": {},
   "source": [
    "### 22 | 冷链周转：HTTP的缓存代理"
   ]
  },
  {
   "cell_type": "markdown",
   "metadata": {},
   "source": [
    "支持缓存控制的代理服务，简称缓存代理"
   ]
  },
  {
   "cell_type": "markdown",
   "metadata": {},
   "source": [
    "特别对于“读多写少”的数据如突发热点新闻、爆款商品的详情页，一秒内有万次的请求。缓存数秒，能把巨大访问流量挡在外面，降低RPS（request per second），减轻应用服务器并发压力"
   ]
  },
  {
   "cell_type": "markdown",
   "metadata": {},
   "source": [
    "源服务器内部有各种缓存如Memcache、Redis、Varnish，但与HTTP无关。HTTP缓存主要由代理服务器来实现（即缓存代理）。"
   ]
  },
  {
   "cell_type": "markdown",
   "metadata": {},
   "source": [
    "代理服务没有缓存情况，每次都要请求源服务器，有了缓存后，可以不必请求，直接返回用户304或之前缓存的数据，这是代表源服务器。"
   ]
  },
  {
   "cell_type": "markdown",
   "metadata": {},
   "source": [
    "浏览器和代表浏览器的代理还是有差别的，差别在于代表浏览器的代理不只代表一个浏览器用户，还代表其他的浏览器用户，所以代理的缓存控制有更多的请求参数要设置"
   ]
  },
  {
   "cell_type": "markdown",
   "metadata": {},
   "source": [
    "`Cache-Control:private;`表示代理服务器不能缓存，浏览器可以缓存，不加private就是public可以代理服务器缓存。`Cache-Control: max-age=10, proxy-revalidate`认可代理服务器回复的验证意见，而`Cache-Control: max-age=10, must-revalidate`即使中间有代理服务器，代理服务器也必须再向源服务器验证"
   ]
  },
  {
   "cell_type": "markdown",
   "metadata": {},
   "source": [
    "`Cache-Control:no-transform,s-maxage=20,max-age=10,must-revalidate`中`no-transform,s-maxage`是控制代理服务器的,其中`no-transform`控制代理服务器不允许做转换如图片格式转换。没有`s-maxage`则代理服务器缓存时间也用`max-ag`表示。"
   ]
  },
  {
   "cell_type": "markdown",
   "metadata": {},
   "source": [
    "源服务器在设置完“Cache-Control”后必须要为报文加上“Last-modified”或“ETag”字段。否则，客户端和代理后面就无法使用条件请求来验证缓存是否有效，也就不会有 304 缓存重定向。"
   ]
  },
  {
   "cell_type": "markdown",
   "metadata": {},
   "source": [
    "浏览器请求参数Cache-Control:max-stale和min-fresh是针对代理上的缓存的，`Cache-Control:max-age=10;max-stale=10`则若代理上有缓存该文档资源，浏览器接受实时缓存时间小于20秒的该资源。`Cache-Control:max-age=10;min-fresh=5`则若代理上有缓存该文档资源，浏览器接受实时缓存时间小于5秒的该资源。"
   ]
  }
 ],
 "metadata": {
  "kernelspec": {
   "display_name": "Python 3",
   "language": "python",
   "name": "python3"
  },
  "language_info": {
   "codemirror_mode": {
    "name": "ipython",
    "version": 3
   },
   "file_extension": ".py",
   "mimetype": "text/x-python",
   "name": "python",
   "nbconvert_exporter": "python",
   "pygments_lexer": "ipython3",
   "version": "3.7.3"
  },
  "toc": {
   "base_numbering": 1,
   "nav_menu": {},
   "number_sections": true,
   "sideBar": true,
   "skip_h1_title": false,
   "title_cell": "Table of Contents",
   "title_sidebar": "Contents",
   "toc_cell": false,
   "toc_position": {},
   "toc_section_display": true,
   "toc_window_display": false
  }
 },
 "nbformat": 4,
 "nbformat_minor": 2
}
