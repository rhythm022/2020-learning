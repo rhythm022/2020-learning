{
 "cells": [
  {
   "cell_type": "markdown",
   "metadata": {},
   "source": [
    "### 05 | 常说的“四层”和“七层”到底是什么？“五层”“六层”哪去了？（1）"
   ]
  },
  {
   "cell_type": "markdown",
   "metadata": {},
   "source": [
    "tcpip协议分四层，一层mac层，四层http层。\n",
    "mac帧。tcp段。http报文。"
   ]
  },
  {
   "cell_type": "markdown",
   "metadata": {},
   "source": [
    "mac地址也称局域网地址，标识网卡/网卡所属设备"
   ]
  },
  {
   "cell_type": "markdown",
   "metadata": {},
   "source": [
    "### 06 | 域名里有哪些门道？（1）"
   ]
  },
  {
   "cell_type": "markdown",
   "metadata": {},
   "source": [
    "域名解析是从右往左地解析，比如解析`www.apple.com`：以`com`为参数对根域名服务器发请求，返回得到com顶级域名服务器ip。再以`apple`为参数对com顶级域名服务器发请求，返回得到apple.com权威域名服务器的ip。最后以`www`为参数对`apple.com权威域名服务器`发包,得到`www.apple.com`的ip地址，即目标ip。"
   ]
  },
  {
   "cell_type": "markdown",
   "metadata": {},
   "source": [
    "DNS核心系统只有三层包括根域名服务器、顶级域名服务器、权威域名服务器。比较知名的 DNS：Google 的“8.8.8.8”、Microsoft 的“4.2.2.1”、CloudFlare 的“1.1.1.1”，都不属于DNS核心系统，而是对其的缓存。"
   ]
  },
  {
   "cell_type": "markdown",
   "metadata": {},
   "source": [
    "解析查询DNS的过程是是先查询两级缓存后查询hosts文件，即先查询浏览器缓存、操作系统缓存，再查询hosts文件，再进行网络查询。"
   ]
  },
  {
   "cell_type": "markdown",
   "metadata": {},
   "source": [
    "定向指的是key到value的对应关系，重定向是指同一个key，value改变了。比如域名为key，ip地址为value，则域名`www.apple.com`的ip从ipA变为ipB，就是重定向，本质就是在域名服务器内部改变域名到ip地址的映射关系配置。"
   ]
  },
  {
   "cell_type": "markdown",
   "metadata": {},
   "source": [
    "域名的功能是让ip地址具有可读性，how？在服务器上搭建dns服务，比如使用bind9开源软件搭建域名服务器供内部使用，使得内部服务器可以用域名请求，比如数据库服务器用域名“mysql.inner.app”，商品服务器用“goods.inner.app”"
   ]
  },
  {
   "cell_type": "markdown",
   "metadata": {},
   "source": [
    "域名查询可以返回IP地址列表，使得一个域名名字可以查询到多台服务器/主机。"
   ]
  },
  {
   "cell_type": "markdown",
   "metadata": {},
   "source": [
    "域名实现负载均衡：查询域名对应的ip时，返回最空闲主机的ip地址。"
   ]
  },
  {
   "cell_type": "markdown",
   "metadata": {},
   "source": [
    "域名大小写无关"
   ]
  },
  {
   "cell_type": "markdown",
   "metadata": {},
   "source": [
    "遵守http协议的服务器叫Web服务器，中间的CDN服务器、网关服务器、代理服务器等都也遵守 HTTP 协议"
   ]
  },
  {
   "cell_type": "markdown",
   "metadata": {},
   "source": [
    "Telnet可以通过发裸tcp包发原始http报文，相当于应用层的UDP，模拟浏览器发请求同时免除浏览器自动行为的干扰"
   ]
  },
  {
   "cell_type": "markdown",
   "metadata": {},
   "source": [
    "### 08 | 键入网址再按下回车，后面究竟发生了什么？（1）"
   ]
  },
  {
   "cell_type": "markdown",
   "metadata": {},
   "source": [
    "http层面发一个请求，tcp层面可能已经涉及四五个包了，比如三个握手包一个回包。"
   ]
  },
  {
   "cell_type": "markdown",
   "metadata": {},
   "source": [
    "HTTP/1.1长连接特性：为了发请求建立的连接，请求完毕后不会立即挥手。"
   ]
  },
  {
   "cell_type": "markdown",
   "metadata": {},
   "source": [
    "DNS服务器可能返回域名对应最闲的ip，可能返回域名对应CDN服务器的ip。CDN缓存静态资源包括图片、CSS。Java后台服务生成的动态资源CDN是不缓存的。"
   ]
  },
  {
   "cell_type": "markdown",
   "metadata": {},
   "source": [
    "+ DNS返回的ip一般是负载均衡服务器。四层LVS。七层Nginx。\n",
    "+ Nginx先请求缓存服务器而不是直接请求应用服务器。memory缓存Redis。disk缓存Varnish。缓存时间一般几秒几分钟不等。Java应用Tomcat/Netty/Jetty、Python应用Django。\n",
    "+ 应用服务器返回结果给Nginx，Nginx再返回给用户端并post给缓存服务器缓存。\n",
    "+ ？返回包经过CDN时CDN会自动缓存。"
   ]
  },
  {
   "cell_type": "markdown",
   "metadata": {},
   "source": [
    "访问/请求/调用"
   ]
  },
  {
   "cell_type": "markdown",
   "metadata": {},
   "source": [
    "四层均衡，是基于tcpip协议，即根据端口、ip地址做均衡分组。\n",
    "七层均衡，是基于http协议，根据URI、资源类型等做均衡分组。"
   ]
  },
  {
   "cell_type": "markdown",
   "metadata": {},
   "source": [
    "### 09 | HTTP报文是什么样子的？（1）"
   ]
  },
  {
   "cell_type": "markdown",
   "metadata": {},
   "source": [
    "http的核心内容除了报文格式及其解析外，还包括连接控制、缓存管理、内容协商机制。"
   ]
  },
  {
   "cell_type": "markdown",
   "metadata": {},
   "source": [
    "空行/CRLF/十六进制0D0A"
   ]
  },
  {
   "cell_type": "markdown",
   "metadata": {},
   "source": [
    "浏览器发送的GET请求http报文是大头儿子，头大、体小，穿梭在网络中。空行是他的脖子。Nginx默认头不超过8K。"
   ]
  },
  {
   "cell_type": "markdown",
   "metadata": {},
   "source": [
    "请求参数的key大小写无关、紧跟:冒号。如果语义需要，请求参数可重复，比如Set-Cookie。"
   ]
  },
  {
   "cell_type": "markdown",
   "metadata": {},
   "source": [
    "一台服务器可以承载多个业务，有多个域名，这样，DNS服务器把不同的域名解析到同一台服务器，请求达到后，服务器再通过Host字段/域名确定对应Web应用。所以，域名和Web应用/虚拟主机是一对一关系，域名和ip是一对多和多对一的关系。"
   ]
  },
  {
   "cell_type": "markdown",
   "metadata": {},
   "source": [
    "字段Date表明请求或响应的创建时间，请求端根据返回包的创建时间来设置缓存这个包的机制。"
   ]
  },
  {
   "cell_type": "markdown",
   "metadata": {},
   "source": [
    "返回字段Server表明返回是由哪个Web应用生成的(如Nginx)，Server值是乱写的，出于安全考虑。与Server字段类似语义的X-Powered-by表明返回包是由哪个语言生成(如PHP/7.0.1)"
   ]
  },
  {
   "cell_type": "markdown",
   "metadata": {},
   "source": [
    "实体字段Content-Length表明包文档实体的长度，对端根据Content-Length读取文档实体（特别在长连接中），如果不设置Content-Length表示文档不定长，要使用chuncked方式处理。"
   ]
  },
  {
   "cell_type": "markdown",
   "metadata": {},
   "source": [
    "### 10 | 应该如何理解请求方法？"
   ]
  },
  {
   "cell_type": "markdown",
   "metadata": {},
   "source": [
    "A端对资源/orders发起GET请求，B端可以回包404没有改文档、可以回包403有这个文档但你不能看，可以回包405Method Not Allowed在头字段设置Allow字段告知A端这个文档你实体不能看但头可以看通过HEAD请求。"
   ]
  },
  {
   "cell_type": "markdown",
   "metadata": {},
   "source": [
    "GET与If-Modified-Since组合实现“有条件的GET”，GET与Range组合实现“获取部分实体的GET”"
   ]
  },
  {
   "cell_type": "markdown",
   "metadata": {},
   "source": [
    "HEAD请求用来判断文档实体是否存在、获取文档实体的最新版本的修改时间"
   ]
  },
  {
   "cell_type": "markdown",
   "metadata": {},
   "source": [
    "POST是新建/create/insert，PUT是修改/update"
   ]
  },
  {
   "cell_type": "markdown",
   "metadata": {},
   "source": [
    "浏览发出OPTIONS请求，服务端会在回包Allow头字段表明该文档实体具有的操作、header白名单、origin白名单。"
   ]
  },
  {
   "cell_type": "markdown",
   "metadata": {},
   "source": [
    "http协议里没有单webDAV协议里有的协议LOCK、PATCH，LOCK锁定文档暂时不允许修改，PATCH给文档打小补丁、部分更新文档。"
   ]
  },
  {
   "cell_type": "markdown",
   "metadata": {},
   "source": [
    "只读是安全的，只有GET、HEAD是安全的。幂等性指的是重复操作和一次操作对系统的影响是相同的。GET 和 HEAD不对系统产生影响所以是幂等的。★★★POST是insert操作，不是幂等的。PUT是幂等的。"
   ]
  },
  {
   "cell_type": "markdown",
   "metadata": {},
   "source": [
    "### 11 | 你能写出正确的网址吗？"
   ]
  },
  {
   "cell_type": "markdown",
   "metadata": {},
   "source": [
    "统一资源标识符URI === 网址。schema://host:port/path?query，uri由schema、hostport、path、query四个部分组成。schema翻译成方案名或协议名。host:port整体被称为authority，表明资源所在主机"
   ]
  },
  {
   "cell_type": "markdown",
   "metadata": {},
   "source": [
    "http报文里的uri和浏览器网址里的uri不一样，http报文里的uri位置不包含schema和hostport，实际是path和query"
   ]
  },
  {
   "cell_type": "markdown",
   "metadata": {},
   "source": [
    "浏览器永远不会把带#fragment的uri发送给后端。"
   ]
  },
  {
   "cell_type": "markdown",
   "metadata": {},
   "source": [
    "uri里面的中文是通过utf8编码成为ascii码的。"
   ]
  },
  {
   "cell_type": "markdown",
   "metadata": {},
   "source": [
    "如果query参数太长，也可以放在body里面发给后端。"
   ]
  },
  {
   "cell_type": "markdown",
   "metadata": {},
   "source": [
    "uri除了在浏览器里地址栏中有，还会在html页面里的标记里，也就是超链接。"
   ]
  },
  {
   "cell_type": "markdown",
   "metadata": {},
   "source": [
    "### 12 | 响应状态码该怎么用？"
   ]
  },
  {
   "cell_type": "markdown",
   "metadata": {},
   "source": [
    "状态码1xx表明中间态，2xx正确态，4xx前端错误态，5xx后端错误态，3xx重定向。★★★重定向，表明前端要重发请求。"
   ]
  },
  {
   "cell_type": "markdown",
   "metadata": {},
   "source": [
    "Upgrade头字段是协商变更协议的头字段，Upgrade: HTTP/2.0, HTTPS/1.3, IRC/6.9, RTA/x11, websocket等，服务器端返回101状态码表示同意变更。"
   ]
  },
  {
   "cell_type": "markdown",
   "metadata": {},
   "source": [
    "204 No Content表示没有body"
   ]
  },
  {
   "cell_type": "markdown",
   "metadata": {},
   "source": [
    "206 Partial Content表示body体里的内容不是完整的文档实体，只是文档实体的一部分内容。206会在前端进行“范围请求”、请求获取某文档实体的部分内容时由后端返回。206是基于http进行分块下载和断点续传的基础。206响应的Content-Range字段表明一段内容在文档实体中的位置情况，如Content-Range:bytes 0-99/2000表明总计2000字节的前100字节。"
   ]
  },
  {
   "cell_type": "markdown",
   "metadata": {},
   "source": [
    "301 和302分别是永久和临时重定向，前端对301响应302响应的缓存策略不太一样，301会缓存，302不会做缓存优化。301响应302响应通过Location字段，告知前端要重发请求的uri。308和307分别是永久和临时重定向。"
   ]
  },
  {
   "cell_type": "markdown",
   "metadata": {},
   "source": [
    "304 Not Modified是缓存重定向。304响应作为 If-Modified-Since 等条件请求的响应告知前端"
   ]
  },
  {
   "cell_type": "markdown",
   "metadata": {},
   "source": [
    "405请求方法不对406请求头字段不对。413、414、431请求的某部分过大"
   ]
  },
  {
   "cell_type": "markdown",
   "metadata": {},
   "source": [
    "502 Bad Gateway是指自己服务正常，但自己访问后端服务器发生错误，代理服务器或网关服务器可能返回这种响应。"
   ]
  },
  {
   "cell_type": "markdown",
   "metadata": {},
   "source": [
    "503 Service Unavailable和响应头字段Retry-After联用，告知前端当前服务忙，多长时间后重试。"
   ]
  },
  {
   "cell_type": "markdown",
   "metadata": {},
   "source": [
    "### 13 | HTTP有哪些特点？"
   ]
  },
  {
   "cell_type": "markdown",
   "metadata": {},
   "source": [
    "http是应用层协议，ftp、ssh也是应用层协议。他们的区别在于http是传输通用数据的协议，ftp、ssh等过于专用。http的连接控制、缓存代理机制都是为更好的传输数据而发展出的功能。http的胜利，是广适用性的胜利。"
   ]
  },
  {
   "cell_type": "markdown",
   "metadata": {},
   "source": [
    "请求应答模式符合RPC（Remote Procedure Call）的工作模式，可以把HTTP请求作为远程函数调用，导致了WebService、RESTful和gPRC的出现。"
   ]
  },
  {
   "cell_type": "markdown",
   "metadata": {},
   "source": [
    "如果要保证数据100%收发成功，http和tcp是做不到的，要使用各种MQ如rabbitMQ，ZeroMQ、Kafka"
   ]
  },
  {
   "cell_type": "markdown",
   "metadata": {},
   "source": [
    "★★★以前http还有一个“无连接”的特性，但因为这很影响性能，http/1.1开始就改成keep-alive长连接机制了"
   ]
  },
  {
   "cell_type": "markdown",
   "metadata": {},
   "source": [
    "### 14 | HTTP有哪些优点？又有哪些缺点？"
   ]
  },
  {
   "cell_type": "markdown",
   "metadata": {},
   "source": [
    "http无状态的特点使得web服务器易于集群。"
   ]
  },
  {
   "cell_type": "markdown",
   "metadata": {},
   "source": [
    "http缺少“身份认证”和“完整性校验”的机制。另外，tcp的请求应答模式会导致著名的“队头阻塞”问题（Head-of-line blocking）"
   ]
  },
  {
   "cell_type": "markdown",
   "metadata": {},
   "source": [
    "### 15 | 海纳百川：HTTP的实体数据"
   ]
  },
  {
   "cell_type": "markdown",
   "metadata": {},
   "source": [
    "MIME格式标准把文档/实体/文件分为八大类，文本文件、图片文件、音频文件、视频文件、json文件、js文件、pdf文件：\n",
    "+ text/plain、text/html、text/css\n",
    "+ image/gif、image/jpeg、image/png\n",
    "+ video/mp4\n",
    "+ application/json、application/javascript、application/pdf\n",
    "特别地，不明定义二进制的文档，MIME格式标准把其标示为application/octet-stream"
   ]
  },
  {
   "cell_type": "markdown",
   "metadata": {},
   "source": [
    "Encoding type字段表明文档由哪种机密算法加密，gzip、deflate或br。deflate即zlib。gzip压缩率60%，br为html而生，可以再提高20%。`Transfer-coding:gzip`和`Content-coding:gzip`的区别是，Transfer-coding由传输层解码，Content-coding由应用自己解码"
   ]
  },
  {
   "cell_type": "markdown",
   "metadata": {},
   "source": [
    "获得了文档的Encoding type、MIME type就有了自动处理文档的能力"
   ]
  },
  {
   "cell_type": "markdown",
   "metadata": {},
   "source": [
    "前后端可以协商文档的type、encoding、language、charset。前端请求的参数多以Accept开头和后端返回的字段以Content开头。Accept可以视作Accept-type-charset。Accept的值由一个或多个MIME格式的文档类型组成，以逗号分割，例如前端：\n",
    "```\n",
    "Accept: text/html,application/xml,image/webp,image/png\n",
    "Accept-Encoding: gzip, deflate, br\n",
    "Accept-Language: zh-CN, zh, en\n",
    "Accept-Charset: gbk, utf-8 //几乎不用\n",
    "```\n",
    "后端：\n",
    "```\n",
    "Content-Type: text/html; charset=utf-8\n",
    "Content-Encoding: gzip\n",
    "Content-Language: zh-CN //几乎不用\n",
    "```\n",
    "当请求没有Accept-Encoding参数，说明前端不支持解压缩。当返回没有Content-Encoding表明文档没有被压缩。"
   ]
  },
  {
   "cell_type": "markdown",
   "metadata": {},
   "source": [
    "前端/上层/请求端"
   ]
  },
  {
   "cell_type": "markdown",
   "metadata": {},
   "source": [
    "这个Accept-Language请求参数表明：最好给我 zh-CN 的汉语文字，如果没有就用其他的汉语方言，如果还没有就给英文\n",
    "。协商字符集是通过请求参数Accept-Charset，但响应不返回Content-Charset字段，而是在Content-Type字段的数据类型后面用“charset=xxx”来表示。不过现在的浏览器都支持多种字符集，通常不会发送 Accept-Charset，而服务器也不会发送 Content-Language，因为使用的语言完全可以由字符集推断出来，所以在请求头里一般只会有 Accept-Language 字段，响应头里只会有 Content-Type 字段。"
   ]
  },
  {
   "cell_type": "markdown",
   "metadata": {},
   "source": [
    "```\n",
    "Accept: text/html,application/xml;q=0.9,*/*;q=0.8\n",
    "```\n",
    "q表示优先级。1最大表示完全接受，0.01最小，0表示拒绝。不指定则默认q=1"
   ]
  },
  {
   "cell_type": "markdown",
   "metadata": {},
   "source": [
    "响应的的Vary字段表明响应对应的请求参数：\n",
    "```\n",
    "Vary: Accept-Encoding,User-Agent,Accept\n",
    "```\n",
    "代理服务器会根据Vary字段实现缓存服务。"
   ]
  },
  {
   "cell_type": "markdown",
   "metadata": {},
   "source": [
    "### 16 | 把大象装进冰箱：HTTP传输大文件的方法"
   ]
  },
  {
   "cell_type": "markdown",
   "metadata": {},
   "source": [
    "gzip压缩算法对音视频、图片不起作用。"
   ]
  },
  {
   "cell_type": "markdown",
   "metadata": {},
   "source": [
    "chunked分块方式传输用返回字段`Transfer-Encoding: chunked`表明，使请求端、响应端不会被文档实体占满内存，中间网络也不会阻塞。"
   ]
  },
  {
   "cell_type": "markdown",
   "metadata": {},
   "source": [
    "流式文档实体的Content-length不定长，必须用chunked分块方式传输。返回字段`Transfer-Encoding: chunked`和`Content-length`互斥不能同时出现，不能`Content-length：100`同时`Transfer-Encoding: chunked`"
   ]
  },
  {
   "cell_type": "markdown",
   "metadata": {},
   "source": [
    "range范围请求是请求端发起的请求方式，请求部分文档，chunked分块是响应端发起的流式传输整个文档的方式，所以可以同时请求端请求部分文档后响应端分块传输。支持部分请求的文档在正常请求(HEAD)的返回里会返回字段`Accept-Ranges: bytes`，如果没有这个字段，就默认这个文档不支持部分请求。通过在正常请求中增加请求参数`Range: bytes=0-31`（0/31都是闭区间表示，下一个请求范围可能是32-100），将正常请求整个文档变为部分请求文档，此时，响应端返回：\n",
    "```\n",
    "206 Partial Content\n",
    "Accept-Ranges: bytes\n",
    "Content-Range: bytes 0-31/100\n",
    "Content-Length: 32\n",
    "```"
   ]
  },
  {
   "cell_type": "markdown",
   "metadata": {},
   "source": [
    "Range 的格式也很灵活，起点 x 和终点 y 可以省略。假设文件是 100 个字节，那么：\n",
    "“0-”表示从文档起点到文档终点，相当于“0-99”，即整个文件；\n",
    "“10-”是从第 10 个字节开始到文档末尾，相当于“10-99”；\n",
    "“-1”是文档的最后一个字节，相当于“99-99”；\n",
    "“-10”是从文档末尾倒数 10 个字节，相当于“90-99”。"
   ]
  },
  {
   "cell_type": "markdown",
   "metadata": {},
   "source": [
    "在线视频观看和断点续传就是通过范围请求的方式实现的，比如断点续传机制，是记录了已下载片段，当下载中断后重启下载，只需要部分请求未下载片段。"
   ]
  },
  {
   "cell_type": "markdown",
   "metadata": {},
   "source": [
    "range范围请求也可以用于整个文档的传输，通过多线程范围传输提高整个文档的下载速度。"
   ]
  },
  {
   "cell_type": "markdown",
   "metadata": {},
   "source": [
    "range参数还支持`Range: bytes=0-9, 20-29`这样的形式，表示请求文档的多个部分，简称多部分请求，返回字段`Content-Type: multipart/byteranges; boundary=00000000001`，每个文档部分/文档段用boundary值分割并且用`Content-Type Content-Range`表示该部分文档的类型和所在位置：\n",
    "```\n",
    "--00000000001\n",
    "Content-Type: text/plain\n",
    "Content-Range: bytes 0-9/96\n",
    "\n",
    "// this is\n",
    "--00000000001\n",
    "```"
   ]
  },
  {
   "cell_type": "markdown",
   "metadata": {},
   "source": [
    "### 17 | 排队也要讲效率：HTTP的连接管理"
   ]
  },
  {
   "cell_type": "markdown",
   "metadata": {},
   "source": [
    "http短连接 == http无连接"
   ]
  },
  {
   "cell_type": "markdown",
   "metadata": {},
   "source": [
    "★★★ TCP三次握手建立连接，二个数据包，是RTT * 1，四次挥手关闭连接，四个数据包，是RTT * 2。HTTP一次简单的“请求响应”需要四个包，是RTT * 2。这么算下来，浪费的时间就是“3÷5=60%”，有三分之二的时间被浪费掉了，传输效率低得惊人。"
   ]
  },
  {
   "cell_type": "markdown",
   "metadata": {},
   "source": [
    "长连接 == “持久连接”（persistent connections）==“连接保活”（keep alive）==“连接复用”（connection reuse）。"
   ]
  },
  {
   "cell_type": "markdown",
   "metadata": {},
   "source": [
    "http/1.1不需要协商长连接、是默认长连接，当然也可以在请求参数中通过`Connection: keep-alive`显式协商。而响应端也返回字段`Connection: keep-alive`表明响应长连接请求。"
   ]
  },
  {
   "cell_type": "markdown",
   "metadata": {},
   "source": [
    "Q:长连接的缺点是什么？\n",
    "A:占用内存，DDoS就是通过长连接占用内存达到攻击目的。所以请求端可以在请求参数中指定`Connection: close`表明这次通信后就关闭连接，响应端也返回字段`Connection: close`表明响应关闭连接的请求，并同时调用 Socket API 关闭 TCP 连接。"
   ]
  },
  {
   "cell_type": "markdown",
   "metadata": {},
   "source": [
    "作为响应端的Nginx服务器主动关闭连接是有两种策略的：设置超时关闭连接（比如60秒 keepalive_timeout 60）、设置次数关闭连接（比如1000次 keepalive_requests 1000），这样，到了60秒或1000次，Nginx服务器就会返回字段`Connection: close`协商关闭连接"
   ]
  },
  {
   "cell_type": "markdown",
   "metadata": {},
   "source": [
    "两台主机tcp通讯，可以维护多个连接，基于这个，一个http对应多个tcp，这就是http中并发连接（concurrent connections）的概念，多个连接就有多个队伍，这样可以达到减少队首阻塞（Head-of-line blocking）的目的。浏览器限制并发连接数为六到八个。"
   ]
  },
  {
   "cell_type": "markdown",
   "metadata": {},
   "source": [
    "Q:什么是域名分片（domain sharding）？为什么要域名分片？\n",
    "A:浏览器根据域名限制tcp并发连接数，发往一个域名的请求可以走六个tcp队列，现在在同一个服务下，增加域名数量，这样，发往同一个服务的请求浏览器会和nginx服务器建立走6n个tcp队列，达到提高并发数的目的。"
   ]
  },
  {
   "cell_type": "markdown",
   "metadata": {},
   "source": [
    "Connection字段还有一个取值`Connection:Upgrade`，配合状态码101，表明例如从http升级到WebSocket"
   ]
  },
  {
   "cell_type": "markdown",
   "metadata": {},
   "source": []
  },
  {
   "cell_type": "markdown",
   "metadata": {},
   "source": []
  },
  {
   "cell_type": "markdown",
   "metadata": {},
   "source": []
  },
  {
   "cell_type": "markdown",
   "metadata": {},
   "source": []
  },
  {
   "cell_type": "markdown",
   "metadata": {},
   "source": []
  },
  {
   "cell_type": "markdown",
   "metadata": {},
   "source": []
  }
 ],
 "metadata": {
  "kernelspec": {
   "display_name": "Python 3",
   "language": "python",
   "name": "python3"
  },
  "language_info": {
   "codemirror_mode": {
    "name": "ipython",
    "version": 3
   },
   "file_extension": ".py",
   "mimetype": "text/x-python",
   "name": "python",
   "nbconvert_exporter": "python",
   "pygments_lexer": "ipython3",
   "version": "3.7.3"
  },
  "toc": {
   "base_numbering": 1,
   "nav_menu": {},
   "number_sections": true,
   "sideBar": true,
   "skip_h1_title": false,
   "title_cell": "Table of Contents",
   "title_sidebar": "Contents",
   "toc_cell": false,
   "toc_position": {},
   "toc_section_display": true,
   "toc_window_display": false
  }
 },
 "nbformat": 4,
 "nbformat_minor": 2
}
