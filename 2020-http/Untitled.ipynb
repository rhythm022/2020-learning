{
 "cells": [
  {
   "cell_type": "markdown",
   "metadata": {},
   "source": [
    "## 破冰篇"
   ]
  },
  {
   "cell_type": "markdown",
   "metadata": {},
   "source": [
    "### 05 | 常说的“四层”和“七层”到底是什么？“五层”“六层”哪去了？（1，2）"
   ]
  },
  {
   "cell_type": "markdown",
   "metadata": {},
   "source": [
    "tcpip协议分四层，一层mac层，四层http层。\n",
    "mac帧。tcp段。http报文。"
   ]
  },
  {
   "cell_type": "markdown",
   "metadata": {},
   "source": [
    "mac地址也称局域网地址，标识网卡/网卡所属设备。"
   ]
  },
  {
   "cell_type": "markdown",
   "metadata": {},
   "source": [
    "### 06 | 域名里有哪些门道？（1，2）"
   ]
  },
  {
   "cell_type": "markdown",
   "metadata": {},
   "source": [
    "域名大小写无关"
   ]
  },
  {
   "cell_type": "markdown",
   "metadata": {},
   "source": [
    "域名和ip的关系，是服务和主机的关系，多对多。可以使用bind9开源软件搭建域名服务供内部使用，使得内部服务器可以用域名请求，比如数据库服务用域名`mysql.inner.app`、商品服务用`goods.inner.app`"
   ]
  },
  {
   "cell_type": "markdown",
   "metadata": {},
   "source": [
    "域名解析，从右往左地解析，比如`www.apple.com`：以`com`为参数对根域名服务器请求，得到对应`com`的ip，该ip为顶级域名服务器。再以`apple`为参数对该ip请求，得到对应`apple.com`的ip，该ip为权威域名服务器。简单地说，根服务器查到顶级服务器，顶级服务器查到权威服务器。最后以`www`为参数对该ip请求,得到`www.apple.com`的ip。"
   ]
  },
  {
   "cell_type": "markdown",
   "metadata": {},
   "source": [
    "DNS核心系统只有三层包括根域名服务器、顶级域名服务器、权威域名服务器。比较知名的 DNS：Google 的“8.8.8.8”、Microsoft 的“4.2.2.1”、CloudFlare 的“1.1.1.1”，都不属于DNS核心系统，而是对其的缓存。"
   ]
  },
  {
   "cell_type": "markdown",
   "metadata": {},
   "source": [
    "解析查询DNS的过程是先查询两级缓存后查询hosts文件，即先查询浏览器缓存、操作系统缓存，再查询hosts文件，再进行网络查询。"
   ]
  },
  {
   "cell_type": "markdown",
   "metadata": {},
   "source": [
    "★★在域名服务器内部改变域名到ip地址的映射关系配置，例如`www.apple.com`的ip从ipA变为ipB，就是域名重定向。"
   ]
  },
  {
   "cell_type": "markdown",
   "metadata": {},
   "source": [
    "域名查询可以返回多个ip，即一个域名对应多个主机。★★由dns服务实现根据当前负载压力的负载均衡：查询域名对应ip，返回最空闲的ip。"
   ]
  },
  {
   "cell_type": "markdown",
   "metadata": {},
   "source": [
    "遵守http协议的服务器叫Web服务器，中间的CDN服务器、网关服务器、代理服务器等都也遵守 HTTP 协议？？"
   ]
  },
  {
   "cell_type": "markdown",
   "metadata": {},
   "source": [
    "Telnet在应用层的角色，相当于UDP在传输层的角色。"
   ]
  },
  {
   "cell_type": "markdown",
   "metadata": {},
   "source": [
    "## 基础篇"
   ]
  },
  {
   "cell_type": "markdown",
   "metadata": {},
   "source": [
    "### 08 | 键入网址再按下回车，后面究竟发生了什么？（1，2）"
   ]
  },
  {
   "cell_type": "markdown",
   "metadata": {},
   "source": [
    "HTTP/1.1保持长连接是指为了发http请求建立的tcp连接，请求完毕后不会立即断开。"
   ]
  },
  {
   "cell_type": "markdown",
   "metadata": {},
   "source": [
    "★★DNS服务可能返回源服务ip，可能返回cdn的ip。cdn缓存静态资源，包括图片、CSS、vender.js。"
   ]
  },
  {
   "cell_type": "markdown",
   "metadata": {},
   "source": [
    "★★\n",
    "+ DNS返回的ip一般是负载均衡缓存代理（四层LVS或七层Nginx）或cdn缓存。四层均衡，是基于tcpip信息均衡，即基于端口ip做均衡分组。七层均衡，是基于http报文信息做均衡分组。\n",
    "+ Nginx代理先请求缓存服务(内存缓存Redis、硬盘缓存Varnish)而不直接请求应用服务。缓存时间在秒/分钟为单位。\n",
    "+ 应用服务返回报文给Nginx代理，Nginx代理返回给浏览器同时缓存给缓存服务。\n",
    "+ cdn请求的响应报文经过cdn时cdn也会缓存。"
   ]
  },
  {
   "cell_type": "markdown",
   "metadata": {},
   "source": [
    "★★由负载均衡服务实现根据端口/ip/http内容分组的负载均衡。"
   ]
  },
  {
   "cell_type": "markdown",
   "metadata": {},
   "source": [
    "访问/请求/调用"
   ]
  },
  {
   "cell_type": "markdown",
   "metadata": {},
   "source": [
    "### 09 | HTTP报文是什么样子的？（1，2）"
   ]
  },
  {
   "cell_type": "markdown",
   "metadata": {},
   "source": [
    "报文的key大小写无关、紧跟:冒号。"
   ]
  },
  {
   "cell_type": "markdown",
   "metadata": {},
   "source": [
    "http的核心内容除了报文格式及其解析外，还包括内容协商、连接控制、缓存管理。"
   ]
  },
  {
   "cell_type": "markdown",
   "metadata": {},
   "source": [
    "浏览器发送的GET请求http报文是大头儿子，头大、体小，穿梭在网络中。空行是他的脖子。Nginx默认头不超过8K。"
   ]
  },
  {
   "cell_type": "markdown",
   "metadata": {},
   "source": [
    "★★★一个域名对应多个ip，可以负载均衡。因为一台主机可以承载多个业务，所以一个ip可以有多个域名。所以即使请求报文到达源主机，主机可能依然要根据`Host`请求字段确定对应服务。域名/应用/服务。"
   ]
  },
  {
   "cell_type": "markdown",
   "metadata": {},
   "source": [
    "字段`Date`表明请求报文/响应报文的创建时间。"
   ]
  },
  {
   "cell_type": "markdown",
   "metadata": {},
   "source": [
    "字段`Server`表明生成该响应报文的程序名，出于安全考虑一般Server匿名。\n",
    "字段`X-Powered-by`表明生成该响应报文的编程语言名(如PHP/7.0.1)"
   ]
  },
  {
   "cell_type": "markdown",
   "metadata": {},
   "source": [
    "空行/CRLF/十六进制0D0A"
   ]
  },
  {
   "cell_type": "markdown",
   "metadata": {},
   "source": [
    "### 10 | 应该如何理解请求方法？（1，2）"
   ]
  },
  {
   "cell_type": "markdown",
   "metadata": {},
   "source": [
    "浏览器对文档发起GET请求，服务端可以：\n",
    "+ 响应404没有该文档\n",
    "+ 响应403有该文档但你不能看\n",
    "+ 响应带有`Allow:HEAD`的405 Method Not Allowed，有该文档你不能看，但可以再发HEAD请求请求该文档的头信息。"
   ]
  },
  {
   "cell_type": "markdown",
   "metadata": {},
   "source": [
    "HEAD请求的典型用法：判断文档是否存在、判断文档是否有更新（通过文档头信息中的的修改时间）"
   ]
  },
  {
   "cell_type": "markdown",
   "metadata": {},
   "source": [
    "POST请求是新建/create/insert请求，PUT请求是修改/update请求"
   ]
  },
  {
   "cell_type": "markdown",
   "metadata": {},
   "source": [
    "浏览器发出OPTIONS请求，服务端会响应文档的`Allow`信息描述该文档接受的操作"
   ]
  },
  {
   "cell_type": "markdown",
   "metadata": {},
   "source": [
    "PATCH、LOCK是webDAV协议里的内容，不属于http协议，LOCK请求禁止修改该文档，PATCH请求更新文档的部分内容。"
   ]
  },
  {
   "cell_type": "markdown",
   "metadata": {},
   "source": [
    "+ 只读是安全的，只有GET、HEAD是安全的。\n",
    "+ 幂等性指的是重复操作和一次操作对系统的影响是相同的。GET 和 HEAD不对系统产生影响所以是幂等的。★★★POST是insert操作，不是幂等的。PUT是幂等的。"
   ]
  },
  {
   "cell_type": "markdown",
   "metadata": {},
   "source": [
    "### 11 | 你能写出正确的网址吗？（1，2）"
   ]
  },
  {
   "cell_type": "markdown",
   "metadata": {},
   "source": [
    "统一资源标识符URI，俗称网址。uri == schema://host:port/path?query，由schema、hostport、path、query四个部分组成。host:port整体被称为authority，表明文档所在主机。schema翻译成方案名或协议名。"
   ]
  },
  {
   "cell_type": "markdown",
   "metadata": {},
   "source": [
    "http报文第一行只包含是path和query，host:port在文档的`host`信息里。"
   ]
  },
  {
   "cell_type": "markdown",
   "metadata": {},
   "source": [
    "浏览器不会把#开头的锚点信息记录在http报文中。"
   ]
  },
  {
   "cell_type": "markdown",
   "metadata": {},
   "source": [
    "uri里的中文是经utf8处理转为ascii码。"
   ]
  },
  {
   "cell_type": "markdown",
   "metadata": {},
   "source": [
    "### 12 | 响应状态码该怎么用？（1，2）"
   ]
  },
  {
   "cell_type": "markdown",
   "metadata": {},
   "source": [
    "状态码1xx表明中间态，2xx正确态，4xx前端错误态，5xx后端错误态，3xx重定向。"
   ]
  },
  {
   "cell_type": "markdown",
   "metadata": {},
   "source": [
    "返回101，表示同意变更浏览器请求的`Upgrade: HTTP/2.0`或HTTPS/1.3, IRC/6.9, RTA/x11, websocket等。"
   ]
  },
  {
   "cell_type": "markdown",
   "metadata": {},
   "source": [
    "返回204，表示该响应没有文档体(body)"
   ]
  },
  {
   "cell_type": "markdown",
   "metadata": {},
   "source": [
    "返回206，表示range请求后返回的partial文档。"
   ]
  },
  {
   "cell_type": "markdown",
   "metadata": {},
   "source": [
    "返回301永久重定向， 302临时重定向。浏览器会缓存永久的301响应，对302响应不会缓存。308永久重定向、 307临时重定向。"
   ]
  },
  {
   "cell_type": "markdown",
   "metadata": {},
   "source": [
    "返回304 Not Modified，缓存重定向，★★★表示If-Modified-Since、If-None-Match条件为true。"
   ]
  },
  {
   "cell_type": "markdown",
   "metadata": {},
   "source": [
    "返回405，表示请求方法不正确。返回406，表示请求参数不正确。"
   ]
  },
  {
   "cell_type": "markdown",
   "metadata": {},
   "source": [
    "返回413、414、431，表示请求报文某部分过长。"
   ]
  },
  {
   "cell_type": "markdown",
   "metadata": {},
   "source": [
    "返回502 Bad Gateway，表示代理服务器、网关服务器自己正常，但源服务返回错误。"
   ]
  },
  {
   "cell_type": "markdown",
   "metadata": {},
   "source": [
    "返回503 Service Unavailable，配合响应字段`Retry-After: 120`，告知浏览器当前服务器忙并在多长时间后重试。"
   ]
  },
  {
   "cell_type": "markdown",
   "metadata": {},
   "source": [
    "### 13 | HTTP有哪些特点？（1，2）"
   ]
  },
  {
   "cell_type": "markdown",
   "metadata": {},
   "source": [
    "http是应用层协议，ftp、ssh也是应用层协议。他们的区别在于http的通用性，ftp、ssh等过于专用。http的连接控制、缓存代理都是为了辅助数据传输。"
   ]
  },
  {
   "cell_type": "markdown",
   "metadata": {},
   "source": [
    "HTTP协议的请求应答模式可以视为远程函数调用，即RPC（Remote Procedure Call），这导致了WebService、RESTful和gPRC的出现。"
   ]
  },
  {
   "cell_type": "markdown",
   "metadata": {},
   "source": [
    "如果要保证数据100%收发成功，http和tcp是做不到的，要使用各种MQ如rabbitMQ，ZeroMQ、Kafka"
   ]
  },
  {
   "cell_type": "markdown",
   "metadata": {},
   "source": [
    "http/1.0是有“无连接”特性，但这很影响性能，http/1.1开始就改为长连接机制(keep-alive)了"
   ]
  },
  {
   "cell_type": "markdown",
   "metadata": {},
   "source": [
    "### 14 | HTTP有哪些优点？又有哪些缺点？（1，2）"
   ]
  },
  {
   "cell_type": "markdown",
   "metadata": {},
   "source": [
    "http的“无状态”特性使得易于集群Web服务器。"
   ]
  },
  {
   "cell_type": "markdown",
   "metadata": {},
   "source": [
    "http缺少身份认证、完整性校验机制。另外，所依赖TCP请求应答模式会导致著名的“队头阻塞”问题（Head-of-line blocking）"
   ]
  },
  {
   "cell_type": "markdown",
   "metadata": {},
   "source": [
    "## 进阶篇"
   ]
  },
  {
   "cell_type": "markdown",
   "metadata": {},
   "source": [
    "### 15 | 海纳百川：HTTP的实体数据（1，2）"
   ]
  },
  {
   "cell_type": "markdown",
   "metadata": {},
   "source": [
    "MIME格式标准把文档分为几类：\n",
    "+ 文本文件：text/plain，html、css都算文本文件：text/html、text/css\n",
    "+ 图片文件：image/gif、image/jpeg、image/png。\n",
    "+ 音频视频文件：audio/mpeg、video/mp4 \n",
    "+ json文件：application/json\n",
    "+ js文件：application/javascript\n",
    "+ pdf文件：application/pdf\n",
    "特别地，未分类的文档标示为application/octet-stream"
   ]
  },
  {
   "cell_type": "markdown",
   "metadata": {},
   "source": [
    "请求报文`Accept-Encoding: gzip, deflate, br`回复响应报文`Content-Encoding: gzip`或`Transfer-Encoding:gzip`:\n",
    "+ 请求报文没有Accept-Encoding字段，则浏览器不支持解压。响应报文没有`Content-Encoding`则文档未压缩\n",
    "+ gzip、deflate(即zlib)或br。\n",
    "+ gzip压缩率60%，且对图片、音视频无效。\n",
    "+ br压缩率80%。\n",
    "+ `Content-Encoding: gzip`的`Transfer-Encoding:gzip`区别??"
   ]
  },
  {
   "cell_type": "markdown",
   "metadata": {},
   "source": [
    "请求报文做限制，响应报文表明自己的选择，对压缩、类型、语言。\n",
    "+ Accept可以视作Accept-type-charset，多个值以逗号分割，并有优先级，在前的值优先级高。\n",
    "\n",
    "```\n",
    "Accept: text/html,application/xml,image/webp,image/png\n",
    "Accept-Language: zh-CN, zh, en\n",
    "```\n",
    "回复响应报文\n",
    "\n",
    "```\n",
    "Content-Type: text/html; charset=utf-8\n",
    "\n",
    "```\n",
    "\n"
   ]
  },
  {
   "cell_type": "markdown",
   "metadata": {},
   "source": [
    "Accept-Encoding、Accept、Accept-Language可加入质量值q表示优先级。1最大表示完全接受，0.01最小，0表示拒绝。不指定则默认q=1：\n",
    "```\n",
    "Accept: text/html,application/xml;q=0.9,*/*;q=0.8\n",
    "```"
   ]
  },
  {
   "cell_type": "markdown",
   "metadata": {},
   "source": [
    "响应字段`Vary`，说明了标识该响应的请求参数：\n",
    "```\n",
    "Vary: Accept-Encoding,User-Agent,Accept\n",
    "```\n",
    "`Vary`会参与到缓存逻辑里，具体而言，代理服务器以请求参数`Accept-Encoding`、`User-Agent`、`Accept`匹配出已缓存的响应，即如果uri相同且三者匹配则返回该缓存响应。实际而言，Nginx根据Vary做md5摘要，匹配缓存则匹配uri和摘要。"
   ]
  },
  {
   "cell_type": "markdown",
   "metadata": {},
   "source": [
    "### 16 | 把大象装进冰箱：HTTP传输大文件的方法（1，2）"
   ]
  },
  {
   "cell_type": "markdown",
   "metadata": {},
   "source": [
    "通过http报文传输大文件，一个响应报文`Transfer-Encoding: chunked`对应一个大文件，服务器把响应报文切割后流式传给浏览器。该响应报文不会有关于整个报文的content-length字段，但在原始的响应体里有每一chunk的长度"
   ]
  },
  {
   "cell_type": "markdown",
   "metadata": {},
   "source": [
    "请求报文`Range: bytes=0-31`请求文档的某一部分：\n",
    "+ 0、31为闭区间表示。\n",
    "+ 206响应报文`Content-Range: bytes 0-31/100 Content-Length: 32`\n",
    "+ range请求需文档支持，支持度可通过HEAD请求探测，若支持，响应报文`Accept-Ranges: bytes`。"
   ]
  },
  {
   "cell_type": "markdown",
   "metadata": {},
   "source": [
    "通过请求报文`Range: bytes=0-31`可以请求在线视频、断点续传。"
   ]
  },
  {
   "cell_type": "markdown",
   "metadata": {},
   "source": [
    "通过请求报文`Range: bytes=0-31`还可以实现并行下载提高下载速度。"
   ]
  },
  {
   "cell_type": "markdown",
   "metadata": {},
   "source": [
    "请求报文`Range: bytes=0-9, 20-29`，表示在一个响应里返回数据的多个分片"
   ]
  },
  {
   "cell_type": "markdown",
   "metadata": {},
   "source": [
    "### 17 | 排队也要讲效率：HTTP的连接管理（1）（2）"
   ]
  },
  {
   "cell_type": "markdown",
   "metadata": {},
   "source": [
    "http短连接 === http无连接。\n",
    "长连接 === keep alive == 连接复用connection reuse。"
   ]
  },
  {
   "cell_type": "markdown",
   "metadata": {},
   "source": [
    "TCP握手，请求端发起的请求有响应，请求端就认为连接建立了（整个握手请求端自己发的请求包要收到响应包并且要为对方发的请求包发响应包，发两个包收一个包，响应端也是一样但把发两个包合并成一个，发一个包即作为请求包又作为响应包）。\n",
    "TCP挥手，请求端发起的请求有响应，请求端不会认为连接结束了，要收到响应端发起的挥手请求，才算连接结束（一般应该是服务器端发起挥手请求//??）。\n",
    "\n",
    "HTTP中，发送请求报文的是请求端，发送响应报文的是响应端。\n",
    "TCP的“收包回包”机制只是为了保证发出的数据都被对端收到了。"
   ]
  },
  {
   "cell_type": "markdown",
   "metadata": {},
   "source": [
    "http/1.0，请求报文`Connection: keep-alive`显式要求保持连接，响应报文`Connection: keep-alive`显式确认。http/1.1不需要协商，默认保持连接。\n",
    "请求报文`Connection: close`显式要求这次请求后结束连接，响应报文`Connection: close`显式确认，此时浏览器调用 Socket API 关闭该TCP连接。\n",
    "Nginx服务器主动发出响应报文`Connection: close`有两种策略：设置超时关闭连接（比如60秒 keepalive_timeout 60）、设置次数关闭连接（比如1000次 keepalive_requests 1000）。\n",
    "总而言之，开启关闭连接的主导权在服务器。"
   ]
  },
  {
   "cell_type": "markdown",
   "metadata": {},
   "source": [
    "Q:长连接/保持连接的缺点是什么？\n",
    "A:占用内存，DDoS就是因为保持的连接占用的内存造成的。"
   ]
  },
  {
   "cell_type": "markdown",
   "metadata": {},
   "source": [
    "101响应报文`Connection:Upgrade Upgrade: websocket`让服务器从http升级到WebSocket"
   ]
  },
  {
   "cell_type": "markdown",
   "metadata": {},
   "source": [
    "访问一个域名可以拥有多个tcp连接，即一个域名对应多个tcp队列，这就是http并发连接（concurrent connections），这样可以减少队首阻塞（Head-of-line blocking）。浏览器规定一个域名至多八个并发的tcp连接。"
   ]
  },
  {
   "cell_type": "markdown",
   "metadata": {},
   "source": [
    "Q:什么是域名分片（domain sharding）？为什么要域名分片？\n",
    "A:发往一个域名的请求可以走六个tcp队列，现在增加某一个服务拥有的域名数量，浏览器能和该服务器建立6n个tcp队列，达到提高并发数的目的。"
   ]
  },
  {
   "cell_type": "markdown",
   "metadata": {},
   "source": [
    "### 18 | 四通八达：HTTP的重定向和跳转（1）（2）"
   ]
  },
  {
   "cell_type": "markdown",
   "metadata": {},
   "source": [
    "HTTP重定向：301/302响应报文`Location: /index.html`，让浏览器加载另一个Web。"
   ]
  },
  {
   "cell_type": "markdown",
   "metadata": {},
   "source": [
    "3XX响应报文`Location: /index.html`可以是相对路径包含path、query，也可以是完整路径包含scheme、host:port"
   ]
  },
  {
   "cell_type": "markdown",
   "metadata": {},
   "source": [
    "浏览器、爬虫对于301永久重定向，会更新书签、历史记录、索引库"
   ]
  },
  {
   "cell_type": "markdown",
   "metadata": {},
   "source": [
    "http站内定向可以复用连接，但站外定向需要重开新连接。"
   ]
  },
  {
   "cell_type": "markdown",
   "metadata": {},
   "source": [
    "3XX响应报文`refresh : 1;url='http://www.baidu.com'`，让浏览器延迟1秒后加载百度Web"
   ]
  },
  {
   "cell_type": "markdown",
   "metadata": {},
   "source": [
    "响应报文`Referer`/`Referrer-Policy`，是告知浏览器从哪个uri重定向。"
   ]
  },
  {
   "cell_type": "markdown",
   "metadata": {},
   "source": [
    "### 19 | 让我知道你是谁：HTTP的Cookie机制（1）（2）"
   ]
  },
  {
   "cell_type": "markdown",
   "metadata": {},
   "source": [
    "Cookie的最多使用场景是身份识别和广告跟踪，比如登陆成功后`Set-Cookie: name=yourid`让浏览器保存cookie状态。"
   ]
  },
  {
   "cell_type": "markdown",
   "metadata": {},
   "source": [
    "响应报文通过多个` Set-Cookie：sid=5469`、` Set-Cookie：system=win_x64`让浏览器保存cookie状态，请求报文以`Cookie：sid=5469;system=win_x64`形式发出cookie。"
   ]
  },
  {
   "cell_type": "markdown",
   "metadata": {},
   "source": [
    "响应报文`Set-Cookie：sid=5469;Domain: www.baidu.com;path:/`，只允许指定域名接收该cookie，`path:/`时表示该domain域名下所有path都可以接收该Cookie"
   ]
  },
  {
   "cell_type": "markdown",
   "metadata": {},
   "source": [
    "Q: 怎么删？\n",
    "A: 通过`Set-Cookie：sid=5469;Expires: Fri,07-Jun-19 08:19:00 GMT;Max-Age:10`。Expires是deadline。Max-Age是持续时间，单位秒，从浏览器收到响应算起。Max-Age优先级更高。如果不设置Max-Age和Expires，该cookie关闭浏览器时删除。"
   ]
  },
  {
   "cell_type": "markdown",
   "metadata": {},
   "source": [
    "响应报文`Set-Cookie：sid=5469;HttpOnly`屏蔽浏览器读写，杜绝XSS窃取数据。"
   ]
  },
  {
   "cell_type": "markdown",
   "metadata": {},
   "source": [
    "响应报文`Set-Cookie: sid=5469; SameSite=Strict;`，只允许拥有该cookie的域名发送该cookie。`Set-Cookie: sid=5469; SameSite=Lax;`较为宽松，允许其他域名进行a、link、GET form形式的请求时可以发送该Cookie。"
   ]
  },
  {
   "cell_type": "markdown",
   "metadata": {},
   "source": [
    "`Set-Cookie：sid=5469;Secure`限制只有htps请求可以发送该cookie。"
   ]
  },
  {
   "cell_type": "markdown",
   "metadata": {},
   "source": [
    "用户先通过官方银行域名转账，官方域名让浏览器保存cookie状态，现在，用户无意登陆恶意网站域名，恶意域名发第三方请求向官方域名，如果带上该cookie，就会可能发生转账，这就是CSRF攻击。和爬虫原理类似。"
   ]
  },
  {
   "cell_type": "markdown",
   "metadata": {},
   "source": [
    "广告跟踪的原理是：广告域名让用户保存cookie状态。这种不是当前域名拥有的cookie，称之为第三方cookie。用作广告跟踪的cookie说明标识用户身份的cookie与登陆状态无关。"
   ]
  },
  {
   "cell_type": "markdown",
   "metadata": {},
   "source": [
    "虽然现在已经出现了多种 Local Web Storage 技术，能够比 Cookie 存储更多的数据，但 Cookie 仍然是兼容性最强、最通用的浏览器数据存储手段。"
   ]
  },
  {
   "cell_type": "markdown",
   "metadata": {},
   "source": [
    "http无状态，易于集群"
   ]
  },
  {
   "cell_type": "markdown",
   "metadata": {},
   "source": [
    "### 20 | 生鲜速递：HTTP的缓存控制（1）（2）"
   ]
  },
  {
   "cell_type": "markdown",
   "metadata": {},
   "source": [
    "cookie可以缓存，整个请求本身也可以缓存。源服务器发出的响应报文`Cache-Control:max-age=30`，让浏览器相对于Date字段缓存30秒，即30秒包括网络上传输的时间。max-age不是删除缓存的时间。"
   ]
  },
  {
   "cell_type": "markdown",
   "metadata": {},
   "source": [
    "源服务器发出的响应报文`Cache-Control: max-age=10, must-revalidate`表示10秒内浏览器随意读取缓存，10秒后使用缓存必须后端返回304。\n",
    "源服务器发出的响应报文`Cache-Control: no-cache`表示任意时刻使用缓存必须后端返回304。\n",
    "源服务器发出的响应报文`Cache-Control: no-store`表示浏览器不缓存。"
   ]
  },
  {
   "cell_type": "markdown",
   "metadata": {},
   "source": [
    "点击刷新按钮时，请求报文`Cache-Control: max-age=0`，是从服务端返回文档而不使用任何缓存。Ctrl+F5的强制刷新，请求报文`Cache-Control: no-cache`,与请求报文`Cache-Control: max-age=0`效果相同。而点击前进后退按钮，许多请求直接读取缓存，不进行缓存校验。"
   ]
  },
  {
   "cell_type": "markdown",
   "metadata": {},
   "source": [
    "缓存校验的请求报文形如`If-None-Match:\"asdf32zxc\"`或`If-Modified-Since: Fri, 12 May 2006 18:53:33 GMT `。`If-None-Match`/`If-Modified-Since`值来源于响应报文`ETag`/`Last-modified`。Ngix中，Etag等于`Last-modified`拼接文档长度，所以推荐Etag。"
   ]
  },
  {
   "cell_type": "markdown",
   "metadata": {},
   "source": [
    "`Pragma:no-cache`语义与`Cache-Control:no-cache`一致，兼容HTTP/1.0。\n",
    "响应报文`Expires: Fri,07-Jun-19 08:19:00 GMT`优先级低于`Cache-Control: max-age=30`"
   ]
  },
  {
   "cell_type": "markdown",
   "metadata": {},
   "source": [
    "TTL，Time-To-Live"
   ]
  },
  {
   "cell_type": "markdown",
   "metadata": {},
   "source": [
    "### 21 | 良心中间商：HTTP的代理服务（1）（2）"
   ]
  },
  {
   "cell_type": "markdown",
   "metadata": {},
   "source": [
    "http代理，同时代表浏览器身份和代表服务器身份，具体而言，代理向服务器发请求报文，向浏览器发响应报文。代理可以修改请求报文和响应报文。隐藏被代理人信息，更安全。"
   ]
  },
  {
   "cell_type": "markdown",
   "metadata": {},
   "source": [
    "负载均衡就是代理，在80端口恭迎访客。★★★常常平时上网，请求报文发往的域名解析到代理。代理代表服务器进行负载均衡：浏览器访问一台代理，代理后面有n台源服务器。\n",
    "\n",
    "访问域名`http://www.chrono.com/`后响应报文`Origin: http://origin.io:80 Via: www.chrono.com:80`，表明`www.chrono.com`是代理，服务器是`http://origin.io:80`，★★★这就是反向代理。"
   ]
  },
  {
   "cell_type": "markdown",
   "metadata": {},
   "source": [
    "代理和服务器要么在不同端口，要么在不同机器。\n",
    "浏览器和代理三次握手发GET请求，代理再和服务器三次握手发GET请求。"
   ]
  },
  {
   "cell_type": "markdown",
   "metadata": {},
   "source": [
    "浏览器和源服务器`www.baidu.com:80`中间有两个代理：`www.chrono1.com:80` 和 `www.chrono2.com:80`，则请求报文为`Via:www.chrono1.com:80, www.chrono2.com:80`，响应报文为`Via:www.chrono2.com:80,www.chrono1.com:80 Origin:http://www.baidu.com:80`。"
   ]
  },
  {
   "cell_type": "markdown",
   "metadata": {},
   "source": [
    "服务器ip出于安全需要保密，而用户ip出于访问控制、用户画像需求需要得到，于是就出现了请求报文`X-Forwarded-For`/`X-Real-IP`。`X-Forwarded-For`值最左侧第一项是用户ip，每经过一个代理追加一个ip形如`X-Forwarded-For:127.0.0.1,12.12.12.12`，形式上与`Via`类似。`X-Real-IP`更简单，值为用户ip形如`X-Real-IP:127.0.0.1`。"
   ]
  },
  {
   "cell_type": "markdown",
   "metadata": {},
   "source": [
    "代理过程中，代理服务器需要开包读取请求参数`X-Forwarded-For`并做修改，会降低转发性能，甚至在https中无法做到。所以，就出现了不需要开包的HAProxy代理协议v1/v2。v1在http外追加`PROXY TCP4 1.1.1.1 2.2.2.2 55555 80\\r\\n`,说明用户ip端口为1.1.1.1:55555。"
   ]
  },
  {
   "cell_type": "markdown",
   "metadata": {},
   "source": [
    "X-Via/Via同义。"
   ]
  },
  {
   "cell_type": "markdown",
   "metadata": {},
   "source": [
    "在负载均衡的同时，代理还可以执行：\n",
    "内容缓存：暂存、复用服务器响应。\n",
    "健康检查：使用“心跳”等机制监控后端服务器，发现有故障就及时“踢出”集群，保证服务高可用；\n",
    "安全防护：保护被代理的后端服务器，限制 IP 地址或流量，抵御网络攻击和过载；\n",
    "加密卸载：对外网使用 SSL/TLS 加密，而在安全的内网不加密，消除加解密成本；\n",
    "数据过滤：任意指定策略修改请求或者响应；"
   ]
  },
  {
   "cell_type": "markdown",
   "metadata": {},
   "source": [
    "### 22 | 冷链周转：HTTP的缓存代理（1）"
   ]
  },
  {
   "cell_type": "markdown",
   "metadata": {},
   "source": [
    "通过响应报文`Cache-Control`、`Etag`/`Last-modified`,开启浏览器的缓存检验。"
   ]
  },
  {
   "cell_type": "markdown",
   "metadata": {},
   "source": [
    "带缓存的代理，简称缓存代理。缓存代理，可以不再请求服务器，直接返回用户304或缓存文档。"
   ]
  },
  {
   "cell_type": "markdown",
   "metadata": {},
   "source": [
    "对于“读多写少”的请求如微博热搜、爆款商品详情页，一秒内有万次请求。缓存数秒，能把巨大访问流量挡在代理，降低RPS（request per second），减轻服务器并发压力。"
   ]
  },
  {
   "cell_type": "markdown",
   "metadata": {},
   "source": [
    "缓存服务如Memcache、Redis、Varnish，与这里的缓存概念无关。这里的缓存是指由代理实现的缓存。"
   ]
  },
  {
   "cell_type": "markdown",
   "metadata": {},
   "source": [
    "+ 响应报文`Cache-Control:private;`表示关闭代理缓存，浏览器可以缓存（不说private就是代理可以缓存）。\n",
    "+ 响应报文`Cache-Control: max-age=10, proxy-revalidate`表示开启代理缓存检验，\n",
    "+ 响应报文`Cache-Control: max-age=10, must-revalidate`表示关闭代理缓存检验。"
   ]
  },
  {
   "cell_type": "markdown",
   "metadata": {},
   "source": [
    "响应报文`Cache-Control:no-transform,s-maxage=20,max-age=10,must-revalidate`：\n",
    "+ `no-transform`表示禁止代理图片格式转换\n",
    "+ `s-maxage`告知代理缓存该报文时长。如果没有`s-maxage`则根据`max-age`。"
   ]
  },
  {
   "cell_type": "markdown",
   "metadata": {},
   "source": [
    "+ 请求报文`Cache-Control:max-age=10;max-stale=10`，表示接受代理缓存20秒内的报文。\n",
    "+ 请求报文`Cache-Control:max-age=10;min-fresh=5`，表示接受代理缓存5秒内的报文。"
   ]
  }
 ],
 "metadata": {
  "kernelspec": {
   "display_name": "Python 3",
   "language": "python",
   "name": "python3"
  },
  "language_info": {
   "codemirror_mode": {
    "name": "ipython",
    "version": 3
   },
   "file_extension": ".py",
   "mimetype": "text/x-python",
   "name": "python",
   "nbconvert_exporter": "python",
   "pygments_lexer": "ipython3",
   "version": "3.7.3"
  },
  "toc": {
   "base_numbering": 1,
   "nav_menu": {
    "height": "312px",
    "width": "380px"
   },
   "number_sections": true,
   "sideBar": true,
   "skip_h1_title": false,
   "title_cell": "Table of Contents",
   "title_sidebar": "Contents",
   "toc_cell": false,
   "toc_position": {},
   "toc_section_display": true,
   "toc_window_display": false
  }
 },
 "nbformat": 4,
 "nbformat_minor": 2
}
