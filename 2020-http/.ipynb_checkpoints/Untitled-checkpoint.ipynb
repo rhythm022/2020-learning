{
 "cells": [
  {
   "cell_type": "markdown",
   "metadata": {},
   "source": [
    "## 破冰篇"
   ]
  },
  {
   "cell_type": "markdown",
   "metadata": {},
   "source": [
    "### 05 | 常说的“四层”和“七层”到底是什么？“五层”“六层”哪去了？（1，2）"
   ]
  },
  {
   "cell_type": "markdown",
   "metadata": {},
   "source": [
    "tcpip协议分四层，一层mac层，四层http层。\n",
    "mac帧。tcp段。http报文。"
   ]
  },
  {
   "cell_type": "markdown",
   "metadata": {},
   "source": [
    "mac地址也称局域网地址，标识网卡/网卡所属设备。"
   ]
  },
  {
   "cell_type": "markdown",
   "metadata": {},
   "source": [
    "### 06 | 域名里有哪些门道？（1，2）"
   ]
  },
  {
   "cell_type": "markdown",
   "metadata": {},
   "source": [
    "域名大小写无关"
   ]
  },
  {
   "cell_type": "markdown",
   "metadata": {},
   "source": [
    "域名服务让ip地址具有可读性。可以使用bind9开源软件搭建域名服务供内部使用，使得内部服务器可以用域名请求，比如数据库服务用域名`mysql.inner.app`、商品服务用`goods.inner.app`"
   ]
  },
  {
   "cell_type": "markdown",
   "metadata": {},
   "source": [
    "域名解析，从右往左地解析，比如`www.apple.com`：以`com`为参数对根域名服务器请求，得到对应`com`的ip，该ip为顶级域名服务器。再以`apple`为参数对该ip请求，得到对应`apple.com`的ip，该ip为权威域名服务器。简单地说，根服务器查到顶级服务器，顶级服务器查到权威服务器。最后以`www`为参数对该ip请求,得到`www.apple.com`的ip。"
   ]
  },
  {
   "cell_type": "markdown",
   "metadata": {},
   "source": [
    "DNS核心系统只有三层包括根域名服务器、顶级域名服务器、权威域名服务器。比较知名的 DNS：Google 的“8.8.8.8”、Microsoft 的“4.2.2.1”、CloudFlare 的“1.1.1.1”，都不属于DNS核心系统，而是对其的缓存。"
   ]
  },
  {
   "cell_type": "markdown",
   "metadata": {},
   "source": [
    "解析查询DNS的过程是先查询两级缓存后查询hosts文件，即先查询浏览器缓存、操作系统缓存，再查询hosts文件，再进行网络查询。"
   ]
  },
  {
   "cell_type": "markdown",
   "metadata": {},
   "source": [
    "★★在域名服务器内部改变域名到ip地址的映射关系配置，例如`www.apple.com`的ip从ipA变为ipB，就是域名重定向。"
   ]
  },
  {
   "cell_type": "markdown",
   "metadata": {},
   "source": [
    "域名查询可以返回ip列表，即一个域名对应多个ip/主机。★★由dns服务实现根据当前负载压力的负载均衡：查询域名对应ip，返回最空闲的ip。"
   ]
  },
  {
   "cell_type": "markdown",
   "metadata": {},
   "source": [
    "遵守http协议的服务器叫Web服务器，中间的CDN服务器、网关服务器、代理服务器等都也遵守 HTTP 协议？？"
   ]
  },
  {
   "cell_type": "markdown",
   "metadata": {},
   "source": [
    "Telnet在应用层的角色，相当于UDP在传输层的角色。"
   ]
  },
  {
   "cell_type": "markdown",
   "metadata": {},
   "source": [
    "## 基础篇"
   ]
  },
  {
   "cell_type": "markdown",
   "metadata": {},
   "source": [
    "### 08 | 键入网址再按下回车，后面究竟发生了什么？（1，2）"
   ]
  },
  {
   "cell_type": "markdown",
   "metadata": {},
   "source": [
    "HTTP/1.1长连接是指为了发http请求建立的tcp连接，请求完毕后不会立即断开。"
   ]
  },
  {
   "cell_type": "markdown",
   "metadata": {},
   "source": [
    "★★DNS服务可能返回最闲的源服务ip，可能返回cdn的ip。cdn缓存静态资源，包括图片、CSS。"
   ]
  },
  {
   "cell_type": "markdown",
   "metadata": {},
   "source": [
    "★★\n",
    "+ DNS返回的ip一般是负载均衡服务（四层LVS或七层Nginx）或cdn缓存服务。四层均衡，是基于tcpip协议，即根据端口、ip做均衡分组。七层均衡，是基于http报文信息等做均衡分组。\n",
    "+ Nginx先请求缓存服务器而不是直接请求应用服务器，比如内存缓存Redis、硬盘缓存Varnish。缓存时间在秒级分钟级。\n",
    "+ 应用服务返回给Nginx，Nginx返回给浏览器并缓存给缓存服务器。\n",
    "+ cdn来的请求的响应经过cdn时cdn也会缓存。"
   ]
  },
  {
   "cell_type": "markdown",
   "metadata": {},
   "source": [
    "★★由负载均衡服务实现根据端口/ip/http内容分组的负载均衡。"
   ]
  },
  {
   "cell_type": "markdown",
   "metadata": {},
   "source": [
    "访问/请求/调用"
   ]
  },
  {
   "cell_type": "markdown",
   "metadata": {},
   "source": [
    "### 09 | HTTP报文是什么样子的？（1，2）"
   ]
  },
  {
   "cell_type": "markdown",
   "metadata": {},
   "source": [
    "请求参数的key大小写无关、紧跟:冒号。"
   ]
  },
  {
   "cell_type": "markdown",
   "metadata": {},
   "source": [
    "http的核心内容除了报文格式及其解析外，还包括连接控制、缓存管理、内容协商机制。"
   ]
  },
  {
   "cell_type": "markdown",
   "metadata": {},
   "source": [
    "浏览器发送的GET请求http报文是大头儿子，头大、体小，穿梭在网络中。空行是他的脖子。Nginx默认头不超过8K。"
   ]
  },
  {
   "cell_type": "markdown",
   "metadata": {},
   "source": [
    "★★★一个域名对应多个ip，是负载均衡。多个域名对应一个ip，是因为一台源服务可以集中承载多个业务。这样，请求从80端口到达源服务器，源服务器通过`Host`请求字段/域名确定对应Web应用。因为，域名和Web应用是一一对应的。"
   ]
  },
  {
   "cell_type": "markdown",
   "metadata": {},
   "source": [
    "字段`Date`表明请求或响应的创建时间。"
   ]
  },
  {
   "cell_type": "markdown",
   "metadata": {},
   "source": [
    "返回字段`Server`表明返回是由哪个Web应用生成的(如Nginx)，出于安全考虑一般Server值是乱写的，与`Server`字段类似语义的`X-Powered-by`表明返回包是由哪个语言生成(如PHP/7.0.1)"
   ]
  },
  {
   "cell_type": "markdown",
   "metadata": {},
   "source": [
    "空行/CRLF/十六进制0D0A"
   ]
  },
  {
   "cell_type": "markdown",
   "metadata": {},
   "source": [
    "### 10 | 应该如何理解请求方法？（1，2）"
   ]
  },
  {
   "cell_type": "markdown",
   "metadata": {},
   "source": [
    "浏览器对文档发起GET请求，服务端可以：\n",
    "+ 响应404没有该文档\n",
    "+ 响应403有该文档但你不能看\n",
    "+ 响应带有`Allow:HEAD`的405 Method Not Allowed，有该文档你不能看，但可以再发HEAD请求请求该文档的头信息。"
   ]
  },
  {
   "cell_type": "markdown",
   "metadata": {},
   "source": [
    "HEAD请求的典型用法：判断文档是否存在、判断文档是否有更新（通过文档头信息中的的修改时间）"
   ]
  },
  {
   "cell_type": "markdown",
   "metadata": {},
   "source": [
    "POST请求是新建/create/insert请求，PUT请求是修改/update请求"
   ]
  },
  {
   "cell_type": "markdown",
   "metadata": {},
   "source": [
    "浏览器发出OPTIONS请求，服务端会响应文档的`Allow`信息描述该文档接受的操作"
   ]
  },
  {
   "cell_type": "markdown",
   "metadata": {},
   "source": [
    "PATCH、LOCK是webDAV协议里的内容，不属于http协议，LOCK请求禁止修改该文档，PATCH请求更新文档的部分内容。"
   ]
  },
  {
   "cell_type": "markdown",
   "metadata": {},
   "source": [
    "+ 只读是安全的，只有GET、HEAD是安全的。\n",
    "+ 幂等性指的是重复操作和一次操作对系统的影响是相同的。GET 和 HEAD不对系统产生影响所以是幂等的。★★★POST是insert操作，不是幂等的。PUT是幂等的。"
   ]
  },
  {
   "cell_type": "markdown",
   "metadata": {},
   "source": [
    "### 11 | 你能写出正确的网址吗？（1，2）"
   ]
  },
  {
   "cell_type": "markdown",
   "metadata": {},
   "source": [
    "统一资源标识符URI，俗称网址。uri == schema://host:port/path?query，由schema、hostport、path、query四个部分组成。host:port整体被称为authority，表明文档所在主机。schema翻译成方案名或协议名。"
   ]
  },
  {
   "cell_type": "markdown",
   "metadata": {},
   "source": [
    "http报文第一行只包含是path和query，host:port在文档的`host`信息里。"
   ]
  },
  {
   "cell_type": "markdown",
   "metadata": {},
   "source": [
    "浏览器不会把#开头的锚点信息记录在http报文中。"
   ]
  },
  {
   "cell_type": "markdown",
   "metadata": {},
   "source": [
    "uri里的中文是经utf8处理转为ascii码。"
   ]
  },
  {
   "cell_type": "markdown",
   "metadata": {},
   "source": [
    "### 12 | 响应状态码该怎么用？（1，2）"
   ]
  },
  {
   "cell_type": "markdown",
   "metadata": {},
   "source": [
    "状态码1xx表明中间态，2xx正确态，4xx前端错误态，5xx后端错误态，3xx重定向。"
   ]
  },
  {
   "cell_type": "markdown",
   "metadata": {},
   "source": [
    "返回101，表示同意变更浏览器请求的`Upgrade: HTTP/2.0`或HTTPS/1.3, IRC/6.9, RTA/x11, websocket等。"
   ]
  },
  {
   "cell_type": "markdown",
   "metadata": {},
   "source": [
    "返回204，表示该响应没有文档体(body)"
   ]
  },
  {
   "cell_type": "markdown",
   "metadata": {},
   "source": [
    "返回206，表示range请求后返回的partial文档。"
   ]
  },
  {
   "cell_type": "markdown",
   "metadata": {},
   "source": [
    "返回301永久重定向， 302临时重定向。浏览器会缓存永久的301响应，对302响应不会缓存。308永久重定向、 307临时重定向。"
   ]
  },
  {
   "cell_type": "markdown",
   "metadata": {},
   "source": [
    "返回304 Not Modified，缓存重定向，★★★表示If-Modified-Since、If-None-Match条件为true。"
   ]
  },
  {
   "cell_type": "markdown",
   "metadata": {},
   "source": [
    "返回405，表示请求方法不正确。返回406，表示请求参数不正确。"
   ]
  },
  {
   "cell_type": "markdown",
   "metadata": {},
   "source": [
    "返回413、414、431，表示请求报文某部分过长。"
   ]
  },
  {
   "cell_type": "markdown",
   "metadata": {},
   "source": [
    "返回502 Bad Gateway，表示代理服务器、网关服务器自己正常，但源服务返回错误。"
   ]
  },
  {
   "cell_type": "markdown",
   "metadata": {},
   "source": [
    "返回503 Service Unavailable，配合响应字段`Retry-After: 120`，告知浏览器当前服务器忙并在多长时间后重试。"
   ]
  },
  {
   "cell_type": "markdown",
   "metadata": {},
   "source": [
    "### 13 | HTTP有哪些特点？（1，2）"
   ]
  },
  {
   "cell_type": "markdown",
   "metadata": {},
   "source": [
    "http是应用层协议，ftp、ssh也是应用层协议。他们的区别在于http的通用性，ftp、ssh等过于专用。http的连接控制、缓存代理都是为了辅助数据传输。"
   ]
  },
  {
   "cell_type": "markdown",
   "metadata": {},
   "source": [
    "HTTP协议的请求应答模式可以视为远程函数调用，即RPC（Remote Procedure Call），这导致了WebService、RESTful和gPRC的出现。"
   ]
  },
  {
   "cell_type": "markdown",
   "metadata": {},
   "source": [
    "如果要保证数据100%收发成功，http和tcp是做不到的，要使用各种MQ如rabbitMQ，ZeroMQ、Kafka"
   ]
  },
  {
   "cell_type": "markdown",
   "metadata": {},
   "source": [
    "http/1.0是有“无连接”特性，但这很影响性能，http/1.1开始就改为长连接机制(keep-alive)了"
   ]
  },
  {
   "cell_type": "markdown",
   "metadata": {},
   "source": [
    "### 14 | HTTP有哪些优点？又有哪些缺点？（1，2）"
   ]
  },
  {
   "cell_type": "markdown",
   "metadata": {},
   "source": [
    "http的“无状态”特性使得易于集群Web服务器。"
   ]
  },
  {
   "cell_type": "markdown",
   "metadata": {},
   "source": [
    "http缺少身份认证、完整性校验机制。另外，所依赖TCP请求应答模式会导致著名的“队头阻塞”问题（Head-of-line blocking）"
   ]
  },
  {
   "cell_type": "markdown",
   "metadata": {},
   "source": [
    "## 进阶篇"
   ]
  },
  {
   "cell_type": "markdown",
   "metadata": {},
   "source": [
    "### 15 | 海纳百川：HTTP的实体数据（1，2）"
   ]
  },
  {
   "cell_type": "markdown",
   "metadata": {},
   "source": [
    "MIME格式标准把文档分为几类：\n",
    "+ 文本文件：text/plain，html、css都算文本文件：text/html、text/css\n",
    "+ 图片文件：image/gif、image/jpeg、image/png。\n",
    "+ 音频视频文件：audio/mpeg、video/mp4 \n",
    "+ json文件：application/json\n",
    "+ js文件：application/javascript\n",
    "+ pdf文件：application/pdf\n",
    "特别地，未分类的文档标示为application/octet-stream"
   ]
  },
  {
   "cell_type": "markdown",
   "metadata": {},
   "source": [
    "`Accept-Encoding: gzip, deflate, br`和`Content-Encoding: gzip`协商压缩算法，gzip、deflate(即zlib)或br。gzip算法对图片、音视频无效。gzip压缩率60%，br为html而生，可以再提高20%。`Transfer-Encoding:gzip`和`Content-Encoding:gzip`的区别是，`Transfer-Encoding`由传输层解码，`Content-Encoding`由应用自己解码"
   ]
  },
  {
   "cell_type": "markdown",
   "metadata": {},
   "source": [
    "★★★4，3请求参数2响应字段。浏览器和服务器可以协商文档类型、压缩方式、语言、字符集（type、encoding、language、charset）。Accept可以视作Accept-type-charset，多个值以逗号分割，并且有优先级，在前的值优先级高。当请求没有Accept-Encoding参数，说明浏览器不支持解压。当响应字段中没有`Content-Encoding`表明文档未被压缩：\n",
    "\n",
    "```\n",
    "Accept: text/html,application/xml,image/webp,image/png\n",
    "Accept-Language: zh-CN, zh, en\n",
    "\n",
    "Content-Type: text/html; charset=utf-8\n",
    "\n",
    "```\n",
    "Accept-Charset: gbk, utf-8不使用，因为现在浏览器可以处理任何字符集，Content-Language: zh-CN不使用因为文档使用的语言可以通过文档字符集完全推测。\n",
    "\n"
   ]
  },
  {
   "cell_type": "markdown",
   "metadata": {},
   "source": [
    "Accept、Accept-Encoding、Accept-Language可加入质量值q表示优先级。1最大表示完全接受，0.01最小，0表示拒绝。不指定则默认q=1：\n",
    "```\n",
    "Accept: text/html,application/xml;q=0.9,*/*;q=0.8\n",
    "```\n"
   ]
  },
  {
   "cell_type": "markdown",
   "metadata": {},
   "source": [
    "响应字段`Vary`，说明了标识该响应的请求参数：\n",
    "```\n",
    "Vary: Accept-Encoding,User-Agent,Accept\n",
    "```\n",
    "`Vary`会参与到缓存逻辑里，具体而言，代理服务器以请求参数`Accept-Encoding`、`User-Agent`、`Accept`匹配出已缓存的响应，即如果uri相同且三者匹配则返回该缓存的响应。实际而言，Nginx根据Vary做md5摘要，匹配缓存则匹配uri和摘要。"
   ]
  },
  {
   "cell_type": "markdown",
   "metadata": {},
   "source": [
    "### 16 | 把大象装进冰箱：HTTP传输大文件的方法（1，2）"
   ]
  },
  {
   "cell_type": "markdown",
   "metadata": {},
   "source": [
    "大文件传输，响应端可以把大文件切割后以流式返回，称为chunk返回，请求端也可以主动请求某大文件的一部分，称之为range请求。"
   ]
  },
  {
   "cell_type": "markdown",
   "metadata": {},
   "source": [
    "chunk返回的响应，以`Transfer-Encoding: chunked`标志，不会有关于整个文档的content-length字段，但在原始的响应体里有每一chunk的数据长度。"
   ]
  },
  {
   "cell_type": "markdown",
   "metadata": {},
   "source": [
    "range请求，请求文档的某一部分，以请求参数`Range: bytes=0-31`请求，0、31为闭区间表示。range请求需文档支持，支持度可通过HEAD请求探测，若支持，HEAD请求返回`Accept-Ranges: bytes`。一般range请求的返回字段为：\n",
    "```\n",
    "206 Partial Content\n",
    "Accept-Ranges: bytes\n",
    "Content-Range: bytes 0-31/100\n",
    "Content-Length: 32\n",
    "```"
   ]
  },
  {
   "cell_type": "markdown",
   "metadata": {},
   "source": [
    "请求字段`Range`值的形式很灵活，起点终点都可省略。假设文件是 100 个字节：\n",
    "“0-”表示从文档起点到文档终点，相当于“0-99”，即整个文件。“10-”是从第 10 个字节开始到文档末尾，相当于“10-99”；\n",
    "“-1”是文档的最后一个字节，相当于“99-99”；\n",
    "“-10”是从文档末尾倒数 10 个字节，相当于“90-99”。"
   ]
  },
  {
   "cell_type": "markdown",
   "metadata": {},
   "source": [
    "在线视频观看和断点续传就是通过range请求的方式实现的。断点续传是，重启下载时根据记录的已下载的部分，只请求未下载部分。"
   ]
  },
  {
   "cell_type": "markdown",
   "metadata": {},
   "source": [
    "利用range请求实现并行下载，可以提高整个文档的下载速度。"
   ]
  },
  {
   "cell_type": "markdown",
   "metadata": {},
   "source": [
    "range参数还支持`Range: bytes=0-9, 20-29`这样的形式，表示请求文档的多个range，称为多range请求，响应以`Content-Type: multipart/byteranges; boundary=00000000001`标识。每个range，用boundary值分割，并且用`Content-Type`/`Content-Range`表示该range的类型和所在位置：\n",
    "```\n",
    "HTTP/1.1 206 Partial Content\n",
    "Content-Type: multipart/byteranges; boundary=00000000001\n",
    "Content-Length: 189\n",
    "Connection: keep-alive\n",
    "Accept-Ranges: bytes\n",
    "\n",
    "\n",
    "--00000000001\n",
    "Content-Type: text/plain\n",
    "Content-Range: bytes 0-9/96\n",
    "\n",
    "// this is\n",
    "--00000000001\n",
    "Content-Type: text/plain\n",
    "Content-Range: bytes 20-29/96\n",
    "\n",
    "ext json d\n",
    "--00000000001--\n",
    "```"
   ]
  },
  {
   "cell_type": "markdown",
   "metadata": {},
   "source": [
    "### 17 | 排队也要讲效率：HTTP的连接管理（1）"
   ]
  },
  {
   "cell_type": "markdown",
   "metadata": {},
   "source": [
    "http短连接 === http无连接。\n",
    "长连接 === keep alive == 连接复用connection reuse。"
   ]
  },
  {
   "cell_type": "markdown",
   "metadata": {},
   "source": [
    "TCP握手，请求端发起的请求有响应，请求端就认为连接建立了（整个握手请求端发二收一，响应端发一收二）。\n",
    "TCP挥手，请求端发起的请求有响应，请求端不会认为连接结束了，要收到响应端发起的挥手请求，才算连接结束（一般应该是服务器端发起挥手请求//??）。\n",
    "\n",
    "HTTP一次“请求响应”，4个包，HTTP协议中的请求端比响应端是主动端。\n",
    "TCP一次“请求响应”，2个包，TCP协议中的请求端响应端是相对平等。"
   ]
  },
  {
   "cell_type": "markdown",
   "metadata": {},
   "source": [
    "http/1.0需要发送请求参数`Connection: keep-alive`显式要求长连接，并等响应端也返回字段`Connection: keep-alive`，才算长连接建立。http/1.1不需要协商长连接、是默认长连接。"
   ]
  },
  {
   "cell_type": "markdown",
   "metadata": {},
   "source": [
    "Q:长连接的缺点是什么？\n",
    "A:占用内存，DDoS就是通过长连接占用内存达到攻击目的。\n",
    "\n",
    "\n",
    "所以可以，请求端发送请求参数`Connection: close`表明这次通信后就关闭连接，等响应端也返回字段`Connection: close`，则长连接结束，此时可以调用 Socket API 关闭TCP连接。\n",
    "\n",
    "\n",
    "作为响应端的Nginx服务器主动关闭连接是有两种策略的：设置超时关闭连接（比如60秒 keepalive_timeout 60）、设置次数关闭连接（比如1000次 keepalive_requests 1000），这样，到了60秒或1000次，响应端/Nginx服务器就会返回字段`Connection: close`协商关闭连接"
   ]
  },
  {
   "cell_type": "markdown",
   "metadata": {},
   "source": [
    "Connection字段还有一个取值`Connection:Upgrade`，配合状态码101，表明例如从http升级到WebSocket"
   ]
  },
  {
   "cell_type": "markdown",
   "metadata": {},
   "source": [
    "两台主机tcp通讯，可以维护多个连接，基于这个，一个http对应多个tcp，这就是http中并发连接（concurrent connections），多个连接就有多个队列，这样可以达到减少队首阻塞（Head-of-line blocking）的目的。浏览器规定并发连接数为六到八个。"
   ]
  },
  {
   "cell_type": "markdown",
   "metadata": {},
   "source": [
    "Q:什么是域名分片（domain sharding）？为什么要域名分片？\n",
    "A:浏览器根据域名规定tcp并发连接数，发往一个域名的请求可以走六个tcp队列，现在增加某一个服务拥有的域名数量，这样，发往这个服务的请求，浏览器能和nginx服务器建立走6n个tcp队列，达到提高并发数的目的。"
   ]
  },
  {
   "cell_type": "markdown",
   "metadata": {},
   "source": [
    "### 18 | 四通八达：HTTP的重定向和跳转（1）"
   ]
  },
  {
   "cell_type": "markdown",
   "metadata": {},
   "source": [
    "HTTP重定向：点击网页上的链接，浏览器发送请求下载页面，是主动跳转，这中间可能发生了由响应端发起，要求浏览器下载另一个页面的情况。"
   ]
  },
  {
   "cell_type": "markdown",
   "metadata": {},
   "source": [
    "响应端返回301/302状态码结合`Location: /index.html`字段，要求浏览器下载指定URI的文档。"
   ]
  },
  {
   "cell_type": "markdown",
   "metadata": {},
   "source": [
    "`Location: /index.html`可以是这样相对路径，只包含path和query，也可以是完整路径/绝对路径，带上scheme和host:port"
   ]
  },
  {
   "cell_type": "markdown",
   "metadata": {},
   "source": [
    "浏览器、爬虫对于301/永久重定向，会更新书签、历史记录、索引库"
   ]
  },
  {
   "cell_type": "markdown",
   "metadata": {},
   "source": [
    "域名重定向和HTTP重定向都是响应端要求浏览器发请求"
   ]
  },
  {
   "cell_type": "markdown",
   "metadata": {},
   "source": [
    "http重定向意味着要求浏览器多发一次http请求，站内定向还好，可以长连接复用，但站外定向，就需要开新的tcp连接。"
   ]
  },
  {
   "cell_type": "markdown",
   "metadata": {},
   "source": [
    "3XX响应的响应字段`refresh : 10;url='http://www.baidu.com'`表明响应端要求浏览器延迟10秒后下载文档至百度"
   ]
  },
  {
   "cell_type": "markdown",
   "metadata": {},
   "source": [
    "响应字段`Referer`/`Referrer-Policy`，表明响应端要求重定向前浏览器请求的URI"
   ]
  },
  {
   "cell_type": "markdown",
   "metadata": {},
   "source": [
    "### 19 | 让我知道你是谁：HTTP的Cookie机制（1）"
   ]
  },
  {
   "cell_type": "markdown",
   "metadata": {},
   "source": [
    "Cookie的最多使用场景是身份识别和广告跟踪，前者一般就是登陆成功后`Set-Cookie: name=yourid`"
   ]
  },
  {
   "cell_type": "markdown",
   "metadata": {},
   "source": [
    "形象的理解Cookie：Cookie是小便签，一个浏览器拥有一堆便签，浏览器根据cookie的domin属性，把便签同步给响应端。"
   ]
  },
  {
   "cell_type": "markdown",
   "metadata": {},
   "source": [
    "响应端通过多个`Set-Cookie`字段` Set-Cookie：sid=5469`、` Set-Cookie：system=win_x64`写便签，下次请求时响应端会收到请求参数`Cookie：sid=5469;system=win_x64`。cookie没有domin、path属性就原出原进??"
   ]
  },
  {
   "cell_type": "markdown",
   "metadata": {},
   "source": [
    "服务器可以指定Cookie的作用域`Set-Cookie：sid=5469;Domain: www.baidu.com;path:/`，设置domin、path属性后浏览器只会把cookie共享给指定的请求，`path:/`时表示该domain域名下所有请求都可共享该Cookie"
   ]
  },
  {
   "cell_type": "markdown",
   "metadata": {},
   "source": [
    "Q: 怎么删？\n",
    "A: 通过`Set-Cookie：sid=5469;Expires: Fri,07-Jun-19 08:19:00 GMT;Max-Age:10`。Expires是deadline。Max-Age是持续时间，单位秒，从浏览器收到请求算起。Max-Age优先级更高。如果不设置Max-Age和Expires，那么该cookie一旦关闭浏览器就失效"
   ]
  },
  {
   "cell_type": "markdown",
   "metadata": {},
   "source": [
    "`Set-Cookie：sid=5469;HttpOnly`屏蔽浏览器读写，达到杜绝XSS窃取数据的目的"
   ]
  },
  {
   "cell_type": "markdown",
   "metadata": {},
   "source": [
    "CSRF攻击举例：用户先通过网上银行转账，网上银行写Cookie给浏览器，现在，用户无意登陆恶意网站，恶意网站发伪造的转账请求，该Cookie自动带上，就会发生转账。"
   ]
  },
  {
   "cell_type": "markdown",
   "metadata": {},
   "source": [
    "在自己的网站里，调用别人的请求，这个请求就是第三方网站发出的请求。例如你的博客中引用百度的照片，请求这张照片就是一个第三方请求，你的博客网站是第三方网站。第三方网站有在用户不知情的情况下发送带Cookie的请求的可能性，所以，主站创建cookie时通过`Set-Cookie: sid=5469; SameSite=Strict;`可以禁止第三方网站发的请求带上Cookie，只有自己的网站发的请求可以带上该cookie。`Set-Cookie: sid=5469; SameSite=Lax;`允许a、link、GET form等只读形式的第三方网站请求带上Cookie。"
   ]
  },
  {
   "cell_type": "markdown",
   "metadata": {},
   "source": [
    "`Set-Cookie：sid=5469;Secure`的cookie只随htps请求发送。"
   ]
  },
  {
   "cell_type": "markdown",
   "metadata": {},
   "source": [
    "广告跟踪的原理是：广告给用户写cookie。这种不是主站创建的cookie，称之为第三方cookie。用作广告跟踪的cookie说明了cookie用户身份识别不需要在登陆/身份验证之后"
   ]
  },
  {
   "cell_type": "markdown",
   "metadata": {},
   "source": [
    "虽然现在已经出现了多种 Local Web Storage 技术，能够比 Cookie 存储更多的数据，但 Cookie 仍然是兼容性最强、最通用的浏览器数据存储手段。"
   ]
  },
  {
   "cell_type": "markdown",
   "metadata": {},
   "source": [
    "http无状态，本身就易于集群"
   ]
  },
  {
   "cell_type": "markdown",
   "metadata": {},
   "source": [
    "### 20 | 生鲜速递：HTTP的缓存控制（1）"
   ]
  },
  {
   "cell_type": "markdown",
   "metadata": {},
   "source": [
    "cookie可以缓存，整个请求本身也可以缓存。源服务器发出的响应字段`Cache-Control:max-age=30`，该响应在浏览器端缓存30秒，缓存30秒是相对于Date字段，即30秒包括网络上传输的时间。max-age是控制http缓存时长最常用最方便的方式。"
   ]
  },
  {
   "cell_type": "markdown",
   "metadata": {},
   "source": [
    "源服务器发出的响应字段`Cache-Control: max-age=10, must-revalidate`表示10秒内浏览器随意读取缓存，10秒后读取该缓存需发起缓存校验请求返回304。\n",
    "源服务器发出的响应字段`Cache-Control: no-cache`表示在浏览器端缓存，读取该缓存需发起缓存校验请求返回304。\n",
    "源服务器发出的响应字段`Cache-Control: no-store`表示在浏览器端不缓存。"
   ]
  },
  {
   "cell_type": "markdown",
   "metadata": {},
   "source": [
    "点击刷新按钮时，浏览器设置请求参数`Cache-Control: max-age=0`,浏览器设置`Cache-Control: max-age=0`不同于服务器返回`Cache-Control: max-age=0`，是浏览器告知服务端不读取缓存/不进行缓存校验，请求返回文档。Ctrl+F5的强制刷新，浏览器设置请求参数`Cache-Control: no-cache`,与`Cache-Control: max-age=0`效果相同。而点击前进后退按钮，许多请求直接读取缓存，不进行缓存校验。"
   ]
  },
  {
   "cell_type": "markdown",
   "metadata": {},
   "source": [
    "缓存校验是浏览器以参数`If-None-Match:\"asdf32zxc\"`或`If-Modified-Since: Fri, 12 May 2006 18:53:33 GMT `请求。`If-None-Match`/`If-Modified-Since`值来源于之前服务端的响应字段`ETag`/`Last-modified`。"
   ]
  },
  {
   "cell_type": "markdown",
   "metadata": {},
   "source": [
    "`Pragma:no-cache`语义与`Cache-Control:no-cache`一致，在需要兼容HTTP/1.0时才加上。`Expires: Fri,07-Jun-19 08:19:00 GMT`也可控制缓存请求的时长，但优先级低于`Cache-Control: max-age=30`"
   ]
  },
  {
   "cell_type": "markdown",
   "metadata": {},
   "source": [
    "Ngix中Etag的计算公式是`Last-modified`的值拼接文档长度，所以，`Etag`值与`Last-modified`值差不多。"
   ]
  },
  {
   "cell_type": "markdown",
   "metadata": {},
   "source": [
    "TTL，Time-To-Live"
   ]
  },
  {
   "cell_type": "markdown",
   "metadata": {},
   "source": [
    "### 21 | 良心中间商：HTTP的代理服务（1）"
   ]
  },
  {
   "cell_type": "markdown",
   "metadata": {},
   "source": [
    "http代理服务，同时代表浏览器身份和代表源服务端身份，具体而言，代理在请求阶段代表浏览器，在返回阶段代表源服务器。代理可以修改浏览器的请求参数和源服务端的响应字段，从而隐藏被代理人的一些信息，更安全。"
   ]
  },
  {
   "cell_type": "markdown",
   "metadata": {},
   "source": [
    "负载均衡服务器就是代理服务器。★★★平时上网，我们输入域名直接请求的服务器常常是代理服务器。代表服务端身份的代理服务的最常目的就是负载均衡：浏览器面对一台负载均衡服务器/代理服务器，一台代理服务器后面有n台源服务器。"
   ]
  },
  {
   "cell_type": "markdown",
   "metadata": {},
   "source": [
    "如果访问源服务`www.baidu.com:80`中间有两个代理：`www.chrono1.com:80` 和 `www.chrono2.com:80`，则源服务收到的请求中有请求参数`Via:www.chrono1.com:80, www.chrono2.com:80`，浏览器收到的响应字段有`Via:www.chrono2.com:80,www.chrono1.com:80`和`Origin:http://www.baidu.com:80`。\n",
    "如果访问代理`http://www.chrono.com/21-1`，响应字段有`Origin: http://origin.io:80`及`Via: www.chrono.com:80`，这表明用户访问的`www.chrono.com`服务器是代理服务器,源服务器是`http://origin.io:80`，★★★这就是反向代理。"
   ]
  },
  {
   "cell_type": "markdown",
   "metadata": {},
   "source": [
    "80端口只是代理，源服务在其他端口或其他机器上，浏览器和代理三次握手发送GET请求，代理再和源服务三次握手发送GET请求。"
   ]
  },
  {
   "cell_type": "markdown",
   "metadata": {},
   "source": [
    "源服务ip出于安全需要保密，而用户ip出于访问控制、用户画像需求需要得到，所以就出现了请求参数`X-Forwarded-For`/`X-Real-IP`。`X-Forwarded-For`值最左侧第一项是用户ip，每经过一个代理追加一个ip，形如`X-Forwarded-For:127.0.0.1,12.12.12.12`，形式上与`Via`类似。`X-Real-IP`更简单，值为用户ip，形如`X-Real-IP:127.0.0.1`。"
   ]
  },
  {
   "cell_type": "markdown",
   "metadata": {},
   "source": [
    "代理过程中，代理服务器需要开包读取请求参数`X-Forwarded-For`并做修改，会降低转发性能，甚至在https中无法做到。所以，就出现了不需要开包的HAProxy代理协议v1/v2。v1在http外追加`PROXY TCP4 1.1.1.1 2.2.2.2 55555 80\\r\\n`,说明用户ip端口为1.1.1.1:55555，这样，就不需要开包获取用户ip"
   ]
  },
  {
   "cell_type": "markdown",
   "metadata": {},
   "source": [
    "X-Via/Via同义。"
   ]
  },
  {
   "cell_type": "markdown",
   "metadata": {},
   "source": [
    "在负载均衡的同时，代理服务还可以执行更多的功能，比如：\n",
    "内容缓存：暂存、复用服务器响应。\n",
    "健康检查：使用“心跳”等机制监控后端服务器，发现有故障就及时“踢出”集群，保证服务高可用；\n",
    "安全防护：保护被代理的后端服务器，限制 IP 地址或流量，抵御网络攻击和过载；\n",
    "加密卸载：对外网使用 SSL/TLS 加密，而在安全的内网不加密，消除加解密成本；\n",
    "数据过滤：任意指定策略修改请求或者响应；"
   ]
  },
  {
   "cell_type": "markdown",
   "metadata": {},
   "source": [
    "### 22 | 冷链周转：HTTP的缓存代理"
   ]
  },
  {
   "cell_type": "markdown",
   "metadata": {},
   "source": [
    "一般，源服务器返回字段`Cache-Control`的同时必须返回字段`Etag`/`Last-modified`,否则之后无法做缓存检验。"
   ]
  },
  {
   "cell_type": "markdown",
   "metadata": {},
   "source": [
    "有缓存机制的代理服务，简称缓存代理。"
   ]
  },
  {
   "cell_type": "markdown",
   "metadata": {},
   "source": [
    "对于“读多写少”的请求如微博热搜、爆款商品详情页，一秒内有万次请求。缓存数秒，能把巨大访问流量挡在代理服务这里，降低RPS（request per second），为源服务器减轻并发压力。"
   ]
  },
  {
   "cell_type": "markdown",
   "metadata": {},
   "source": [
    "源服务器/应用服务器的缓存如Memcache、Redis、Varnish，与HTTP缓存概念无关。HTTP缓存主要指代理服务器来实现的缓存。"
   ]
  },
  {
   "cell_type": "markdown",
   "metadata": {},
   "source": [
    "代理服务没有缓存的情况，每次都请求源服务器。有了缓存后，不再请求源服务器，直接返回用户304或缓存的文档，这是代表源服务器。"
   ]
  },
  {
   "cell_type": "markdown",
   "metadata": {},
   "source": []
  },
  {
   "cell_type": "markdown",
   "metadata": {},
   "source": [
    "源服务器发出的响应字段`Cache-Control:private;`表示代理服务器不能缓存，浏览器可以缓存，不加private就是代理可以缓存。`Cache-Control: max-age=10, proxy-revalidate`表示认可由代理服务器负责缓存检验，而`Cache-Control: max-age=10, must-revalidate`表示不认可代理服务器做缓存检验，必须由自己做缓存检验。"
   ]
  },
  {
   "cell_type": "markdown",
   "metadata": {},
   "source": [
    "源服务器发出的响应字段`Cache-Control:no-transform,s-maxage=20,max-age=10,must-revalidate`，其中`no-transform`是告知代理不得做转换如图片格式转换，`s-maxage`则告知代理缓存该请求的时长。如果没有`s-maxage`则代理缓存请求的时长也根据`max-age`。"
   ]
  },
  {
   "cell_type": "markdown",
   "metadata": {},
   "source": [
    "浏览器请求参数`Cache-Control:max-stale=10`和`Cache-Control:min-fresh=10`针对代理缓存，例如浏览器以参数`Cache-Control:max-age=10;max-stale=10`请求，浏览器是在主动请求代理上刚刚缓存20秒内的响应。`Cache-Control:max-age=10;min-fresh=5`，浏览器是在主动请求代理上刚刚缓存5秒内的响应。"
   ]
  }
 ],
 "metadata": {
  "kernelspec": {
   "display_name": "Python 3",
   "language": "python",
   "name": "python3"
  },
  "language_info": {
   "codemirror_mode": {
    "name": "ipython",
    "version": 3
   },
   "file_extension": ".py",
   "mimetype": "text/x-python",
   "name": "python",
   "nbconvert_exporter": "python",
   "pygments_lexer": "ipython3",
   "version": "3.7.3"
  },
  "toc": {
   "base_numbering": 1,
   "nav_menu": {
    "height": "312px",
    "width": "380px"
   },
   "number_sections": true,
   "sideBar": true,
   "skip_h1_title": false,
   "title_cell": "Table of Contents",
   "title_sidebar": "Contents",
   "toc_cell": false,
   "toc_position": {},
   "toc_section_display": true,
   "toc_window_display": false
  }
 },
 "nbformat": 4,
 "nbformat_minor": 2
}
