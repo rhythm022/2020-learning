{
 "cells": [
  {
   "cell_type": "markdown",
   "metadata": {},
   "source": [
    "### 第一章 Node简介"
   ]
  },
  {
   "cell_type": "markdown",
   "metadata": {},
   "source": [
    "一个Node进程只允许一个线程处理js。一个大型网络应用，可以由多个Node进程通过通信来协作构成，每个Node进程都构成这个应用中的一个节点，这是Node名字的本意。在分布式中，各个单点之间保持并行非阻塞异步，在这样的组织方式下，执行任务速度更快。"
   ]
  },
  {
   "cell_type": "markdown",
   "metadata": {},
   "source": [
    "js作为一门图灵完备的语言，长久以来被禁锢在浏览器中，和其他语言一样，js的能力取决于浏览器中间层提供的支持有多少。浏览器的下层是操作系统，网卡，硬盘，显卡。。。"
   ]
  },
  {
   "cell_type": "markdown",
   "metadata": {},
   "source": [
    "程序Node和chrome是对等物。他们实现的都是基于事件轮询的异步架构。"
   ]
  },
  {
   "cell_type": "markdown",
   "metadata": {},
   "source": [
    "chrome的事件操作view/dom，Node的事件操作io。"
   ]
  },
  {
   "cell_type": "markdown",
   "metadata": {},
   "source": [
    "chrome中大量计算会导致无法即时操作dom，界面卡顿。Node中大量计算会导致io设备的输入要排队输入和输出给io设备的内容要排队输出。解决方案是主线程排队处理io和dom，计算外包给其他线程，chromew是worker线程。Node是child_process。cluster模块基于child_process模块 "
   ]
  },
  {
   "cell_type": "markdown",
   "metadata": {},
   "source": [
    "在多个独立的事件中，如何沟通信息"
   ]
  },
  {
   "cell_type": "markdown",
   "metadata": {},
   "source": [
    "单线程的最大好处是不用像多线程编程那样处处在意“状态”同步，不用锁。没有线程上下文的切换。"
   ]
  },
  {
   "cell_type": "markdown",
   "metadata": {},
   "source": [
    "Node内部基于libuv实现跨平台。libuv称为平台层，在Node程序中，在操作系统的上层。libuv处理事件循环/文件操作不同操作系统的实现"
   ]
  },
  {
   "cell_type": "markdown",
   "metadata": {},
   "source": [
    "### 第二章 模块机制"
   ]
  },
  {
   "cell_type": "markdown",
   "metadata": {},
   "source": [
    "文件 === 模块 === 函数 === 对象。"
   ]
  },
  {
   "cell_type": "markdown",
   "metadata": {},
   "source": [
    "每个模块被包装成函数，函数以exports,require,module,__filename,__dirname为输入。exports就是module.exports。通过module.paths读出所有可读的node_modules目录。该函数被runInThisContext调用。"
   ]
  },
  {
   "cell_type": "markdown",
   "metadata": {},
   "source": [
    "Node导入模块，第一次导入时，会调用该模块并缓存返回对象，第二次导入时，Node直接返回该对象。用户模块返回对象缓存在Module._cache，以文件路径为key。库模块返回对象缓存在NativeModule._cache。"
   ]
  },
  {
   "cell_type": "markdown",
   "metadata": {},
   "source": [
    "Node由commonjs和es规范。commonjs涵盖模块系统/二进制处理/Buffer/字符集编码/流/进程调用/文件系统fs/套接字/单元测试/包管理。commonjs规范让js具备开发大型应用比如服务器程序/客户端程序/命令行程序的能力。commonjs和cmd是两码事。"
   ]
  },
  {
   "cell_type": "markdown",
   "metadata": {},
   "source": [
    "引入模块不指定文件类型，Node会以不同文件类型(js/json/node/目录)查找该文件。其他后缀类型的文件以js方式处理。如果查找到目录，会查找该目录的package.json的main属性指定的文件，若没有，则以目录内的index.js/index.json/index.node文件作为该目录的入口文件。"
   ]
  },
  {
   "cell_type": "markdown",
   "metadata": {},
   "source": [
    "库模块除了js模块，还存在使用c++的模块（如fs/buffer/os模块）。库模块中的c++源码，在Node被编译成二进制时，一起被编译。\n",
    "库模块的js源码放在Node项目的lib目录，库模块的c++源码放在src中。在编译c++前，会把lib的js源码放入c++的字符串数组，借助js2c.py。引入js库模块时，从内存中取得js代码字符串，也是包装成函数后调用。执行完后缓存在NativeModule._cache对象中。与用户模块的区别是，用户模块从硬盘中取代码字符串。"
   ]
  },
  {
   "cell_type": "markdown",
   "metadata": {},
   "source": [
    "c++用户模块先编译为node文件（node文件 === windows下的dll文件 === linux的so文件）。通过执行node-gyp configure和node-gyp build编译得到node文件。引入node文件，即引入c++用户模块，底层调用dlopen函数。"
   ]
  },
  {
   "cell_type": "markdown",
   "metadata": {},
   "source": [
    "Node项目通过gyp编译。linux g++/gcc === window vc++"
   ]
  },
  {
   "cell_type": "markdown",
   "metadata": {},
   "source": [
    "安装本地包 npm i <含package.json的文件夹>，安装远程包npm i url。package.json的scripts用来定义钩子函数，例如key为install，在npm install时自动执行"
   ]
  },
  {
   "cell_type": "markdown",
   "metadata": {},
   "source": [
    "### 第三章 异步IO"
   ]
  },
  {
   "cell_type": "markdown",
   "metadata": {},
   "source": [
    "io输入 === 把数据从io设备带到内存 === 向cpu输入数据。"
   ]
  },
  {
   "cell_type": "markdown",
   "metadata": {},
   "source": [
    "客户端，发起请求端。服务端，响应请求端。Node可以做客户端也可以做服务端。"
   ]
  },
  {
   "cell_type": "markdown",
   "metadata": {},
   "source": [
    "异步关系 === 不存在相互约束的关系。同步关系 === 存在相互约束的关系。如果前一行代码阻塞后一行代码，两行代码就构成了同步的关系。阻塞，只是同步的一种方式。又比如把网络数据带到本地内存的操作完成前可以调用其他操作，io操作没有阻塞其他操作，那么他们的关系就是一种异步关系。"
   ]
  },
  {
   "cell_type": "markdown",
   "metadata": {},
   "source": [
    "从硬件结构上，计算机可以在同一时刻进行io操作和cpu计算。但由于历史原因，操作系统提供了阻塞io，让应用程序中的cpu计算需要等待io操作完成。"
   ]
  },
  {
   "cell_type": "markdown",
   "metadata": {},
   "source": [
    "linux用文件表示io设备。应用程序需要使用文件符进行io操作。文件符是操作系统暴露给应用程序的操作对象。"
   ]
  },
  {
   "cell_type": "markdown",
   "metadata": {},
   "source": [
    "调用非阻塞io的应用程序，需要向操作系统轮询文件符是否完成，导致应用程序忙于轮询，无暇使用cpu时间。"
   ]
  },
  {
   "cell_type": "markdown",
   "metadata": {},
   "source": [
    "Node中的io操作不阻塞cpu计算：Node上调用io操作，会准备一个请求对象(包含请求/结果/回调)/会新开一个线程，在这个线程上执行这个请求对象，io请求完成后线程把请求对象放入某容器。Node每次tick监控该容器，取出请求对象(事件)，并执行请求对象的回调(事件的回调)。"
   ]
  },
  {
   "cell_type": "markdown",
   "metadata": {},
   "source": [
    "Node在window直接使用IOCP，在linux下利用epoll io自己实现了基于线程池的io操作，在libuv层完成兼容。IOCP：window提供的“线程池+阻塞IO”实现。"
   ]
  },
  {
   "cell_type": "markdown",
   "metadata": {},
   "source": [
    "以给cpu输入文件为例，fs.open调libuv的uv_fs_open函数，uv_fs_open函数以FSReqWrap为参数调用IOCP的QueueUserWorkItem，fs.open不等待其执行完毕立即返回继续执行后续cpu计算，而IOCP的内部线程执行FSReqWrap，达到异步io的效果。io完成，IOCP内部线程通知IOCP(通过PostQueuedCompletionStatus)。Node每次tick都监控IOCP（通过GetQueuedCompletionStatus），将FSReqWrap作为事件放入自己的观察者队列，执行他的回调。"
   ]
  },
  {
   "cell_type": "markdown",
   "metadata": {},
   "source": [
    "核心模块调内建模块，内建模块调内核API。node中利用C++拓展调用内核API"
   ]
  },
  {
   "cell_type": "markdown",
   "metadata": {},
   "source": []
  },
  {
   "cell_type": "markdown",
   "metadata": {},
   "source": []
  },
  {
   "cell_type": "markdown",
   "metadata": {},
   "source": []
  },
  {
   "cell_type": "markdown",
   "metadata": {},
   "source": [
    "node的事件循环 === 循环查询事件\\监听事件 === 在tick中依次查看各类观察者是否有事件，执行对应回调。"
   ]
  },
  {
   "cell_type": "markdown",
   "metadata": {},
   "source": [
    "主线程 === tick线程。事件循环的方式，是在tick线程中进行cpu计算，在另外的io线程进行io操作。如果tick线程cpu计算过于忙碌密集，导致无法及时请求io、接受io结果，进而导致io线程闲置，最终造成cpu计算和io操作同步/阻塞，那么整体处理效率降低。所以，建议一次tick中cpu计算不超过10ms，否则就使用setImmediate把cpu计算延后来保证请求io的及时性。"
   ]
  },
  {
   "cell_type": "markdown",
   "metadata": {},
   "source": [
    "node中存在一些与io无关的异步操作，process.nextTick/setTimeout/setImmediate。每次tick，node对各类观察者进行回调执行，次序为：idle观察者/io观察者/check观察者。process.nextTick属于idle观察者。setImmediate是check观察者。"
   ]
  },
  {
   "cell_type": "markdown",
   "metadata": {},
   "source": [
    "process.nextTick：nextTick维护一个数组，每次tick都会清空数组。\n",
    "\n",
    "setTimeout：调用setTimeout，new一个定时器对象。定时器对象由定时器观察者管理，定时器观察者维护一颗红黑树。每次tick，取出一个超时的定时器形成事件执行回调。如果上一个tick用时过长，定时器回调就会超时执行。setTimeout(0)比process.nextTick慢，插入一个nextTick回调时间复杂度是O(1)，而插入一个setTimeout回调时间复杂度是O(logn)。\n",
    "\n",
    "setImmediate：setImmediate维护一个链表，每次tick只取表头元素。所以，setImmediate的回调很可能不会在下次tick时执行、immediately执行。"
   ]
  },
  {
   "cell_type": "markdown",
   "metadata": {},
   "source": [
    "可以如工厂一样批量创建函数的函数，称为偏函数"
   ]
  },
  {
   "cell_type": "markdown",
   "metadata": {},
   "source": []
  },
  {
   "cell_type": "markdown",
   "metadata": {},
   "source": []
  },
  {
   "cell_type": "markdown",
   "metadata": {},
   "source": []
  },
  {
   "cell_type": "markdown",
   "metadata": {},
   "source": [
    "trycatch只捕获当前tick的异常"
   ]
  },
  {
   "cell_type": "markdown",
   "metadata": {},
   "source": [
    "我观察你就是被你改变。监听发布者的事件(发布订阅模式)是一种广泛存在于node的编程模式，利用事件回调进行编程。因为事件名被所有观察者共享，所以，事件回调可以被所有观察者调用，而普通回调只能被父函数调用。比如要求同一时间同一sql不能重复请求，但同一时间许多请求者又需要sql结果，解决方案：让只有一个请求者emit selected，让所有请求者on selected，这样，一个请求者发出了请求，所有的请求者都得到了sql结果，利用的就是事件回调只认事件名所带来的全局性。"
   ]
  },
  {
   "cell_type": "markdown",
   "metadata": {},
   "source": [
    "对于EventEmitter对象，如果监听了它的error事件，遇到报错时，是执行该事件回调，没有监听error事件才抛出异常。我们应该监听error事件，提高node线程健壮性。EventEmitter对象的观察者数量是被限制的，emitter.setMaxListener(0)可以解除该限制。"
   ]
  },
  {
   "cell_type": "markdown",
   "metadata": {},
   "source": [
    "雪崩问题指当高访问高并发时期缓存失效，大量请求涌入数据库超过负载。启动程序时有高访问，此时缓存为空，很容易雪崩。"
   ]
  },
  {
   "cell_type": "markdown",
   "metadata": {},
   "source": [
    "观察者可以选择只观察一次\\只被改变一次，通过emitter.once('event1'，action)。"
   ]
  },
  {
   "cell_type": "markdown",
   "metadata": {},
   "source": [
    "emit和on可以不一一对应，多个emit可以执行一个on，反之亦然。"
   ]
  },
  {
   "cell_type": "markdown",
   "metadata": {},
   "source": [
    "事件回调的调用方式：拿到发布者的引用，通过事件字符串调用。"
   ]
  },
  {
   "cell_type": "markdown",
   "metadata": {},
   "source": []
  },
  {
   "cell_type": "markdown",
   "metadata": {},
   "source": [
    "Promise所代表的那种模式在jQuery时代就被广为使用:\n",
    "$.get('/api') // 把异步操作封装成一个异步操作对象/Deferred，这个对象内含一个事件对象/Promise，可以在这个内含对象上定义事件，通过暴露 success API 或 then API。\n",
    ".success()\n",
    ".success()\n",
    ".error()\n",
    ".complete()"
   ]
  },
  {
   "cell_type": "markdown",
   "metadata": {},
   "source": [
    "Promise模式从2009年开始被抽象出来，陆续有A，B，D草案提交给CommonJS规范，使得异步IO操作的代码书写可以优雅。"
   ]
  },
  {
   "cell_type": "markdown",
   "metadata": {},
   "source": [
    "```\n",
    "const Promise = function(){\n",
    "    EventEmitter.call(this)\n",
    "}\n",
    "\n",
    "```"
   ]
  },
  {
   "cell_type": "markdown",
   "metadata": {},
   "source": [
    "$.get('/api').success或promise.then方法中为异步操作（对象）定义事件：\n",
    "```\n",
    "this.once('whenSuccess',fulfillFunc)\n",
    "```"
   ]
  },
  {
   "cell_type": "markdown",
   "metadata": {},
   "source": [
    "Deferred拥有状态域和观察者域/promise。原生异步操作顺利结束后，事先与其构成绑定关系的Deferred将状态掰成fulfilled并调用resolve事件。这种绑定关系是通过在原生对象的事件定义中调用Deferred对象的事件来达到的。"
   ]
  },
  {
   "cell_type": "markdown",
   "metadata": {},
   "source": [
    "Deferred的本质只是一个观察者对象，通过resolve/reject方法让外部能够调用其事件，通过promise属性的then方法让外部能够定义其事件。而原生异步操作API本身也是一个观察者对象，但只允许外部定义其事件。★★promise模式的本质是一个中间层，之前程序是：原本定义在原生对象上的事件，现在定义在promise对象上，原本异步操作结束后，调用原生对象上的事件，现在调用promise对象上的事件。有了中间层就有了想象空间，就可以做一些事情，比如链式promise。通过判断调用事件后的返回值，如果也是一个promise对象，那么接下来的事件定义，转移到这个新的promise对象上。"
   ]
  },
  {
   "cell_type": "markdown",
   "metadata": {},
   "source": [
    "在最初的promise规范的Deferrred实现中，除了resolve/reject事件还有progress事件。"
   ]
  },
  {
   "cell_type": "markdown",
   "metadata": {},
   "source": [
    "p88提供了一个Promise.all的实现，具体实现是new一个deferred，维护一个count计数，在传入的每个promise上调用then定义事件：count--，当count === 0时让deferred调用事件，并返回deferred.promise让外部能够定义事件。"
   ]
  },
  {
   "cell_type": "markdown",
   "metadata": {},
   "source": [
    "promise.resolve调用事件时,逐个执行事件回调队列里的函数，如果回调返回promise对象，则队列里剩下的回调转移给它"
   ]
  },
  {
   "cell_type": "markdown",
   "metadata": {},
   "source": [
    "next == emit"
   ]
  },
  {
   "cell_type": "markdown",
   "metadata": {},
   "source": [
    "如果对文件系统进行大量并发调用，操作系统的文件描述符的数量会被瞬间用光。通过queue对象进行过载保护。queue对象初始化时设置最大并发量，并暴露出push方法。当调用push方法时函数入队/调用_next。而_next方法中，如果当前并发量active小于最大并发量limit，调用队列中等待的第一个函数，否则不执行。而一旦有函数结束，在该函数的回调中active--/调用_next。如果调用push时内部队列长度_qlength已满，则直接报错。如果拒绝模式调用push时已到最大并发量，则直接报错，满足实时性方面的需求。"
   ]
  },
  {
   "cell_type": "markdown",
   "metadata": {},
   "source": [
    "超时的IO操作也会返回，只是不会返回给程序员。在IO操作发出的那一刻会同时开启一个倒数任务，倒数任务先触发回调则意味着超时。"
   ]
  },
  {
   "cell_type": "markdown",
   "metadata": {},
   "source": [
    "### 第五章 内存控制"
   ]
  },
  {
   "cell_type": "markdown",
   "metadata": {},
   "source": [
    "程序需要长时间运行，才需要内存控制"
   ]
  },
  {
   "cell_type": "markdown",
   "metadata": {},
   "source": [
    "电脑的唯二资源CPU和IO，通过编程语言如node利用。"
   ]
  },
  {
   "cell_type": "markdown",
   "metadata": {},
   "source": [
    "js的所有对象都是堆对象，在heap中生存。试试process.memoryUsage()"
   ]
  },
  {
   "cell_type": "markdown",
   "metadata": {},
   "source": [
    "node一开始会向内存申请一定的内存，当已申请的内存不够new新的对象时再向内核申请，直到达到极限直接程序崩溃。内存会有最大值是因为内存大小与GC时间正相关。1.5G的堆内存，小的GC一次50ms，一次全量GC需要1s。GC时js线程挂起。node内存最大值是2G不到。"
   ]
  },
  {
   "cell_type": "markdown",
   "metadata": {},
   "source": [
    "不同对象的生命周期长度有较大差异。node内存大小 = old-space + new-space。老生代空间最大1400MB，新生代空间最大32MB。差了40倍。"
   ]
  },
  {
   "cell_type": "markdown",
   "metadata": {},
   "source": [
    "新生代空间垃圾回收使用的是Scavenge/Cheney算法，该算法发表再1970年的ACM上。原理是把内存空间分成From/To两个区域(两个semispace空间)。垃圾回收就是检查From中的存活对象复制到To空间，然后From/To空间的角色对换。Scavenge的特点是用空间换时间。更细节的，在一次Cheney垃圾回收的过程中From中的存活对象可能复制到To空间，可能复制到老生代空间。"
   ]
  },
  {
   "cell_type": "markdown",
   "metadata": {},
   "source": [
    "一个新对象会出生在From空间，经历过一次Scavenge回收/去过一个To空间，第二次经历Scavenge回收时就会被转移到老生代。或者如果Scavenge回收时From空间已经超过4MB则把From的所有对象送往老生代空间。"
   ]
  },
  {
   "cell_type": "markdown",
   "metadata": {},
   "source": []
  },
  {
   "cell_type": "markdown",
   "metadata": {},
   "source": []
  },
  {
   "cell_type": "markdown",
   "metadata": {},
   "source": []
  },
  {
   "cell_type": "markdown",
   "metadata": {},
   "source": []
  },
  {
   "cell_type": "markdown",
   "metadata": {},
   "source": []
  },
  {
   "cell_type": "markdown",
   "metadata": {},
   "source": []
  },
  {
   "cell_type": "markdown",
   "metadata": {},
   "source": []
  },
  {
   "cell_type": "markdown",
   "metadata": {},
   "source": []
  }
 ],
 "metadata": {
  "kernelspec": {
   "display_name": "Python 3 (ipykernel)",
   "language": "python",
   "name": "python3"
  },
  "language_info": {
   "codemirror_mode": {
    "name": "ipython",
    "version": 3
   },
   "file_extension": ".py",
   "mimetype": "text/x-python",
   "name": "python",
   "nbconvert_exporter": "python",
   "pygments_lexer": "ipython3",
   "version": "3.9.7"
  },
  "toc": {
   "base_numbering": 1,
   "nav_menu": {},
   "number_sections": true,
   "sideBar": true,
   "skip_h1_title": false,
   "title_cell": "Table of Contents",
   "title_sidebar": "Contents",
   "toc_cell": false,
   "toc_position": {},
   "toc_section_display": true,
   "toc_window_display": false
  }
 },
 "nbformat": 4,
 "nbformat_minor": 4
}
