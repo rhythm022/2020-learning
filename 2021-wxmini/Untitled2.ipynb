{
 "cells": [
  {
   "cell_type": "markdown",
   "metadata": {},
   "source": [
    "Flutter，它的目标是解决移动开发中跨平台、高性能问题"
   ]
  },
  {
   "cell_type": "markdown",
   "metadata": {},
   "source": [
    "如何保证跨平台技术可以保证跨端的一致性、减少多端开发投入、提升开发效率，是所有开发者在不断探索和共同努力的方向"
   ]
  },
  {
   "cell_type": "markdown",
   "metadata": {},
   "source": [
    "目前比较流行的移动 APP 开发框架有：Hybrid、React Native、Weex、Flutter。"
   ]
  },
  {
   "cell_type": "markdown",
   "metadata": {},
   "source": [
    "Hybrid：可动态更新的页面，社区资源相对丰富，性能较差，对复杂用户界面支持不友好。适用范围：多应用于相对简单用户界面，可动态更新页面；\n",
    "\n",
    "React Native：对 IOS/ 安卓开发有一定认知，依赖 native 相关组件实现，有大量适配工作，支持热更。体验高于 Hybrid，可热更新。适用范围：更适合对原生开发有相关经验的开发者使用来开发，可实现相对复杂的界面；\n",
    "\n",
    "Weex：与 React Native 实现方式相似，依赖 Natvie 相关组件实现，封装 Native 组件工作量大，体验方面等同于 React Native，需要掌握 Vue 相关知识体系。适用范围：理论上等同于 React Native；\n",
    "\n",
    "Flutter：目前为止最接近原生的跨平台框架，自绘引擎，性能强大，流畅度高，易上手。需要具备原生开发能力，对 App 包大小影响较大。无法热更新。适用范围：自绘引擎性能强大，体验接近原生，开发易上手，可支持丰富的动画。可做较复杂动画和页面的开发。"
   ]
  },
  {
   "cell_type": "markdown",
   "metadata": {},
   "source": [
    "第一，JIT 模式下，编译速度与 JavaScript 基本持平，但是对于 AOT 模式下，Dart 效率远高于 JavaScript，JavaScript 则不具备 AOT 这个能力；\n",
    "\n",
    "第二，Flutter 使用的是自绘引擎，对 UI 的操作，布局的修改执行效率要比 React Native 效率高很多，React Native 基于 dom 树绘制修改原生组件，性能的瓶颈也在于此；\n",
    "\n",
    "第三，Dart 支持静态监测，可以在编译前发现很多编译问题，排除潜在问题（天生具备）而 React Native 则需要添加相关插件来做检测；\n",
    "\n",
    "第四点，Flutter 可支持较复杂的动画，流畅度方面表现高于 React Native。"
   ]
  },
  {
   "cell_type": "markdown",
   "metadata": {},
   "source": [
    "第一，Flutter JIT 编译模式可以极大地提升开发效率，原生开发前所未有的体会到了开发的便捷；\n",
    "\n",
    "第二，Flutter 可以严格保证跨端的一致性，AOT 模式下的高性能保证了体验流畅度，开发易上手、学习成本低，解决了我们提升开发效率和降低开发成本的诉求。"
   ]
  },
  {
   "cell_type": "markdown",
   "metadata": {},
   "source": [
    "Dart 的几点劣势：\n",
    "\n",
    "第一，不支持反射，无法在运行时动态修改类的行为；\n",
    "\n",
    "第二，线上发布代码，无法热更新；\n",
    "\n",
    "第三，Dart 相关社区目前还不是很完善，有待大家共同完善社区；\n",
    "\n",
    "第四，相关开发工具支持的力度还不是很成熟；\n",
    "\n",
    "第五，刚上手的开发者需要避免地狱嵌套这种模式，需要多注意控件的状态管理。\n",
    "\n",
    "第六，Dart 的空安全，在升级版本的时候，需要重新适配，比较头大。"
   ]
  },
  {
   "cell_type": "markdown",
   "metadata": {},
   "source": [
    "之前升级 1.9.1-1.22.6（跨动比较大），除了应用层面 API 需要适配，一些底层渲染 API 也给删除了，没有相关方法，只能通过应用层面来适配，解决升级版本兼容性的问题（修改引擎层改动量大，版本升级适配工作量多）；"
   ]
  },
  {
   "cell_type": "markdown",
   "metadata": {},
   "source": []
  },
  {
   "cell_type": "markdown",
   "metadata": {},
   "source": []
  },
  {
   "cell_type": "markdown",
   "metadata": {},
   "source": []
  },
  {
   "cell_type": "markdown",
   "metadata": {},
   "source": []
  },
  {
   "cell_type": "markdown",
   "metadata": {},
   "source": []
  },
  {
   "cell_type": "markdown",
   "metadata": {},
   "source": []
  },
  {
   "cell_type": "markdown",
   "metadata": {},
   "source": []
  },
  {
   "cell_type": "markdown",
   "metadata": {},
   "source": []
  },
  {
   "cell_type": "markdown",
   "metadata": {},
   "source": []
  },
  {
   "cell_type": "markdown",
   "metadata": {},
   "source": []
  },
  {
   "cell_type": "markdown",
   "metadata": {},
   "source": []
  },
  {
   "cell_type": "markdown",
   "metadata": {},
   "source": []
  }
 ],
 "metadata": {
  "kernelspec": {
   "display_name": "Python 3",
   "language": "python",
   "name": "python3"
  },
  "language_info": {
   "codemirror_mode": {
    "name": "ipython",
    "version": 3
   },
   "file_extension": ".py",
   "mimetype": "text/x-python",
   "name": "python",
   "nbconvert_exporter": "python",
   "pygments_lexer": "ipython3",
   "version": "3.7.3"
  },
  "toc": {
   "base_numbering": 1,
   "nav_menu": {},
   "number_sections": true,
   "sideBar": true,
   "skip_h1_title": false,
   "title_cell": "Table of Contents",
   "title_sidebar": "Contents",
   "toc_cell": false,
   "toc_position": {},
   "toc_section_display": true,
   "toc_window_display": false
  }
 },
 "nbformat": 4,
 "nbformat_minor": 2
}
