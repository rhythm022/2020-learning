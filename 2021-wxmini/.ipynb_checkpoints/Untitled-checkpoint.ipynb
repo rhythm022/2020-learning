{
 "cells": [
  {
   "cell_type": "markdown",
   "metadata": {},
   "source": [
    "### 1"
   ]
  },
  {
   "cell_type": "markdown",
   "metadata": {},
   "source": [
    "小程序拥有两个线程：渲染线程和脚本线程。 WXML 模板和 WXSS 样式\n",
    "工作在渲染线程。脚本运行在JSCore中，JSCore没有完整浏览器对象即缺少DOM API的BOM API，，所以无法运行类似 \n",
    "JQuery、Zepto 这种浏览器类库。 JSCore也没有nodejs有的native API：\n",
    "iOS JavaScriptCore WKWebView \n",
    "安卓 X5 JSCore X5 浏览器 \n",
    "小程序开发者工具 NWJS Chrome WebView "
   ]
  },
  {
   "cell_type": "markdown",
   "metadata": {},
   "source": [
    "### 2"
   ]
  },
  {
   "cell_type": "markdown",
   "metadata": {},
   "source": [
    "···打开开发工具的编辑器，在根目录下找到 app.json 文件，双击打开，在 \"pages/index/index\" 上新增一行 \"pages/wxml/index\" 保\n",
    "存文件。模拟器刷新后，读者可以在编辑器中找到 pages/wxml/index.wxml 文件···"
   ]
  },
  {
   "cell_type": "markdown",
   "metadata": {},
   "source": [
    " WXML可以不带任何的逻辑功能，也可以带一点"
   ]
  },
  {
   "cell_type": "markdown",
   "metadata": {},
   "source": [
    "WXML也是通过数据绑定来完成dom操作的"
   ]
  },
  {
   "cell_type": "markdown",
   "metadata": {},
   "source": [
    "···。如果要一次性判断多个组件标签，可以使用一个 <block/> 标签将多 个组件包装起来，并在上边使用 wx:if 控制属性。 \n",
    "<block wx:if=\"{{true}}\">   <view> view1 </view>   <view> view2 </view> </block> \n",
    "···"
   ]
  },
  {
   "cell_type": "markdown",
   "metadata": {},
   "source": [
    "如果列表中项目的位置会动态改变或者有新的项目添加到列表中，并且希望列表中的项目保持自己的特征和状态（如 <input/> 中 的输入内容， <switch/> 的选中状态），需要使用 wx:key 来指定列表中项目的唯一的标识符。 当数据改变触发渲染层重新渲染的时候，会校正带有 key 的组件，框架会确保他们被重新排序，而不是重新创建，以确保使组件保持自\n",
    "身的状态，并且提高列表渲染时的效率。 "
   ]
  },
  {
   "cell_type": "markdown",
   "metadata": {},
   "source": [
    "···保留关键字 this 代表在 for 循环中的 item 本身，这种表示需要 item 本身是一个唯一的字符串或者数字，如： <switch wx:for=\"{{numberArray}}\" wx:key=\"*this\" > {{item}} </switch> ···"
   ]
  },
  {
   "cell_type": "markdown",
   "metadata": {},
   "source": [
    "···hidden Boolean 组件是否显示 所有组件默认显示 \n",
    "data-* Any 自定义属性 组件上触发的事件时，会发送给事件处理函数 ···"
   ]
  },
  {
   "cell_type": "markdown",
   "metadata": {},
   "source": [
    "···根目录中的 app.wxss 为项目公共样式，它会被注入到小程序的\n",
    "每个页面···"
   ]
  },
  {
   "cell_type": "markdown",
   "metadata": {},
   "source": [
    "···在 CSS 中，开发者可以这样引用另一个样式文件：@import url('./test_0.css') \n",
    "这种方法在请求上不会把 test_0.css 合并到 index.css 中，也就是请求\n",
    "index.css 的时候，会多一个 test_0.css 的请求。 ···在小程序中，我们依然可以实现样式的引用，样式引用是这样写： \n",
    "@import './test_0.wxss' \n",
    "由于 WXSS 最终会被编译打包到目标文件中，用户只需要下载一次，在使用过程\n",
    "中不会因为样式的引用而产生多余的文件请求。 \n",
    "···"
   ]
  },
  {
   "cell_type": "markdown",
   "metadata": {},
   "source": [
    "···<view style=\"color: {{eleColor}}; font-size: {{eleFontsize}}\"></view> ···"
   ]
  },
  {
   "cell_type": "markdown",
   "metadata": {},
   "source": [
    "小程序支持伪元素::after::before选择器"
   ]
  },
  {
   "cell_type": "markdown",
   "metadata": {},
   "source": [
    "···iOS10 所使用的运行环境\n",
    "并没有完全的兼容到 ECMAScript 6 标准···"
   ]
  },
  {
   "cell_type": "markdown",
   "metadata": {},
   "source": [
    "··· 引用模块 var multiplyBy2 = require('./moduleA') var result = multiplyBy2(4)···"
   ]
  },
  {
   "cell_type": "markdown",
   "metadata": {},
   "source": [
    "小程序的执行的入口文件是 app.js 。\n",
    "并且会根据其中 require 的模块顺序决定文件的运行顺序。当 app.js 执行结束后，小程序会按照开发者在 app.json 中定义的 pages 的\n",
    "顺序，逐一执行"
   ]
  },
  {
   "cell_type": "markdown",
   "metadata": {},
   "source": [
    "···// 获取全局变量 var global = getApp() global.globalValue = 'globalValue' ···"
   ]
  },
  {
   "cell_type": "markdown",
   "metadata": {},
   "source": [
    "### 3"
   ]
  },
  {
   "cell_type": "markdown",
   "metadata": {},
   "source": [
    "渲染层的界面使用了 WebView 进行渲染。。一个小程序存在多个界面，所以渲染层存在多个 WebView 线程。"
   ]
  },
  {
   "cell_type": "markdown",
   "metadata": {},
   "source": [
    "native的作用：\n",
    "渲染和脚本两个线程的通信会经由微信客户端（下文中也\n",
    "会采用 Native 来代指微信客户端）做中转，逻辑层发送网络请求也经由 Native\n",
    "转发"
   ]
  },
  {
   "cell_type": "markdown",
   "metadata": {},
   "source": [
    "通过 setData 把 msg 数据从“Hello World”变成“Goodbye”，产生的 JS 对象\n",
    "对应的节点就会发生变化，此时可以对比前后两个 JS 对象得到变化的部分，然\n",
    "后把这个差异应用到原来的 Dom 树上，从而达到更新 UI 的目的，这就是“数据\n",
    "驱动”的原理"
   ]
  },
  {
   "cell_type": "markdown",
   "metadata": {},
   "source": [
    "。在渲染层，宿主环境会把 WXML 转\n",
    "化成对应的 JS 对象，在逻辑层发生数据变更的时候，我们需要通过宿主环境提\n",
    "供的 setData 方法把数据从逻辑层传递到渲染层，再经过对比前后差异，把差异\n",
    "应用在原来的 Dom 树上，渲染出正确的 UI 界面"
   ]
  },
  {
   "cell_type": "markdown",
   "metadata": {},
   "source": [
    "### 4"
   ]
  },
  {
   "cell_type": "markdown",
   "metadata": {},
   "source": [
    "内容高度不确定下保持垂直居中用flex就行"
   ]
  },
  {
   "cell_type": "markdown",
   "metadata": {},
   "source": [
    "···当容器设置 flex-direction 为 row 或 row-reverse 时，flex-basis 和 width 同\n",
    "时存在，flex-basis 优先级高于 width，也就是此时 flex-basis 代替项目的\n",
    "width 属性。···"
   ]
  },
  {
   "cell_type": "markdown",
   "metadata": {},
   "source": [
    "···flex 属性 \n",
    "是 flex-grow，flex-shrink，flex-basis 的简写方式。值设置为 none，等价于\n",
    "00 auto。值设置为 auto，等价于 1 1 auto···"
   ]
  },
  {
   "cell_type": "markdown",
   "metadata": {},
   "source": [
    "···通过 hover-class 属性改变触摸时的样式<button hover-class=\"hover\"> 点击 button </button> ···"
   ]
  },
  {
   "cell_type": "markdown",
   "metadata": {},
   "source": [
    "···<button loading=\"{{loading}}\" bindtap=\"tap\">操作</button>···"
   ]
  },
  {
   "cell_type": "markdown",
   "metadata": {},
   "source": [
    "···//page.json \n",
    " \n",
    "{\"enablePullDownRefresh\": true } \n",
    " \n",
    " \n",
    " \n",
    "//page.js \n",
    " \n",
    "Page({ \n",
    " \n",
    "  onPullDownRefresh: function() { \n",
    " \n",
    "    // 用户触发了下拉刷新操作 \n",
    " \n",
    "    // 拉取新数据重新渲染界面 \n",
    " \n",
    "    // wx.stopPullDownRefresh() // 可以停止当前页面的下拉刷新。 \n",
    " \n",
    "  }\n",
    "  })···"
   ]
  },
  {
   "cell_type": "markdown",
   "metadata": {},
   "source": [
    "···时我们可以在 wx.request 的 header 参数设置\n",
    "content-type 头部为 application/json\n",
    "method: 'POST', \n",
    " \n",
    "  header: { 'content-type': 'application/json'},\n",
    "  ，···无论 HTTP 状态码是多少都会进入 success\n",
    "回调，···如果解析成功，那么 data 字\n",
    "段的值会被设置成解析后的Object对象，其他情况data字段都是String类型，\n",
    "其值为 HTTP 回包包体。 \n",
    "4···"
   ]
  },
  {
   "cell_type": "markdown",
   "metadata": {},
   "source": [
    "···，同时 TLS 的版本必须支持 1.2 及以上版本，可以在开 发者工具的 console 面板输入 showRequestInfo()···"
   ]
  },
  {
   "cell_type": "markdown",
   "metadata": {},
   "source": [
    "···。小程序 request 默认超时时间是 60 秒，··· app.json 指定 wx.requset 超时时间为 3000 毫秒 \n",
    "{ \n",
    " \n",
    "  \"networkTimeout\": { \n",
    " \n",
    "    \"request\": 3000 \n",
    " \n",
    "  } \n",
    " \n",
    "} ···"
   ]
  },
  {
   "cell_type": "markdown",
   "metadata": {},
   "source": []
  },
  {
   "cell_type": "markdown",
   "metadata": {},
   "source": []
  },
  {
   "cell_type": "markdown",
   "metadata": {},
   "source": []
  },
  {
   "cell_type": "markdown",
   "metadata": {},
   "source": []
  },
  {
   "cell_type": "markdown",
   "metadata": {},
   "source": []
  },
  {
   "cell_type": "markdown",
   "metadata": {},
   "source": []
  }
 ],
 "metadata": {
  "kernelspec": {
   "display_name": "Python 3",
   "language": "python",
   "name": "python3"
  },
  "language_info": {
   "codemirror_mode": {
    "name": "ipython",
    "version": 3
   },
   "file_extension": ".py",
   "mimetype": "text/x-python",
   "name": "python",
   "nbconvert_exporter": "python",
   "pygments_lexer": "ipython3",
   "version": "3.7.3"
  },
  "toc": {
   "base_numbering": 1,
   "nav_menu": {},
   "number_sections": true,
   "sideBar": true,
   "skip_h1_title": false,
   "title_cell": "Table of Contents",
   "title_sidebar": "Contents",
   "toc_cell": false,
   "toc_position": {},
   "toc_section_display": true,
   "toc_window_display": false
  }
 },
 "nbformat": 4,
 "nbformat_minor": 2
}
