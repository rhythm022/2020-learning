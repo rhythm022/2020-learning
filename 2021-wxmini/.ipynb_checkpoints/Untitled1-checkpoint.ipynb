{
 "cells": [
  {
   "cell_type": "markdown",
   "metadata": {},
   "source": [
    "小程序的目录结构：微信小程序是由page聚合而成的，page之间通过wx.navigateTo跳转。一个page对应三类文件。WXML/WXSS文件负责描述渲染，JS文件负责描述业务逻辑，JSON文件负责放配置项。简而言之，一个page主要抽象成两部分：渲染逻辑、业务逻辑。可以说，所有page的WXML/WXSS文件共同构成整个小程序的渲染层，所有page的JS文件共同构成整个小程序的业务逻辑层。现在这两层运行在不同线程上。"
   ]
  },
  {
   "cell_type": "markdown",
   "metadata": {},
   "source": [
    "1、对于page的WXML文件的编译和使用：WXML是小程序使用的标签语言，Exparser是小程序组件系统的代号,Exparser内置编译器接受WXML文件列表输出js代码，输出的js代码直接是page的结构生成函数。这些代码编译好，放在代码包里。这些函数随时执行，随时得到一个包含page完整页面结构和样式信息的JSON。也就是说，运行时全权负责渲染的，就是这些结构生成函数。\n",
    "\n",
    "2、对于page的JS文件的编译：所有page的JS文件，会打包成一个JS文件。小程序的入口文件是app.js。当app.js打包完，小程序会按照开发者在全局配置中定义的pages的列表，逐一打包page的JS文件，最终合成一个app-service.js，放进代码包。"
   ]
  },
  {
   "cell_type": "markdown",
   "metadata": {},
   "source": [
    "小程序的page代码的加载：第一次点开小程序的时候，作为宿主的微信客户端线程开始下载js代码包，与此同时开启两个js线程，一个带dom一个不带dom。带dom的叫webview，不带dom的叫jscore。代码下载下来后，交给他们执行。不带dom的线程负责执行app-service.js(page的业务逻辑)，带dom的线程负责执行page的结构生成函数。\n",
    "总而言之，在这个初始化阶段，会加载小程序基础库、jscore加载app-service.js、webview加载结构生成函数，为page的实例化和渲染做好准备。"
   ]
  },
  {
   "cell_type": "markdown",
   "metadata": {},
   "source": [
    "小程序的page的实例化和渲染：小程序启动时会选取首页page做实例化和渲染，其他page的实例化和渲染，是在以后每次调用wx.navigateTo(\"path\")时发生的。调用wx.navigateTo时，新开一个webview线程，注入page的结构生成函数然后等待jscore线程的发号令。与此同时在另一边，调用wx.navigateTo时，jscore线程在实例化page(page实例包含事件函数和页面数据)，实例化后jscore释放信号让webview执行结构生成函数。\n",
    "\n",
    "以后page实例中的数据变化了，需要重渲染，jscore线程再请求page专属的webview线程执行结构生成函数。简而言之，所有组件的纯业务逻辑都在同一个线程(jscore)中执行，但渲染由各自的渲染线程(webview)执行。结构生成函数输出虚拟dom(JSON)，虚拟dom交给Exparser的web渲染器使用dom进行渲染。"
   ]
  },
  {
   "cell_type": "markdown",
   "metadata": {},
   "source": [
    "再说一遍，当运行时用户跳转执行wx.navigateTo(\"path\")时，path的结构生成函数注入新开的webview线程，执行它生成页面结构(虚拟dom)，虚拟dom是普通JSON。虚拟dom交给Exparser的web渲染器使用dom进行渲染。"
   ]
  },
  {
   "cell_type": "markdown",
   "metadata": {},
   "source": [
    "web和原生混合渲染模式：Exparser是微信小程序使用的组件化框架,职责涵盖处理数据绑定、组件系统、事件系统、通信系统等一系列框架逻辑。在webview中实际执行渲染、渲染组件、调用结构生成函数的就是他。微信为开发者提供了一些现成可以使用的Exparser组件，大部分是在webview中由DOM实现渲染的，但也有一小部分不由DOM实现渲染而是由原生实现渲染，这类组件称为“原生组件”。原生组件的实现原理是，由webView渲染一个占位的空白区域，留出位置，再由原生API在相同位置渲染一层图像画面。"
   ]
  },
  {
   "cell_type": "markdown",
   "metadata": {},
   "source": [
    "渲染层和逻辑层的双向通讯：微信小程序中有webview线程在监听dom事件，dom事件触发时，事件最终会传给jscore线程让jscore线程执行事件函数。jscore线程在事件函数中执行完业务逻辑后执行setData，最终会把新data传给webview线程执行渲染、执行结构生成函数。"
   ]
  },
  {
   "cell_type": "markdown",
   "metadata": {},
   "source": [
    "小程序的困难点"
   ]
  },
  {
   "cell_type": "markdown",
   "metadata": {},
   "source": [
    "小程序的tip"
   ]
  },
  {
   "cell_type": "markdown",
   "metadata": {},
   "source": []
  },
  {
   "cell_type": "markdown",
   "metadata": {},
   "source": []
  },
  {
   "cell_type": "markdown",
   "metadata": {},
   "source": []
  },
  {
   "cell_type": "markdown",
   "metadata": {},
   "source": []
  },
  {
   "cell_type": "markdown",
   "metadata": {},
   "source": []
  },
  {
   "cell_type": "markdown",
   "metadata": {},
   "source": []
  },
  {
   "cell_type": "markdown",
   "metadata": {},
   "source": []
  },
  {
   "cell_type": "markdown",
   "metadata": {},
   "source": []
  },
  {
   "cell_type": "markdown",
   "metadata": {},
   "source": []
  },
  {
   "cell_type": "markdown",
   "metadata": {},
   "source": []
  },
  {
   "cell_type": "markdown",
   "metadata": {},
   "source": []
  },
  {
   "cell_type": "markdown",
   "metadata": {},
   "source": []
  },
  {
   "cell_type": "markdown",
   "metadata": {},
   "source": []
  },
  {
   "cell_type": "markdown",
   "metadata": {},
   "source": []
  },
  {
   "cell_type": "markdown",
   "metadata": {},
   "source": []
  },
  {
   "cell_type": "markdown",
   "metadata": {},
   "source": []
  },
  {
   "cell_type": "markdown",
   "metadata": {},
   "source": []
  },
  {
   "cell_type": "markdown",
   "metadata": {},
   "source": []
  },
  {
   "cell_type": "markdown",
   "metadata": {},
   "source": []
  },
  {
   "cell_type": "markdown",
   "metadata": {},
   "source": []
  },
  {
   "cell_type": "markdown",
   "metadata": {},
   "source": []
  },
  {
   "cell_type": "markdown",
   "metadata": {},
   "source": []
  },
  {
   "cell_type": "markdown",
   "metadata": {},
   "source": []
  },
  {
   "cell_type": "markdown",
   "metadata": {},
   "source": []
  },
  {
   "cell_type": "markdown",
   "metadata": {},
   "source": []
  },
  {
   "cell_type": "markdown",
   "metadata": {},
   "source": []
  },
  {
   "cell_type": "markdown",
   "metadata": {},
   "source": []
  },
  {
   "cell_type": "markdown",
   "metadata": {},
   "source": []
  },
  {
   "cell_type": "markdown",
   "metadata": {},
   "source": []
  },
  {
   "cell_type": "markdown",
   "metadata": {},
   "source": []
  }
 ],
 "metadata": {
  "kernelspec": {
   "display_name": "Python 3",
   "language": "python",
   "name": "python3"
  },
  "language_info": {
   "codemirror_mode": {
    "name": "ipython",
    "version": 3
   },
   "file_extension": ".py",
   "mimetype": "text/x-python",
   "name": "python",
   "nbconvert_exporter": "python",
   "pygments_lexer": "ipython3",
   "version": "3.7.3"
  },
  "toc": {
   "base_numbering": 1,
   "nav_menu": {},
   "number_sections": true,
   "sideBar": true,
   "skip_h1_title": false,
   "title_cell": "Table of Contents",
   "title_sidebar": "Contents",
   "toc_cell": false,
   "toc_position": {},
   "toc_section_display": true,
   "toc_window_display": false
  }
 },
 "nbformat": 4,
 "nbformat_minor": 2
}
