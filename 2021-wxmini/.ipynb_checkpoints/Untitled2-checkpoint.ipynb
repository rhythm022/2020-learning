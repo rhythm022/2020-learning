{
 "cells": [
  {
   "cell_type": "markdown",
   "metadata": {},
   "source": [
    "Webview和Flutter相比较：\n",
    "Webview和Flutter都使用自带的渲染引擎(skia)，而非OS提供的原生渲染。假设skia自身的渲染速度和原生渲染速度在一个数量级上，那么Webview和Flutter和原生的速度应该差不多。导致Flutter比Webview更快的原因是：Flutter的特性远远简单于Webview，无需实现由HTML5和CSS3等规范提供的特性，这是Flutter快的第一大原因。其次，Flutter使用强约束语言Dart，可以进行编译优化，这是Flutter快的次要原因。\n",
    "\n",
    "Webview和RN相比较：\n",
    "假设skia渲染速度和原生渲染速度在一个数量级上，RN使用原生渲染、需要与原生频繁通信，那么RN速度就会比同样特性简单的Flutter慢。却依然快于特性复杂的Webview。"
   ]
  },
  {
   "cell_type": "markdown",
   "metadata": {},
   "source": [
    "用实用性上考虑：\n",
    "达到同样界面样式效果，使用Flutter，其布局方式更少所以代码更繁琐，同时其样式代码和逻辑代码只能通过抽函数方式解耦，这使得编码难度加大。\n",
    "RN/uni-app可以热更新，Flutter不可以。\n",
    "为了使用os能力和skd调用，RN/Flutter需要更多安卓、iOS平台知识。"
   ]
  },
  {
   "cell_type": "markdown",
   "metadata": {},
   "source": []
  },
  {
   "cell_type": "markdown",
   "metadata": {},
   "source": []
  },
  {
   "cell_type": "markdown",
   "metadata": {},
   "source": []
  },
  {
   "cell_type": "markdown",
   "metadata": {},
   "source": []
  },
  {
   "cell_type": "markdown",
   "metadata": {},
   "source": []
  },
  {
   "cell_type": "markdown",
   "metadata": {},
   "source": []
  },
  {
   "cell_type": "markdown",
   "metadata": {},
   "source": []
  },
  {
   "cell_type": "markdown",
   "metadata": {},
   "source": []
  },
  {
   "cell_type": "markdown",
   "metadata": {},
   "source": []
  },
  {
   "cell_type": "markdown",
   "metadata": {},
   "source": []
  },
  {
   "cell_type": "markdown",
   "metadata": {},
   "source": []
  },
  {
   "cell_type": "markdown",
   "metadata": {},
   "source": []
  },
  {
   "cell_type": "markdown",
   "metadata": {},
   "source": []
  },
  {
   "cell_type": "markdown",
   "metadata": {},
   "source": []
  },
  {
   "cell_type": "markdown",
   "metadata": {},
   "source": []
  },
  {
   "cell_type": "markdown",
   "metadata": {},
   "source": []
  },
  {
   "cell_type": "markdown",
   "metadata": {},
   "source": []
  },
  {
   "cell_type": "markdown",
   "metadata": {},
   "source": []
  }
 ],
 "metadata": {
  "kernelspec": {
   "display_name": "Python 3",
   "language": "python",
   "name": "python3"
  },
  "language_info": {
   "codemirror_mode": {
    "name": "ipython",
    "version": 3
   },
   "file_extension": ".py",
   "mimetype": "text/x-python",
   "name": "python",
   "nbconvert_exporter": "python",
   "pygments_lexer": "ipython3",
   "version": "3.7.3"
  },
  "toc": {
   "base_numbering": 1,
   "nav_menu": {},
   "number_sections": true,
   "sideBar": true,
   "skip_h1_title": false,
   "title_cell": "Table of Contents",
   "title_sidebar": "Contents",
   "toc_cell": false,
   "toc_position": {},
   "toc_section_display": true,
   "toc_window_display": false
  }
 },
 "nbformat": 4,
 "nbformat_minor": 2
}
