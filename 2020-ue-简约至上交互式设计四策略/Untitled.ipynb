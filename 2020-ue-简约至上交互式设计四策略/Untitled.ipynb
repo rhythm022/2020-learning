{
 "cells": [
  {
   "cell_type": "markdown",
   "metadata": {},
   "source": [
    "简单，意味着只给用户控制，围绕控制所需的准备工作不应交给用户，所以同时也不需要说明书。"
   ]
  },
  {
   "cell_type": "markdown",
   "metadata": {},
   "source": [
    "设计时，要考虑用户在受扰动情况下，能够顺利完成控制，比如工作随时会被打断而没有整块时间做营销计划，比如要求10秒内完成操作：\n",
    "把任务做的尽量短，并提供一个任务检查表以便回来后马上想起接下来应该从哪开始"
   ]
  },
  {
   "cell_type": "markdown",
   "metadata": {},
   "source": [
    "主流用户和专家用户对控制的精度要求是不一致。"
   ]
  },
  {
   "cell_type": "markdown",
   "metadata": {},
   "source": [
    "ToDoList中，上千条任务，对用户就是一种干扰，妨碍了他们做控制"
   ]
  },
  {
   "cell_type": "markdown",
   "metadata": {},
   "source": [
    "信息是低于控制的。"
   ]
  },
  {
   "cell_type": "markdown",
   "metadata": {},
   "source": [
    "我们并不是喜欢简单，我们是喜欢控制，在极端/干扰情况下，也可控"
   ]
  },
  {
   "cell_type": "markdown",
   "metadata": {},
   "source": [
    "控制结果"
   ]
  },
  {
   "cell_type": "markdown",
   "metadata": {},
   "source": [
    "控制是用户行为，如何实现控制是系统行为，UX设计的一步就是列出用户行为的所有步骤/故事：\n",
    "你站在城市街头，突然一阵骚动：周杰伦正向你走来。你迅速从口袋里掏出手机，把它交给一位路人，请他帮忙拍了一段你和周杰伦的视频，然后你把视频分享到微博。\n",
    "这个故事告诉你：\n",
    "+ 应用必须快速启动，而且即使从没用过它的人也可以拿起来就拍。（控制，更快的控制）\n",
    "+ 必须能方便找到视频、编辑视频。（控制，更方便的控制）\n",
    "+ 最后，拍这段视频的目的是分享出去。（控制，更方便的控制）"
   ]
  },
  {
   "cell_type": "markdown",
   "metadata": {},
   "source": [
    "★★★环境产生目的/控制"
   ]
  },
  {
   "cell_type": "markdown",
   "metadata": {},
   "source": [
    "UX就是提供更方便、更快、始终如一的控制"
   ]
  },
  {
   "cell_type": "markdown",
   "metadata": {},
   "source": [
    "过多的信息和过多的控制，会干扰控制"
   ]
  },
  {
   "cell_type": "markdown",
   "metadata": {},
   "source": [
    "干扰源：\n",
    "办公室：同事、邮件、微信\n",
    "家里：家人、电视、\n",
    "马路上：行人、背包、服务生、阳光"
   ]
  },
  {
   "cell_type": "markdown",
   "metadata": {},
   "source": [
    "如果一个系统共有多类用户使用，对一类用户简单可控的设计，可能造成对另一类用户失控的设计。"
   ]
  },
  {
   "cell_type": "markdown",
   "metadata": {},
   "source": [
    "用户不可避免会赶时间、会分心、会忘记自己学过的东西"
   ]
  },
  {
   "cell_type": "markdown",
   "metadata": {},
   "source": [
    "系统简单可控，符合：做人也要简单点"
   ]
  },
  {
   "cell_type": "markdown",
   "metadata": {},
   "source": []
  },
  {
   "cell_type": "markdown",
   "metadata": {},
   "source": []
  }
 ],
 "metadata": {
  "kernelspec": {
   "display_name": "Python 3",
   "language": "python",
   "name": "python3"
  },
  "language_info": {
   "codemirror_mode": {
    "name": "ipython",
    "version": 3
   },
   "file_extension": ".py",
   "mimetype": "text/x-python",
   "name": "python",
   "nbconvert_exporter": "python",
   "pygments_lexer": "ipython3",
   "version": "3.7.3"
  },
  "toc": {
   "base_numbering": 1,
   "nav_menu": {},
   "number_sections": true,
   "sideBar": true,
   "skip_h1_title": false,
   "title_cell": "Table of Contents",
   "title_sidebar": "Contents",
   "toc_cell": false,
   "toc_position": {},
   "toc_section_display": true,
   "toc_window_display": false
  }
 },
 "nbformat": 4,
 "nbformat_minor": 2
}
