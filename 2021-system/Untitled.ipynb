{
 "cells": [
  {
   "cell_type": "markdown",
   "id": "b9074cfe",
   "metadata": {},
   "source": [
    "代码/指令"
   ]
  },
  {
   "cell_type": "markdown",
   "id": "d0f6a577",
   "metadata": {},
   "source": [
    "操作系统为应用提供并发编程环境。多道编程让一个cpu用仅有的几毫秒执行一个应用，随后转而执行别的应用。"
   ]
  },
  {
   "cell_type": "markdown",
   "id": "8d110ef9",
   "metadata": {},
   "source": [
    "当Xinu启动时，开始执行应用/代码作为一个进程，这个最初的进程能够独自执行应用/代码，或者创建新的进程。创建新的进程后，老进程仍继续执行应用/代码。"
   ]
  },
  {
   "cell_type": "markdown",
   "id": "0aba0ee7",
   "metadata": {},
   "source": [
    "调用create创建新进程，进程从第一个参数传入的代码地址开始执行应用/代码。新进程是挂起状态，所以再调用resume启动该进程。"
   ]
  },
  {
   "cell_type": "markdown",
   "id": "678a6798",
   "metadata": {},
   "source": [
    "应用 === 代码，执行应用从某个代码地址开始。"
   ]
  },
  {
   "cell_type": "markdown",
   "id": "a43c7741",
   "metadata": {},
   "source": [
    "当按下音量按键，控制转移至某代码地址，开始执行应用/代码。"
   ]
  },
  {
   "cell_type": "markdown",
   "id": "4367959b",
   "metadata": {},
   "source": [
    "当控制到达最后一句代码地址时，无代码可执行，进程停止，即进程exit。一旦有进程exit，则系统中进行的应用少一项。"
   ]
  },
  {
   "cell_type": "markdown",
   "id": "a5407ad9",
   "metadata": {},
   "source": [
    "kill是create的逆操作。可以在任意函数嵌套层中将自己或别人进程kill，被kill进程的整个函数调用栈不再有用。"
   ]
  },
  {
   "cell_type": "markdown",
   "id": "8ba0fc74",
   "metadata": {},
   "source": [
    "++a需要，把a放入寄存器，寄存器加一，寄存器放回a。"
   ]
  },
  {
   "cell_type": "markdown",
   "id": "a86be067",
   "metadata": {},
   "source": [
    "进程等待时还占用cpu时间 === 忙等。"
   ]
  },
  {
   "cell_type": "markdown",
   "id": "9b342c46",
   "metadata": {},
   "source": [
    "进程调用协调服务，比如信号量wait/signal，从而避免忙等。完整的信号量系统由一个代表稀缺量的整数和在该整数上等待的进程组成。wait消费稀缺量，当稀缺量为零时，wait无法消费稀缺量故阻塞进程。signal产生稀缺量。P13的例子中，主进程创建了消费的进程和生产的进程，并记录消费的稀缺量和生产的稀缺量。生产行为和消费行为都是稀缺量，当有了生产行为后才能消费，当有了消费行为后才能生产"
   ]
  },
  {
   "cell_type": "markdown",
   "id": "e9491b37",
   "metadata": {},
   "source": [
    "信号量还提供了另一种重要作用，互斥作用，两个进程在执行时需要互斥，进程A执行时B要等待。进程A执行指定段代码消费一个信号量，执行结束时生产一个信号量，这样，进程B就可以用新的信号量执行代码了。"
   ]
  },
  {
   "cell_type": "markdown",
   "id": "2ade5e1c",
   "metadata": {},
   "source": [
    "kputc是一个轮询IO函数，一旦调用kputc，其他所有的处理过程都暂停运行直到字符显示出来，一旦字符显示出来，其他处理过程在恢复工作：\n",
    "kputc接受一个字符串c，执行四个步骤，禁止中断，等待控制台的串行设备空闲，向串行设备发送字符c，恢复中断。"
   ]
  },
  {
   "cell_type": "markdown",
   "id": "434e0ce5",
   "metadata": {},
   "source": [
    "### 第三章"
   ]
  },
  {
   "cell_type": "markdown",
   "id": "c9f403b3",
   "metadata": {},
   "source": [
    "系统主板 === 总线，提供硬件交互的机制。"
   ]
  },
  {
   "cell_type": "markdown",
   "id": "9f8c5ed0",
   "metadata": {},
   "source": [
    "cpu包括多个寄存器，每个32位寄存器都可以存一个整数/一个地址/4个字符。不同寄存器被编译器指派不同工作，比如某个寄存器负责记录栈指针。还有，判断是否允许中断的寄存器/存放中断返回地址的寄存器/存放调试信息的寄存器。"
   ]
  },
  {
   "cell_type": "markdown",
   "id": "58008c98",
   "metadata": {},
   "source": [
    "当cpu读内存时：cpu在总线上写一个地址，然后向内存发一个读请求。内存收到读请求后，读总线上的地址在内部查找，找到后将该地址的数据写在总线上，然后向cpu发一个告知处理完的回复。\n",
    "当cpu写内存时，cpu在总线上写地址和数据，然后向内存发一个写请求。内存收到写请求后，提取总线上的地址和数据，做写操作。"
   ]
  },
  {
   "cell_type": "markdown",
   "id": "9d45f21f",
   "metadata": {},
   "source": [
    "总线自带控制器与cpu和其他硬件交互。"
   ]
  },
  {
   "cell_type": "markdown",
   "id": "dad7c093",
   "metadata": {},
   "source": [
    "为io设备在总线上分配内存地址，使得读写io设备和读写内存并无二致，称为内存映射io设备。cpu读io设备就是向某个总线地址读值放入寄存器，cpu写io设备就是向某个总线地址写值"
   ]
  },
  {
   "cell_type": "markdown",
   "id": "467ad972",
   "metadata": {},
   "source": [
    "不通过cpu，io设备直接读写内存的机制，称为DMA"
   ]
  },
  {
   "cell_type": "markdown",
   "id": "da042ae9",
   "metadata": {},
   "source": [
    "总线/主板有32位的总线地址，映射内存/闪存/io设备。32位地址大概覆盖4g个地址，但e2100只有16M个物理内存。4g，2g是用户段，2g是内核段。内核段中的kseg0，放有操作系统/io设备映射/物理内存映射"
   ]
  },
  {
   "cell_type": "markdown",
   "id": "76420ca1",
   "metadata": {},
   "source": [
    "8bit === 字节 === 字符"
   ]
  },
  {
   "cell_type": "markdown",
   "id": "891d5f7f",
   "metadata": {},
   "source": [
    "操作系统启动时，会读总线进行自我配置。"
   ]
  },
  {
   "cell_type": "markdown",
   "id": "adf77ca7",
   "metadata": {},
   "source": [
    "栈帧用来保存函数的活动记录，活动记录包括局部变量/返回地址/子函数实参/临时储存空间。在risc架构中，寄存器A0到A3放置当前函数的实参，函数的剩余实参只能留在内存中，具体位置是父函数的活动记录中。当函数切换时，A0-A3寄存器中值要切换。"
   ]
  },
  {
   "cell_type": "markdown",
   "id": "ddbcba62",
   "metadata": {},
   "source": [
    "io设备拥有中断cpu执行代码的能力。中断使得cpu在执行代码途中可以处理io设备的请求。io设备在需要cpu的时候可以向cpu发送中断请求。实现：io设备在总线上写中断，cpu轮询读中断，有中断，则启动中断流程：写EXL控制位不允许中断，记录当前的将要执行指令的地址在EPC寄存器并跳转至0x80000180。打开电脑时，操作系统会提前在该位置写好代码，让cpu跳转至操作系统代码。"
   ]
  },
  {
   "cell_type": "markdown",
   "id": "ffc29888",
   "metadata": {},
   "source": [
    "异常由cpu产生，中断由io设备产生，但处理异常流程和处理中断流程，几乎一致：写EXL控制位不允许中断，记录当前的执行指令的地址在EPC寄存器并跳转至0x80000180。"
   ]
  },
  {
   "cell_type": "markdown",
   "id": "041168ca",
   "metadata": {},
   "source": [
    "时钟中断，是cpu日常要处理的中断。定时器有规律的产生比如每秒60次的中断，60Hz的中断。定时器内置两个寄存器，一个记录当前数，一个记录目标数，当当前数等于目标数时产生一个中断，当前数每个cpu时钟周期加一"
   ]
  },
  {
   "cell_type": "markdown",
   "id": "56163182",
   "metadata": {},
   "source": [
    "由操作系统的代码启动一个向io设备输入或输出的操作，当操作完成，由io设备通过中断告知操作系统。当启动了io操作，但无法使用中断来获知io设备是否完成时，就使用轮询，即操作系统代码进入一个循环，不断读io设备的状态寄存器，来获知操作是否完成"
   ]
  },
  {
   "cell_type": "markdown",
   "id": "9eef518a",
   "metadata": {},
   "source": [
    "io操作 === 向io设备输入或输出的操作"
   ]
  },
  {
   "cell_type": "markdown",
   "id": "0da49db5",
   "metadata": {},
   "source": [
    "一个应用有四个内存段，代码段/数据段/bss段/栈段，代码段放函数，数据段放初始化数据，bss段放非初始化数据。一个进行中的应用的剩余内存 === bss段底的内存地址 - 栈段栈顶地址(即SP指针值)。当一个应用有多个执行，代码段/数据段/bss段是共享的，栈段是独立的，有几个执行就有几个栈段和几个SP指针。"
   ]
  },
  {
   "cell_type": "markdown",
   "id": "bb9e0c1e",
   "metadata": {},
   "source": [
    "当应用调用系统API，控制将交给内核，系统权限提升至内核态，直至返回。在本例中，所有应用/代码都运行在KSEG0上。"
   ]
  },
  {
   "cell_type": "markdown",
   "id": "49a1fae6",
   "metadata": {},
   "source": [
    "### 第四章"
   ]
  },
  {
   "cell_type": "markdown",
   "id": "dbc2da7a",
   "metadata": {},
   "source": [
    "进程管理器管理进程，频繁把进程从一个链表转移到另一个链表，链表中仅写该进程的id和值。链表是双向链表，链表节点以值降序排序。"
   ]
  },
  {
   "cell_type": "markdown",
   "id": "ca70f60d",
   "metadata": {},
   "source": [
    "嵌入式系统为节约内存，把链表放在数组中，数组索引用作进程id，数组内容写值/前驱索引/后继索引。索引 === 相对路径。"
   ]
  },
  {
   "cell_type": "markdown",
   "id": "cc2bc254",
   "metadata": {},
   "source": [
    "进程调度器可以使用FIFO队列来实现循环调度，将当前进程放入队尾，并切换到队头的进程"
   ]
  },
  {
   "cell_type": "markdown",
   "id": "427b90cf",
   "metadata": {},
   "source": [
    "在本文中，进程优先级是描述进程优先级的一个整数"
   ]
  },
  {
   "cell_type": "markdown",
   "id": "05dda82b",
   "metadata": {},
   "source": [
    "优先级队列的插入操作需要先遍历元素的优先级。"
   ]
  },
  {
   "cell_type": "markdown",
   "id": "65aff007",
   "metadata": {},
   "source": [
    "### 第五章"
   ]
  },
  {
   "cell_type": "markdown",
   "id": "f06300c7",
   "metadata": {},
   "source": [
    "进程表proctab，表项procent。进程表表项，包含进程的优先值、栈指针、是活动还是暂停状态等。当进程被创建，要往进程表写表项。当进程结束，要往进程表删表项。同一时刻有且仅有一个在执行的进程，该进程称为活动进程。切换进程时，操作系统/resched往进程表中更新栈指针，往就绪链表追加就绪进程。"
   ]
  },
  {
   "cell_type": "markdown",
   "id": "37befa4b",
   "metadata": {},
   "source": [
    "最基本的进程状态：就绪、当前。就绪链表是优先队列，优先值最大的进程id在队头。当前进程id，写在单变量currpid上。"
   ]
  },
  {
   "cell_type": "markdown",
   "id": "51436d5f",
   "metadata": {},
   "source": [
    "切换进程时，选择下一个进程的程序叫调度器。resched() === 调度器 === 切换上下文 === 切换寄存器状态，具体是调用ctxsw，往进程表保存当前进程的寄存器状态，往寄存器恢复下一个进程的寄存器状态。当前进程，只要他的优先值最高，调用resched时直接返回，当前进程继续执行。如果有一组进程的优先值都为最高值K，则这一组中的多个进程会依次执行，才再选择其他的进程来执行。"
   ]
  },
  {
   "cell_type": "markdown",
   "id": "5e1e0507",
   "metadata": {},
   "source": [
    "由原进程调调度器，调度器一般将进程表中的原进程状态改为就绪，且将原进程追加进就绪链表，参与下一个执行进程的竞选。"
   ]
  },
  {
   "cell_type": "markdown",
   "id": "4b507cb1",
   "metadata": {},
   "source": [
    "静态 === 创建后不再改变"
   ]
  },
  {
   "cell_type": "markdown",
   "id": "61b252fe",
   "metadata": {},
   "source": [
    "设想进程p1正在运行并且调用resched，如果resched选择切换到进程p2，则进程p1将在调用ctxsw处停住，在之后resched切换回p1，其将在离开处----ctxsw返回处开始执行。"
   ]
  },
  {
   "cell_type": "markdown",
   "id": "4ea520a9",
   "metadata": {},
   "source": [
    "写程序计数器 === 调转到下一个执行的进程的位置"
   ]
  },
  {
   "cell_type": "markdown",
   "id": "a5d69aeb",
   "metadata": {},
   "source": [
    "在RISC体系中，例如MIPS，每条指令只读写一个寄存器。所以，执行时ctxsw时，需顺序执行多条指令，将寄存器状态搬到自己的进程栈中。然后，将栈指针保存到进程表的自己表项中，加载新进程的栈指针，然后，顺序将新进程栈中的寄存器状态恢复到寄存器中。"
   ]
  },
  {
   "cell_type": "markdown",
   "id": "a55cf047",
   "metadata": {},
   "source": [
    "栈指针指向进程的栈。"
   ]
  },
  {
   "cell_type": "markdown",
   "id": "0ea5d0b9",
   "metadata": {},
   "source": [
    "调度器不创建进程。调度器只是让进程在当前和就绪状态之间切换。如果一个进程等待输入或输出，就不会对cpu就绪。如果没有就绪的进程，resched就会失败，为了防止resched失败，操作系统启动时，会创建一个id为0，优先值为0的进程，该进程执行while true死循环。"
   ]
  },
  {
   "cell_type": "markdown",
   "id": "5b9881ff",
   "metadata": {},
   "source": [
    "进程阻塞 === 进程等待输入或输出完毕。"
   ]
  },
  {
   "cell_type": "markdown",
   "id": "4c0f55a4",
   "metadata": {},
   "source": [
    "### 第六章"
   ]
  },
  {
   "cell_type": "markdown",
   "id": "1fea020c",
   "metadata": {},
   "source": [
    "挂起的进程，没有资格使用cpu，因此不能是就绪或当前状态。挂起的进程可以恢复resume，恢复他的参与权，回到就绪状态后参与cpu时间的争夺。一个进程可以挂起或恢复任意进程，包括自己，通过目标的pid。"
   ]
  },
  {
   "cell_type": "raw",
   "id": "5a6a0a59",
   "metadata": {},
   "source": [
    "像resume的系统调用会修改操作系统的数据结构，resume要正确将目标插入就绪链表。就要保证没有其他进程也在修改就绪链表，所以，要resume过程中要禁止中断/要禁止调用resched函数"
   ]
  },
  {
   "cell_type": "markdown",
   "id": "60b40beb",
   "metadata": {},
   "source": [
    "挂起suspend进程 === 从就绪链表中删除改进程的id，如果挂起的进程是当前进程则多调用一句resched使得挂起即可生效。"
   ]
  },
  {
   "cell_type": "markdown",
   "id": "204223a4",
   "metadata": {},
   "source": [
    "挂起的进程如果没有被安排恢复，就永远处于挂起状态"
   ]
  },
  {
   "cell_type": "markdown",
   "id": "88dec472",
   "metadata": {},
   "source": [
    "suspend只是删除就绪链表中目标进程的id。而kill，不仅删除就绪表，调整相关信号量的计数，减小全局用户进程数prcount的计数，还在进程表中将目标进程表项的进程状态设为pr_free(表示删除该表项)，还调用freestk释放进程栈。如果kill的是当前进程，还要调用resched将cpu控制权切换给下一个进程。如果prcount数为1时kill进程，还要调用xdone，将屏幕关闭cpu停机。"
   ]
  },
  {
   "cell_type": "markdown",
   "id": "0d893608",
   "metadata": {},
   "source": [
    "调用create创建新进程，create通过伪调用将新进程构造成是一个被切换过的进程，并设置表项中进程状态为PR_SUSP挂起态，具体地说：调用newpid在进程表中初始化表项，调用getstk建立进程栈，再将寄存器的初始值放入进程栈将栈指针写入表项中，将新进程id插入就绪表。将寄存器的初始值放入进程栈，将栈指针写入表项中，称为create的伪调用。有了表项和进程栈，就可以执行函数了，create的第一参数是要执行的函数指针。"
   ]
  },
  {
   "cell_type": "markdown",
   "id": "2feb765d",
   "metadata": {},
   "source": [
    "如果从进程栈的栈底函数返回，那么将执行释放进程的操作，所以，栈底函数的返回地址，调用userret，userret调用系统函数kill。"
   ]
  },
  {
   "cell_type": "markdown",
   "id": "e394a673",
   "metadata": {},
   "source": [
    "create出的新进程要先resume才有可能执行。"
   ]
  },
  {
   "cell_type": "markdown",
   "id": "44e9e393",
   "metadata": {},
   "source": [
    "create用来设置新进程进程栈的寄存器初始值，是直接复制自己进程栈的参数。"
   ]
  },
  {
   "cell_type": "markdown",
   "id": "6abc70da",
   "metadata": {},
   "source": [
    "系统函数getprio/chprio可以查看和修改任意进程的优先值。系统调用getpid的实现是返回当前态进程的pid"
   ]
  },
  {
   "cell_type": "markdown",
   "id": "f60dc976",
   "metadata": {},
   "source": [
    "至此，进程管理包括了"
   ]
  },
  {
   "cell_type": "markdown",
   "id": "a4407424",
   "metadata": {},
   "source": []
  },
  {
   "cell_type": "markdown",
   "id": "f4063ff4",
   "metadata": {},
   "source": []
  },
  {
   "cell_type": "markdown",
   "id": "13da0375",
   "metadata": {},
   "source": []
  },
  {
   "cell_type": "markdown",
   "id": "d7f3d4b4",
   "metadata": {},
   "source": []
  },
  {
   "cell_type": "markdown",
   "id": "ef989ff3",
   "metadata": {},
   "source": []
  },
  {
   "cell_type": "markdown",
   "id": "3b477677",
   "metadata": {},
   "source": []
  }
 ],
 "metadata": {
  "kernelspec": {
   "display_name": "Python 3 (ipykernel)",
   "language": "python",
   "name": "python3"
  },
  "language_info": {
   "codemirror_mode": {
    "name": "ipython",
    "version": 3
   },
   "file_extension": ".py",
   "mimetype": "text/x-python",
   "name": "python",
   "nbconvert_exporter": "python",
   "pygments_lexer": "ipython3",
   "version": "3.9.7"
  }
 },
 "nbformat": 4,
 "nbformat_minor": 5
}
