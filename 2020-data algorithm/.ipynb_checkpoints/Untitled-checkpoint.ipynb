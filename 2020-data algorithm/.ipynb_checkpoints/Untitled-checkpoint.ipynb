{
 "cells": [
  {
   "cell_type": "markdown",
   "metadata": {},
   "source": [
    "### 05 | 数组：为什么很多编程语言中数组都从0开始编号？"
   ]
  },
  {
   "cell_type": "markdown",
   "metadata": {},
   "source": [
    "Array查找是O(n)，插入是O(n)，删除是O(n)，根据下标访问O(1)。如果不要求item的顺序，插入也可以为O(1)。通过标记删除的方式，删除为可以为O(1)，当Array没有存储空间的时候再执行类似垃圾回收的操作。"
   ]
  },
  {
   "cell_type": "markdown",
   "metadata": {},
   "source": [
    "Java中Array和ArrayList的区别是ArrayList包含了自动扩容的逻辑，推荐事先指定容量，省去申请内存和数据迁移工作\n",
    "```\n",
    "ArrayList<User> users = new ArrayList(10000);\n",
    "\n",
    "```"
   ]
  },
  {
   "cell_type": "markdown",
   "metadata": {},
   "source": [
    "开发底层的时候使用底层库。"
   ]
  },
  {
   "cell_type": "markdown",
   "metadata": {},
   "source": [
    "### 06 | 链表（上）：如何实现LRU缓存淘汰算法?"
   ]
  },
  {
   "cell_type": "markdown",
   "metadata": {},
   "source": [
    "单链表实现LRU缓存淘汰算法：当数据没有被缓存在链表中，直接缓存数据到链表头节点。\n",
    "当数据被缓存过，先删除对应链表节点，再缓存到链表头节点。\n",
    "当数据没有被缓存过且缓存已满，先删除链表尾结点，再将数据缓存到链表头节点。"
   ]
  },
  {
   "cell_type": "markdown",
   "metadata": {},
   "source": [
    "链表常用来做缓存，CPU 缓存、数据库缓存、浏览器缓存。链表不利用使用CPU缓存机制。"
   ]
  },
  {
   "cell_type": "markdown",
   "metadata": {},
   "source": [
    "当缓存没有可用存储空间，有三种淘汰数据的算法思路：先进先出，最少使用，最近最少使用"
   ]
  },
  {
   "cell_type": "markdown",
   "metadata": {},
   "source": [
    "链表只存储头结点的指针。 "
   ]
  },
  {
   "cell_type": "markdown",
   "metadata": {},
   "source": [
    "链表查找是O(n)，插入是O(1)，删除是O(1)。"
   ]
  },
  {
   "cell_type": "markdown",
   "metadata": {},
   "source": [
    "循环链表和单链表的唯一区别是尾结点。"
   ]
  },
  {
   "cell_type": "markdown",
   "metadata": {},
   "source": [
    "CPU在从内存读取数据的时候，会先把读取到的数据加载到CPU的缓存中。而CPU每次从内存读取数据并不是只读取那个特定要访问的地址，而是读取一个数据块(这个大小我不太确定。。)并保存到CPU缓存中，然后下次访问内存数据的时候就会先从CPU缓存开始查找，如果找到就不需要再从内存中取。这样就实现了比内存访问速度更快的机制，也就是CPU缓存存在的意义:为了弥补内存访问速度过慢与CPU执行速度快之间的差异而引入。\n",
    "\n",
    "对于数组来说，存储空间是连续的，所以在加载某个下标的时候可以把以后的几个下标元素也加载到CPU缓存这样执行速度会快于存储空间不连续的链表存储。\n"
   ]
  },
  {
   "cell_type": "markdown",
   "metadata": {},
   "source": [
    "看了大家的评论学习到了快慢指针法，看语言描述没太懂，自己用代码写了下才明白。\n",
    "大致思路如下\n",
    "由于回文串最重要的就是对称，那么最重要的问题就是找到那个中心，用快指针每步两格走，当他到达链表末端的时候，慢指针刚好到达中心，慢指针在过来的这趟路上还做了一件事，他把走过的节点反向了，在中心点再开辟一个新的指针用于往回走，而慢指针继续向前，当慢指针扫完整个链表，就可以判断这是回文串，否则就提前退出，总的来说时间复杂度按慢指针遍历一遍来算是O(n),空间复杂度因为只开辟了3个额外的辅助，所以是o(1)"
   ]
  },
  {
   "cell_type": "markdown",
   "metadata": {},
   "source": [
    "### 07 | 链表（下）：如何轻松写出正确的链表代码？"
   ]
  },
  {
   "cell_type": "markdown",
   "metadata": {},
   "source": [
    "带有哨兵机制的链表实现是更佳实践，哨兵机制下的链表即使没有数据，也始终有一头一尾两个占位节点，通过将链表特殊的头结点尾结点拍平优化为和中间节点一样的物理形式，免除了插入删除节点时针对链表头结点尾结点的特殊逻辑，使得插入删除逻辑始终可以由下式实现：\n",
    "```\n",
    "new_node->next = p->next;\n",
    "p->next = new_node;\n",
    "```\n",
    "```\n",
    "p->next = p->next->next;\n",
    "```"
   ]
  },
  {
   "cell_type": "markdown",
   "metadata": {},
   "source": [
    "### 08 | 栈：如何实现浏览器的前进和后退功能？"
   ]
  },
  {
   "cell_type": "markdown",
   "metadata": {},
   "source": [
    "我们说空间复杂度的时候，是指除了原本的数据存储空间外，算法运行还需要额外的存储空间。"
   ]
  },
  {
   "cell_type": "markdown",
   "metadata": {},
   "source": [
    "出栈入栈的时间复杂度是O(1)"
   ]
  },
  {
   "cell_type": "markdown",
   "metadata": {},
   "source": [
    "栈、队列的作用是临时存储"
   ]
  },
  {
   "cell_type": "markdown",
   "metadata": {},
   "source": [
    "两个栈可以解决浏览器前进后退的问题、简单数学表达式的问题。"
   ]
  },
  {
   "cell_type": "markdown",
   "metadata": {},
   "source": [
    "### 09 | 队列：队列在线程池等有限资源池中的应用"
   ]
  },
  {
   "cell_type": "markdown",
   "metadata": {},
   "source": [
    "★★★队列是让快慢两个系统能够协调起来的最朴实方法。"
   ]
  },
  {
   "cell_type": "markdown",
   "metadata": {},
   "source": [
    "对于栈，我们需要栈顶指针count；对于队列，我们需要头指针head和为指针tail"
   ]
  },
  {
   "cell_type": "markdown",
   "metadata": {},
   "source": [
    "出队入队的时间复杂度是O(1)，顺序队很好理解，链式队，入队tail.next = newNode、tail = newNode，出队head = head.next，所以时间复杂度是O(1)"
   ]
  },
  {
   "cell_type": "markdown",
   "metadata": {},
   "source": [
    "数组实现的队列叫顺序队列，链表实现的队列叫链式队列。循环队列是顺序队列升级版，不需要数据搬移。循环队列通过(tail+1)%n=head判满。"
   ]
  },
  {
   "cell_type": "markdown",
   "metadata": {},
   "source": [
    "循环队列比链式队列用的更多，因为循环队列具有更高并发性。"
   ]
  },
  {
   "cell_type": "markdown",
   "metadata": {},
   "source": [
    "链式队列是一种无界队列，可能造成一种局面：过多的请求进入队列，请求排队等待的时长太长，造成响应时间太长。循环队列作为有界队列，晚来的请求会被直接拒绝，可能大多数场景下更合理。"
   ]
  },
  {
   "cell_type": "markdown",
   "metadata": {},
   "source": [
    "### 10 | 递归：如何用三行代码找到“最终推荐人”？"
   ]
  },
  {
   "cell_type": "markdown",
   "metadata": {},
   "source": [
    "只要遇到递归，我们就把它抽象成一个递归公式。递的过程是公式分解的过程，归的过程是数据代入公式计算的过程。比如递归公式f(n) = f(n-1) + f(n-2)，以n = 5 展开，f(5) = f(4) + f(3) = f(3) + f(2) + f(2) + f(1) = f(2) + f(1) + f(2) + f(2) + f(1)是递过程。f(2) + f(1) + f(2) + f(2) + f(1) = 2 + 1 + 2 + 2 + 1 = 8是归过程。"
   ]
  },
  {
   "cell_type": "markdown",
   "metadata": {},
   "source": [
    "不要试图用人脑去分解递归的每个步骤的调用关系。"
   ]
  },
  {
   "cell_type": "markdown",
   "metadata": {},
   "source": [
    "要计算 f(5)，需要先计算 f(4) 和 f(3)，而计算 f(4) 还需要计算 f(3)，因此，f(3) 就被计算了很多次，这是重复计算问题，可通过缓存机制优化。"
   ]
  },
  {
   "cell_type": "markdown",
   "metadata": {},
   "source": [
    "递归公式f(n) = f(n-1) + 1，以 n = 5 展开，f(5) = f(4) + 1 = f(3) + 1 + 1 = f(2) + 1 + 1 + 1 = f(1) + 1 + 1 + 1 + 1 是递过程。1 + 1 + 1 + 1 + 1 = 5是归过程。"
   ]
  },
  {
   "cell_type": "markdown",
   "metadata": {},
   "source": [
    "Q:怎么将递归代码改写为非递归代码？\n",
    "A:for迭代循环代码。实现归过程。"
   ]
  },
  {
   "cell_type": "markdown",
   "metadata": {},
   "source": [
    "### 11 | 排序（上）：为什么插入排序比冒泡排序更受欢迎？"
   ]
  },
  {
   "cell_type": "markdown",
   "metadata": {},
   "source": [
    "插入比冒泡好。"
   ]
  },
  {
   "cell_type": "markdown",
   "metadata": {},
   "source": [
    "大O时间复杂度是忽略常数、系数、低阶。当我们比较同一阶时间复杂度的算法的时候需要进一步考虑常数系数低阶的因素，而不是只用大O时间复杂度比较两者速度。"
   ]
  },
  {
   "cell_type": "markdown",
   "metadata": {},
   "source": [
    "基于比较基于移动"
   ]
  },
  {
   "cell_type": "markdown",
   "metadata": {},
   "source": [
    "除了算法要比较时间空间复杂度，针对排序，我们还需要考察一组序列的相等元素在排序前后其相对顺序是否改变。"
   ]
  },
  {
   "cell_type": "markdown",
   "metadata": {},
   "source": [
    "序列中任意两个元素符合顺序。\n",
    "\n",
    "n个元素的序列，两两元素为一组，有n*(n-1)/2组元素关系，元素关系要么顺序要么逆序。逆序组数 = 总组数 - 有序组数"
   ]
  },
  {
   "cell_type": "markdown",
   "metadata": {},
   "source": [
    "冒泡的模式是：比较交换比较，比较一发现不对马上交换，交换好再接着比较。每次交换，有序组数量加一。"
   ]
  },
  {
   "cell_type": "markdown",
   "metadata": {},
   "source": [
    "冒泡最好情况时间复杂度是 O(n)。而最坏的情况是，要排序的数据刚好是倒序排列的，最坏情况时间复杂度为 O(n2)。"
   ]
  },
  {
   "cell_type": "markdown",
   "metadata": {},
   "source": [
    "冒泡排序不管怎么改进，交换次数总是确定的，即为逆序组数，也就是n*(n-1)/2–初始有序组数，例如3/5/4/1/2/6就是 15–3 = 12，要进行 12 次交换操作。假设平均初始逆序组数为n*(n-1)/4，则冒泡排序的平均时间复杂度为O(n2)"
   ]
  },
  {
   "cell_type": "markdown",
   "metadata": {},
   "source": [
    "插入排序来源于一个更简单的场景：对于一个已排序序列，如何对其扩列？。插入排序就等价于从零开始扩列。具体的讲就是，把序列分成已排序区域和未排序区域两部分。一开始，已排序区只有一个元素，即序列第一个元素，插入排序的核心思想就是从未排序区取元素，插入到已排序区的正确位置，重复这一过程直到未排序区域长度为零。"
   ]
  },
  {
   "cell_type": "markdown",
   "metadata": {},
   "source": [
    "为了让未排序区取的元素插入到已排序区的正确位置，取的元素需要依次与排序区的已有元素作比较，并且插入后后续元素需要移动。总移动次数是固定的，等于逆序组数"
   ]
  },
  {
   "cell_type": "markdown",
   "metadata": {},
   "source": [
    "在数组中插入一个元素的时间复杂度是O(n)。插入算法排序要插入n次，所以，时间复杂度是O(n2)"
   ]
  },
  {
   "cell_type": "markdown",
   "metadata": {},
   "source": [
    "选择排序算法和插入排序算法的思路正好相反，选择排序算法也是把序列分成已排序区域和未排序区域两部分，一开始，已排序区没有一个元素，选择排序算法选择未排序区域中最小的元素append进已排序区，重复这一过程直到未排序区域长度为零。"
   ]
  },
  {
   "cell_type": "markdown",
   "metadata": {},
   "source": [
    "选择排序算法最好情况时间复杂度为O(n2)且非稳定排序，所以相对于冒泡排序和插入排序，选择排序最为逊色"
   ]
  },
  {
   "cell_type": "markdown",
   "metadata": {},
   "source": [
    "冒泡排序不管怎么优化，元素交换的次数是一个固定值，是原始数据的逆序度。插入排序是同样的，不管怎么优化，元素移动的次数也等于原始数据的逆序度。但是，从代码实现上来看，冒泡排序的数据交换要比插入排序的数据移动要复杂，冒泡排序需要 3 个赋值操作，而插入排序只需要 1 个，所以插入排序更优"
   ]
  },
  {
   "cell_type": "markdown",
   "metadata": {},
   "source": [
    "### 12 | 排序（下）：如何用快排思想在O(n)内查找第K大元素？"
   ]
  },
  {
   "cell_type": "markdown",
   "metadata": {},
   "source": [
    "归并排序和快速排序是O(nlogn)算法。插入排序是小规模数据的优选，"
   ]
  },
  {
   "cell_type": "markdown",
   "metadata": {},
   "source": [
    "归并排序和快速排序都用到了分治思想"
   ]
  },
  {
   "cell_type": "markdown",
   "metadata": {},
   "source": [
    "假设有1000个数据，Merge排序算法的核心思想是1000个数据奇偶两两为一组并行Merge排序成500组，500组奇偶两两为一组再并行Merge排序成250组，250组奇偶两两为一组再并行Merge排序成125组，64组，32组，16组，8组，4组，2组，1组，这是归的过程。"
   ]
  },
  {
   "cell_type": "markdown",
   "metadata": {},
   "source": [
    "分叉递归一定是分治的，所以分治思想和递归很有联系。\n",
    "Merge排序的递推公式：\n",
    "```\n",
    "递推公式：sort(p…r) = merge(sort(p…q), sort(q+1…r))\n",
    "```"
   ]
  },
  {
   "cell_type": "markdown",
   "metadata": {},
   "source": [
    "Q:如何分析递归代码的时间复杂度?\n",
    "A:套用公式T(a) = T(b) + T(c) + K，归并排序的时间复杂度计算公式是：\n",
    "```\n",
    "\n",
    "T(1)  = C；   n=1时，只需要常量级的执行时间，所以表示为C。\n",
    "T(n)  = 2*T(n/2) + n； n>1\n",
    "    = 2^k * T(n/2^k) + k * n\n",
    "```"
   ]
  },
  {
   "cell_type": "markdown",
   "metadata": {},
   "source": [
    "Merge排序算法与原始数据有序度无关，最好最差平均时间复杂度就是O(nlogn)。Merge排序算法的缺点是空间复杂度为O(n)，有些场景下这是致命的。"
   ]
  },
  {
   "cell_type": "markdown",
   "metadata": {},
   "source": [
    "Quick快排的致命弱点是非稳定。快排只有在每次pivot都在中点的情况下，才能到达和merge算法一样的O(nlogn)时间复杂度。虽然如此Quick快排还是比Merge算法更广泛使用\n",
    "Q:Merge排序和Quick快排的区别是什么？\n",
    "A:Merge排序有由下而上的归的过程，而Quick快排则没有，只需要由上而下就可以完成排序。"
   ]
  },
  {
   "cell_type": "markdown",
   "metadata": {},
   "source": [
    "快序的递推公式：\n",
    "```\n",
    "quick_sort(p…r) = quick_sort(p…q-1) + quick_sort(q+1… r)\n",
    "\n",
    "```\n",
    "\n",
    "翻译成伪代码：\n",
    "```\n",
    "\n",
    "// 快速排序，A是数组，n表示数组的大小\n",
    "quick_sort(A, n) {\n",
    "  quick_sort_c(A, 0, n-1)\n",
    "}\n",
    "// 快速排序递归函数，p,r为下标\n",
    "quick_sort_c(A, p, r) {\n",
    "  if p >= r then return\n",
    "  \n",
    "  q = partition(A, p, r) // partition()函数对[p,r]分区，并返回pivot的索引值\n",
    "  quick_sort_c(A, p, q-1)\n",
    "  quick_sort_c(A, q+1, r)\n",
    "}\n",
    "\n",
    "```\n",
    "partition()函数如果不考虑空间复杂度可以很简单：申请X,Y两个数组，遍历[p,r]，把值小于pivot的值放入X,值大于pivot的值放入Y，然后将X,pivot,Y依次写入原数组的[p,r]区间。\n",
    "而考虑空间复杂度的partition()函数，和选择排序的过程很类似，也：先分两个区，已处理区，待处理区，未处理区初始为空，遍历待处理区，与pivot比较大小，值比pivot大的值不做操作原地不动，值比pivot小的值，与未处理区的第一个元素交换位置，达到将该元素从待处理区移入已处理区的目的。"
   ]
  },
  {
   "cell_type": "markdown",
   "metadata": {},
   "source": [
    "数组的插入操作时间复杂度为O(n)，可以通过交换，减小时间复杂度为O(1),即新元素写入到索引n，该位置旧的元素写入到数组末尾"
   ]
  },
  {
   "cell_type": "markdown",
   "metadata": {},
   "source": [
    "快排核心思想就是分区和分治。"
   ]
  },
  {
   "cell_type": "markdown",
   "metadata": {},
   "source": [
    "Q:O(n)时间复杂度内求无序数组中的第 K 大元素。比如，4， 2， 5， 12， 3 这样一组数据，第 3 大元素就是 4。怎么做？\n",
    "A:直接复用快排的代码，如果pivot索引值小于K-1再对pivot右边就行快排、直到pivot对应索引值为K - 1时，返回该pivot值，改制即为数组中的第K大元素。遮蔽朴素的冒泡排序，快多了。"
   ]
  },
  {
   "cell_type": "markdown",
   "metadata": {},
   "source": [
    "遍历n个元素的数组，时间复杂度为O(n)。遍历n个元素的数组，重复二分遍历，总共要遍历2n - 1，时间复杂度也为O(n)。"
   ]
  },
  {
   "cell_type": "markdown",
   "metadata": {},
   "source": [
    "### 13 | 线性排序：如何根据年龄给100万用户数据排序？"
   ]
  },
  {
   "cell_type": "markdown",
   "metadata": {},
   "source": [
    "线性排序，是指时间复杂度为O(n)的排序算法，比如桶排序、计数排序、基数排序。这些线性排序算法，在排序过程中，不对元素两两比较。这些排序算法使用场景有限。"
   ]
  },
  {
   "cell_type": "markdown",
   "metadata": {},
   "source": [
    "桶分组是以区分度进行元素分组，所以，分三步：先统计区分度的上下限并以此决定组数、分组、（分组排序）、合并组。如果区分度个数等于组数则不需要分组排序就得到了有序数列，桶分组就是桶排序。如果区分度个数多于组数则结合快排分组排序得到了有序数列，就是基于桶分组的快排，可以认为桶分组是粗排，快排分组排是细排，此时我们希望每组的数据量大致一样，这样才说明粗排是有作用的。如果分布不均，时间复杂度只会接近快排的时间复杂度\n",
    "\n",
    "三步桶排序，三步各遍历原数据一次就可得到有序数列，时间复杂度O(n)。但桶排序要求要为每个区分度分配一个组，如果区分度过多则耗费巨大，所以只有数据区分度少的情况适合桶排序，如年龄、成绩。"
   ]
  },
  {
   "cell_type": "markdown",
   "metadata": {},
   "source": [
    "Q:如果我们有100GB的订单，需要按订单金额排序？\n",
    "A;先遍历一遍订单，确定订单金额上下限，分布情况较难处理可以暂时忽略。如果遍历得到订单金额最小0最大100万元，如果每组覆盖1万元区间时每组的订单量满足要求，则依据1万元区间分成100组进行后续分组排序。如果某个区间订单量还是超过内存大小，则针对该区间继续分组/分文件。"
   ]
  },
  {
   "cell_type": "markdown",
   "metadata": {},
   "source": [
    "Q:对于高考成绩如果你所在的省有 50 万考生，如何通过成绩快速排序得出名次呢，假设高考总分600分？\n",
    "A:遍历一遍50万考试成绩数据，分到600个桶中，即完成排序，时间复杂度为O(n)"
   ]
  },
  {
   "cell_type": "markdown",
   "metadata": {},
   "source": [
    "计数排序和桶排序很类似，分三步：遍历原数据生成计算数组、遍历计算数组映射成累计数组、遍历原数据数组并查询累计数组生成最终的有序数组"
   ]
  },
  {
   "cell_type": "markdown",
   "metadata": {},
   "source": [
    "### 34 | 字符串匹配基础（下）：如何借助BM算法轻松理解KMP算法？"
   ]
  },
  {
   "cell_type": "markdown",
   "metadata": {},
   "source": []
  },
  {
   "cell_type": "markdown",
   "metadata": {},
   "source": []
  },
  {
   "cell_type": "markdown",
   "metadata": {},
   "source": []
  },
  {
   "cell_type": "markdown",
   "metadata": {},
   "source": []
  },
  {
   "cell_type": "markdown",
   "metadata": {},
   "source": []
  },
  {
   "cell_type": "markdown",
   "metadata": {},
   "source": []
  },
  {
   "cell_type": "markdown",
   "metadata": {},
   "source": []
  },
  {
   "cell_type": "markdown",
   "metadata": {},
   "source": []
  },
  {
   "cell_type": "markdown",
   "metadata": {},
   "source": []
  }
 ],
 "metadata": {
  "kernelspec": {
   "display_name": "Python 3",
   "language": "python",
   "name": "python3"
  },
  "language_info": {
   "codemirror_mode": {
    "name": "ipython",
    "version": 3
   },
   "file_extension": ".py",
   "mimetype": "text/x-python",
   "name": "python",
   "nbconvert_exporter": "python",
   "pygments_lexer": "ipython3",
   "version": "3.7.3"
  },
  "toc": {
   "base_numbering": 1,
   "nav_menu": {},
   "number_sections": true,
   "sideBar": true,
   "skip_h1_title": false,
   "title_cell": "Table of Contents",
   "title_sidebar": "Contents",
   "toc_cell": false,
   "toc_position": {},
   "toc_section_display": true,
   "toc_window_display": false
  }
 },
 "nbformat": 4,
 "nbformat_minor": 2
}
