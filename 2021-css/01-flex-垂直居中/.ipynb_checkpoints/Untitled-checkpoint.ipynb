{
 "cells": [
  {
   "cell_type": "markdown",
   "metadata": {},
   "source": [
    "justify-content是决定在同一行内的两个块元素在“一条”水平线上的位置分布：\n",
    "+ flex-start：块元素在水平线头部\n",
    "+ center：块元素在水平线中部\n",
    "+ space-between：块元素在水平线上均匀分布\n",
    "★块元素允许被左右放"
   ]
  },
  {
   "cell_type": "markdown",
   "metadata": {},
   "source": [
    "align-items是决定同一行内的两个块元素在“两条”各自垂直线上的位置分布，align-items可被align-self覆盖：\n",
    "+ flex-start：块元素在各自垂直线头部\n",
    "+ stretch：块元素填满了各自垂直线\n",
    "+ center：块元素在各自垂直线中部\n",
    "+ baseline：块元素根据内部文字基线决定在垂直线上的位置\n",
    "★因为在垂直线上只有自己，所以不存在分布问题。\n",
    "★块元素允许被左右放，和行内上下放，才有了align-items"
   ]
  },
  {
   "cell_type": "markdown",
   "metadata": {},
   "source": [
    "align-content是决定两个行元素在“一条”垂直线上的位置分布：\n",
    "+ flex-start：行元素在垂直线头部\n",
    "+ stretch：行元素填满了垂直线\n",
    "+ center：行元素在垂直线中部\n",
    "+ space-between：行元素在垂直线上均匀分布\n",
    "★行元素是不存在左右放，只有上下放/垂直放。"
   ]
  },
  {
   "cell_type": "markdown",
   "metadata": {},
   "source": [
    "一般一上来先设成，便于调试:\n",
    "display: flex;\n",
    "flex-wrap:wrap\n",
    "align-content: flex-start;\n",
    "justify-content: flex-start;\n",
    "\n",
    "★★行元素放在整个容器元素的头部。块元素放在行元素的头部。"
   ]
  },
  {
   "cell_type": "markdown",
   "metadata": {},
   "source": [
    "flex-wrap:nowrap决定了当同一行的块元素宽度的总和大于行元素宽时，是换行(wrap)还是压缩(nowrap)。"
   ]
  },
  {
   "cell_type": "markdown",
   "metadata": {},
   "source": [
    "当flex-wrap:nowrap时，flex-shrink有效。flex-shrink: 1（默认值） ，可大于一，大小于一。 flex-shrink决定了当同一行的块元素宽度的总和大于行元素宽，块元素各自收缩多少宽度。收缩多少宽度由块元素各自width和flex-shrink计算得出"
   ]
  },
  {
   "cell_type": "markdown",
   "metadata": {},
   "source": [
    "flex-grow与flex-wrap无关。flex-grow: 0（默认值）/默认不扩大，可大于一，大小于一。flex-grow比flex-shrink简单。flex-grow决定了当同一行的块元素宽度的总和不满行元素宽，块元素各自扩大多少宽度。扩大多少宽度仅由块元素flex-grow计算得出。使用flex-grow后，使justify-content无意义"
   ]
  },
  {
   "cell_type": "markdown",
   "metadata": {},
   "source": [
    "当容器设置 flex-direction 为 row 或 row-reverse 时，flex-basis 和 width 同\n",
    "时存在，flex-basis 优先级高于 width，也就是此时 flex-basis 代替项目的\n",
    "width 属性。"
   ]
  },
  {
   "cell_type": "markdown",
   "metadata": {},
   "source": [
    "flex是flex-grow，flex-shrink，flex-basis的简写方式。值设置为none，等价于00auto。值设置为auto，等价于11auto。"
   ]
  }
 ],
 "metadata": {
  "kernelspec": {
   "display_name": "Python 3",
   "language": "python",
   "name": "python3"
  },
  "language_info": {
   "codemirror_mode": {
    "name": "ipython",
    "version": 3
   },
   "file_extension": ".py",
   "mimetype": "text/x-python",
   "name": "python",
   "nbconvert_exporter": "python",
   "pygments_lexer": "ipython3",
   "version": "3.7.3"
  },
  "toc": {
   "base_numbering": 1,
   "nav_menu": {},
   "number_sections": true,
   "sideBar": true,
   "skip_h1_title": false,
   "title_cell": "Table of Contents",
   "title_sidebar": "Contents",
   "toc_cell": false,
   "toc_position": {},
   "toc_section_display": true,
   "toc_window_display": false
  }
 },
 "nbformat": 4,
 "nbformat_minor": 2
}
