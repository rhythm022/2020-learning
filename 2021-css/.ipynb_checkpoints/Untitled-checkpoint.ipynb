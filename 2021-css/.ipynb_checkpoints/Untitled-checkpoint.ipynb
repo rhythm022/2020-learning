{
 "cells": [
  {
   "cell_type": "markdown",
   "metadata": {},
   "source": [
    "###  盒模型-04"
   ]
  },
  {
   "cell_type": "markdown",
   "metadata": {},
   "source": [
    "预置：\n",
    "+ width/height属性是指定“占用”的宽高，而不是盒子的宽高。通过声明`box-sizing: border-box`后，width/height属性才是指定“盒子”的宽高\n",
    "\n",
    "+ 盒子 + margin = 盒模型"
   ]
  },
  {
   "cell_type": "markdown",
   "metadata": {},
   "source": [
    "盒模型：\n",
    "盒子由占位、填充物、壳子组成.box-sizing声明后，width包含占位、填充物和壳的体积"
   ]
  },
  {
   "cell_type": "markdown",
   "metadata": {},
   "source": [
    "不具备继承性的属性需要通过`*`声明"
   ]
  },
  {
   "cell_type": "markdown",
   "metadata": {},
   "source": [
    "+ 当节点display:flex/block时，该节点生成块级盒或块级“容器”盒。当该节点有子节点，生成容器盒。\n",
    "+ 当节点display:inline/inline-block时，该节点生成行内级盒."
   ]
  },
  {
   "cell_type": "markdown",
   "metadata": {},
   "source": [
    "块容器盒要么直接容纳块级级盒、要么直接容纳行内级盒"
   ]
  },
  {
   "cell_type": "markdown",
   "metadata": {},
   "source": [
    "+ 当节点display:block时，该节点生成块盒，块盒是块级盒的一种。\n",
    "+ 当节点display:inline时，该节点生成行内盒，行内盒是行内级盒的一种。相比其他的行内级盒，只有行内盒，可以被拆分换行"
   ]
  },
  {
   "cell_type": "markdown",
   "metadata": {},
   "source": [
    "匿名盒（匿名块盒、匿名行内盒）不能被选择器选中，所有的属性值来自继承或初始值。"
   ]
  },
  {
   "cell_type": "markdown",
   "metadata": {},
   "source": [
    "行盒的语义是表示一行，5行则5个行盒"
   ]
  },
  {
   "cell_type": "markdown",
   "metadata": {},
   "source": [
    "常规流：盒一个接一个排列，服从格式化上下文。"
   ]
  },
  {
   "cell_type": "markdown",
   "metadata": {},
   "source": [
    "http://layout.imweb.io/article/positioning-scheme.html"
   ]
  },
  {
   "cell_type": "markdown",
   "metadata": {},
   "source": []
  },
  {
   "cell_type": "markdown",
   "metadata": {},
   "source": []
  },
  {
   "cell_type": "markdown",
   "metadata": {},
   "source": []
  },
  {
   "cell_type": "markdown",
   "metadata": {},
   "source": []
  },
  {
   "cell_type": "markdown",
   "metadata": {},
   "source": []
  },
  {
   "cell_type": "markdown",
   "metadata": {},
   "source": []
  },
  {
   "cell_type": "markdown",
   "metadata": {},
   "source": []
  },
  {
   "cell_type": "markdown",
   "metadata": {},
   "source": []
  },
  {
   "cell_type": "markdown",
   "metadata": {},
   "source": []
  }
 ],
 "metadata": {
  "kernelspec": {
   "display_name": "Python 3",
   "language": "python",
   "name": "python3"
  },
  "language_info": {
   "codemirror_mode": {
    "name": "ipython",
    "version": 3
   },
   "file_extension": ".py",
   "mimetype": "text/x-python",
   "name": "python",
   "nbconvert_exporter": "python",
   "pygments_lexer": "ipython3",
   "version": "3.7.3"
  },
  "toc": {
   "base_numbering": 1,
   "nav_menu": {},
   "number_sections": true,
   "sideBar": true,
   "skip_h1_title": false,
   "title_cell": "Table of Contents",
   "title_sidebar": "Contents",
   "toc_cell": false,
   "toc_position": {},
   "toc_section_display": true,
   "toc_window_display": false
  }
 },
 "nbformat": 4,
 "nbformat_minor": 2
}
