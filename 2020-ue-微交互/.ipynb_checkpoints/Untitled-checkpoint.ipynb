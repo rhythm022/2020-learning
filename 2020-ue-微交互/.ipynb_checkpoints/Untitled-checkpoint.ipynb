{
 "cells": [
  {
   "cell_type": "markdown",
   "metadata": {},
   "source": [
    "触发：用户发起，信息发起。由信息发起的也应该允许用户发起\n",
    "有了传感器用户可以非接触式的发起交互：\n",
    "把手伸到水龙头下会自动出水、马桶在人走之后会自动冲水\n",
    "就像人与人之间交互不需要通过说话，人和马桶交互也不需要接触"
   ]
  },
  {
   "cell_type": "markdown",
   "metadata": {},
   "source": [
    "信息发起：根据信息决定是否显示、显示什么"
   ]
  },
  {
   "cell_type": "markdown",
   "metadata": {},
   "source": [
    "烤面包机、老虎机、休闲游戏、开灯都是微交互。\n",
    "开灯的规则：按下开关，灯开"
   ]
  },
  {
   "cell_type": "markdown",
   "metadata": {},
   "source": [
    "把文件拖进文件夹：并没有真的把文件拖进文件夹，和命令行工具做对比，uiux有自己的抽象/模型。\n",
    "进度条在前进，计算过程变得可观看。\n",
    "反馈：说明发生了什么。原本不可见的计算机内部过程，变得可观看，观看的内容是人为设计出来的。"
   ]
  },
  {
   "cell_type": "markdown",
   "metadata": {},
   "source": [
    "反馈：说明发生了什么。"
   ]
  },
  {
   "cell_type": "markdown",
   "metadata": {},
   "source": [
    "控件是微交互的载体，控件作为触发器、作为规则发生的参与者、作为反馈的载体。"
   ]
  },
  {
   "cell_type": "markdown",
   "metadata": {},
   "source": [
    "通过改变控件的样式来实现反馈"
   ]
  },
  {
   "cell_type": "markdown",
   "metadata": {},
   "source": [
    "微交互：触发器、规则、反馈。一个用例就是一个微交互。规则描述产品的核心行为，用户如何参与。规则是需求的核心，但不是交互的核心"
   ]
  },
  {
   "cell_type": "markdown",
   "metadata": {},
   "source": [
    "UX的最高境界是像AI一样提供不多不少的信息，操作也舒适。"
   ]
  },
  {
   "cell_type": "markdown",
   "metadata": {},
   "source": []
  },
  {
   "cell_type": "markdown",
   "metadata": {},
   "source": []
  },
  {
   "cell_type": "markdown",
   "metadata": {},
   "source": []
  },
  {
   "cell_type": "markdown",
   "metadata": {},
   "source": []
  },
  {
   "cell_type": "markdown",
   "metadata": {},
   "source": []
  },
  {
   "cell_type": "markdown",
   "metadata": {},
   "source": []
  },
  {
   "cell_type": "markdown",
   "metadata": {},
   "source": []
  },
  {
   "cell_type": "markdown",
   "metadata": {},
   "source": []
  },
  {
   "cell_type": "markdown",
   "metadata": {},
   "source": []
  }
 ],
 "metadata": {
  "kernelspec": {
   "display_name": "Python 3",
   "language": "python",
   "name": "python3"
  },
  "language_info": {
   "codemirror_mode": {
    "name": "ipython",
    "version": 3
   },
   "file_extension": ".py",
   "mimetype": "text/x-python",
   "name": "python",
   "nbconvert_exporter": "python",
   "pygments_lexer": "ipython3",
   "version": "3.7.3"
  },
  "toc": {
   "base_numbering": 1,
   "nav_menu": {},
   "number_sections": true,
   "sideBar": true,
   "skip_h1_title": false,
   "title_cell": "Table of Contents",
   "title_sidebar": "Contents",
   "toc_cell": false,
   "toc_position": {},
   "toc_section_display": true,
   "toc_window_display": false
  }
 },
 "nbformat": 4,
 "nbformat_minor": 2
}
